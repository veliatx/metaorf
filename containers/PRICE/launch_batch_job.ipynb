{
 "cells": [
  {
   "cell_type": "markdown",
   "metadata": {},
   "source": [
    "## Launch an AWS Batch Job with Python\n",
    "\n",
    "This Jupyter Notebook contains a Python script that launches an AWS Batch job using the Boto3 library. The script defines the job definition, job name, and job queue, as well as job parameters, and then submits the job to AWS Batch using the `submit_job` method.\n",
    "\n",
    "The following Python script can be executed in a Jupyter Notebook cell or in a Python file."
   ]
  },
  {
   "cell_type": "code",
   "execution_count": 4,
   "metadata": {},
   "outputs": [
    {
     "name": "stdout",
     "output_type": "stream",
     "text": [
      "{'ResponseMetadata': {'RequestId': '36b3980f-b3bc-4ad0-a0a3-88c728eed474', 'HTTPStatusCode': 200, 'HTTPHeaders': {'date': 'Tue, 27 Jun 2023 19:26:01 GMT', 'content-type': 'application/json', 'content-length': '163', 'connection': 'keep-alive', 'x-amzn-requestid': '36b3980f-b3bc-4ad0-a0a3-88c728eed474', 'access-control-allow-origin': '*', 'x-amz-apigw-id': 'HMWnfEzWvHcF4Yg=', 'access-control-expose-headers': 'X-amzn-errortype,X-amzn-requestid,X-amzn-errormessage,X-amzn-trace-id,X-amz-apigw-id,date', 'x-amzn-trace-id': 'Root=1-649b37c9-55d60ae22a48f75716eba20a'}, 'RetryAttempts': 0}, 'jobArn': 'arn:aws:batch:us-west-2:328315166908:job/108273c5-5314-44c5-9385-1f0827b302f1', 'jobName': 'bfx-j-general', 'jobId': '108273c5-5314-44c5-9385-1f0827b302f1'}\n"
     ]
    }
   ],
   "source": [
    "# Import the Boto3 library\n",
    "import boto3\n",
    "\n",
    "# Define the AWS Batch client\n",
    "batch = boto3.client('batch', 'us-west-2')\n",
    "\n",
    "# Define the job definition, job name, and job queue\n",
    "job_definition = 'arn:aws:batch:us-west-2:328315166908:job-definition/price_docker_test:6'  # The name or ARN of the job definition to use\n",
    "job_name = 'bfx-j-general'  # The name to assign to the job\n",
    "job_queue = 'bfx-jq-general'  # The name or ARN of the job queue to use\n",
    "\n",
    "# Commands\n",
    "command_list = []\n",
    "# for multimap in [1, 3, 5, 10, 16, 32, 64]:\n",
    "for multimap in [3]:\n",
    "    command = ['python3', 'src/main_run_price.py',\n",
    "               '--experiment_name', 'SRR9113064_1',\n",
    "               '--samples', 'SRR9113064_1.fastq.gz',\n",
    "               '--input_dir', '/mount/efs/riboseq_callers/data/input/',\n",
    "               '--output_dir', '/mount/efs/riboseq_callers/data/PRICE/output_batch_test1',\n",
    "               '--multimap', str(multimap),\n",
    "               '--annotation_dir_name', 'annotation_108',\n",
    "               '--contaminant_genomes', 'hg38_rRNA.fa,hg38_tRNA.fa',\n",
    "               '--reference_genomes', 'hg38_no-altChr.fa',\n",
    "               '--genome_annotation_prefix', 'gencode_and_chess']\n",
    "    command_list.append(command)\n",
    "    break\n",
    "\n",
    "# Submit the job\n",
    "\n",
    "for command in command_list:\n",
    "    response = batch.submit_job(\n",
    "        jobName=job_name,\n",
    "        jobQueue=job_queue,\n",
    "        jobDefinition=job_definition,\n",
    "        containerOverrides = {\n",
    "            'command': command,\n",
    "        }\n",
    "    )\n",
    "\n",
    "# Print the response\n",
    "print(response)  # Print the response from the job submission"
   ]
  },
  {
   "cell_type": "code",
   "execution_count": null,
   "metadata": {},
   "outputs": [],
   "source": []
  }
 ],
 "metadata": {
  "kernelspec": {
   "display_name": "Python 3 (ipykernel)",
   "language": "python",
   "name": "python3"
  },
  "language_info": {
   "codemirror_mode": {
    "name": "ipython",
    "version": 3
   },
   "file_extension": ".py",
   "mimetype": "text/x-python",
   "name": "python",
   "nbconvert_exporter": "python",
   "pygments_lexer": "ipython3",
   "version": "3.10.9"
  },
  "vscode": {
   "interpreter": {
    "hash": "916dbcbb3f70747c44a77c7bcd40155683ae19c65e1c03b4aa3499c5328201f1"
   }
  }
 },
 "nbformat": 4,
 "nbformat_minor": 4
}
