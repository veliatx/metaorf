{
 "cells": [
  {
   "cell_type": "code",
   "execution_count": 2,
   "id": "65c40803-20e4-4e47-b240-b7673eb6a436",
   "metadata": {
    "tags": []
   },
   "outputs": [],
   "source": [
    "import numpy as np\n",
    "import pandas as pd\n",
    "import seaborn as sns\n",
    "\n",
    "import matplotlib.pyplot as plt\n",
    "import pickle\n",
    "import warnings\n",
    "\n",
    "from sklearn.base import clone\n",
    "from sklearn.ensemble import RandomForestClassifier, GradientBoostingClassifier, HistGradientBoostingClassifier\n",
    "from sklearn.inspection import permutation_importance\n",
    "from sklearn.metrics import RocCurveDisplay, roc_curve, auc, precision_recall_curve, average_precision_score, classification_report\n",
    "from sklearn.model_selection import train_test_split, RandomizedSearchCV, StratifiedKFold\n",
    "\n",
    "from metaorf.modeling.etl import generate_orf_id\n",
    "from metaorf.modeling.ensemble import plot_roc_pr, Dataset\n",
    "\n",
    "from Bio.Seq import Seq\n",
    "from pathlib import Path\n",
    "\n",
    "pd.set_option('display.max_columns', 100)\n",
    "pd.set_option('display.max_rows', 500)\n",
    "\n",
    "warnings.filterwarnings('ignore')"
   ]
  },
  {
   "cell_type": "code",
   "execution_count": 3,
   "id": "11b5dfd6-ef0b-46d4-a03d-e445ce42daa7",
   "metadata": {
    "tags": []
   },
   "outputs": [],
   "source": [
    "data_dir = Path('../data').absolute()"
   ]
  },
  {
   "cell_type": "code",
   "execution_count": 4,
   "id": "e0f226f6-43f7-43e9-a063-3b0f94aea761",
   "metadata": {
    "tags": []
   },
   "outputs": [],
   "source": [
    "qc_samples = []\n",
    "with open('../data/StringentQC_samples.txt', 'r') as infile:\n",
    "    for line in infile.readlines():\n",
    "        qc_samples.append(line.rstrip('\\n').replace('_', '-'))"
   ]
  },
  {
   "cell_type": "code",
   "execution_count": 7,
   "id": "05745de9-ff1f-4f43-8d72-eaa63dbb759e",
   "metadata": {
    "tags": []
   },
   "outputs": [],
   "source": [
    "dataset_names = []\n",
    "for feature_file in data_dir.glob('*orf_features.csv'):\n",
    "    name = '-'.join(feature_file.name.split('_')[3:-2])\n",
    "    if name in qc_samples: \n",
    "        dataset_names.append(feature_file.name)"
   ]
  },
  {
   "cell_type": "code",
   "execution_count": 8,
   "id": "58f27d22-38d8-47d7-9441-83e7d612bb90",
   "metadata": {
    "tags": []
   },
   "outputs": [
    {
     "data": {
      "text/plain": [
       "175"
      ]
     },
     "execution_count": 8,
     "metadata": {},
     "output_type": "execute_result"
    }
   ],
   "source": [
    "len(dataset_names)"
   ]
  },
  {
   "cell_type": "code",
   "execution_count": 6,
   "id": "66a6fd9e-ff41-44ba-adeb-c271459d4637",
   "metadata": {
    "tags": []
   },
   "outputs": [],
   "source": [
    "call_names = []\n",
    "\n",
    "for call_file in data_dir.glob('*any_caller.csv'):\n",
    "    name = '-'.join(feature_file.name.split('_')[3:-2])\n",
    "    if name in qc_samples: \n",
    "        call_names.append(call_file.name)"
   ]
  },
  {
   "cell_type": "code",
   "execution_count": 7,
   "id": "2ddc8e1a-33cb-4eb5-85cd-a34fea76250e",
   "metadata": {
    "tags": []
   },
   "outputs": [
    {
     "data": {
      "text/plain": [
       "['merged_orfs_found_by_any_caller.csv']"
      ]
     },
     "execution_count": 7,
     "metadata": {},
     "output_type": "execute_result"
    }
   ],
   "source": [
    "call_names"
   ]
  },
  {
   "cell_type": "code",
   "execution_count": 8,
   "id": "dd46bf08-08cc-48dd-8059-677496e7a664",
   "metadata": {
    "tags": []
   },
   "outputs": [],
   "source": [
    "def return_passing_orf_ids(data_dir, call_files):\n",
    "    \"\"\"\n",
    "    \"\"\"\n",
    "\n",
    "    filter_categories = [\"3'UTR:CDSFrameOverlap\", \"5'UTR:CDSFrameOverlap\", 'Annotated', 'annotated', \n",
    "                     'Internal:CDSFrameOverlap', 'Trunc', \"5'UTR:Known\", \"3'UTR:Known\", 'Internal:Known',\n",
    "                     'Truncated', 'Truncated:Known', 'Extended', 'Extended:CDSFrameOverlap', 'Extended:Known']\n",
    "    orf_ids = set()\n",
    "    \n",
    "    for call_file in call_files:\n",
    "        df = pd.read_csv(data_dir.joinpath(call_file), sep='\\t')\n",
    "        tmp_df = df[(~df['ORF_type_price'].isin(filter_categories)) & \\\n",
    "                    (~df['ORF_type_ribotish'].isin(filter_categories)) & \\\n",
    "                    (~df['ORF_type_ribocode'].isin(filter_categories))]\n",
    "\n",
    "        orf_ids = orf_ids.union(set(tmp_df.apply(lambda x: f'{x.chrom_id}_{x.orf_start}_{x.orf_end}_{x.strand}_{x.exon_blocks}', axis=1).values))\n",
    "\n",
    "    return set(orf_ids)"
   ]
  },
  {
   "cell_type": "code",
   "execution_count": 9,
   "id": "667728eb-79fa-49da-80e3-2af614767040",
   "metadata": {
    "tags": []
   },
   "outputs": [],
   "source": [
    "overwrite=True\n",
    "\n",
    "if overwrite:\n",
    "    passing_orf_ids = return_passing_orf_ids(data_dir, call_names)\n",
    "    with open('../data/novel_orf_ids.txt', 'w') as outfile:\n",
    "        for orf_id in passing_orf_ids:\n",
    "            outfile.write(f'{orf_id}\\n')\n",
    "else:\n",
    "    passing_orf_ids = []\n",
    "    with open('../data/novel_orf_ids.txt', 'r') as infile:\n",
    "        for line in infile.readlines():\n",
    "            passing_orf_ids.append(line.rstrip('\\n'))"
   ]
  },
  {
   "cell_type": "code",
   "execution_count": 10,
   "id": "0c389f5f-315e-4366-9406-ec49523b81ae",
   "metadata": {
    "tags": []
   },
   "outputs": [
    {
     "data": {
      "text/plain": [
       "489720"
      ]
     },
     "execution_count": 10,
     "metadata": {},
     "output_type": "execute_result"
    }
   ],
   "source": [
    "len(passing_orf_ids)"
   ]
  },
  {
   "cell_type": "code",
   "execution_count": 11,
   "id": "1bbdffa6-b82e-4749-8925-ed545826465c",
   "metadata": {
    "tags": []
   },
   "outputs": [],
   "source": [
    "with open('../data/top_model_all_gb.pkl', 'rb') as file:\n",
    "    ds = pickle.load(file)\n",
    "    ds.model = ds.model.fit(ds.X.drop(columns=['chrom_id']), ds.y)"
   ]
  },
  {
   "cell_type": "code",
   "execution_count": 12,
   "id": "65b043bd-c19f-4396-b711-0f6a42f77b92",
   "metadata": {
    "tags": []
   },
   "outputs": [],
   "source": [
    "def load_features(data_dir, datasets):\n",
    "    \"\"\"\n",
    "    \"\"\"\n",
    "\n",
    "    feature_dfs = []\n",
    "    for dataset in datasets:\n",
    "        tmp_df = pd.read_csv(data_dir.joinpath(f'{dataset}'), sep='\\t')\n",
    "        tmp_df['dataset'] = '-'.join(dataset.split('_')[:-2])\n",
    "        feature_dfs.append(tmp_df)\n",
    "    \n",
    "    feature_df = pd.concat(feature_dfs)\n",
    "    \n",
    "    feature_df['orf_id'] = feature_df.apply(lambda x: f'{x.chrom_id}_{x.orf_start}_{x.orf_end}_{x.strand}_{x.exon_blocks}_{x.dataset}', axis=1)\n",
    "    feature_df['orf_idx_str'] =  feature_df.apply(lambda x: f'{x.chrom_id}_{x.orf_start}_{x.orf_end}_{x.strand}_{x.exon_blocks}', axis=1)\n",
    "\n",
    "    feature_df.set_index('orf_id', inplace=True)\n",
    "\n",
    "    return feature_df"
   ]
  },
  {
   "cell_type": "code",
   "execution_count": 1,
   "id": "1cf8bf8e-7abf-41f5-a41b-4ecea8b0efa6",
   "metadata": {
    "tags": []
   },
   "outputs": [
    {
     "ename": "NameError",
     "evalue": "name 'dataset_names' is not defined",
     "output_type": "error",
     "traceback": [
      "\u001b[0;31m---------------------------------------------------------------------------\u001b[0m",
      "\u001b[0;31mNameError\u001b[0m                                 Traceback (most recent call last)",
      "Cell \u001b[0;32mIn[1], line 1\u001b[0m\n\u001b[0;32m----> 1\u001b[0m \u001b[43mdataset_names\u001b[49m\n",
      "\u001b[0;31mNameError\u001b[0m: name 'dataset_names' is not defined"
     ]
    }
   ],
   "source": [
    "dataset_names"
   ]
  },
  {
   "cell_type": "code",
   "execution_count": 13,
   "id": "e8c0b9ac-14f0-4a11-92a0-174b16219d0b",
   "metadata": {
    "tags": []
   },
   "outputs": [],
   "source": [
    "pred_df_list = []\n",
    "for dataset in dataset_names:\n",
    "    feature_all_df = load_features(data_dir, [dataset])\n",
    "    passing_orf_idx_strs = feature_all_df[feature_all_df['orf_idx_str'].isin(passing_orf_ids)].index\n",
    "    drop_cols=['orf_start', 'orf_end']\n",
    "    feature_df = feature_all_df.drop(columns=drop_cols)\n",
    "    feature_df = feature_df.select_dtypes(include='number')\n",
    "    feature_df = feature_df.loc[passing_orf_idx_strs]\n",
    "    prediction_proba = ds.model.predict_proba(feature_df)\n",
    "    feature_df['prediction_proba'] = prediction_proba[:,1]\n",
    "    \n",
    "    \n",
    "    pred_df = feature_df[feature_df['prediction_proba'] > .95].copy()\n",
    "    pred_df['chrom'] = pred_df.apply(lambda x: x.name.split('_')[0], axis=1)\n",
    "    pred_df['dataset'] = pred_df.apply(lambda x: x.name.split('_')[-1], axis=1)\n",
    "    pred_df['orf_idx'] = pred_df.apply(lambda x: '_'.join(x.name.split('_')[:-1]), axis=1)\n",
    "    str_cols = ['orf_idx_str', 'chrom_id', 'orf_start', 'orf_end', 'strand', 'exon_blocks', 'orf_sequence']\n",
    "    pred_all_df = pred_df.merge(feature_all_df[str_cols], left_index=True, right_on='orf_id', how='left')\n",
    "    pred_all_df['aa'] = pred_all_df.apply(lambda x: str(Seq(x.orf_sequence).translate())[:-1], axis=1)\n",
    "    pred_all_df['length'] = pred_all_df.apply(lambda x: len(x.aa), axis=1)\n",
    "    pred_all_df = pred_all_df[pred_all_df['length'] > 14]\n",
    "    pred_all_df = pred_all_df[(pred_all_df['orf_sequence'].str.startswith('ATG')) | \\\n",
    "                 (pred_all_df['orf_sequence'].str.startswith('CTG')) | \\\n",
    "                 (pred_all_df['orf_sequence'].str.startswith('GTG'))]\n",
    "    \n",
    "    pred_df_list.append(pred_all_df)"
   ]
  },
  {
   "cell_type": "code",
   "execution_count": 14,
   "id": "2f782f47-11e5-4929-8019-472780f77e66",
   "metadata": {
    "tags": []
   },
   "outputs": [],
   "source": [
    "pred_df = pd.concat(pred_df_list)"
   ]
  },
  {
   "cell_type": "code",
   "execution_count": 15,
   "id": "b97bb18d-f93b-4476-8d6e-d6fb374d39f0",
   "metadata": {
    "tags": []
   },
   "outputs": [
    {
     "name": "stdout",
     "output_type": "stream",
     "text": [
      "3531\n",
      "46427\n"
     ]
    }
   ],
   "source": [
    "print(len(set(pred_df['orf_sequence'])))\n",
    "print(len(pred_df))"
   ]
  },
  {
   "cell_type": "code",
   "execution_count": 16,
   "id": "b518b810-cc1c-4f60-87d0-2c9b3514120c",
   "metadata": {
    "tags": []
   },
   "outputs": [],
   "source": [
    "pred_df.to_csv('../data/top_orfs_gb-95_240414.csv')"
   ]
  }
 ],
 "metadata": {
  "kernelspec": {
   "display_name": "Python 3 (ipykernel)",
   "language": "python",
   "name": "python3"
  },
  "language_info": {
   "codemirror_mode": {
    "name": "ipython",
    "version": 3
   },
   "file_extension": ".py",
   "mimetype": "text/x-python",
   "name": "python",
   "nbconvert_exporter": "python",
   "pygments_lexer": "ipython3",
   "version": "3.10.12"
  }
 },
 "nbformat": 4,
 "nbformat_minor": 5
}
