{
 "cells": [
  {
   "cell_type": "code",
   "execution_count": 1,
   "id": "65c40803-20e4-4e47-b240-b7673eb6a436",
   "metadata": {
    "tags": []
   },
   "outputs": [],
   "source": [
    "import numpy as np\n",
    "import pandas as pd\n",
    "import seaborn as sns\n",
    "\n",
    "import matplotlib.pyplot as plt\n",
    "import pickle\n",
    "import warnings\n",
    "\n",
    "from Bio.Seq import Seq\n",
    "from pathlib import Path\n",
    "\n",
    "pd.set_option('display.max_columns', 100)\n",
    "pd.set_option('display.max_rows', 500)\n",
    "\n",
    "warnings.filterwarnings('ignore')"
   ]
  },
  {
   "cell_type": "code",
   "execution_count": 2,
   "id": "11b5dfd6-ef0b-46d4-a03d-e445ce42daa7",
   "metadata": {
    "tags": []
   },
   "outputs": [],
   "source": [
    "data_dir = Path('../data').absolute()"
   ]
  },
  {
   "cell_type": "markdown",
   "id": "6858cb44-cdd6-4e04-8425-9165f7a8c440",
   "metadata": {
    "tags": []
   },
   "source": [
    "qc_samples = []\n",
    "with open('../data/StringentQC_samples.txt', 'r') as infile:\n",
    "    for line in infile.readlines():\n",
    "        qc_samples.append(line.rstrip('\\n').replace('_', '-'))"
   ]
  },
  {
   "cell_type": "code",
   "execution_count": 3,
   "id": "05745de9-ff1f-4f43-8d72-eaa63dbb759e",
   "metadata": {
    "tags": []
   },
   "outputs": [],
   "source": [
    "dataset_names = []\n",
    "for feature_file in data_dir.glob('*orf_features.csv'):\n",
    "    name = '-'.join(feature_file.name.split('_')[3:-2])\n",
    "    #if name in qc_samples: \n",
    "    dataset_names.append(feature_file.name)"
   ]
  },
  {
   "cell_type": "code",
   "execution_count": 4,
   "id": "58f27d22-38d8-47d7-9441-83e7d612bb90",
   "metadata": {
    "tags": []
   },
   "outputs": [
    {
     "name": "stdout",
     "output_type": "stream",
     "text": [
      "['VPR_orfcalling_20240307222241_MDA-MB-231_rep3_orf_features.csv', 'VPR_orfcalling_20240307222241_K562-HiRes-rep1_SRR8449579_orf_features.csv', 'VPR_orfcalling_20240307222241_HeLaS3-HiRes-rep1_SRR8449577_orf_features.csv', 'VPR_orfcalling_20240307222241_HEK293T-TG-rep1_SRR8449573_orf_features.csv', 'VPR_orfcalling_20240307222208_YL5_R1_01_orf_features.csv', 'VPR_orfcalling_20240307222241_iPSC-rep3_SRR9113066_orf_features.csv', 'VPR_orfcalling_20240307222241_iPSC-rep2_SRR9113065_orf_features.csv', 'VPR_orfcalling_20240308012528_SRX3884294_orf_features.csv', 'VPR_orfcalling_20240308012528_SRX3884298_orf_features.csv', 'VPR_orfcalling_20240308012528_SRX3884312_orf_features.csv']\n",
      "175\n"
     ]
    }
   ],
   "source": [
    "print(dataset_names[:10])\n",
    "print(len(dataset_names))"
   ]
  },
  {
   "cell_type": "code",
   "execution_count": 5,
   "id": "1bbdffa6-b82e-4749-8925-ed545826465c",
   "metadata": {
    "tags": []
   },
   "outputs": [],
   "source": [
    "with open('../data/top_model_all_gb_avg.pkl', 'rb') as file:\n",
    "    ds = pickle.load(file)\n",
    "    ds.model = ds.model.fit(ds.X.drop(columns=['chrom_id']), ds.y)"
   ]
  },
  {
   "cell_type": "code",
   "execution_count": 6,
   "id": "65b043bd-c19f-4396-b711-0f6a42f77b92",
   "metadata": {
    "tags": []
   },
   "outputs": [],
   "source": [
    "def load_features(data_dir, dataset):\n",
    "    feature_df = pd.read_csv(data_dir.joinpath(f'{dataset}'), sep='\\t')\n",
    "    feature_df['dataset'] = '-'.join(dataset.split('_')[:-2])\n",
    "    feature_df['orf_id'] = feature_df.apply(lambda x: f'{x.chrom_id}_{x.orf_start}_{x.orf_end}_{x.strand}_{x.exon_blocks}_{x.dataset}', axis=1)\n",
    "    feature_df['orf_idx_str'] =  feature_df.apply(lambda x: f'{x.chrom_id}_{x.orf_start}_{x.orf_end}_{x.strand}_{x.exon_blocks}', axis=1)\n",
    "    feature_df.set_index('orf_id', inplace=True)\n",
    "    return feature_df"
   ]
  },
  {
   "cell_type": "code",
   "execution_count": 7,
   "id": "e8c0b9ac-14f0-4a11-92a0-174b16219d0b",
   "metadata": {
    "tags": []
   },
   "outputs": [],
   "source": [
    "pred_df_list = []\n",
    "for dataset in dataset_names:\n",
    "    feature_all_df = load_features(data_dir, dataset)\n",
    "    drop_cols=['orf_start', 'orf_end']\n",
    "    feature_df = feature_all_df.drop(columns=drop_cols)\n",
    "    feature_df = feature_df.select_dtypes(include='number')\n",
    "    prediction_proba = ds.model.predict_proba(feature_df)\n",
    "    feature_df['prediction_proba'] = prediction_proba[:,1]\n",
    "    \n",
    "    pred_df = feature_df[feature_df['prediction_proba'] > .75].copy()\n",
    "    pred_df['chrom'] = pred_df.apply(lambda x: x.name.split('_')[0], axis=1)\n",
    "    pred_df['dataset'] = pred_df.apply(lambda x: x.name.split('_')[-1], axis=1)\n",
    "    pred_df['orf_idx'] = pred_df.apply(lambda x: '_'.join(x.name.split('_')[:-1]), axis=1)\n",
    "    str_cols = ['orf_idx_str', 'chrom_id', 'orf_start', 'orf_end', 'strand', 'exon_blocks',\n",
    "                'orf_sequence', 'bigprot_id']\n",
    "    pred_all_df = pred_df.merge(feature_all_df[str_cols], left_index=True, right_on='orf_id', how='left')\n",
    "    pred_all_df['aa'] = pred_all_df.apply(lambda x: str(Seq(x.orf_sequence).translate())[:-1], axis=1)\n",
    "    pred_all_df['length'] = pred_all_df.apply(lambda x: len(x.aa), axis=1)\n",
    "    pred_all_df = pred_all_df[pred_all_df['length'] >= 15]\n",
    "    pred_all_df = pred_all_df[(pred_all_df['orf_sequence'].str.startswith('ATG')) | \\\n",
    "                 (pred_all_df['orf_sequence'].str.startswith('CTG')) | \\\n",
    "                 (pred_all_df['orf_sequence'].str.startswith('GTG')) | \\\n",
    "                 (pred_all_df['orf_sequence'].str.startswith('TTG'))]\n",
    "    pred_df_list.append(pred_all_df)"
   ]
  },
  {
   "cell_type": "code",
   "execution_count": 8,
   "id": "2f782f47-11e5-4929-8019-472780f77e66",
   "metadata": {
    "tags": []
   },
   "outputs": [],
   "source": [
    "pred_df = pd.concat(pred_df_list)"
   ]
  },
  {
   "cell_type": "code",
   "execution_count": 9,
   "id": "b97bb18d-f93b-4476-8d6e-d6fb374d39f0",
   "metadata": {
    "tags": []
   },
   "outputs": [
    {
     "name": "stdout",
     "output_type": "stream",
     "text": [
      "11437\n",
      "148901\n"
     ]
    }
   ],
   "source": [
    "print(len(set(pred_df['orf_sequence'])))\n",
    "print(len(pred_df))"
   ]
  },
  {
   "cell_type": "code",
   "execution_count": 10,
   "id": "b518b810-cc1c-4f60-87d0-2c9b3514120c",
   "metadata": {
    "tags": []
   },
   "outputs": [],
   "source": [
    "pred_df.to_csv('../data/top_orfs_gb-75_240424_avg.csv')\n",
    "pred_df.to_parquet('../data/top_orfs_gb-75_240424_avg.parquet.gzip', compression='gzip') "
   ]
  },
  {
   "cell_type": "code",
   "execution_count": 11,
   "id": "0ae642a3-a77b-4ae9-85f1-862501689d88",
   "metadata": {
    "tags": []
   },
   "outputs": [
    {
     "data": {
      "text/plain": [
       "mean                                                                        2.1925\n",
       "sum                                                                      -0.129719\n",
       "std                                                                       0.017617\n",
       "n_reads_orf_vs_genome                                                          1.0\n",
       "pos_1_vs_0                                                                0.111111\n",
       "pos_2_vs_0                                                                0.555556\n",
       "frames_1_vs_0                                                                0.125\n",
       "frames_2_vs_0                                                             0.484375\n",
       "periodicity_first_60_1_vs_0                                               0.115385\n",
       "periodicity_first_60_2_vs_0                                               0.346154\n",
       "periodicity_last_60_1_vs_0                                                     0.0\n",
       "periodicity_last_60_2_vs_0                                                    0.75\n",
       "n_empty_codons                                                           -1.556303\n",
       "longest_empty_length_whole                                               -1.851258\n",
       "longest_empty_length_first_30                                            -1.380211\n",
       "longest_empty_length_last_30                                             -1.230449\n",
       "five_utr_vs_cds_mean                                                      1.590003\n",
       "five_utr_vs_cds_max                                                       1.041393\n",
       "five_utr_vs_start_codon_mean                                              2.199572\n",
       "five_utr_vs_start_codon_max                                               0.954242\n",
       "cds_utr_vs_start_codon_mean                                               0.920819\n",
       "cds_utr_vs_start_codon_max                                                -0.08715\n",
       "three_utr_vs_cds_mean                                                          0.0\n",
       "three_utr_vs_cds_max                                                     -0.477121\n",
       "three_utr_vs_stop_codon_mean                                              0.055048\n",
       "three_utr_vs_stop_codon_max                                              -0.653213\n",
       "cds_utr_vs_stop_codon_mean                                                0.477121\n",
       "cds_utr_vs_stop_codon_max                                                -0.176091\n",
       "dist_neg_100                                                             -1.778151\n",
       "dist_neg_150                                                             -1.778151\n",
       "dist_pos_100                                                             -1.079181\n",
       "dist_pos_150                                                             -1.778151\n",
       "five_utr_periodicity                                                           0.0\n",
       "five_utr_in_frame_bins                                                         0.0\n",
       "three_utr_periodicity                                                          0.0\n",
       "three_utr_in_frame_bins                                                        0.0\n",
       "price                                                                     4.364979\n",
       "ribotish                                                                       0.0\n",
       "ribocode                                                                   4.57641\n",
       "tis_transformer_score                                                     0.545611\n",
       "size_peak_frac                                                            0.568773\n",
       "size_gini                                                                 0.738213\n",
       "periodicity_score                                                          0.62108\n",
       "prediction_proba                                                          0.999269\n",
       "chrom                                                                         chr1\n",
       "dataset                              VPR-orfcalling-20240307222241-MDA-MB-231-rep3\n",
       "orf_idx                                 chr1_70411415_70411625_+_70411415-70411625\n",
       "orf_idx_str                             chr1_70411415_70411625_+_70411415-70411625\n",
       "chrom_id                                                                      chr1\n",
       "orf_start                                                                 70411415\n",
       "orf_end                                                                   70411625\n",
       "strand                                                                           +\n",
       "exon_blocks                                                      70411415-70411625\n",
       "orf_sequence                     ATGCAGGAAAAAGACGCCTCCTCACAAGGTTTCCTGCCACACTTCC...\n",
       "bigprot_id                                      1_70411416_70411625_+_70411416_210\n",
       "aa                               MQEKDASSQGFLPHFQHFATQAIHVGQDPEQWTSRAVVPPISLSTT...\n",
       "length                                                                          69\n",
       "Name: chr1_70411415_70411625_+_70411415-70411625_VPR-orfcalling-20240307222241-MDA-MB-231-rep3, dtype: object"
      ]
     },
     "execution_count": 11,
     "metadata": {},
     "output_type": "execute_result"
    }
   ],
   "source": [
    "pred_df.iloc[0]"
   ]
  },
  {
   "cell_type": "code",
   "execution_count": 12,
   "id": "e62a120e-3afc-49da-899e-5ba730f5dadd",
   "metadata": {
    "tags": []
   },
   "outputs": [],
   "source": [
    "orf_idx_str_high_conf = set(pred_df['orf_idx_str'])"
   ]
  },
  {
   "cell_type": "code",
   "execution_count": 13,
   "id": "2232a896-2c45-4ba5-8598-d4b45f0746af",
   "metadata": {
    "tags": []
   },
   "outputs": [],
   "source": [
    "merged_df = pd.read_csv(data_dir.joinpath(\"merged_orfs_found_by_any_caller.csv\"), sep='\\t', index_col=[0])\n",
    "merged_df[\"key\"] = merged_df.apply(lambda x: f'{x.chrom_id}_{x.orf_start}_{x.orf_end}_{x.strand}_{x.exon_blocks}', axis=1)\n",
    "merged_df_high_conf = merged_df[merged_df[\"key\"].isin(orf_idx_str_high_conf)]\n",
    "merged_df_high_conf.reset_index(drop=True, inplace=True)"
   ]
  },
  {
   "cell_type": "code",
   "execution_count": 14,
   "id": "1a743499-0d18-4c4f-b312-ca3f7b973294",
   "metadata": {
    "tags": []
   },
   "outputs": [],
   "source": [
    "merged_df_high_conf.to_csv('../data/top_unique_orfs_gb-75_240424_avg.csv')"
   ]
  },
  {
   "cell_type": "code",
   "execution_count": null,
   "id": "da8291d1-32ba-4a8e-8c0d-3e87d46710b7",
   "metadata": {},
   "outputs": [],
   "source": []
  }
 ],
 "metadata": {
  "kernelspec": {
   "display_name": "Python 3 (ipykernel)",
   "language": "python",
   "name": "python3"
  },
  "language_info": {
   "codemirror_mode": {
    "name": "ipython",
    "version": 3
   },
   "file_extension": ".py",
   "mimetype": "text/x-python",
   "name": "python",
   "nbconvert_exporter": "python",
   "pygments_lexer": "ipython3",
   "version": "3.10.12"
  }
 },
 "nbformat": 4,
 "nbformat_minor": 5
}
