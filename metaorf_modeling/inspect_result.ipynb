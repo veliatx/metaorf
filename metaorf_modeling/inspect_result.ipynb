{
 "cells": [
  {
   "cell_type": "code",
   "execution_count": 1,
   "metadata": {},
   "outputs": [],
   "source": [
    "import numpy as np\n",
    "import pandas as pd\n",
    "import seaborn as sns\n",
    "\n",
    "import matplotlib.pyplot as plt\n",
    "import pickle\n",
    "import warnings\n",
    "\n",
    "from Bio.Seq import Seq\n",
    "from pathlib import Path"
   ]
  },
  {
   "cell_type": "code",
   "execution_count": 2,
   "metadata": {},
   "outputs": [],
   "source": [
    "df = pd.read_csv('../data/top_orfs_gb-all_241101.csv')"
   ]
  },
  {
   "cell_type": "code",
   "execution_count": 3,
   "metadata": {},
   "outputs": [],
   "source": [
    "old_df = pd.read_csv('../data/top_unique_orfs_gb-all_240612.csv')\n",
    "existing_bigprot_ids = set(old_df[\"bigprot_id\"])"
   ]
  },
  {
   "cell_type": "code",
   "execution_count": 4,
   "metadata": {},
   "outputs": [],
   "source": [
    "new_datasets = []\n",
    "for dataset in (\"vpr_orfcalling_20241101000923_SRX24842121\",\n",
    "                \"VPR_orfcalling_20241101000923_SRX24842122\",\n",
    "                \"VPR_orfcalling_20241101000923_SRX24842123\",\n",
    "                \"VPR_orfcalling_20241101000923_SRX24842124\",\n",
    "                \"VPR_orfcalling_20241101000923_SRX24842125\",\n",
    "                \"VPR_orfcalling_20241101000923_SRX24842126\",\n",
    "                \"VPR_orfcalling_20241101000923_SRX24842127\",\n",
    "                \"VPR_orfcalling_20241101000923_SRX24842128\",\n",
    "                \"VPR_orfcalling_20241101000923_SRX24843296\",\n",
    "                \"VPR_orfcalling_20241101000923_SRX24843297\",\n",
    "                \"VPR_orfcalling_20241101000923_SRX24843298\",\n",
    "                \"VPR_orfcalling_20241101000923_SRX24843299\",\n",
    "                \"VPR_orfcalling_20241101000923_SRX24843300\",\n",
    "                \"VPR_orfcalling_20241101000923_SRX24843301\",\n",
    "                \"VPR_orfcalling_20241101000923_SRX24843302\",\n",
    "                \"VPR_orfcalling_20241101000923_SRX24843303\"):\n",
    "    new_datasets.append(\"-\".join(dataset.split(\"_\")))\n",
    "\n",
    "new_datasets = tuple(new_datasets)"
   ]
  },
  {
   "cell_type": "code",
   "execution_count": 5,
   "metadata": {},
   "outputs": [
    {
     "name": "stdout",
     "output_type": "stream",
     "text": [
      "9\n"
     ]
    },
    {
     "name": "stderr",
     "output_type": "stream",
     "text": [
      "/tmp/ipykernel_379070/4176756214.py:2: UserWarning: Boolean Series key will be reindexed to match DataFrame index.\n",
      "  for i in df[df[\"prediction_proba\"]> 0.95][df[\"orf_id\"].str.endswith(new_datasets)][\"bigprot_id\"]:\n"
     ]
    }
   ],
   "source": [
    "new_orfs = set()\n",
    "for i in df[df[\"prediction_proba\"]> 0.95][df[\"orf_id\"].str.endswith(new_datasets)][\"bigprot_id\"]:\n",
    "    if i not in existing_bigprot_ids:\n",
    "        new_orfs.add(i)\n",
    "print(len(new_orfs))"
   ]
  },
  {
   "cell_type": "code",
   "execution_count": 7,
   "metadata": {},
   "outputs": [
    {
     "name": "stdout",
     "output_type": "stream",
     "text": [
      "11485\n"
     ]
    }
   ],
   "source": [
    "all_orfs = set()\n",
    "for i in df[df[\"prediction_proba\"]> 0.95][\"bigprot_id\"]:\n",
    "    all_orfs.add(i)\n",
    "print(len(all_orfs))"
   ]
  },
  {
   "cell_type": "code",
   "execution_count": 8,
   "metadata": {},
   "outputs": [
    {
     "data": {
      "text/plain": [
       "0.0007836308228123639"
      ]
     },
     "execution_count": 8,
     "metadata": {},
     "output_type": "execute_result"
    }
   ],
   "source": [
    "9/11485\n"
   ]
  }
 ],
 "metadata": {
  "kernelspec": {
   "display_name": "base",
   "language": "python",
   "name": "python3"
  },
  "language_info": {
   "codemirror_mode": {
    "name": "ipython",
    "version": 3
   },
   "file_extension": ".py",
   "mimetype": "text/x-python",
   "name": "python",
   "nbconvert_exporter": "python",
   "pygments_lexer": "ipython3",
   "version": "3.10.12"
  }
 },
 "nbformat": 4,
 "nbformat_minor": 2
}
