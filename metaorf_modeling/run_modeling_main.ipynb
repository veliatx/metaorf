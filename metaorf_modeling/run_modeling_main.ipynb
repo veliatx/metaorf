{
 "cells": [
  {
   "cell_type": "markdown",
   "id": "c1ac2ee5-9085-4f53-9ef7-fe531537f68c",
   "metadata": {},
   "source": [
    "This is the script where you train and save the best model we can get, with all the data available.\n",
    "In this script, since there is no need to evaluate the model performance,\n",
    "we divide our dataset into only the training data and validation data, but no test data. "
   ]
  },
  {
   "cell_type": "code",
   "execution_count": 1,
   "id": "18773008-38d2-468c-a725-7d30c59e47d2",
   "metadata": {
    "tags": []
   },
   "outputs": [],
   "source": [
    "import random\n",
    "import torch\n",
    "import torch.nn as nn\n",
    "\n",
    "import utils\n",
    "import modeling_utils\n",
    "from importlib import reload"
   ]
  },
  {
   "cell_type": "code",
   "execution_count": 2,
   "id": "feb4b775-ee29-4afd-8bfa-ec238104b09c",
   "metadata": {
    "tags": []
   },
   "outputs": [
    {
     "name": "stdout",
     "output_type": "stream",
     "text": [
      "('chr4', '164877331', '164879008', '+', '164877331-164877407|164878919-164879008')\n"
     ]
    }
   ],
   "source": [
    "local_folder = \"./data/\"\n",
    "truthset_positive = f\"{local_folder}/truthset_positives.240227.tsv\"\n",
    "truthset_negative = f\"{local_folder}/truthset_negatives.240227.tsv\"\n",
    "label_columns = [\"score.(iPSC)\", \"score.(MB1)\", \"score.(Gaertner)\"]\n",
    "\n",
    "labels = {}\n",
    "utils.read_labels(data_path=truthset_negative, labels=labels, label_columns=label_columns)\n",
    "utils.read_labels(data_path=truthset_positive, labels=labels, label_columns=label_columns)"
   ]
  },
  {
   "cell_type": "code",
   "execution_count": 3,
   "id": "5c7d5d37-66e1-435a-935c-a7aebe0a4a01",
   "metadata": {
    "collapsed": true,
    "jupyter": {
     "outputs_hidden": true
    },
    "tags": []
   },
   "outputs": [
    {
     "name": "stdout",
     "output_type": "stream",
     "text": [
      "download: s3://velia-piperuns-dev/VPR_orfcalling_20240302075301_iPSC-rep1_SRR9113064/output/VPR_orfcalling_20240302075301_iPSC-rep1_SRR9113064_orf_features.csv to data/VPR_orfcalling_20240302075301_iPSC-rep1_SRR9113064_orf_features.csv\n",
      "206 2998\n",
      "download: s3://velia-piperuns-dev/VPR_orfcalling_20240302075301_iPSC-rep2_SRR9113065/output/VPR_orfcalling_20240302075301_iPSC-rep2_SRR9113065_orf_features.csv to data/VPR_orfcalling_20240302075301_iPSC-rep2_SRR9113065_orf_features.csv\n",
      "206 2992\n",
      "download: s3://velia-piperuns-dev/VPR_orfcalling_20240302075301_iPSC-rep3_SRR9113066/output/VPR_orfcalling_20240302075301_iPSC-rep3_SRR9113066_orf_features.csv to data/VPR_orfcalling_20240302075301_iPSC-rep3_SRR9113066_orf_features.csv\n",
      "204 2942\n",
      "download: s3://velia-piperuns-dev/VPR_orfcalling_20240302173017_SRX7666669/output/VPR_orfcalling_20240302173017_SRX7666669_orf_features.csv to data/VPR_orfcalling_20240302173017_SRX7666669_orf_features.csv\n",
      "211 3025\n",
      "download: s3://velia-piperuns-dev/VPR_orfcalling_20240302173017_SRX7666670/output/VPR_orfcalling_20240302173017_SRX7666670_orf_features.csv to data/VPR_orfcalling_20240302173017_SRX7666670_orf_features.csv\n",
      "217 3058\n",
      "download: s3://velia-piperuns-dev/VPR_orfcalling_20240302173017_SRX7666671/output/VPR_orfcalling_20240302173017_SRX7666671_orf_features.csv to data/VPR_orfcalling_20240302173017_SRX7666671_orf_features.csv\n",
      "213 3051\n",
      "download: s3://velia-piperuns-dev/VPR_orfcalling_20240302173017_SRX7666672/output/VPR_orfcalling_20240302173017_SRX7666672_orf_features.csv to data/VPR_orfcalling_20240302173017_SRX7666672_orf_features.csv\n",
      "211 3061\n",
      "download: s3://velia-piperuns-dev/VPR_orfcalling_20240302173017_SRX7666673/output/VPR_orfcalling_20240302173017_SRX7666673_orf_features.csv to data/VPR_orfcalling_20240302173017_SRX7666673_orf_features.csv\n",
      "213 3066\n",
      "download: s3://velia-piperuns-dev/VPR_orfcalling_20240302173017_SRX7666674/output/VPR_orfcalling_20240302173017_SRX7666674_orf_features.csv to data/VPR_orfcalling_20240302173017_SRX7666674_orf_features.csv\n",
      "217 3198\n",
      "download: s3://velia-piperuns-dev/VPR_orfcalling_20240302173017_SRX7666675/output/VPR_orfcalling_20240302173017_SRX7666675_orf_features.csv to data/VPR_orfcalling_20240302173017_SRX7666675_orf_features.csv\n",
      "216 3232\n",
      "download: s3://velia-piperuns-dev/VPR_orfcalling_20240302173017_SRX7666676/output/VPR_orfcalling_20240302173017_SRX7666676_orf_features.csv to data/VPR_orfcalling_20240302173017_SRX7666676_orf_features.csv\n",
      "218 3234\n",
      "download: s3://velia-piperuns-dev/VPR_orfcalling_20240302173017_SRX7666677/output/VPR_orfcalling_20240302173017_SRX7666677_orf_features.csv to data/VPR_orfcalling_20240302173017_SRX7666677_orf_features.csv\n",
      "217 3250\n",
      "download: s3://velia-piperuns-dev/VPR_orfcalling_20240302173017_SRX7666678/output/VPR_orfcalling_20240302173017_SRX7666678_orf_features.csv to data/VPR_orfcalling_20240302173017_SRX7666678_orf_features.csv\n",
      "216 3248\n",
      "download: s3://velia-piperuns-dev/VPR_orfcalling_20240302173017_SRX7666679/output/VPR_orfcalling_20240302173017_SRX7666679_orf_features.csv to data/VPR_orfcalling_20240302173017_SRX7666679_orf_features.csv\n",
      "215 3263\n",
      "download: s3://velia-piperuns-dev/VPR_orfcalling_20240302173017_SRX7666680/output/VPR_orfcalling_20240302173017_SRX7666680_orf_features.csv to data/VPR_orfcalling_20240302173017_SRX7666680_orf_features.csv\n",
      "216 3261\n",
      "download: s3://velia-piperuns-dev/VPR_orfcalling_20240302173017_SRX7666681/output/VPR_orfcalling_20240302173017_SRX7666681_orf_features.csv to data/VPR_orfcalling_20240302173017_SRX7666681_orf_features.csv\n",
      "215 3271\n",
      "download: s3://velia-piperuns-dev/VPR_orfcalling_20240302173017_SRX7666682/output/VPR_orfcalling_20240302173017_SRX7666682_orf_features.csv to data/VPR_orfcalling_20240302173017_SRX7666682_orf_features.csv\n",
      "217 3273\n",
      "download: s3://velia-piperuns-dev/VPR_orfcalling_20240302173017_SRX7666683/output/VPR_orfcalling_20240302173017_SRX7666683_orf_features.csv to data/VPR_orfcalling_20240302173017_SRX7666683_orf_features.csv\n",
      "219 3240\n",
      "download: s3://velia-piperuns-dev/VPR_orfcalling_20240302173017_SRX7666684/output/VPR_orfcalling_20240302173017_SRX7666684_orf_features.csv to data/VPR_orfcalling_20240302173017_SRX7666684_orf_features.csv\n",
      "218 3212\n",
      "download: s3://velia-piperuns-dev/VPR_orfcalling_20240302173017_SRX7666685/output/VPR_orfcalling_20240302173017_SRX7666685_orf_features.csv to data/VPR_orfcalling_20240302173017_SRX7666685_orf_features.csv\n",
      "220 3259\n",
      "download: s3://velia-piperuns-dev/VPR_orfcalling_20240302173017_SRX7666686/output/VPR_orfcalling_20240302173017_SRX7666686_orf_features.csv to data/VPR_orfcalling_20240302173017_SRX7666686_orf_features.csv\n",
      "220 3253\n",
      "download: s3://velia-piperuns-dev/VPR_orfcalling_20240302173017_SRX7666687/output/VPR_orfcalling_20240302173017_SRX7666687_orf_features.csv to data/VPR_orfcalling_20240302173017_SRX7666687_orf_features.csv\n",
      "221 3255\n",
      "download: s3://velia-piperuns-dev/VPR_orfcalling_20240302173017_SRX7666688/output/VPR_orfcalling_20240302173017_SRX7666688_orf_features.csv to data/VPR_orfcalling_20240302173017_SRX7666688_orf_features.csv\n",
      "220 3243\n",
      "download: s3://velia-piperuns-dev/VPR_orfcalling_20240302173017_SRX7666689/output/VPR_orfcalling_20240302173017_SRX7666689_orf_features.csv to data/VPR_orfcalling_20240302173017_SRX7666689_orf_features.csv\n",
      "216 3141\n",
      "download: s3://velia-piperuns-dev/VPR_orfcalling_20240302173017_SRX7666690/output/VPR_orfcalling_20240302173017_SRX7666690_orf_features.csv to data/VPR_orfcalling_20240302173017_SRX7666690_orf_features.csv\n",
      "216 3192\n",
      "download: s3://velia-piperuns-dev/VPR_orfcalling_20240302173017_SRX7666691/output/VPR_orfcalling_20240302173017_SRX7666691_orf_features.csv to data/VPR_orfcalling_20240302173017_SRX7666691_orf_features.csv\n",
      "217 3203\n",
      "download: s3://velia-piperuns-dev/VPR_orfcalling_20240302173017_SRX7666692/output/VPR_orfcalling_20240302173017_SRX7666692_orf_features.csv to data/VPR_orfcalling_20240302173017_SRX7666692_orf_features.csv\n",
      "219 3187\n",
      "download: s3://velia-piperuns-dev/VPR_orfcalling_20240302173017_SRX7666693/output/VPR_orfcalling_20240302173017_SRX7666693_orf_features.csv to data/VPR_orfcalling_20240302173017_SRX7666693_orf_features.csv\n",
      "217 3228\n",
      "download: s3://velia-piperuns-dev/VPR_orfcalling_20240302173017_SRX7666694/output/VPR_orfcalling_20240302173017_SRX7666694_orf_features.csv to data/VPR_orfcalling_20240302173017_SRX7666694_orf_features.csv\n",
      "225 3218\n",
      "download: s3://velia-piperuns-dev/VPR_orfcalling_20240302173017_SRX7666695/output/VPR_orfcalling_20240302173017_SRX7666695_orf_features.csv to data/VPR_orfcalling_20240302173017_SRX7666695_orf_features.csv\n",
      "222 3235\n",
      "download: s3://velia-piperuns-dev/VPR_orfcalling_20240302173017_SRX7666696/output/VPR_orfcalling_20240302173017_SRX7666696_orf_features.csv to data/VPR_orfcalling_20240302173017_SRX7666696_orf_features.csv\n",
      "222 3224\n",
      "download: s3://velia-piperuns-dev/VPR_orfcalling_20240302173017_SRX7666697/output/VPR_orfcalling_20240302173017_SRX7666697_orf_features.csv to data/VPR_orfcalling_20240302173017_SRX7666697_orf_features.csv\n",
      "221 3256\n",
      "download: s3://velia-piperuns-dev/VPR_orfcalling_20240302173017_SRX7666698/output/VPR_orfcalling_20240302173017_SRX7666698_orf_features.csv to data/VPR_orfcalling_20240302173017_SRX7666698_orf_features.csv\n",
      "221 3252\n",
      "download: s3://velia-piperuns-dev/VPR_orfcalling_20240305203004_MB1_1A/output/VPR_orfcalling_20240305203004_MB1_1A_orf_features.csv to data/VPR_orfcalling_20240305203004_MB1_1A_orf_features.csv\n",
      "161 2104\n",
      "download: s3://velia-piperuns-dev/VPR_orfcalling_20240305203004_MB1_1B/output/VPR_orfcalling_20240305203004_MB1_1B_orf_features.csv to data/VPR_orfcalling_20240305203004_MB1_1B_orf_features.csv\n",
      "157 1791\n",
      "download: s3://velia-piperuns-dev/VPR_orfcalling_20240305203004_MB1_2A/output/VPR_orfcalling_20240305203004_MB1_2A_orf_features.csv to data/VPR_orfcalling_20240305203004_MB1_2A_orf_features.csv\n",
      "160 1927\n"
     ]
    }
   ],
   "source": [
    "group_names = [\"iPSC\", \"Gaertner\", \"MB1\"]\n",
    "experiment_groups = {}\n",
    "for group_name in group_names:\n",
    "    experiment_groups[group_name] = []\n",
    "    for line in open(f\"{local_folder}/{group_name}.txt\"):\n",
    "        experiment_groups[group_name].append(line.strip())\n",
    "\n",
    "features = {}\n",
    "for group_name, experiment_name_list in experiment_groups.items():\n",
    "    features[group_name] = []\n",
    "    for experiment_name in experiment_name_list:\n",
    "        utils.download_feature_set(\n",
    "            experiment_name=experiment_name,\n",
    "            local_folder=\"./data/\")\n",
    "        utils.read_features(\n",
    "            data_path=f\"{local_folder}/{experiment_name}_orf_features.csv\",\n",
    "            features = features[group_name],\n",
    "            labels=labels,\n",
    "            label_name=f\"score.({group_name})\")\n",
    "        utils.remove_local_copy(experiment_name, local_folder)"
   ]
  },
  {
   "cell_type": "code",
   "execution_count": 4,
   "id": "783bf322-9cce-4990-93ff-ac99eb658cc6",
   "metadata": {
    "tags": []
   },
   "outputs": [],
   "source": [
    "def run(feature_list):\n",
    "    validation_chroms = [\"chr1\", \"chr7\", \"chr14\", \"chr21\"]\n",
    "    #test_chroms = [\"chr2\", \"chr8\", \"chr15\", \"chr22\"]\n",
    "    test_chroms = []\n",
    "    \n",
    "    (training_data_x, training_data_y,\n",
    "     validation_data_x, validation_data_y,\n",
    "     test_data_x, test_data_y) = utils.get_dataset(feature_list, validation_chroms, test_chroms)\n",
    "    model = modeling_utils.train_model(\n",
    "        training_data_x, training_data_y, validation_data_x, validation_data_y)\n",
    "    return model"
   ]
  },
  {
   "cell_type": "code",
   "execution_count": 5,
   "id": "218d9035-4acd-4576-ba5c-6201beadde48",
   "metadata": {
    "tags": []
   },
   "outputs": [
    {
     "name": "stdout",
     "output_type": "stream",
     "text": [
      "input_size: 27\n",
      "torch.Size([94106, 27]) torch.Size([94106])\n",
      "Epoch 1, Training Loss: 0.18365041149323041\n",
      "Validation Loss: 0.1518147548714413\n",
      "Validation ROC-AUC: 0.9127676403476364\n",
      "Validation PR-AUC: 0.6070134791361987\n",
      "==========================\n",
      "Epoch 2, Training Loss: 0.1253520643482913\n",
      "Validation Loss: 0.1835520079804296\n",
      "Validation ROC-AUC: 0.9135605302024232\n",
      "Validation PR-AUC: 0.6010802059799562\n",
      "==========================\n",
      "Epoch 3, Training Loss: 0.11900042667529115\n",
      "Validation Loss: 0.1604579210897365\n",
      "Validation ROC-AUC: 0.9183856347959423\n",
      "Validation PR-AUC: 0.6081489561764604\n",
      "==========================\n",
      "Epoch 4, Training Loss: 0.11661083084663451\n",
      "Validation Loss: 0.1743557488550664\n",
      "Validation ROC-AUC: 0.9118069580466789\n",
      "Validation PR-AUC: 0.5831892940078999\n",
      "==========================\n",
      "Epoch 5, Training Loss: 0.11220083722083707\n",
      "Validation Loss: 0.16815828632690463\n",
      "Validation ROC-AUC: 0.9152971033336648\n",
      "Validation PR-AUC: 0.5927200760374696\n",
      "==========================\n",
      "Epoch 6, Training Loss: 0.11053271947477968\n",
      "Validation Loss: 0.1673997686271436\n",
      "Validation ROC-AUC: 0.9159406649660224\n",
      "Validation PR-AUC: 0.6096021466370519\n",
      "==========================\n",
      "Epoch 7, Training Loss: 0.10733189391014043\n",
      "Validation Loss: 0.1642443456215261\n",
      "Validation ROC-AUC: 0.9163166920706891\n",
      "Validation PR-AUC: 0.6004275053353986\n",
      "==========================\n",
      "Epoch 8, Training Loss: 0.10418864111159627\n",
      "Validation Loss: 0.16629534877905147\n",
      "Validation ROC-AUC: 0.9164222135492074\n",
      "Validation PR-AUC: 0.5957758291530726\n",
      "==========================\n",
      "Epoch 9, Training Loss: 0.102184349768507\n",
      "Validation Loss: 0.16663281793102347\n",
      "Validation ROC-AUC: 0.9208102817697523\n",
      "Validation PR-AUC: 0.6213221170755533\n",
      "==========================\n",
      "Epoch 10, Training Loss: 0.10106488771706232\n",
      "Validation Loss: 0.16311869949219734\n",
      "Validation ROC-AUC: 0.9212608169690477\n",
      "Validation PR-AUC: 0.5963492664860581\n",
      "==========================\n",
      "Epoch 11, Training Loss: 0.09951554873627741\n",
      "Validation Loss: 0.15864866845837727\n",
      "Validation ROC-AUC: 0.9201639932388109\n",
      "Validation PR-AUC: 0.5879129298032598\n",
      "Model training completes\n"
     ]
    }
   ],
   "source": [
    "feature_list = features[\"Gaertner\"] + features[\"iPSC\"] + features[\"MB1\"]\n",
    "random.shuffle(feature_list)\n",
    "best_model = run(feature_list)\n",
    "torch.save(best_model, \"./data/best_model\")"
   ]
  }
 ],
 "metadata": {
  "kernelspec": {
   "display_name": "Python 3 (ipykernel)",
   "language": "python",
   "name": "python3"
  },
  "language_info": {
   "codemirror_mode": {
    "name": "ipython",
    "version": 3
   },
   "file_extension": ".py",
   "mimetype": "text/x-python",
   "name": "python",
   "nbconvert_exporter": "python",
   "pygments_lexer": "ipython3",
   "version": "3.10.12"
  }
 },
 "nbformat": 4,
 "nbformat_minor": 5
}
