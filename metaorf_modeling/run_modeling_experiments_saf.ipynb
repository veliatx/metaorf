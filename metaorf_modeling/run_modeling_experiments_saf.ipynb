{
 "cells": [
  {
   "cell_type": "markdown",
   "id": "cdb87457-aca7-48c2-86a5-870a6db389f6",
   "metadata": {},
   "source": [
    "This is a script where we generates multiple versions of models and compare their perfromance.\n",
    "To generate and save the final model, use another script named \"run_modeling_main.ipynb\""
   ]
  },
  {
   "cell_type": "code",
   "execution_count": 5,
   "id": "18773008-38d2-468c-a725-7d30c59e47d2",
   "metadata": {
    "tags": []
   },
   "outputs": [],
   "source": [
    "import numpy as np\n",
    "import pandas as pd\n",
    "import random\n",
    "import torch.nn as nn\n",
    "\n",
    "import utils\n",
    "import modeling_utils as modeling\n",
    "from importlib import reload\n",
    "\n",
    "import matplotlib.pyplot as plt\n",
    "\n",
    "from sklearn.ensemble import RandomForestClassifier, GradientBoostingClassifier, HistGradientBoostingClassifier\n",
    "from sklearn.metrics import RocCurveDisplay, roc_curve, auc\n",
    "from sklearn.model_selection import train_test_split, RandomizedSearchCV, StratifiedKFold\n",
    "from sklearn.experimental import enable_hist_gradient_boosting\n",
    "from scipy import interp"
   ]
  },
  {
   "cell_type": "code",
   "execution_count": 2,
   "id": "feb4b775-ee29-4afd-8bfa-ec238104b09c",
   "metadata": {
    "tags": []
   },
   "outputs": [
    {
     "name": "stdout",
     "output_type": "stream",
     "text": [
      "('chr4', '164877331', '164879008', '+', '164877331-164877407|164878919-164879008')\n"
     ]
    }
   ],
   "source": [
    "local_folder = \"./data/\"\n",
    "truthset_positive = f\"{local_folder}/truthset_positives.240227.tsv\"\n",
    "truthset_negative = f\"{local_folder}/truthset_negatives.240227.tsv\"\n",
    "label_columns = [\"score.(iPSC)\", \"score.(MB1)\", \"score.(Gaertner)\"]\n",
    "\n",
    "labels = {}\n",
    "utils.read_labels(data_path=truthset_negative, labels=labels, label_columns=label_columns)\n",
    "utils.read_labels(data_path=truthset_positive, labels=labels, label_columns=label_columns)"
   ]
  },
  {
   "cell_type": "code",
   "execution_count": 3,
   "id": "98c57d46-6970-421b-9ff9-e03dc09fe1c4",
   "metadata": {
    "tags": []
   },
   "outputs": [
    {
     "data": {
      "text/plain": [
       "4874"
      ]
     },
     "execution_count": 3,
     "metadata": {},
     "output_type": "execute_result"
    }
   ],
   "source": [
    "len(labels)"
   ]
  },
  {
   "cell_type": "code",
   "execution_count": 7,
   "id": "d7355c8b-08f5-4488-a0ee-da07ba1f0fdb",
   "metadata": {
    "tags": []
   },
   "outputs": [
    {
     "data": {
      "text/html": [
       "<div>\n",
       "<style scoped>\n",
       "    .dataframe tbody tr th:only-of-type {\n",
       "        vertical-align: middle;\n",
       "    }\n",
       "\n",
       "    .dataframe tbody tr th {\n",
       "        vertical-align: top;\n",
       "    }\n",
       "\n",
       "    .dataframe thead th {\n",
       "        text-align: right;\n",
       "    }\n",
       "</style>\n",
       "<table border=\"1\" class=\"dataframe\">\n",
       "  <thead>\n",
       "    <tr style=\"text-align: right;\">\n",
       "      <th></th>\n",
       "      <th></th>\n",
       "      <th></th>\n",
       "      <th></th>\n",
       "      <th></th>\n",
       "      <th>score.(iPSC)</th>\n",
       "      <th>score.(MB1)</th>\n",
       "      <th>score.(Gaertner)</th>\n",
       "    </tr>\n",
       "  </thead>\n",
       "  <tbody>\n",
       "    <tr>\n",
       "      <th rowspan=\"5\" valign=\"top\">chr1</th>\n",
       "      <th>26280140</th>\n",
       "      <th>26281123</th>\n",
       "      <th>+</th>\n",
       "      <th>26280140-26280203|26280764-26280932|26281057-26281123</th>\n",
       "      <td>0</td>\n",
       "      <td>0</td>\n",
       "      <td>0</td>\n",
       "    </tr>\n",
       "    <tr>\n",
       "      <th>74763918</th>\n",
       "      <th>74764113</th>\n",
       "      <th>+</th>\n",
       "      <th>74763918-74764113</th>\n",
       "      <td>0</td>\n",
       "      <td>0</td>\n",
       "      <td>0</td>\n",
       "    </tr>\n",
       "    <tr>\n",
       "      <th>23779900</th>\n",
       "      <th>23787376</th>\n",
       "      <th>+</th>\n",
       "      <th>23779900-23779941|23785674-23785779|23786314-23786423|23787274-23787376</th>\n",
       "      <td>0</td>\n",
       "      <td>0</td>\n",
       "      <td>0</td>\n",
       "    </tr>\n",
       "    <tr>\n",
       "      <th>86880689</th>\n",
       "      <th>86914120</th>\n",
       "      <th>-</th>\n",
       "      <th>86880689-86880725|86903280-86903448|86914027-86914120</th>\n",
       "      <td>0</td>\n",
       "      <td>0</td>\n",
       "      <td>0</td>\n",
       "    </tr>\n",
       "    <tr>\n",
       "      <th>1392781</th>\n",
       "      <th>1393451</th>\n",
       "      <th>-</th>\n",
       "      <th>1392781-1392803|1393395-1393451</th>\n",
       "      <td>0</td>\n",
       "      <td>0</td>\n",
       "      <td>0</td>\n",
       "    </tr>\n",
       "    <tr>\n",
       "      <th>...</th>\n",
       "      <th>...</th>\n",
       "      <th>...</th>\n",
       "      <th>...</th>\n",
       "      <th>...</th>\n",
       "      <td>...</td>\n",
       "      <td>...</td>\n",
       "      <td>...</td>\n",
       "    </tr>\n",
       "    <tr>\n",
       "      <th>chr4</th>\n",
       "      <th>30721175</th>\n",
       "      <th>30721610</th>\n",
       "      <th>+</th>\n",
       "      <th>30721175-30721610</th>\n",
       "      <td>0</td>\n",
       "      <td>0</td>\n",
       "      <td>0</td>\n",
       "    </tr>\n",
       "    <tr>\n",
       "      <th>chr5</th>\n",
       "      <th>6633524</th>\n",
       "      <th>6644888</th>\n",
       "      <th>+</th>\n",
       "      <th>6633524-6633869|6644807-6644888</th>\n",
       "      <td>1</td>\n",
       "      <td>0</td>\n",
       "      <td>1</td>\n",
       "    </tr>\n",
       "    <tr>\n",
       "      <th>chr7</th>\n",
       "      <th>92057696</th>\n",
       "      <th>92057930</th>\n",
       "      <th>+</th>\n",
       "      <th>92057696-92057930</th>\n",
       "      <td>0</td>\n",
       "      <td>0</td>\n",
       "      <td>1</td>\n",
       "    </tr>\n",
       "    <tr>\n",
       "      <th rowspan=\"2\" valign=\"top\">chr8</th>\n",
       "      <th>28701519</th>\n",
       "      <th>28701648</th>\n",
       "      <th>+</th>\n",
       "      <th>28701519-28701648</th>\n",
       "      <td>2</td>\n",
       "      <td>0</td>\n",
       "      <td>2</td>\n",
       "    </tr>\n",
       "    <tr>\n",
       "      <th>144509076</th>\n",
       "      <th>144509445</th>\n",
       "      <th>+</th>\n",
       "      <th>144509076-144509445</th>\n",
       "      <td>3</td>\n",
       "      <td>0</td>\n",
       "      <td>2</td>\n",
       "    </tr>\n",
       "  </tbody>\n",
       "</table>\n",
       "<p>4874 rows × 3 columns</p>\n",
       "</div>"
      ],
      "text/plain": [
       "                                                                               score.(iPSC)  \\\n",
       "chr1 26280140  26281123  + 26280140-26280203|26280764-26280932|26281057-26...             0   \n",
       "     74763918  74764113  + 74763918-74764113                                              0   \n",
       "     23779900  23787376  + 23779900-23779941|23785674-23785779|23786314-23...             0   \n",
       "     86880689  86914120  - 86880689-86880725|86903280-86903448|86914027-86...             0   \n",
       "     1392781   1393451   - 1392781-1392803|1393395-1393451                                0   \n",
       "...                                                                                     ...   \n",
       "chr4 30721175  30721610  + 30721175-30721610                                              0   \n",
       "chr5 6633524   6644888   + 6633524-6633869|6644807-6644888                                1   \n",
       "chr7 92057696  92057930  + 92057696-92057930                                              0   \n",
       "chr8 28701519  28701648  + 28701519-28701648                                              2   \n",
       "     144509076 144509445 + 144509076-144509445                                            3   \n",
       "\n",
       "                                                                               score.(MB1)  \\\n",
       "chr1 26280140  26281123  + 26280140-26280203|26280764-26280932|26281057-26...            0   \n",
       "     74763918  74764113  + 74763918-74764113                                             0   \n",
       "     23779900  23787376  + 23779900-23779941|23785674-23785779|23786314-23...            0   \n",
       "     86880689  86914120  - 86880689-86880725|86903280-86903448|86914027-86...            0   \n",
       "     1392781   1393451   - 1392781-1392803|1393395-1393451                               0   \n",
       "...                                                                                    ...   \n",
       "chr4 30721175  30721610  + 30721175-30721610                                             0   \n",
       "chr5 6633524   6644888   + 6633524-6633869|6644807-6644888                               0   \n",
       "chr7 92057696  92057930  + 92057696-92057930                                             0   \n",
       "chr8 28701519  28701648  + 28701519-28701648                                             0   \n",
       "     144509076 144509445 + 144509076-144509445                                           0   \n",
       "\n",
       "                                                                               score.(Gaertner)  \n",
       "chr1 26280140  26281123  + 26280140-26280203|26280764-26280932|26281057-26...                 0  \n",
       "     74763918  74764113  + 74763918-74764113                                                  0  \n",
       "     23779900  23787376  + 23779900-23779941|23785674-23785779|23786314-23...                 0  \n",
       "     86880689  86914120  - 86880689-86880725|86903280-86903448|86914027-86...                 0  \n",
       "     1392781   1393451   - 1392781-1392803|1393395-1393451                                    0  \n",
       "...                                                                                         ...  \n",
       "chr4 30721175  30721610  + 30721175-30721610                                                  0  \n",
       "chr5 6633524   6644888   + 6633524-6633869|6644807-6644888                                    1  \n",
       "chr7 92057696  92057930  + 92057696-92057930                                                  1  \n",
       "chr8 28701519  28701648  + 28701519-28701648                                                  2  \n",
       "     144509076 144509445 + 144509076-144509445                                                2  \n",
       "\n",
       "[4874 rows x 3 columns]"
      ]
     },
     "execution_count": 7,
     "metadata": {},
     "output_type": "execute_result"
    }
   ],
   "source": [
    "pd.DataFrame(labels).T"
   ]
  },
  {
   "cell_type": "code",
   "execution_count": 8,
   "id": "5c7d5d37-66e1-435a-935c-a7aebe0a4a01",
   "metadata": {
    "tags": []
   },
   "outputs": [
    {
     "name": "stdout",
     "output_type": "stream",
     "text": [
      "206 2998\n",
      "206 2992\n",
      "204 2942\n",
      "211 3025\n",
      "217 3058\n",
      "213 3051\n",
      "211 3061\n",
      "213 3066\n",
      "217 3198\n",
      "216 3232\n",
      "218 3234\n",
      "217 3250\n",
      "216 3248\n",
      "215 3263\n",
      "216 3261\n",
      "215 3271\n",
      "217 3273\n",
      "219 3240\n",
      "218 3212\n",
      "220 3259\n",
      "220 3253\n",
      "221 3255\n",
      "220 3243\n",
      "216 3141\n",
      "216 3192\n",
      "217 3203\n",
      "219 3187\n",
      "217 3228\n",
      "225 3218\n",
      "222 3235\n",
      "222 3224\n",
      "221 3256\n",
      "221 3252\n",
      "161 2104\n",
      "157 1791\n",
      "160 1927\n"
     ]
    }
   ],
   "source": [
    "group_names = [\"iPSC\", \"Gaertner\", \"MB1\"]\n",
    "experiment_groups = {}\n",
    "for group_name in group_names:\n",
    "    experiment_groups[group_name] = []\n",
    "    for line in open(f\"{local_folder}/{group_name}.txt\"):\n",
    "        experiment_groups[group_name].append(line.strip())\n",
    "\n",
    "features = {}\n",
    "for group_name, experiment_name_list in experiment_groups.items():\n",
    "    features[group_name] = []\n",
    "    for experiment_name in experiment_name_list:\n",
    "        #utils.download_feature_set(\n",
    "        #    experiment_name=experiment_name,\n",
    "        #    local_folder=\"./data/\")\n",
    "        utils.read_features(\n",
    "            data_path=f\"{local_folder}/{experiment_name}_orf_features.csv\",\n",
    "            features = features[group_name],\n",
    "            labels=labels,\n",
    "            label_name=f\"score.({group_name})\")\n",
    "        #utils.remove_local_copy(experiment_name, local_folder)"
   ]
  },
  {
   "cell_type": "code",
   "execution_count": 10,
   "id": "783bf322-9cce-4990-93ff-ac99eb658cc6",
   "metadata": {
    "tags": []
   },
   "outputs": [],
   "source": [
    "def run(feature_list):\n",
    "    validation_chroms = [\"chr1\", \"chr7\", \"chr14\", \"chr21\"]\n",
    "    test_chroms = [\"chr2\", \"chr8\", \"chr15\", \"chr22\"]\n",
    "    \n",
    "    (training_data_x, training_data_y,\n",
    "     validation_data_x, validation_data_y,\n",
    "     test_data_x, test_data_y) = utils.get_dataset(feature_list, validation_chroms, test_chroms)\n",
    "    model = modeling.train_model(\n",
    "        training_data_x, training_data_y, validation_data_x, validation_data_y)\n",
    "    return model\n",
    "\n",
    "def evaluate(model, feature_list, experiment_name):\n",
    "    validation_chroms = [\"chr1\", \"chr7\", \"chr14\", \"chr21\"]\n",
    "    test_chroms = [\"chr2\", \"chr8\", \"chr15\", \"chr22\"]\n",
    "    \n",
    "    (_, _, _, _, test_data_x, test_data_y) = utils.get_dataset(feature_list, validation_chroms, test_chroms)\n",
    "    modeling.evaluate_model(nn.BCELoss(), model, test_data_x, test_data_y,\n",
    "                            plot=True, plot_folder=\"./plots\", experiment_name=experiment_name)"
   ]
  },
  {
   "cell_type": "markdown",
   "id": "442e37ff-06f5-424f-bb9b-9d9a12ecf7e8",
   "metadata": {
    "tags": []
   },
   "source": [
    "# generate models with different training data combinations"
   ]
  },
  {
   "cell_type": "code",
   "execution_count": 11,
   "id": "218d9035-4acd-4576-ba5c-6201beadde48",
   "metadata": {
    "collapsed": true,
    "jupyter": {
     "outputs_hidden": true
    },
    "tags": []
   },
   "outputs": [
    {
     "name": "stdout",
     "output_type": "stream",
     "text": [
      "input_size: 27\n",
      "torch.Size([72284, 27]) torch.Size([72284])\n",
      "Epoch 1, Training Loss: 0.18993943882858857\n",
      "Validation Loss: 0.15788245500686268\n",
      "Validation ROC-AUC: 0.8974364975171559\n",
      "Validation PR-AUC: 0.5731877169048067\n",
      "==========================\n",
      "Epoch 2, Training Loss: 0.12814696941079687\n",
      "Validation Loss: 0.17511135143124396\n",
      "Validation ROC-AUC: 0.883651526812363\n",
      "Validation PR-AUC: 0.5214234505933852\n",
      "==========================\n",
      "Epoch 3, Training Loss: 0.1186866304054197\n",
      "Validation Loss: 0.16625594603311683\n",
      "Validation ROC-AUC: 0.9020514894161765\n",
      "Validation PR-AUC: 0.6094531323041025\n",
      "==========================\n",
      "Epoch 4, Training Loss: 0.11232941360089235\n",
      "Validation Loss: 0.1634646849370458\n",
      "Validation ROC-AUC: 0.9122025529007862\n",
      "Validation PR-AUC: 0.6187280746635034\n",
      "==========================\n",
      "Epoch 5, Training Loss: 0.109583316904913\n",
      "Validation Loss: 0.16634363972892363\n",
      "Validation ROC-AUC: 0.9201021918014972\n",
      "Validation PR-AUC: 0.63238884609069\n",
      "==========================\n",
      "Epoch 6, Training Loss: 0.10643115301031322\n",
      "Validation Loss: 0.1597280856791056\n",
      "Validation ROC-AUC: 0.9178430374502644\n",
      "Validation PR-AUC: 0.6237809492859673\n",
      "==========================\n",
      "Epoch 7, Training Loss: 0.10577437225729228\n",
      "Validation Loss: 0.15639628018769952\n",
      "Validation ROC-AUC: 0.9207613301432512\n",
      "Validation PR-AUC: 0.6384921614921397\n",
      "==========================\n",
      "Epoch 8, Training Loss: 0.10312495741712968\n",
      "Validation Loss: 0.17398051141709503\n",
      "Validation ROC-AUC: 0.9070222644796415\n",
      "Validation PR-AUC: 0.6302845793070097\n",
      "==========================\n",
      "Epoch 9, Training Loss: 0.10187451163455184\n",
      "Validation Loss: 0.16525624762289226\n",
      "Validation ROC-AUC: 0.9221097926375341\n",
      "Validation PR-AUC: 0.6307896936493758\n",
      "==========================\n",
      "Epoch 10, Training Loss: 0.09944993837497534\n",
      "Validation Loss: 0.1668209482760479\n",
      "Validation ROC-AUC: 0.9176542997518226\n",
      "Validation PR-AUC: 0.6374665914130069\n",
      "==========================\n",
      "Epoch 11, Training Loss: 0.09933268877438607\n",
      "Validation Loss: 0.17232417757622898\n",
      "Validation ROC-AUC: 0.9215600931360584\n",
      "Validation PR-AUC: 0.6407034833925541\n",
      "==========================\n",
      "Epoch 12, Training Loss: 0.0959101615432419\n",
      "Validation Loss: 0.16079359613876376\n",
      "Validation ROC-AUC: 0.9087336288569018\n",
      "Validation PR-AUC: 0.645445297738071\n",
      "==========================\n",
      "Epoch 13, Training Loss: 0.09621216733486647\n",
      "Validation Loss: 0.1648044338605056\n",
      "Validation ROC-AUC: 0.9202546179249331\n",
      "Validation PR-AUC: 0.6349298031740048\n",
      "==========================\n",
      "Epoch 14, Training Loss: 0.09401446344100137\n",
      "Validation Loss: 0.16276526747064457\n",
      "Validation ROC-AUC: 0.916279562159092\n",
      "Validation PR-AUC: 0.6377224466058385\n",
      "==========================\n",
      "Epoch 15, Training Loss: 0.09200516813764333\n",
      "Validation Loss: 0.16302812541317607\n",
      "Validation ROC-AUC: 0.9202907920139588\n",
      "Validation PR-AUC: 0.6463010812344482\n",
      "==========================\n",
      "Epoch 16, Training Loss: 0.0909437382354739\n",
      "Validation Loss: 0.16338667426672246\n",
      "Validation ROC-AUC: 0.9181606758932999\n",
      "Validation PR-AUC: 0.6446450953220777\n",
      "==========================\n",
      "Epoch 17, Training Loss: 0.08935619255494887\n",
      "Validation Loss: 0.1642877242941823\n",
      "Validation ROC-AUC: 0.9195270421174551\n",
      "Validation PR-AUC: 0.6311236835385082\n",
      "Model training completes\n"
     ]
    }
   ],
   "source": [
    "feature_list = features[\"Gaertner\"] + features[\"iPSC\"]\n",
    "random.shuffle(feature_list)\n",
    "model_Gaertner_iPSC = run(feature_list)"
   ]
  },
  {
   "cell_type": "code",
   "execution_count": 9,
   "id": "efa29d9e-8c8d-4456-9d01-71c40dde598c",
   "metadata": {
    "tags": []
   },
   "outputs": [],
   "source": [
    "validation_chroms = []\n",
    "test_chroms = []\n",
    "\n",
    "feature_list = features[\"Gaertner\"] + features[\"iPSC\"]\n",
    "\n",
    "(training_data_X, training_data_y,\n",
    " validation_data_X, validation_data_y,\n",
    " test_data_X, test_data_y) = utils.get_dataset(feature_list, validation_chroms, test_chroms)\n",
    "\n",
    "#model = modeling.train_model(training_data_X, training_data_y, \n",
    "#                             validation_data_X, validation_data_y)"
   ]
  },
  {
   "cell_type": "code",
   "execution_count": 10,
   "id": "06ec6c99-5778-4d3e-8f7f-be90a92dd49a",
   "metadata": {
    "tags": []
   },
   "outputs": [
    {
     "data": {
      "text/plain": [
       "112163"
      ]
     },
     "execution_count": 10,
     "metadata": {},
     "output_type": "execute_result"
    }
   ],
   "source": [
    "len(training_data_X)"
   ]
  },
  {
   "cell_type": "code",
   "execution_count": 16,
   "id": "7ac26528-875f-457d-81fe-9060be48a36c",
   "metadata": {
    "tags": []
   },
   "outputs": [
    {
     "data": {
      "text/plain": [
       "{0.0, 1.0}"
      ]
     },
     "execution_count": 16,
     "metadata": {},
     "output_type": "execute_result"
    }
   ],
   "source": [
    "set(training_data_y)"
   ]
  },
  {
   "cell_type": "code",
   "execution_count": 41,
   "id": "a5ca02c1-ebca-466a-a7fe-d4bd16a9ef1c",
   "metadata": {
    "tags": []
   },
   "outputs": [
    {
     "data": {
      "text/plain": [
       "{'subsample': 0.8,\n",
       " 'n_estimators': 200,\n",
       " 'min_samples_split': 2,\n",
       " 'min_samples_leaf': 4,\n",
       " 'max_depth': 3,\n",
       " 'learning_rate': 0.3}"
      ]
     },
     "execution_count": 41,
     "metadata": {},
     "output_type": "execute_result"
    }
   ],
   "source": [
    "param_dist = {\n",
    "    'learning_rate': [0.001, 0.01, 0.2, 0.3],  # The step size shrinkage used to prevent overfitting. Range is between 0 and 1\n",
    "    'n_estimators': [100, 200],  # The number of sequential trees to be modeled \n",
    "    'max_depth': [3, 5, 7, 9],  # The maximum depth of the individual regression estimators. The maximum depth limits the number of nodes in the tree. Tune this parameter for best performance; the best value depends on the interaction of the input variables.\n",
    "    'min_samples_split': [2, 5, 10],  # The minimum number of samples required to split an internal node\n",
    "    'min_samples_leaf': [1, 2, 4],  # The minimum number of samples required to be at a leaf node\n",
    "    'subsample': [0.6, 0.8, 1.0],  # The fraction of samples to be used for fitting the individual base learners. If smaller than 1.0 this results in Stochastic Gradient Boosting.\n",
    "}\n",
    "\n",
    "gfc = GradientBoostingClassifier(random_state=0)\n",
    "\n",
    "clf = RandomizedSearchCV(gfc, param_dist, random_state=0, n_jobs=32)\n",
    "search = clf.fit(training_data_X, training_data_y)\n",
    "search.best_params_"
   ]
  },
  {
   "cell_type": "code",
   "execution_count": 58,
   "id": "960a5796-8d75-4c8c-8eae-e366cf25b917",
   "metadata": {
    "tags": []
   },
   "outputs": [],
   "source": [
    "gb_params = {\n",
    " 'min_samples_split': 2,\n",
    " 'min_samples_leaf': 4,\n",
    " 'max_depth': 3,\n",
    " 'learning_rate': 0.3,\n",
    "}"
   ]
  },
  {
   "cell_type": "code",
   "execution_count": 70,
   "id": "7ae8de48-0e4a-45b0-ae15-eb4000f5e11a",
   "metadata": {
    "collapsed": true,
    "jupyter": {
     "outputs_hidden": true
    },
    "tags": []
   },
   "outputs": [
    {
     "name": "stderr",
     "output_type": "stream",
     "text": [
      "/home/ec2-user/miniconda3/lib/python3.10/site-packages/sklearn/model_selection/_validation.py:547: FitFailedWarning: \n",
      "30 fits failed out of a total of 50.\n",
      "The score on these train-test partitions for these parameters will be set to nan.\n",
      "If these failures are not expected, you can try to debug them by setting error_score='raise'.\n",
      "\n",
      "Below are more details about the failures:\n",
      "--------------------------------------------------------------------------------\n",
      "30 fits failed with the following error:\n",
      "Traceback (most recent call last):\n",
      "  File \"/home/ec2-user/miniconda3/lib/python3.10/site-packages/sklearn/model_selection/_validation.py\", line 895, in _fit_and_score\n",
      "    estimator.fit(X_train, y_train, **fit_params)\n",
      "  File \"/home/ec2-user/miniconda3/lib/python3.10/site-packages/sklearn/base.py\", line 1467, in wrapper\n",
      "    estimator._validate_params()\n",
      "  File \"/home/ec2-user/miniconda3/lib/python3.10/site-packages/sklearn/base.py\", line 666, in _validate_params\n",
      "    validate_parameter_constraints(\n",
      "  File \"/home/ec2-user/miniconda3/lib/python3.10/site-packages/sklearn/utils/_param_validation.py\", line 95, in validate_parameter_constraints\n",
      "    raise InvalidParameterError(\n",
      "sklearn.utils._param_validation.InvalidParameterError: The 'categorical_features' parameter of HistGradientBoostingClassifier must be an array-like, a str among {'from_dtype'} or None. Got 'auto' instead.\n",
      "\n",
      "  warnings.warn(some_fits_failed_message, FitFailedWarning)\n",
      "/home/ec2-user/miniconda3/lib/python3.10/site-packages/sklearn/model_selection/_search.py:1051: UserWarning: One or more of the test scores are non-finite: [       nan 0.97858446        nan        nan        nan        nan\n",
      " 0.98003705 0.98101927        nan 0.98118527]\n",
      "  warnings.warn(\n"
     ]
    },
    {
     "data": {
      "text/plain": [
       "{'min_samples_leaf': 20,\n",
       " 'max_iter': 500,\n",
       " 'max_depth': None,\n",
       " 'max_bins': 200,\n",
       " 'learning_rate': 0.3,\n",
       " 'l2_regularization': 1.0,\n",
       " 'categorical_features': None}"
      ]
     },
     "execution_count": 70,
     "metadata": {},
     "output_type": "execute_result"
    }
   ],
   "source": [
    "param_dist = {\n",
    "    'learning_rate': [0.01, 0.1, 0.3],  # Controls the contribution of each tree to the final outcome and helps to prevent overfitting by shrinking the tree predictions.\n",
    "    'max_iter': [100, 300, 500],  # Maximum number of iterations of the boosting process, equivalent to n_estimators in other GBM frameworks.\n",
    "    'max_depth': [None, 5, 20],  # Maximum depth of each tree. None means no limit.\n",
    "    'min_samples_leaf': [20, 40, 80],  # Minimum number of samples per leaf. Can be used to smooth the model, especially in regression.\n",
    "    'l2_regularization': [0.0, 0.01, 0.1, 1.0],  # L2 regularization term on weights, increasing this value will make model more conservative.\n",
    "    'max_bins': [200, 255],  # Maximum number of bins used for splitting features. Higher values increase model's ability to capture detail but also computation time.\n",
    "    'categorical_features': [None, 'auto'],  # Whether to treat integer features as categorical. 'auto' lets the model decide.\n",
    "}\n",
    "\n",
    "hclf = RandomizedSearchCV(HistGradientBoostingClassifier(), param_dist, random_state=0, n_jobs=32)\n",
    "search = hclf.fit(training_data_X, training_data_y)\n",
    "search.best_params_"
   ]
  },
  {
   "cell_type": "code",
   "execution_count": 74,
   "id": "39f0f591-0086-4a7a-b7e5-f89366b495ac",
   "metadata": {
    "tags": []
   },
   "outputs": [
    {
     "data": {
      "image/png": "[encoded data removed]",
      "text/plain": [
       "<Figure size 640x480 with 1 Axes>"
      ]
     },
     "metadata": {},
     "output_type": "display_data"
    }
   ],
   "source": [
    "hgfc_params = {'min_samples_leaf': 20,\n",
    " 'max_iter': 500,\n",
    " 'max_depth': None,\n",
    " 'max_bins': 200,\n",
    " 'learning_rate': 0.3,\n",
    " 'l2_regularization': 1.0,\n",
    " 'categorical_features': None}\n",
    "\n",
    "gfc = HistGradientBoostingClassifier(**hgfc_params)\n",
    "gfc.fit(training_data_X, training_data_y)\n",
    "ax = plt.gca()\n",
    "gfc_disp = RocCurveDisplay.from_estimator(gfc, test_data_X, test_data_y, ax=ax, alpha=0.8)\n",
    "plt.show()"
   ]
  },
  {
   "cell_type": "code",
   "execution_count": 76,
   "id": "02db7e70-d3d8-4eeb-9afc-f6b576f09338",
   "metadata": {
    "tags": []
   },
   "outputs": [
    {
     "data": {
      "text/plain": [
       "72284"
      ]
     },
     "execution_count": 76,
     "metadata": {},
     "output_type": "execute_result"
    }
   ],
   "source": [
    "len(training_data_X)"
   ]
  },
  {
   "cell_type": "code",
   "execution_count": 79,
   "id": "e90bc2aa-de89-49b8-bcdc-fbb8c6c90a22",
   "metadata": {
    "tags": []
   },
   "outputs": [
    {
     "data": {
      "text/plain": [
       "23027"
      ]
     },
     "execution_count": 79,
     "metadata": {},
     "output_type": "execute_result"
    }
   ],
   "source": [
    "len(validation_data_X)"
   ]
  },
  {
   "cell_type": "code",
   "execution_count": 96,
   "id": "574a05c7-f2bf-4fe8-9da4-5e339f6f7db2",
   "metadata": {
    "tags": []
   },
   "outputs": [
    {
     "data": {
      "text/plain": [
       "matrix([[1.47826222e-02, 7.36174587e+00, 4.10265293e-02, ...,\n",
       "         9.99000000e+02, 0.00000000e+00, 2.21373363e+01],\n",
       "        [5.13013644e-03, 1.07732865e+00, 1.61721398e-02, ...,\n",
       "         7.36558319e+00, 5.52216059e+00, 0.00000000e+00],\n",
       "        [1.98455281e-02, 5.65597550e+00, 5.62984404e-02, ...,\n",
       "         1.10983020e+01, 8.43067226e+00, 0.00000000e+00],\n",
       "        ...,\n",
       "        [4.41383241e-02, 2.10539806e+01, 1.12127206e-01, ...,\n",
       "         0.00000000e+00, 0.00000000e+00, 1.67551893e+01],\n",
       "        [3.63781204e-02, 8.83988325e+00, 9.66575492e-02, ...,\n",
       "         0.00000000e+00, 0.00000000e+00, 1.20082475e+01],\n",
       "        [1.61808043e-02, 1.31064515e+00, 5.08871459e-02, ...,\n",
       "         0.00000000e+00, 0.00000000e+00, 2.22141285e+00]])"
      ]
     },
     "execution_count": 96,
     "metadata": {},
     "output_type": "execute_result"
    }
   ],
   "source": [
    "np.matrix(X)"
   ]
  },
  {
   "cell_type": "code",
   "execution_count": 100,
   "id": "20a4635d-bc7d-4479-8326-4c4cb7944984",
   "metadata": {
    "tags": []
   },
   "outputs": [
    {
     "name": "stderr",
     "output_type": "stream",
     "text": [
      "/tmp/ipykernel_1547462/1413691662.py:19: DeprecationWarning: scipy.interp is deprecated and will be removed in SciPy 2.0.0, use numpy.interp instead\n",
      "  tprs.append(interp(mean_fpr, fpr, tpr))\n",
      "/tmp/ipykernel_1547462/1413691662.py:19: DeprecationWarning: scipy.interp is deprecated and will be removed in SciPy 2.0.0, use numpy.interp instead\n",
      "  tprs.append(interp(mean_fpr, fpr, tpr))\n",
      "/tmp/ipykernel_1547462/1413691662.py:19: DeprecationWarning: scipy.interp is deprecated and will be removed in SciPy 2.0.0, use numpy.interp instead\n",
      "  tprs.append(interp(mean_fpr, fpr, tpr))\n",
      "/tmp/ipykernel_1547462/1413691662.py:19: DeprecationWarning: scipy.interp is deprecated and will be removed in SciPy 2.0.0, use numpy.interp instead\n",
      "  tprs.append(interp(mean_fpr, fpr, tpr))\n",
      "/tmp/ipykernel_1547462/1413691662.py:19: DeprecationWarning: scipy.interp is deprecated and will be removed in SciPy 2.0.0, use numpy.interp instead\n",
      "  tprs.append(interp(mean_fpr, fpr, tpr))\n",
      "/tmp/ipykernel_1547462/1413691662.py:19: DeprecationWarning: scipy.interp is deprecated and will be removed in SciPy 2.0.0, use numpy.interp instead\n",
      "  tprs.append(interp(mean_fpr, fpr, tpr))\n",
      "/tmp/ipykernel_1547462/1413691662.py:19: DeprecationWarning: scipy.interp is deprecated and will be removed in SciPy 2.0.0, use numpy.interp instead\n",
      "  tprs.append(interp(mean_fpr, fpr, tpr))\n",
      "/tmp/ipykernel_1547462/1413691662.py:19: DeprecationWarning: scipy.interp is deprecated and will be removed in SciPy 2.0.0, use numpy.interp instead\n",
      "  tprs.append(interp(mean_fpr, fpr, tpr))\n",
      "/tmp/ipykernel_1547462/1413691662.py:19: DeprecationWarning: scipy.interp is deprecated and will be removed in SciPy 2.0.0, use numpy.interp instead\n",
      "  tprs.append(interp(mean_fpr, fpr, tpr))\n",
      "/tmp/ipykernel_1547462/1413691662.py:19: DeprecationWarning: scipy.interp is deprecated and will be removed in SciPy 2.0.0, use numpy.interp instead\n",
      "  tprs.append(interp(mean_fpr, fpr, tpr))\n"
     ]
    },
    {
     "data": {
      "image/png": "[encoded data removed]",
      "text/plain": [
       "<Figure size 640x480 with 1 Axes>"
      ]
     },
     "metadata": {},
     "output_type": "display_data"
    }
   ],
   "source": [
    "X = np.array(training_data_X)\n",
    "y = np.array(training_data_y)\n",
    "\n",
    "classifier = HistGradientBoostingClassifier()\n",
    "\n",
    "# Define StratifiedKFold to maintain the proportion of each class\n",
    "cv = StratifiedKFold(n_splits=10)\n",
    "\n",
    "tprs = []\n",
    "aucs = []\n",
    "mean_fpr = np.linspace(0, 1, 100)\n",
    "\n",
    "fig, ax = plt.subplots()\n",
    "\n",
    "for i, (train, test) in enumerate(cv.split(X, y)):\n",
    "    classifier.fit(X[train], y[train])\n",
    "    viz = roc_curve(y[test], classifier.predict_proba(X[test])[:, 1])\n",
    "    fpr, tpr, thresholds = viz\n",
    "    tprs.append(interp(mean_fpr, fpr, tpr))\n",
    "    tprs[-1][0] = 0.0\n",
    "    roc_auc = auc(fpr, tpr)\n",
    "    aucs.append(roc_auc)\n",
    "    ax.plot(fpr, tpr, lw=1, alpha=0.3, label=f'ROC fold {i+1} (AUC = {roc_auc:.2f})')\n",
    "\n",
    "mean_tpr = np.mean(tprs, axis=0)\n",
    "mean_tpr[-1] = 1.0\n",
    "mean_auc = auc(mean_fpr, mean_tpr)\n",
    "std_auc = np.std(aucs)\n",
    "ax.plot(mean_fpr, mean_tpr, color='b',\n",
    "        label=r'Mean ROC (AUC = %0.2f $\\pm$ %0.2f)' % (mean_auc, std_auc),\n",
    "        lw=2, alpha=.8)\n",
    "\n",
    "std_tpr = np.std(tprs, axis=0)\n",
    "tprs_upper = np.minimum(mean_tpr + std_tpr, 1)\n",
    "tprs_lower = np.maximum(mean_tpr - std_tpr, 0)\n",
    "ax.fill_between(mean_fpr, tprs_lower, tprs_upper, color='grey', alpha=.2,\n",
    "                label=r'$\\pm$ 1 std. dev.')\n",
    "\n",
    "ax.set(xlim=[-0.05, 1.05], ylim=[-0.05, 1.05],\n",
    "       title=\"Receiver Operating Characteristic\")\n",
    "ax.legend(loc=\"lower right\")\n",
    "plt.show()"
   ]
  },
  {
   "cell_type": "code",
   "execution_count": null,
   "id": "ab250eba-add7-4a27-8c94-a189ae32e290",
   "metadata": {
    "tags": []
   },
   "outputs": [],
   "source": [
    "feature_list = features[\"Gaertner\"]\n",
    "random.shuffle(feature_list)\n",
    "model_Gaertner = run(feature_list)"
   ]
  },
  {
   "cell_type": "code",
   "execution_count": null,
   "id": "e87a628d-46c0-45ab-998a-9ea61a0f307c",
   "metadata": {
    "tags": []
   },
   "outputs": [],
   "source": [
    "feature_list = features[\"iPSC\"]\n",
    "random.shuffle(feature_list)\n",
    "model_iPSC = run(feature_list)"
   ]
  },
  {
   "cell_type": "markdown",
   "id": "5aa6b5a7-91b0-411a-8cf3-1cfb5f559ead",
   "metadata": {
    "tags": []
   },
   "source": [
    "# Evaluate different models on the same test data"
   ]
  },
  {
   "cell_type": "code",
   "execution_count": 6,
   "id": "016c8904-d5b4-446a-af46-3891ed26a778",
   "metadata": {
    "tags": []
   },
   "outputs": [
    {
     "ename": "NameError",
     "evalue": "name 'best_model' is not defined",
     "output_type": "error",
     "traceback": [
      "\u001b[0;31m---------------------------------------------------------------------------\u001b[0m",
      "\u001b[0;31mNameError\u001b[0m                                 Traceback (most recent call last)",
      "Cell \u001b[0;32mIn[6], line 1\u001b[0m\n\u001b[0;32m----> 1\u001b[0m test_loss, roc_auc, pr_auc \u001b[38;5;241m=\u001b[39m modeling\u001b[38;5;241m.\u001b[39mevaluate_model(nn\u001b[38;5;241m.\u001b[39mBCELoss(), \u001b[43mbest_model\u001b[49m, test_data_x, test_data_y)\n",
      "\u001b[0;31mNameError\u001b[0m: name 'best_model' is not defined"
     ]
    }
   ],
   "source": [
    "test_loss, roc_auc, pr_auc = modeling.evaluate_model(nn.BCELoss(), best_model, test_data_x, test_data_y)"
   ]
  },
  {
   "cell_type": "code",
   "execution_count": null,
   "id": "4e540fe4-51fd-4f74-81fc-78f1c0f6e182",
   "metadata": {
    "tags": []
   },
   "outputs": [],
   "source": [
    "evaluate(model=model_Gaertner_iPSC,\n",
    "         feature_list=features[\"MB1\"],\n",
    "         experiment_name=\"HCT116_model_pancreatic_progenitors_iPSC\")"
   ]
  },
  {
   "cell_type": "code",
   "execution_count": null,
   "id": "66e1292e-3fa1-4f2c-9a51-4a50bc16fe19",
   "metadata": {
    "tags": []
   },
   "outputs": [],
   "source": [
    "evaluate(model=model_Gaertner,\n",
    "         feature_list=features[\"MB1\"],\n",
    "         experiment_name=\"HCT116_model_pancreatic_progenitors\")"
   ]
  },
  {
   "cell_type": "code",
   "execution_count": null,
   "id": "c51266fd-09c0-41cb-b9f4-8a7061757598",
   "metadata": {
    "tags": []
   },
   "outputs": [],
   "source": [
    "evaluate(model=model_iPSC,\n",
    "         feature_list=features[\"MB1\"],\n",
    "         experiment_name=\"HCT116_model_iPSC\")"
   ]
  }
 ],
 "metadata": {
  "kernelspec": {
   "display_name": "Python 3 (ipykernel)",
   "language": "python",
   "name": "python3"
  },
  "language_info": {
   "codemirror_mode": {
    "name": "ipython",
    "version": 3
   },
   "file_extension": ".py",
   "mimetype": "text/x-python",
   "name": "python",
   "nbconvert_exporter": "python",
   "pygments_lexer": "ipython3",
   "version": "3.10.12"
  }
 },
 "nbformat": 4,
 "nbformat_minor": 5
}
