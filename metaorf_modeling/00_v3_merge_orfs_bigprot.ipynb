{
 "cells": [
  {
   "cell_type": "code",
   "execution_count": 1,
   "id": "8df02ebb-c097-44d5-b9a9-ebcec8421769",
   "metadata": {
    "tags": []
   },
   "outputs": [],
   "source": [
    "import pandas as pd\n",
    "from Bio.Seq import Seq\n",
    "from veliadb.base import Session, Assembly"
   ]
  },
  {
   "cell_type": "code",
   "execution_count": 2,
   "id": "49bb4683-470e-4445-ba90-5769e62f696a",
   "metadata": {
    "tags": []
   },
   "outputs": [],
   "source": [
    "metaorfs = pd.read_table('s3://velia-piperuns-dev/VPR_orfcalling_20240307222241_iPSC-rep2_SRR9113065/output/VPR_orfcalling_20240307222241_iPSC-rep2_SRR9113065_orf_features.csv')"
   ]
  },
  {
   "cell_type": "code",
   "execution_count": 3,
   "id": "6a2e1879-7445-4c9e-a02e-15eb540dff22",
   "metadata": {
    "tags": []
   },
   "outputs": [],
   "source": [
    "session = Session()\n",
    "ucsc_style2assembly_id = {}\n",
    "for a in session.query(Assembly).all():\n",
    "    if a.ucsc_style_name != 'na':\n",
    "        if \"_\" in a.ucsc_style_name:\n",
    "            chrom_name = a.genbank_accession\n",
    "        else:\n",
    "            chrom_name = a.ucsc_style_name        \n",
    "        ucsc_style2assembly_id[chrom_name] = a.id"
   ]
  },
  {
   "cell_type": "code",
   "execution_count": 4,
   "id": "e87fab85-c27e-40f5-959b-2049d29b8ba5",
   "metadata": {
    "tags": []
   },
   "outputs": [],
   "source": [
    "def exon_block_to_veliadb_style(exon_blocks, exon_delimiter = '|'):\n",
    "    block_sizes = []\n",
    "    chrom_starts = []\n",
    "    for e in exon_blocks.split(exon_delimiter):\n",
    "        e_start, e_end = e.split('-')\n",
    "        block_sizes.append(str(int(e_end)-int(e_start)))\n",
    "        chrom_starts.append(str(int(e_start)+1)) # Add 1 to starts to convert to 1-indexed\n",
    "    return ';'.join(chrom_starts), ';'.join(block_sizes)\n",
    "\n",
    "def metaorf_call_to_veliadb_hash_string(row, chrom_id_to_assembly_id, bp_df_ids):\n",
    "    assembly_id = chrom_id_to_assembly_id[row['chrom_id']]\n",
    "    chrom_starts, block_sizes = exon_block_to_veliadb_style(row['exon_blocks'])\n",
    "    chrom_start = int(row['orf_start'])+1 # Add 1 to start to convert to 1-indexed\n",
    "    hash_string = f\"{assembly_id}_{chrom_start}_{row['orf_end']}_{row['strand']}_{chrom_starts}_{block_sizes}\"\n",
    "    \n",
    "    if hash_string in bp_df_ids:\n",
    "        return hash_string\n",
    "    else:\n",
    "        return \"\""
   ]
  },
  {
   "cell_type": "code",
   "execution_count": 5,
   "id": "6011b4c0-aa2b-40db-9d43-d0a44fda4798",
   "metadata": {},
   "outputs": [
    {
     "ename": "KeyboardInterrupt",
     "evalue": "",
     "output_type": "error",
     "traceback": [
      "\u001b[0;31m---------------------------------------------------------------------------\u001b[0m",
      "\u001b[0;31mKeyboardInterrupt\u001b[0m                         Traceback (most recent call last)",
      "Cell \u001b[0;32mIn[5], line 1\u001b[0m\n\u001b[0;32m----> 1\u001b[0m bp_df \u001b[38;5;241m=\u001b[39m \u001b[43mpd\u001b[49m\u001b[38;5;241;43m.\u001b[39;49m\u001b[43mread_csv\u001b[49m\u001b[43m(\u001b[49m\u001b[38;5;124;43m'\u001b[39;49m\u001b[38;5;124;43ms3://velia-data-dev/VDC_004_annotation/big_prot/v0.8.1_minlen_15_maxlen_150/orfset_v0.8.1_minlen_15_maxlen_150_orfs.csv.gz\u001b[39;49m\u001b[38;5;124;43m'\u001b[39;49m\u001b[43m)\u001b[49m\n",
      "File \u001b[0;32m~/miniconda3/lib/python3.10/site-packages/pandas/io/parsers/readers.py:1026\u001b[0m, in \u001b[0;36mread_csv\u001b[0;34m(filepath_or_buffer, sep, delimiter, header, names, index_col, usecols, dtype, engine, converters, true_values, false_values, skipinitialspace, skiprows, skipfooter, nrows, na_values, keep_default_na, na_filter, verbose, skip_blank_lines, parse_dates, infer_datetime_format, keep_date_col, date_parser, date_format, dayfirst, cache_dates, iterator, chunksize, compression, thousands, decimal, lineterminator, quotechar, quoting, doublequote, escapechar, comment, encoding, encoding_errors, dialect, on_bad_lines, delim_whitespace, low_memory, memory_map, float_precision, storage_options, dtype_backend)\u001b[0m\n\u001b[1;32m   1013\u001b[0m kwds_defaults \u001b[38;5;241m=\u001b[39m _refine_defaults_read(\n\u001b[1;32m   1014\u001b[0m     dialect,\n\u001b[1;32m   1015\u001b[0m     delimiter,\n\u001b[0;32m   (...)\u001b[0m\n\u001b[1;32m   1022\u001b[0m     dtype_backend\u001b[38;5;241m=\u001b[39mdtype_backend,\n\u001b[1;32m   1023\u001b[0m )\n\u001b[1;32m   1024\u001b[0m kwds\u001b[38;5;241m.\u001b[39mupdate(kwds_defaults)\n\u001b[0;32m-> 1026\u001b[0m \u001b[38;5;28;01mreturn\u001b[39;00m \u001b[43m_read\u001b[49m\u001b[43m(\u001b[49m\u001b[43mfilepath_or_buffer\u001b[49m\u001b[43m,\u001b[49m\u001b[43m \u001b[49m\u001b[43mkwds\u001b[49m\u001b[43m)\u001b[49m\n",
      "File \u001b[0;32m~/miniconda3/lib/python3.10/site-packages/pandas/io/parsers/readers.py:626\u001b[0m, in \u001b[0;36m_read\u001b[0;34m(filepath_or_buffer, kwds)\u001b[0m\n\u001b[1;32m    623\u001b[0m     \u001b[38;5;28;01mreturn\u001b[39;00m parser\n\u001b[1;32m    625\u001b[0m \u001b[38;5;28;01mwith\u001b[39;00m parser:\n\u001b[0;32m--> 626\u001b[0m     \u001b[38;5;28;01mreturn\u001b[39;00m \u001b[43mparser\u001b[49m\u001b[38;5;241;43m.\u001b[39;49m\u001b[43mread\u001b[49m\u001b[43m(\u001b[49m\u001b[43mnrows\u001b[49m\u001b[43m)\u001b[49m\n",
      "File \u001b[0;32m~/miniconda3/lib/python3.10/site-packages/pandas/io/parsers/readers.py:1923\u001b[0m, in \u001b[0;36mTextFileReader.read\u001b[0;34m(self, nrows)\u001b[0m\n\u001b[1;32m   1916\u001b[0m nrows \u001b[38;5;241m=\u001b[39m validate_integer(\u001b[38;5;124m\"\u001b[39m\u001b[38;5;124mnrows\u001b[39m\u001b[38;5;124m\"\u001b[39m, nrows)\n\u001b[1;32m   1917\u001b[0m \u001b[38;5;28;01mtry\u001b[39;00m:\n\u001b[1;32m   1918\u001b[0m     \u001b[38;5;66;03m# error: \"ParserBase\" has no attribute \"read\"\u001b[39;00m\n\u001b[1;32m   1919\u001b[0m     (\n\u001b[1;32m   1920\u001b[0m         index,\n\u001b[1;32m   1921\u001b[0m         columns,\n\u001b[1;32m   1922\u001b[0m         col_dict,\n\u001b[0;32m-> 1923\u001b[0m     ) \u001b[38;5;241m=\u001b[39m \u001b[38;5;28;43mself\u001b[39;49m\u001b[38;5;241;43m.\u001b[39;49m\u001b[43m_engine\u001b[49m\u001b[38;5;241;43m.\u001b[39;49m\u001b[43mread\u001b[49m\u001b[43m(\u001b[49m\u001b[43m  \u001b[49m\u001b[38;5;66;43;03m# type: ignore[attr-defined]\u001b[39;49;00m\n\u001b[1;32m   1924\u001b[0m \u001b[43m        \u001b[49m\u001b[43mnrows\u001b[49m\n\u001b[1;32m   1925\u001b[0m \u001b[43m    \u001b[49m\u001b[43m)\u001b[49m\n\u001b[1;32m   1926\u001b[0m \u001b[38;5;28;01mexcept\u001b[39;00m \u001b[38;5;167;01mException\u001b[39;00m:\n\u001b[1;32m   1927\u001b[0m     \u001b[38;5;28mself\u001b[39m\u001b[38;5;241m.\u001b[39mclose()\n",
      "File \u001b[0;32m~/miniconda3/lib/python3.10/site-packages/pandas/io/parsers/c_parser_wrapper.py:234\u001b[0m, in \u001b[0;36mCParserWrapper.read\u001b[0;34m(self, nrows)\u001b[0m\n\u001b[1;32m    232\u001b[0m \u001b[38;5;28;01mtry\u001b[39;00m:\n\u001b[1;32m    233\u001b[0m     \u001b[38;5;28;01mif\u001b[39;00m \u001b[38;5;28mself\u001b[39m\u001b[38;5;241m.\u001b[39mlow_memory:\n\u001b[0;32m--> 234\u001b[0m         chunks \u001b[38;5;241m=\u001b[39m \u001b[38;5;28;43mself\u001b[39;49m\u001b[38;5;241;43m.\u001b[39;49m\u001b[43m_reader\u001b[49m\u001b[38;5;241;43m.\u001b[39;49m\u001b[43mread_low_memory\u001b[49m\u001b[43m(\u001b[49m\u001b[43mnrows\u001b[49m\u001b[43m)\u001b[49m\n\u001b[1;32m    235\u001b[0m         \u001b[38;5;66;03m# destructive to chunks\u001b[39;00m\n\u001b[1;32m    236\u001b[0m         data \u001b[38;5;241m=\u001b[39m _concatenate_chunks(chunks)\n",
      "File \u001b[0;32mparsers.pyx:838\u001b[0m, in \u001b[0;36mpandas._libs.parsers.TextReader.read_low_memory\u001b[0;34m()\u001b[0m\n",
      "File \u001b[0;32mparsers.pyx:921\u001b[0m, in \u001b[0;36mpandas._libs.parsers.TextReader._read_rows\u001b[0;34m()\u001b[0m\n",
      "File \u001b[0;32mparsers.pyx:1083\u001b[0m, in \u001b[0;36mpandas._libs.parsers.TextReader._convert_column_data\u001b[0;34m()\u001b[0m\n",
      "File \u001b[0;32mparsers.pyx:1456\u001b[0m, in \u001b[0;36mpandas._libs.parsers._maybe_upcast\u001b[0;34m()\u001b[0m\n",
      "File \u001b[0;32m~/miniconda3/lib/python3.10/site-packages/numpy/core/multiarray.py:1131\u001b[0m, in \u001b[0;36mputmask\u001b[0;34m(a, mask, values)\u001b[0m\n\u001b[1;32m   1082\u001b[0m \u001b[38;5;250m    \u001b[39m\u001b[38;5;124;03m\"\"\"\u001b[39;00m\n\u001b[1;32m   1083\u001b[0m \u001b[38;5;124;03m    copyto(dst, src, casting='same_kind', where=True)\u001b[39;00m\n\u001b[1;32m   1084\u001b[0m \n\u001b[0;32m   (...)\u001b[0m\n\u001b[1;32m   1126\u001b[0m \n\u001b[1;32m   1127\u001b[0m \u001b[38;5;124;03m    \"\"\"\u001b[39;00m\n\u001b[1;32m   1128\u001b[0m     \u001b[38;5;28;01mreturn\u001b[39;00m (dst, src, where)\n\u001b[0;32m-> 1131\u001b[0m \u001b[38;5;129m@array_function_from_c_func_and_dispatcher\u001b[39m(_multiarray_umath\u001b[38;5;241m.\u001b[39mputmask)\n\u001b[1;32m   1132\u001b[0m \u001b[38;5;28;01mdef\u001b[39;00m \u001b[38;5;21mputmask\u001b[39m(a, \u001b[38;5;241m/\u001b[39m, mask, values):\n\u001b[1;32m   1133\u001b[0m \u001b[38;5;250m    \u001b[39m\u001b[38;5;124;03m\"\"\"\u001b[39;00m\n\u001b[1;32m   1134\u001b[0m \u001b[38;5;124;03m    putmask(a, mask, values)\u001b[39;00m\n\u001b[1;32m   1135\u001b[0m \n\u001b[0;32m   (...)\u001b[0m\n\u001b[1;32m   1171\u001b[0m \n\u001b[1;32m   1172\u001b[0m \u001b[38;5;124;03m    \"\"\"\u001b[39;00m\n\u001b[1;32m   1173\u001b[0m     \u001b[38;5;28;01mreturn\u001b[39;00m (a, mask, values)\n",
      "\u001b[0;31mKeyboardInterrupt\u001b[0m: "
     ]
    }
   ],
   "source": [
    "bp_df = pd.read_csv('s3://velia-data-dev/VDC_004_annotation/big_prot/v0.8.1_minlen_15_maxlen_150/orfset_v0.8.1_minlen_15_maxlen_150_orfs.csv.gz')"
   ]
  },
  {
   "cell_type": "code",
   "execution_count": null,
   "id": "c7d68761-834a-4dea-9cd1-3124e521bd35",
   "metadata": {
    "tags": []
   },
   "outputs": [],
   "source": [
    "bp_df_ids = set(bp_df[\"orf.orf_idx_str\"])"
   ]
  },
  {
   "cell_type": "code",
   "execution_count": null,
   "id": "2f1fe6cb-feab-4847-b3bf-ef2ffc717e6a",
   "metadata": {
    "tags": []
   },
   "outputs": [],
   "source": [
    "metaorfs[\"bigprot_id\"] = metaorfs.apply(lambda x: metaorf_call_to_veliadb_hash_string(x, ucsc_style2assembly_id, bp_df_ids), axis=1)"
   ]
  },
  {
   "cell_type": "code",
   "execution_count": null,
   "id": "f8c6b8d2-1075-4d1b-9514-4e438494cd2e",
   "metadata": {
    "tags": []
   },
   "outputs": [],
   "source": [
    "metaorfs[\"bigprot_id\"] == \"\""
   ]
  },
  {
   "cell_type": "code",
   "execution_count": null,
   "id": "1c31f9fc-2830-42e4-b36a-b6faa543a958",
   "metadata": {
    "tags": []
   },
   "outputs": [],
   "source": [
    "metaorfs.index[0]"
   ]
  },
  {
   "cell_type": "code",
   "execution_count": null,
   "id": "fd6c2897-4e77-47cc-8b59-40eca44395a3",
   "metadata": {
    "tags": []
   },
   "outputs": [],
   "source": [
    "metaorfs"
   ]
  },
  {
   "cell_type": "code",
   "execution_count": null,
   "id": "7f33a95a-e758-4a6e-9273-c06038fb9342",
   "metadata": {
    "tags": []
   },
   "outputs": [],
   "source": [
    "bp_df = pd.read_csv('s3://velia-data-dev/VDC_004_annotation/big_prot/v0.8.1_minlen_15_maxlen_150/orfset_v0.8.1_minlen_15_maxlen_150_orfs.csv.gz')"
   ]
  },
  {
   "cell_type": "code",
   "execution_count": null,
   "id": "ea314586-ba6a-4903-a7a3-f3d39d25294d",
   "metadata": {
    "tags": []
   },
   "outputs": [],
   "source": [
    "bp_df = bp_df.set_index(\"orf.orf_idx_str\")"
   ]
  },
  {
   "cell_type": "code",
   "execution_count": null,
   "id": "6ad38e91-02bb-494b-8884-07c3552f3d2f",
   "metadata": {
    "tags": []
   },
   "outputs": [],
   "source": [
    "bp_df"
   ]
  },
  {
   "cell_type": "code",
   "execution_count": null,
   "id": "d4d472c3-0a4c-46db-a4d7-8eec46068192",
   "metadata": {
    "tags": []
   },
   "outputs": [],
   "source": [
    "count = 0\n",
    "for i in range(len(metaorfs.index)):\n",
    "    if (metaorfs.index[i] not in bp_df.index\n",
    "        and metaorfs.iloc[i][\"orf_sequence\"][:3] in [\"ATG\", \"CTG\", \"GTG\", \"TTG\"]\n",
    "        and len(metaorfs.iloc[i][\"orf_sequence\"]) >= 15\n",
    "        and len(metaorfs.iloc[i][\"orf_sequence\"]) <= 150):\n",
    "        if \"+\" in metaorfs.index[i]:\n",
    "            count += 1\n",
    "            #if count < 10 and \"-\" in metaorfs.index[i]:\n",
    "        print(i, metaorfs.index[i], metaorfs.iloc[i][\"orf_sequence\"][:3])\n",
    "        break\n",
    "print(count)"
   ]
  },
  {
   "cell_type": "code",
   "execution_count": null,
   "id": "93cddd48-c35f-4d4e-b72e-2695cbed5948",
   "metadata": {
    "tags": []
   },
   "outputs": [],
   "source": [
    "metaorfs.index"
   ]
  },
  {
   "cell_type": "code",
   "execution_count": null,
   "id": "3ec4d9b8-ec91-48ac-a7a7-6ea583dcb04e",
   "metadata": {
    "tags": []
   },
   "outputs": [],
   "source": [
    "len(metaorfs.index)"
   ]
  },
  {
   "cell_type": "code",
   "execution_count": null,
   "id": "702edbec-f856-4768-8c4c-aa8a6b99d509",
   "metadata": {
    "tags": []
   },
   "outputs": [],
   "source": [
    "for row in bp_df.index:\n",
    "    if row.startswith(\"1_120952639\"):\n",
    "        print(row)"
   ]
  },
  {
   "cell_type": "code",
   "execution_count": null,
   "id": "3dbd1d14-2250-4991-82b4-e518b8dcbea2",
   "metadata": {
    "tags": []
   },
   "outputs": [],
   "source": [
    "metaorfs.index[0]"
   ]
  },
  {
   "cell_type": "code",
   "execution_count": null,
   "id": "1b42d969-623f-4a49-bd46-e101c5beb83f",
   "metadata": {
    "tags": []
   },
   "outputs": [],
   "source": [
    "metaorfs.loc[\"1_120952639_120952677_+_120952639_39\"]"
   ]
  },
  {
   "cell_type": "code",
   "execution_count": null,
   "id": "2fc0cf7c-1360-475b-9f9e-d2fdf4827dee",
   "metadata": {
    "tags": []
   },
   "outputs": [],
   "source": [
    "bp_df.loc[metaorfs.index[1]]"
   ]
  }
 ],
 "metadata": {
  "kernelspec": {
   "display_name": "Python 3 (ipykernel)",
   "language": "python",
   "name": "python3"
  },
  "language_info": {
   "codemirror_mode": {
    "name": "ipython",
    "version": 3
   },
   "file_extension": ".py",
   "mimetype": "text/x-python",
   "name": "python",
   "nbconvert_exporter": "python",
   "pygments_lexer": "ipython3",
   "version": "3.10.12"
  }
 },
 "nbformat": 4,
 "nbformat_minor": 5
}
