{
 "cells": [
  {
   "cell_type": "markdown",
   "id": "4b44690a-b478-4a92-a9bd-9c504c4555a4",
   "metadata": {},
   "source": [
    "This script merges ORF candidates from all experiments into one table in the CSV format.\n",
    "The resulting table will be stored as {local_folder}/merged_orfs_found_by_any_caller.csv\n",
    "This is the first step of the ORF score prediction and only need to be executed once when you update the experiment list."
   ]
  },
  {
   "cell_type": "code",
   "execution_count": 1,
   "id": "014d24d6-5fd0-40b2-b7e7-50fc7f708cd8",
   "metadata": {},
   "outputs": [],
   "source": [
    "import pandas as pd\n",
    "import os"
   ]
  },
  {
   "cell_type": "code",
   "execution_count": 2,
   "id": "9db329a9-ede6-4456-9f12-59500f0c5ebd",
   "metadata": {},
   "outputs": [],
   "source": [
    "def download_feature_set(experiment_name, local_path):\n",
    "    orf_path = f\"s3://velia-piperuns-dev/{experiment_name}/output/{experiment_name}_found_by_any_caller.csv\"\n",
    "    local_path = f\"{local_folder}/{experiment_name}_found_by_any_caller.csv\"\n",
    "    cmd = f\"aws s3 cp {orf_path} {local_path}\"\n",
    "    print(cmd)\n",
    "    os.system(cmd)\n",
    "    return local_path\n",
    "\n",
    "def load_orfs(experiment_name, local_folder, merged_orfs_info, orf_callers):\n",
    "    data_path = download_feature_set(experiment_name, local_folder)\n",
    "    if not os.path.exists(data_path):\n",
    "        return 0\n",
    "    \n",
    "    orfs_info = {}\n",
    "    for index, row in pd.read_csv(data_path, sep='\\t').iterrows():\n",
    "        orf_key = (row[\"chrom_id\"], row[\"orf_start\"], row[\"orf_end\"], row[\"strand\"], row[\"exon_blocks\"])\n",
    "        if orf_key not in merged_orfs_info:\n",
    "            merged_orfs_info[orf_key] = row\n",
    "            merged_orfs_info[orf_key] = pd.concat([merged_orfs_info[orf_key],\n",
    "                                                   pd.Series({\"#called\": 1,\n",
    "                                                              \"cell_types\": experiment_name})])\n",
    "        else:\n",
    "            merged_orfs_info[orf_key][\"#called\"] += 1\n",
    "            merged_orfs_info[orf_key][\"cell_types\"] += (\",\" + experiment_name)\n",
    "            for orf_caller in orf_callers:\n",
    "                if (type(row[f\"orf_score_{orf_caller}\"]) == type(\"\")\n",
    "                    and (not row[f\"orf_score_{orf_caller}\"].strip())):\n",
    "                    continue\n",
    "                else:\n",
    "                    if ((type(merged_orfs_info[orf_key][f\"orf_score_{orf_caller}\"]) == type(\"\") and\n",
    "                         (not merged_orfs_info[orf_key][f\"orf_score_{orf_caller}\"].strip()))\n",
    "                        or (merged_orfs_info[orf_key][f\"orf_score_{orf_caller}\"] is None)\n",
    "                        or (float(merged_orfs_info[orf_key][f\"orf_score_{orf_caller}\"]) <= float(row[f\"orf_score_{orf_caller}\"]))):\n",
    "                        merged_orfs_info[orf_key][f\"orf_score_{orf_caller}\"] = row[f\"orf_score_{orf_caller}\"]\n",
    "                        merged_orfs_info[orf_key][f\"ORF_type_{orf_caller}\"] = row[f\"ORF_type_{orf_caller}\"]\n",
    "                        merged_orfs_info[orf_key][f\"gene_id_{orf_caller}\"] = row[f\"gene_id_{orf_caller}\"]\n",
    "                        merged_orfs_info[orf_key][f\"transcript_id_{orf_caller}\"] = row[f\"transcript_id_{orf_caller}\"]    \n",
    "    os.remove(data_path)\n",
    "    return 1\n",
    "\n",
    "def merge_orf_info_across_experiments(orfs_info_list, orf_callers):\n",
    "    merged_orfs_info = {}\n",
    "    for orfs_info in orfs_info_list:\n",
    "        for orf_key, orf in orfs_info.items():\n",
    "            if orf_key not in merged_orfs_info:\n",
    "                merged_orfs_info[orf_key] = orf\n",
    "            else:\n",
    "                for orf_caller in orf_callers:\n",
    "                    if (type(orf[f\"orf_score_{orf_caller}\"]) == type(\"\")\n",
    "                        and (not orf[f\"orf_score_{orf_caller}\"].strip())):\n",
    "                        continue\n",
    "                    else:\n",
    "                        if ((type(merged_orfs_info[orf_key][f\"orf_score_{orf_caller}\"]) == type(\"\") and\n",
    "                            not merged_orfs_info[orf_key][f\"orf_score_{orf_caller}\"].strip())\n",
    "                            or (merged_orfs_info[orf_key][f\"orf_score_{orf_caller}\"] is None)\n",
    "                            or (float(merged_orfs_info[orf_key][f\"orf_score_{orf_caller}\"]) <= float(orf[f\"orf_score_{orf_caller}\"]))):\n",
    "                            merged_orfs_info[orf_key][f\"orf_score_{orf_caller}\"] = orf[f\"orf_score_{orf_caller}\"]\n",
    "                            merged_orfs_info[orf_key][f\"ORF_type_{orf_caller}\"] = orf[f\"ORF_type_{orf_caller}\"]\n",
    "                            merged_orfs_info[orf_key][f\"gene_id_{orf_caller}\"] = orf[f\"gene_id_{orf_caller}\"]\n",
    "                            merged_orfs_info[orf_key][f\"transcript_id_{orf_caller}\"] = orf[f\"transcript_id_{orf_caller}\"]\n",
    "    return merged_orfs_info"
   ]
  },
  {
   "cell_type": "code",
   "execution_count": null,
   "id": "6869035c-ce29-4fb3-843c-8be4bccb51b6",
   "metadata": {
    "tags": []
   },
   "outputs": [
    {
     "name": "stdout",
     "output_type": "stream",
     "text": [
      "aws s3 cp s3://velia-piperuns-dev/VPR_orfcalling_20240307222145_MB1_1A/output/VPR_orfcalling_20240307222145_MB1_1A_found_by_any_caller.csv ./data/VPR_orfcalling_20240307222145_MB1_1A_found_by_any_caller.csv\n",
      "download: s3://velia-piperuns-dev/VPR_orfcalling_20240307222145_MB1_1A/output/VPR_orfcalling_20240307222145_MB1_1A_found_by_any_caller.csv to data/VPR_orfcalling_20240307222145_MB1_1A_found_by_any_caller.csv\n",
      "aws s3 cp s3://velia-piperuns-dev/VPR_orfcalling_20240307222145_MB1_1B/output/VPR_orfcalling_20240307222145_MB1_1B_found_by_any_caller.csv ./data/VPR_orfcalling_20240307222145_MB1_1B_found_by_any_caller.csv\n",
      "download: s3://velia-piperuns-dev/VPR_orfcalling_20240307222145_MB1_1B/output/VPR_orfcalling_20240307222145_MB1_1B_found_by_any_caller.csv to data/VPR_orfcalling_20240307222145_MB1_1B_found_by_any_caller.csv\n"
     ]
    },
    {
     "name": "stderr",
     "output_type": "stream",
     "text": [
      "/tmp/ipykernel_1823159/3789791599.py:15: DtypeWarning: Columns (14) have mixed types. Specify dtype option on import or set low_memory=False.\n",
      "  for index, row in pd.read_csv(data_path, sep='\\t').iterrows():\n"
     ]
    },
    {
     "name": "stdout",
     "output_type": "stream",
     "text": [
      "aws s3 cp s3://velia-piperuns-dev/VPR_orfcalling_20240307222145_MB1_2A/output/VPR_orfcalling_20240307222145_MB1_2A_found_by_any_caller.csv ./data/VPR_orfcalling_20240307222145_MB1_2A_found_by_any_caller.csv\n",
      "download: s3://velia-piperuns-dev/VPR_orfcalling_20240307222145_MB1_2A/output/VPR_orfcalling_20240307222145_MB1_2A_found_by_any_caller.csv to data/VPR_orfcalling_20240307222145_MB1_2A_found_by_any_caller.csv\n"
     ]
    },
    {
     "name": "stderr",
     "output_type": "stream",
     "text": [
      "/tmp/ipykernel_1823159/3789791599.py:15: DtypeWarning: Columns (14) have mixed types. Specify dtype option on import or set low_memory=False.\n",
      "  for index, row in pd.read_csv(data_path, sep='\\t').iterrows():\n"
     ]
    },
    {
     "name": "stdout",
     "output_type": "stream",
     "text": [
      "aws s3 cp s3://velia-piperuns-dev/VPR_orfcalling_20240307222145_MB1_2B/output/VPR_orfcalling_20240307222145_MB1_2B_found_by_any_caller.csv ./data/VPR_orfcalling_20240307222145_MB1_2B_found_by_any_caller.csv\n",
      "download: s3://velia-piperuns-dev/VPR_orfcalling_20240307222145_MB1_2B/output/VPR_orfcalling_20240307222145_MB1_2B_found_by_any_caller.csv to data/VPR_orfcalling_20240307222145_MB1_2B_found_by_any_caller.csv\n"
     ]
    },
    {
     "name": "stderr",
     "output_type": "stream",
     "text": [
      "/tmp/ipykernel_1823159/3789791599.py:15: DtypeWarning: Columns (14) have mixed types. Specify dtype option on import or set low_memory=False.\n",
      "  for index, row in pd.read_csv(data_path, sep='\\t').iterrows():\n"
     ]
    },
    {
     "name": "stdout",
     "output_type": "stream",
     "text": [
      "aws s3 cp s3://velia-piperuns-dev/VPR_orfcalling_20240307222145_YL12_M0_a/output/VPR_orfcalling_20240307222145_YL12_M0_a_found_by_any_caller.csv ./data/VPR_orfcalling_20240307222145_YL12_M0_a_found_by_any_caller.csv\n",
      "download: s3://velia-piperuns-dev/VPR_orfcalling_20240307222145_YL12_M0_a/output/VPR_orfcalling_20240307222145_YL12_M0_a_found_by_any_caller.csv to data/VPR_orfcalling_20240307222145_YL12_M0_a_found_by_any_caller.csv\n",
      "aws s3 cp s3://velia-piperuns-dev/VPR_orfcalling_20240307222145_YL12_M0_b/output/VPR_orfcalling_20240307222145_YL12_M0_b_found_by_any_caller.csv ./data/VPR_orfcalling_20240307222145_YL12_M0_b_found_by_any_caller.csv\n",
      "download: s3://velia-piperuns-dev/VPR_orfcalling_20240307222145_YL12_M0_b/output/VPR_orfcalling_20240307222145_YL12_M0_b_found_by_any_caller.csv to data/VPR_orfcalling_20240307222145_YL12_M0_b_found_by_any_caller.csv\n"
     ]
    },
    {
     "name": "stderr",
     "output_type": "stream",
     "text": [
      "/tmp/ipykernel_1823159/3789791599.py:15: DtypeWarning: Columns (14) have mixed types. Specify dtype option on import or set low_memory=False.\n",
      "  for index, row in pd.read_csv(data_path, sep='\\t').iterrows():\n"
     ]
    },
    {
     "name": "stdout",
     "output_type": "stream",
     "text": [
      "aws s3 cp s3://velia-piperuns-dev/VPR_orfcalling_20240307222145_YL12_M1_a/output/VPR_orfcalling_20240307222145_YL12_M1_a_found_by_any_caller.csv ./data/VPR_orfcalling_20240307222145_YL12_M1_a_found_by_any_caller.csv\n"
     ]
    },
    {
     "name": "stderr",
     "output_type": "stream",
     "text": [
      "fatal error: An error occurred (404) when calling the HeadObject operation: Key \"VPR_orfcalling_20240307222145_YL12_M1_a/output/VPR_orfcalling_20240307222145_YL12_M1_a_found_by_any_caller.csv\" does not exist\n"
     ]
    },
    {
     "name": "stdout",
     "output_type": "stream",
     "text": [
      "aws s3 cp s3://velia-piperuns-dev/VPR_orfcalling_20240307222145_YL12_M2_a/output/VPR_orfcalling_20240307222145_YL12_M2_a_found_by_any_caller.csv ./data/VPR_orfcalling_20240307222145_YL12_M2_a_found_by_any_caller.csv\n",
      "download: s3://velia-piperuns-dev/VPR_orfcalling_20240307222145_YL12_M2_a/output/VPR_orfcalling_20240307222145_YL12_M2_a_found_by_any_caller.csv to data/VPR_orfcalling_20240307222145_YL12_M2_a_found_by_any_caller.csv\n"
     ]
    },
    {
     "name": "stderr",
     "output_type": "stream",
     "text": [
      "/tmp/ipykernel_1823159/3789791599.py:15: DtypeWarning: Columns (14) have mixed types. Specify dtype option on import or set low_memory=False.\n",
      "  for index, row in pd.read_csv(data_path, sep='\\t').iterrows():\n"
     ]
    },
    {
     "name": "stdout",
     "output_type": "stream",
     "text": [
      "aws s3 cp s3://velia-piperuns-dev/VPR_orfcalling_20240307222145_YL12_M2_b/output/VPR_orfcalling_20240307222145_YL12_M2_b_found_by_any_caller.csv ./data/VPR_orfcalling_20240307222145_YL12_M2_b_found_by_any_caller.csv\n",
      "download: s3://velia-piperuns-dev/VPR_orfcalling_20240307222145_YL12_M2_b/output/VPR_orfcalling_20240307222145_YL12_M2_b_found_by_any_caller.csv to data/VPR_orfcalling_20240307222145_YL12_M2_b_found_by_any_caller.csv\n",
      "aws s3 cp s3://velia-piperuns-dev/VPR_orfcalling_20240307222145_YL12_M2_c/output/VPR_orfcalling_20240307222145_YL12_M2_c_found_by_any_caller.csv ./data/VPR_orfcalling_20240307222145_YL12_M2_c_found_by_any_caller.csv\n"
     ]
    },
    {
     "name": "stderr",
     "output_type": "stream",
     "text": [
      "fatal error: An error occurred (404) when calling the HeadObject operation: Key \"VPR_orfcalling_20240307222145_YL12_M2_c/output/VPR_orfcalling_20240307222145_YL12_M2_c_found_by_any_caller.csv\" does not exist\n"
     ]
    },
    {
     "name": "stdout",
     "output_type": "stream",
     "text": [
      "aws s3 cp s3://velia-piperuns-dev/VPR_orfcalling_20240307222208_BL11_PBMCL1_0p5/output/VPR_orfcalling_20240307222208_BL11_PBMCL1_0p5_found_by_any_caller.csv ./data/VPR_orfcalling_20240307222208_BL11_PBMCL1_0p5_found_by_any_caller.csv\n",
      "download: s3://velia-piperuns-dev/VPR_orfcalling_20240307222208_BL11_PBMCL1_0p5/output/VPR_orfcalling_20240307222208_BL11_PBMCL1_0p5_found_by_any_caller.csv to data/VPR_orfcalling_20240307222208_BL11_PBMCL1_0p5_found_by_any_caller.csv\n"
     ]
    },
    {
     "name": "stderr",
     "output_type": "stream",
     "text": [
      "/tmp/ipykernel_1823159/3789791599.py:15: DtypeWarning: Columns (14) have mixed types. Specify dtype option on import or set low_memory=False.\n",
      "  for index, row in pd.read_csv(data_path, sep='\\t').iterrows():\n"
     ]
    },
    {
     "name": "stdout",
     "output_type": "stream",
     "text": [
      "aws s3 cp s3://velia-piperuns-dev/VPR_orfcalling_20240307222208_BL11_PBMCL1_2/output/VPR_orfcalling_20240307222208_BL11_PBMCL1_2_found_by_any_caller.csv ./data/VPR_orfcalling_20240307222208_BL11_PBMCL1_2_found_by_any_caller.csv\n",
      "download: s3://velia-piperuns-dev/VPR_orfcalling_20240307222208_BL11_PBMCL1_2/output/VPR_orfcalling_20240307222208_BL11_PBMCL1_2_found_by_any_caller.csv to data/VPR_orfcalling_20240307222208_BL11_PBMCL1_2_found_by_any_caller.csv\n"
     ]
    },
    {
     "name": "stderr",
     "output_type": "stream",
     "text": [
      "/tmp/ipykernel_1823159/3789791599.py:15: DtypeWarning: Columns (14) have mixed types. Specify dtype option on import or set low_memory=False.\n",
      "  for index, row in pd.read_csv(data_path, sep='\\t').iterrows():\n"
     ]
    },
    {
     "name": "stdout",
     "output_type": "stream",
     "text": [
      "aws s3 cp s3://velia-piperuns-dev/VPR_orfcalling_20240307222208_BL11_PBMCL2_0p5/output/VPR_orfcalling_20240307222208_BL11_PBMCL2_0p5_found_by_any_caller.csv ./data/VPR_orfcalling_20240307222208_BL11_PBMCL2_0p5_found_by_any_caller.csv\n",
      "download: s3://velia-piperuns-dev/VPR_orfcalling_20240307222208_BL11_PBMCL2_0p5/output/VPR_orfcalling_20240307222208_BL11_PBMCL2_0p5_found_by_any_caller.csv to data/VPR_orfcalling_20240307222208_BL11_PBMCL2_0p5_found_by_any_caller.csv\n"
     ]
    },
    {
     "name": "stderr",
     "output_type": "stream",
     "text": [
      "/tmp/ipykernel_1823159/3789791599.py:15: DtypeWarning: Columns (14) have mixed types. Specify dtype option on import or set low_memory=False.\n",
      "  for index, row in pd.read_csv(data_path, sep='\\t').iterrows():\n"
     ]
    },
    {
     "name": "stdout",
     "output_type": "stream",
     "text": [
      "aws s3 cp s3://velia-piperuns-dev/VPR_orfcalling_20240307222208_BL11_PBMCL2_2/output/VPR_orfcalling_20240307222208_BL11_PBMCL2_2_found_by_any_caller.csv ./data/VPR_orfcalling_20240307222208_BL11_PBMCL2_2_found_by_any_caller.csv\n",
      "download: s3://velia-piperuns-dev/VPR_orfcalling_20240307222208_BL11_PBMCL2_2/output/VPR_orfcalling_20240307222208_BL11_PBMCL2_2_found_by_any_caller.csv to data/VPR_orfcalling_20240307222208_BL11_PBMCL2_2_found_by_any_caller.csv\n"
     ]
    },
    {
     "name": "stderr",
     "output_type": "stream",
     "text": [
      "/tmp/ipykernel_1823159/3789791599.py:15: DtypeWarning: Columns (14) have mixed types. Specify dtype option on import or set low_memory=False.\n",
      "  for index, row in pd.read_csv(data_path, sep='\\t').iterrows():\n"
     ]
    },
    {
     "name": "stdout",
     "output_type": "stream",
     "text": [
      "aws s3 cp s3://velia-piperuns-dev/VPR_orfcalling_20240307222208_BL11_PBMCU1_0p5/output/VPR_orfcalling_20240307222208_BL11_PBMCU1_0p5_found_by_any_caller.csv ./data/VPR_orfcalling_20240307222208_BL11_PBMCU1_0p5_found_by_any_caller.csv\n",
      "download: s3://velia-piperuns-dev/VPR_orfcalling_20240307222208_BL11_PBMCU1_0p5/output/VPR_orfcalling_20240307222208_BL11_PBMCU1_0p5_found_by_any_caller.csv to data/VPR_orfcalling_20240307222208_BL11_PBMCU1_0p5_found_by_any_caller.csv\n"
     ]
    },
    {
     "name": "stderr",
     "output_type": "stream",
     "text": [
      "/tmp/ipykernel_1823159/3789791599.py:15: DtypeWarning: Columns (14) have mixed types. Specify dtype option on import or set low_memory=False.\n",
      "  for index, row in pd.read_csv(data_path, sep='\\t').iterrows():\n"
     ]
    },
    {
     "name": "stdout",
     "output_type": "stream",
     "text": [
      "aws s3 cp s3://velia-piperuns-dev/VPR_orfcalling_20240307222208_BL11_PBMCU1_2/output/VPR_orfcalling_20240307222208_BL11_PBMCU1_2_found_by_any_caller.csv ./data/VPR_orfcalling_20240307222208_BL11_PBMCU1_2_found_by_any_caller.csv\n",
      "download: s3://velia-piperuns-dev/VPR_orfcalling_20240307222208_BL11_PBMCU1_2/output/VPR_orfcalling_20240307222208_BL11_PBMCU1_2_found_by_any_caller.csv to data/VPR_orfcalling_20240307222208_BL11_PBMCU1_2_found_by_any_caller.csv\n"
     ]
    },
    {
     "name": "stderr",
     "output_type": "stream",
     "text": [
      "/tmp/ipykernel_1823159/3789791599.py:15: DtypeWarning: Columns (14) have mixed types. Specify dtype option on import or set low_memory=False.\n",
      "  for index, row in pd.read_csv(data_path, sep='\\t').iterrows():\n"
     ]
    },
    {
     "name": "stdout",
     "output_type": "stream",
     "text": [
      "aws s3 cp s3://velia-piperuns-dev/VPR_orfcalling_20240307222208_BL11_PBMCU2_0p5/output/VPR_orfcalling_20240307222208_BL11_PBMCU2_0p5_found_by_any_caller.csv ./data/VPR_orfcalling_20240307222208_BL11_PBMCU2_0p5_found_by_any_caller.csv\n",
      "download: s3://velia-piperuns-dev/VPR_orfcalling_20240307222208_BL11_PBMCU2_0p5/output/VPR_orfcalling_20240307222208_BL11_PBMCU2_0p5_found_by_any_caller.csv to data/VPR_orfcalling_20240307222208_BL11_PBMCU2_0p5_found_by_any_caller.csv\n"
     ]
    },
    {
     "name": "stderr",
     "output_type": "stream",
     "text": [
      "/tmp/ipykernel_1823159/3789791599.py:15: DtypeWarning: Columns (14) have mixed types. Specify dtype option on import or set low_memory=False.\n",
      "  for index, row in pd.read_csv(data_path, sep='\\t').iterrows():\n"
     ]
    },
    {
     "name": "stdout",
     "output_type": "stream",
     "text": [
      "aws s3 cp s3://velia-piperuns-dev/VPR_orfcalling_20240307222208_BL11_PBMCU2_2/output/VPR_orfcalling_20240307222208_BL11_PBMCU2_2_found_by_any_caller.csv ./data/VPR_orfcalling_20240307222208_BL11_PBMCU2_2_found_by_any_caller.csv\n",
      "download: s3://velia-piperuns-dev/VPR_orfcalling_20240307222208_BL11_PBMCU2_2/output/VPR_orfcalling_20240307222208_BL11_PBMCU2_2_found_by_any_caller.csv to data/VPR_orfcalling_20240307222208_BL11_PBMCU2_2_found_by_any_caller.csv\n"
     ]
    },
    {
     "name": "stderr",
     "output_type": "stream",
     "text": [
      "/tmp/ipykernel_1823159/3789791599.py:15: DtypeWarning: Columns (14) have mixed types. Specify dtype option on import or set low_memory=False.\n",
      "  for index, row in pd.read_csv(data_path, sep='\\t').iterrows():\n"
     ]
    },
    {
     "name": "stdout",
     "output_type": "stream",
     "text": [
      "aws s3 cp s3://velia-piperuns-dev/VPR_orfcalling_20240307222208_YL4_L1/output/VPR_orfcalling_20240307222208_YL4_L1_found_by_any_caller.csv ./data/VPR_orfcalling_20240307222208_YL4_L1_found_by_any_caller.csv\n",
      "download: s3://velia-piperuns-dev/VPR_orfcalling_20240307222208_YL4_L1/output/VPR_orfcalling_20240307222208_YL4_L1_found_by_any_caller.csv to data/VPR_orfcalling_20240307222208_YL4_L1_found_by_any_caller.csv\n",
      "aws s3 cp s3://velia-piperuns-dev/VPR_orfcalling_20240307222208_YL4_L2/output/VPR_orfcalling_20240307222208_YL4_L2_found_by_any_caller.csv ./data/VPR_orfcalling_20240307222208_YL4_L2_found_by_any_caller.csv\n",
      "download: s3://velia-piperuns-dev/VPR_orfcalling_20240307222208_YL4_L2/output/VPR_orfcalling_20240307222208_YL4_L2_found_by_any_caller.csv to data/VPR_orfcalling_20240307222208_YL4_L2_found_by_any_caller.csv\n",
      "aws s3 cp s3://velia-piperuns-dev/VPR_orfcalling_20240307222208_YL4_U1/output/VPR_orfcalling_20240307222208_YL4_U1_found_by_any_caller.csv ./data/VPR_orfcalling_20240307222208_YL4_U1_found_by_any_caller.csv\n",
      "download: s3://velia-piperuns-dev/VPR_orfcalling_20240307222208_YL4_U1/output/VPR_orfcalling_20240307222208_YL4_U1_found_by_any_caller.csv to data/VPR_orfcalling_20240307222208_YL4_U1_found_by_any_caller.csv\n",
      "aws s3 cp s3://velia-piperuns-dev/VPR_orfcalling_20240307222208_YL4_U2/output/VPR_orfcalling_20240307222208_YL4_U2_found_by_any_caller.csv ./data/VPR_orfcalling_20240307222208_YL4_U2_found_by_any_caller.csv\n",
      "download: s3://velia-piperuns-dev/VPR_orfcalling_20240307222208_YL4_U2/output/VPR_orfcalling_20240307222208_YL4_U2_found_by_any_caller.csv to data/VPR_orfcalling_20240307222208_YL4_U2_found_by_any_caller.csv\n",
      "aws s3 cp s3://velia-piperuns-dev/VPR_orfcalling_20240307222208_YL5_R1_01/output/VPR_orfcalling_20240307222208_YL5_R1_01_found_by_any_caller.csv ./data/VPR_orfcalling_20240307222208_YL5_R1_01_found_by_any_caller.csv\n",
      "download: s3://velia-piperuns-dev/VPR_orfcalling_20240307222208_YL5_R1_01/output/VPR_orfcalling_20240307222208_YL5_R1_01_found_by_any_caller.csv to data/VPR_orfcalling_20240307222208_YL5_R1_01_found_by_any_caller.csv\n"
     ]
    },
    {
     "name": "stderr",
     "output_type": "stream",
     "text": [
      "/tmp/ipykernel_1823159/3789791599.py:15: DtypeWarning: Columns (14) have mixed types. Specify dtype option on import or set low_memory=False.\n",
      "  for index, row in pd.read_csv(data_path, sep='\\t').iterrows():\n"
     ]
    },
    {
     "name": "stdout",
     "output_type": "stream",
     "text": [
      "aws s3 cp s3://velia-piperuns-dev/VPR_orfcalling_20240307222208_YL5_R1_04/output/VPR_orfcalling_20240307222208_YL5_R1_04_found_by_any_caller.csv ./data/VPR_orfcalling_20240307222208_YL5_R1_04_found_by_any_caller.csv\n",
      "download: s3://velia-piperuns-dev/VPR_orfcalling_20240307222208_YL5_R1_04/output/VPR_orfcalling_20240307222208_YL5_R1_04_found_by_any_caller.csv to data/VPR_orfcalling_20240307222208_YL5_R1_04_found_by_any_caller.csv\n",
      "aws s3 cp s3://velia-piperuns-dev/VPR_orfcalling_20240307222208_YL5_R1_21/output/VPR_orfcalling_20240307222208_YL5_R1_21_found_by_any_caller.csv ./data/VPR_orfcalling_20240307222208_YL5_R1_21_found_by_any_caller.csv\n",
      "download: s3://velia-piperuns-dev/VPR_orfcalling_20240307222208_YL5_R1_21/output/VPR_orfcalling_20240307222208_YL5_R1_21_found_by_any_caller.csv to data/VPR_orfcalling_20240307222208_YL5_R1_21_found_by_any_caller.csv\n"
     ]
    },
    {
     "name": "stderr",
     "output_type": "stream",
     "text": [
      "/tmp/ipykernel_1823159/3789791599.py:15: DtypeWarning: Columns (14) have mixed types. Specify dtype option on import or set low_memory=False.\n",
      "  for index, row in pd.read_csv(data_path, sep='\\t').iterrows():\n"
     ]
    },
    {
     "name": "stdout",
     "output_type": "stream",
     "text": [
      "aws s3 cp s3://velia-piperuns-dev/VPR_orfcalling_20240307222208_YL5_R2_01/output/VPR_orfcalling_20240307222208_YL5_R2_01_found_by_any_caller.csv ./data/VPR_orfcalling_20240307222208_YL5_R2_01_found_by_any_caller.csv\n",
      "download: s3://velia-piperuns-dev/VPR_orfcalling_20240307222208_YL5_R2_01/output/VPR_orfcalling_20240307222208_YL5_R2_01_found_by_any_caller.csv to data/VPR_orfcalling_20240307222208_YL5_R2_01_found_by_any_caller.csv\n"
     ]
    },
    {
     "name": "stderr",
     "output_type": "stream",
     "text": [
      "/tmp/ipykernel_1823159/3789791599.py:15: DtypeWarning: Columns (14) have mixed types. Specify dtype option on import or set low_memory=False.\n",
      "  for index, row in pd.read_csv(data_path, sep='\\t').iterrows():\n"
     ]
    },
    {
     "name": "stdout",
     "output_type": "stream",
     "text": [
      "aws s3 cp s3://velia-piperuns-dev/VPR_orfcalling_20240307222208_YL5_R2_04/output/VPR_orfcalling_20240307222208_YL5_R2_04_found_by_any_caller.csv ./data/VPR_orfcalling_20240307222208_YL5_R2_04_found_by_any_caller.csv\n",
      "download: s3://velia-piperuns-dev/VPR_orfcalling_20240307222208_YL5_R2_04/output/VPR_orfcalling_20240307222208_YL5_R2_04_found_by_any_caller.csv to data/VPR_orfcalling_20240307222208_YL5_R2_04_found_by_any_caller.csv\n",
      "aws s3 cp s3://velia-piperuns-dev/VPR_orfcalling_20240307222208_YL5_R2_21/output/VPR_orfcalling_20240307222208_YL5_R2_21_found_by_any_caller.csv ./data/VPR_orfcalling_20240307222208_YL5_R2_21_found_by_any_caller.csv\n",
      "download: s3://velia-piperuns-dev/VPR_orfcalling_20240307222208_YL5_R2_21/output/VPR_orfcalling_20240307222208_YL5_R2_21_found_by_any_caller.csv to data/VPR_orfcalling_20240307222208_YL5_R2_21_found_by_any_caller.csv\n"
     ]
    },
    {
     "name": "stderr",
     "output_type": "stream",
     "text": [
      "/tmp/ipykernel_1823159/3789791599.py:15: DtypeWarning: Columns (14) have mixed types. Specify dtype option on import or set low_memory=False.\n",
      "  for index, row in pd.read_csv(data_path, sep='\\t').iterrows():\n"
     ]
    },
    {
     "name": "stdout",
     "output_type": "stream",
     "text": [
      "aws s3 cp s3://velia-piperuns-dev/VPR_orfcalling_20240307222208_YL5_U1_04/output/VPR_orfcalling_20240307222208_YL5_U1_04_found_by_any_caller.csv ./data/VPR_orfcalling_20240307222208_YL5_U1_04_found_by_any_caller.csv\n",
      "download: s3://velia-piperuns-dev/VPR_orfcalling_20240307222208_YL5_U1_04/output/VPR_orfcalling_20240307222208_YL5_U1_04_found_by_any_caller.csv to data/VPR_orfcalling_20240307222208_YL5_U1_04_found_by_any_caller.csv\n"
     ]
    },
    {
     "name": "stderr",
     "output_type": "stream",
     "text": [
      "/tmp/ipykernel_1823159/3789791599.py:15: DtypeWarning: Columns (14) have mixed types. Specify dtype option on import or set low_memory=False.\n",
      "  for index, row in pd.read_csv(data_path, sep='\\t').iterrows():\n"
     ]
    },
    {
     "name": "stdout",
     "output_type": "stream",
     "text": [
      "aws s3 cp s3://velia-piperuns-dev/VPR_orfcalling_20240307222208_YL5_U1_1/output/VPR_orfcalling_20240307222208_YL5_U1_1_found_by_any_caller.csv ./data/VPR_orfcalling_20240307222208_YL5_U1_1_found_by_any_caller.csv\n",
      "download: s3://velia-piperuns-dev/VPR_orfcalling_20240307222208_YL5_U1_1/output/VPR_orfcalling_20240307222208_YL5_U1_1_found_by_any_caller.csv to data/VPR_orfcalling_20240307222208_YL5_U1_1_found_by_any_caller.csv\n",
      "aws s3 cp s3://velia-piperuns-dev/VPR_orfcalling_20240307222208_YL5_U1_21/output/VPR_orfcalling_20240307222208_YL5_U1_21_found_by_any_caller.csv ./data/VPR_orfcalling_20240307222208_YL5_U1_21_found_by_any_caller.csv\n",
      "download: s3://velia-piperuns-dev/VPR_orfcalling_20240307222208_YL5_U1_21/output/VPR_orfcalling_20240307222208_YL5_U1_21_found_by_any_caller.csv to data/VPR_orfcalling_20240307222208_YL5_U1_21_found_by_any_caller.csv\n"
     ]
    },
    {
     "name": "stderr",
     "output_type": "stream",
     "text": [
      "/tmp/ipykernel_1823159/3789791599.py:15: DtypeWarning: Columns (14) have mixed types. Specify dtype option on import or set low_memory=False.\n",
      "  for index, row in pd.read_csv(data_path, sep='\\t').iterrows():\n"
     ]
    },
    {
     "name": "stdout",
     "output_type": "stream",
     "text": [
      "aws s3 cp s3://velia-piperuns-dev/VPR_orfcalling_20240307222208_YL5_U2_04/output/VPR_orfcalling_20240307222208_YL5_U2_04_found_by_any_caller.csv ./data/VPR_orfcalling_20240307222208_YL5_U2_04_found_by_any_caller.csv\n",
      "download: s3://velia-piperuns-dev/VPR_orfcalling_20240307222208_YL5_U2_04/output/VPR_orfcalling_20240307222208_YL5_U2_04_found_by_any_caller.csv to data/VPR_orfcalling_20240307222208_YL5_U2_04_found_by_any_caller.csv\n"
     ]
    },
    {
     "name": "stderr",
     "output_type": "stream",
     "text": [
      "/tmp/ipykernel_1823159/3789791599.py:15: DtypeWarning: Columns (14) have mixed types. Specify dtype option on import or set low_memory=False.\n",
      "  for index, row in pd.read_csv(data_path, sep='\\t').iterrows():\n"
     ]
    },
    {
     "name": "stdout",
     "output_type": "stream",
     "text": [
      "aws s3 cp s3://velia-piperuns-dev/VPR_orfcalling_20240307222208_YL5_U2_1/output/VPR_orfcalling_20240307222208_YL5_U2_1_found_by_any_caller.csv ./data/VPR_orfcalling_20240307222208_YL5_U2_1_found_by_any_caller.csv\n",
      "download: s3://velia-piperuns-dev/VPR_orfcalling_20240307222208_YL5_U2_1/output/VPR_orfcalling_20240307222208_YL5_U2_1_found_by_any_caller.csv to data/VPR_orfcalling_20240307222208_YL5_U2_1_found_by_any_caller.csv\n",
      "aws s3 cp s3://velia-piperuns-dev/VPR_orfcalling_20240307222208_YL5_U2_21/output/VPR_orfcalling_20240307222208_YL5_U2_21_found_by_any_caller.csv ./data/VPR_orfcalling_20240307222208_YL5_U2_21_found_by_any_caller.csv\n",
      "download: s3://velia-piperuns-dev/VPR_orfcalling_20240307222208_YL5_U2_21/output/VPR_orfcalling_20240307222208_YL5_U2_21_found_by_any_caller.csv to data/VPR_orfcalling_20240307222208_YL5_U2_21_found_by_any_caller.csv\n",
      "aws s3 cp s3://velia-piperuns-dev/VPR_orfcalling_20240307222241_Caco-2_LM_rep1/output/VPR_orfcalling_20240307222241_Caco-2_LM_rep1_found_by_any_caller.csv ./data/VPR_orfcalling_20240307222241_Caco-2_LM_rep1_found_by_any_caller.csv\n",
      "download: s3://velia-piperuns-dev/VPR_orfcalling_20240307222241_Caco-2_LM_rep1/output/VPR_orfcalling_20240307222241_Caco-2_LM_rep1_found_by_any_caller.csv to data/VPR_orfcalling_20240307222241_Caco-2_LM_rep1_found_by_any_caller.csv\n"
     ]
    },
    {
     "name": "stderr",
     "output_type": "stream",
     "text": [
      "/tmp/ipykernel_1823159/3789791599.py:15: DtypeWarning: Columns (14) have mixed types. Specify dtype option on import or set low_memory=False.\n",
      "  for index, row in pd.read_csv(data_path, sep='\\t').iterrows():\n"
     ]
    },
    {
     "name": "stdout",
     "output_type": "stream",
     "text": [
      "aws s3 cp s3://velia-piperuns-dev/VPR_orfcalling_20240307222241_Caco-2_LM_rep2/output/VPR_orfcalling_20240307222241_Caco-2_LM_rep2_found_by_any_caller.csv ./data/VPR_orfcalling_20240307222241_Caco-2_LM_rep2_found_by_any_caller.csv\n",
      "download: s3://velia-piperuns-dev/VPR_orfcalling_20240307222241_Caco-2_LM_rep2/output/VPR_orfcalling_20240307222241_Caco-2_LM_rep2_found_by_any_caller.csv to data/VPR_orfcalling_20240307222241_Caco-2_LM_rep2_found_by_any_caller.csv\n"
     ]
    },
    {
     "name": "stderr",
     "output_type": "stream",
     "text": [
      "/tmp/ipykernel_1823159/3789791599.py:15: DtypeWarning: Columns (10,14) have mixed types. Specify dtype option on import or set low_memory=False.\n",
      "  for index, row in pd.read_csv(data_path, sep='\\t').iterrows():\n"
     ]
    },
    {
     "name": "stdout",
     "output_type": "stream",
     "text": [
      "aws s3 cp s3://velia-piperuns-dev/VPR_orfcalling_20240307222241_Caco-2_MWOLip_rep1/output/VPR_orfcalling_20240307222241_Caco-2_MWOLip_rep1_found_by_any_caller.csv ./data/VPR_orfcalling_20240307222241_Caco-2_MWOLip_rep1_found_by_any_caller.csv\n",
      "download: s3://velia-piperuns-dev/VPR_orfcalling_20240307222241_Caco-2_MWOLip_rep1/output/VPR_orfcalling_20240307222241_Caco-2_MWOLip_rep1_found_by_any_caller.csv to data/VPR_orfcalling_20240307222241_Caco-2_MWOLip_rep1_found_by_any_caller.csv\n"
     ]
    },
    {
     "name": "stderr",
     "output_type": "stream",
     "text": [
      "/tmp/ipykernel_1823159/3789791599.py:15: DtypeWarning: Columns (14) have mixed types. Specify dtype option on import or set low_memory=False.\n",
      "  for index, row in pd.read_csv(data_path, sep='\\t').iterrows():\n"
     ]
    },
    {
     "name": "stdout",
     "output_type": "stream",
     "text": [
      "aws s3 cp s3://velia-piperuns-dev/VPR_orfcalling_20240307222241_Caco-2_MWOLip_rep2/output/VPR_orfcalling_20240307222241_Caco-2_MWOLip_rep2_found_by_any_caller.csv ./data/VPR_orfcalling_20240307222241_Caco-2_MWOLip_rep2_found_by_any_caller.csv\n",
      "download: s3://velia-piperuns-dev/VPR_orfcalling_20240307222241_Caco-2_MWOLip_rep2/output/VPR_orfcalling_20240307222241_Caco-2_MWOLip_rep2_found_by_any_caller.csv to data/VPR_orfcalling_20240307222241_Caco-2_MWOLip_rep2_found_by_any_caller.csv\n"
     ]
    },
    {
     "name": "stderr",
     "output_type": "stream",
     "text": [
      "/tmp/ipykernel_1823159/3789791599.py:15: DtypeWarning: Columns (14) have mixed types. Specify dtype option on import or set low_memory=False.\n",
      "  for index, row in pd.read_csv(data_path, sep='\\t').iterrows():\n"
     ]
    },
    {
     "name": "stdout",
     "output_type": "stream",
     "text": [
      "aws s3 cp s3://velia-piperuns-dev/VPR_orfcalling_20240307222241_Caco-2_control_rep1/output/VPR_orfcalling_20240307222241_Caco-2_control_rep1_found_by_any_caller.csv ./data/VPR_orfcalling_20240307222241_Caco-2_control_rep1_found_by_any_caller.csv\n",
      "download: s3://velia-piperuns-dev/VPR_orfcalling_20240307222241_Caco-2_control_rep1/output/VPR_orfcalling_20240307222241_Caco-2_control_rep1_found_by_any_caller.csv to data/VPR_orfcalling_20240307222241_Caco-2_control_rep1_found_by_any_caller.csv\n"
     ]
    },
    {
     "name": "stderr",
     "output_type": "stream",
     "text": [
      "/tmp/ipykernel_1823159/3789791599.py:15: DtypeWarning: Columns (14) have mixed types. Specify dtype option on import or set low_memory=False.\n",
      "  for index, row in pd.read_csv(data_path, sep='\\t').iterrows():\n"
     ]
    },
    {
     "name": "stdout",
     "output_type": "stream",
     "text": [
      "aws s3 cp s3://velia-piperuns-dev/VPR_orfcalling_20240307222241_Caco-2_control_rep2/output/VPR_orfcalling_20240307222241_Caco-2_control_rep2_found_by_any_caller.csv ./data/VPR_orfcalling_20240307222241_Caco-2_control_rep2_found_by_any_caller.csv\n",
      "download: s3://velia-piperuns-dev/VPR_orfcalling_20240307222241_Caco-2_control_rep2/output/VPR_orfcalling_20240307222241_Caco-2_control_rep2_found_by_any_caller.csv to data/VPR_orfcalling_20240307222241_Caco-2_control_rep2_found_by_any_caller.csv\n"
     ]
    },
    {
     "name": "stderr",
     "output_type": "stream",
     "text": [
      "/tmp/ipykernel_1823159/3789791599.py:15: DtypeWarning: Columns (14) have mixed types. Specify dtype option on import or set low_memory=False.\n",
      "  for index, row in pd.read_csv(data_path, sep='\\t').iterrows():\n"
     ]
    },
    {
     "name": "stdout",
     "output_type": "stream",
     "text": [
      "aws s3 cp s3://velia-piperuns-dev/VPR_orfcalling_20240307222241_Caco-2_undiff_rep1/output/VPR_orfcalling_20240307222241_Caco-2_undiff_rep1_found_by_any_caller.csv ./data/VPR_orfcalling_20240307222241_Caco-2_undiff_rep1_found_by_any_caller.csv\n",
      "download: s3://velia-piperuns-dev/VPR_orfcalling_20240307222241_Caco-2_undiff_rep1/output/VPR_orfcalling_20240307222241_Caco-2_undiff_rep1_found_by_any_caller.csv to data/VPR_orfcalling_20240307222241_Caco-2_undiff_rep1_found_by_any_caller.csv\n"
     ]
    },
    {
     "name": "stderr",
     "output_type": "stream",
     "text": [
      "/tmp/ipykernel_1823159/3789791599.py:15: DtypeWarning: Columns (14) have mixed types. Specify dtype option on import or set low_memory=False.\n",
      "  for index, row in pd.read_csv(data_path, sep='\\t').iterrows():\n"
     ]
    },
    {
     "name": "stdout",
     "output_type": "stream",
     "text": [
      "aws s3 cp s3://velia-piperuns-dev/VPR_orfcalling_20240307222241_Caco-2_undiff_rep2/output/VPR_orfcalling_20240307222241_Caco-2_undiff_rep2_found_by_any_caller.csv ./data/VPR_orfcalling_20240307222241_Caco-2_undiff_rep2_found_by_any_caller.csv\n",
      "download: s3://velia-piperuns-dev/VPR_orfcalling_20240307222241_Caco-2_undiff_rep2/output/VPR_orfcalling_20240307222241_Caco-2_undiff_rep2_found_by_any_caller.csv to data/VPR_orfcalling_20240307222241_Caco-2_undiff_rep2_found_by_any_caller.csv\n"
     ]
    },
    {
     "name": "stderr",
     "output_type": "stream",
     "text": [
      "/tmp/ipykernel_1823159/3789791599.py:15: DtypeWarning: Columns (14) have mixed types. Specify dtype option on import or set low_memory=False.\n",
      "  for index, row in pd.read_csv(data_path, sep='\\t').iterrows():\n"
     ]
    },
    {
     "name": "stdout",
     "output_type": "stream",
     "text": [
      "aws s3 cp s3://velia-piperuns-dev/VPR_orfcalling_20240307222241_HCC1954_RPF_1/output/VPR_orfcalling_20240307222241_HCC1954_RPF_1_found_by_any_caller.csv ./data/VPR_orfcalling_20240307222241_HCC1954_RPF_1_found_by_any_caller.csv\n"
     ]
    },
    {
     "name": "stderr",
     "output_type": "stream",
     "text": [
      "fatal error: An error occurred (404) when calling the HeadObject operation: Key \"VPR_orfcalling_20240307222241_HCC1954_RPF_1/output/VPR_orfcalling_20240307222241_HCC1954_RPF_1_found_by_any_caller.csv\" does not exist\n"
     ]
    },
    {
     "name": "stdout",
     "output_type": "stream",
     "text": [
      "aws s3 cp s3://velia-piperuns-dev/VPR_orfcalling_20240307222241_HCC1954_rep2/output/VPR_orfcalling_20240307222241_HCC1954_rep2_found_by_any_caller.csv ./data/VPR_orfcalling_20240307222241_HCC1954_rep2_found_by_any_caller.csv\n",
      "download: s3://velia-piperuns-dev/VPR_orfcalling_20240307222241_HCC1954_rep2/output/VPR_orfcalling_20240307222241_HCC1954_rep2_found_by_any_caller.csv to data/VPR_orfcalling_20240307222241_HCC1954_rep2_found_by_any_caller.csv\n"
     ]
    },
    {
     "name": "stderr",
     "output_type": "stream",
     "text": [
      "/tmp/ipykernel_1823159/3789791599.py:15: DtypeWarning: Columns (10,14) have mixed types. Specify dtype option on import or set low_memory=False.\n",
      "  for index, row in pd.read_csv(data_path, sep='\\t').iterrows():\n"
     ]
    },
    {
     "name": "stdout",
     "output_type": "stream",
     "text": [
      "aws s3 cp s3://velia-piperuns-dev/VPR_orfcalling_20240307222241_HCC1954_rep3/output/VPR_orfcalling_20240307222241_HCC1954_rep3_found_by_any_caller.csv ./data/VPR_orfcalling_20240307222241_HCC1954_rep3_found_by_any_caller.csv\n",
      "download: s3://velia-piperuns-dev/VPR_orfcalling_20240307222241_HCC1954_rep3/output/VPR_orfcalling_20240307222241_HCC1954_rep3_found_by_any_caller.csv to data/VPR_orfcalling_20240307222241_HCC1954_rep3_found_by_any_caller.csv\n"
     ]
    },
    {
     "name": "stderr",
     "output_type": "stream",
     "text": [
      "/tmp/ipykernel_1823159/3789791599.py:15: DtypeWarning: Columns (14) have mixed types. Specify dtype option on import or set low_memory=False.\n",
      "  for index, row in pd.read_csv(data_path, sep='\\t').iterrows():\n"
     ]
    },
    {
     "name": "stdout",
     "output_type": "stream",
     "text": [
      "aws s3 cp s3://velia-piperuns-dev/VPR_orfcalling_20240307222241_HEK293T-DMSO-rep1_SRR8449569/output/VPR_orfcalling_20240307222241_HEK293T-DMSO-rep1_SRR8449569_found_by_any_caller.csv ./data/VPR_orfcalling_20240307222241_HEK293T-DMSO-rep1_SRR8449569_found_by_any_caller.csv\n",
      "download: s3://velia-piperuns-dev/VPR_orfcalling_20240307222241_HEK293T-DMSO-rep1_SRR8449569/output/VPR_orfcalling_20240307222241_HEK293T-DMSO-rep1_SRR8449569_found_by_any_caller.csv to data/VPR_orfcalling_20240307222241_HEK293T-DMSO-rep1_SRR8449569_found_by_any_caller.csv\n"
     ]
    },
    {
     "name": "stderr",
     "output_type": "stream",
     "text": [
      "/tmp/ipykernel_1823159/3789791599.py:15: DtypeWarning: Columns (14) have mixed types. Specify dtype option on import or set low_memory=False.\n",
      "  for index, row in pd.read_csv(data_path, sep='\\t').iterrows():\n"
     ]
    },
    {
     "name": "stdout",
     "output_type": "stream",
     "text": [
      "aws s3 cp s3://velia-piperuns-dev/VPR_orfcalling_20240307222241_HEK293T-DMSO-rep2_SRR8449570/output/VPR_orfcalling_20240307222241_HEK293T-DMSO-rep2_SRR8449570_found_by_any_caller.csv ./data/VPR_orfcalling_20240307222241_HEK293T-DMSO-rep2_SRR8449570_found_by_any_caller.csv\n",
      "download: s3://velia-piperuns-dev/VPR_orfcalling_20240307222241_HEK293T-DMSO-rep2_SRR8449570/output/VPR_orfcalling_20240307222241_HEK293T-DMSO-rep2_SRR8449570_found_by_any_caller.csv to data/VPR_orfcalling_20240307222241_HEK293T-DMSO-rep2_SRR8449570_found_by_any_caller.csv\n"
     ]
    },
    {
     "name": "stderr",
     "output_type": "stream",
     "text": [
      "/tmp/ipykernel_1823159/3789791599.py:15: DtypeWarning: Columns (14) have mixed types. Specify dtype option on import or set low_memory=False.\n",
      "  for index, row in pd.read_csv(data_path, sep='\\t').iterrows():\n"
     ]
    },
    {
     "name": "stdout",
     "output_type": "stream",
     "text": [
      "aws s3 cp s3://velia-piperuns-dev/VPR_orfcalling_20240307222241_HEK293T-HiRes_SRR8449568/output/VPR_orfcalling_20240307222241_HEK293T-HiRes_SRR8449568_found_by_any_caller.csv ./data/VPR_orfcalling_20240307222241_HEK293T-HiRes_SRR8449568_found_by_any_caller.csv\n",
      "download: s3://velia-piperuns-dev/VPR_orfcalling_20240307222241_HEK293T-HiRes_SRR8449568/output/VPR_orfcalling_20240307222241_HEK293T-HiRes_SRR8449568_found_by_any_caller.csv to data/VPR_orfcalling_20240307222241_HEK293T-HiRes_SRR8449568_found_by_any_caller.csv\n"
     ]
    },
    {
     "name": "stderr",
     "output_type": "stream",
     "text": [
      "/tmp/ipykernel_1823159/3789791599.py:15: DtypeWarning: Columns (14) have mixed types. Specify dtype option on import or set low_memory=False.\n",
      "  for index, row in pd.read_csv(data_path, sep='\\t').iterrows():\n"
     ]
    },
    {
     "name": "stdout",
     "output_type": "stream",
     "text": [
      "aws s3 cp s3://velia-piperuns-dev/VPR_orfcalling_20240307222241_HEK293T-LoRes_SRR8449566/output/VPR_orfcalling_20240307222241_HEK293T-LoRes_SRR8449566_found_by_any_caller.csv ./data/VPR_orfcalling_20240307222241_HEK293T-LoRes_SRR8449566_found_by_any_caller.csv\n"
     ]
    },
    {
     "name": "stderr",
     "output_type": "stream",
     "text": [
      "fatal error: An error occurred (404) when calling the HeadObject operation: Key \"VPR_orfcalling_20240307222241_HEK293T-LoRes_SRR8449566/output/VPR_orfcalling_20240307222241_HEK293T-LoRes_SRR8449566_found_by_any_caller.csv\" does not exist\n"
     ]
    },
    {
     "name": "stdout",
     "output_type": "stream",
     "text": [
      "aws s3 cp s3://velia-piperuns-dev/VPR_orfcalling_20240307222241_HEK293T-MedRes_SRR8449567/output/VPR_orfcalling_20240307222241_HEK293T-MedRes_SRR8449567_found_by_any_caller.csv ./data/VPR_orfcalling_20240307222241_HEK293T-MedRes_SRR8449567_found_by_any_caller.csv\n",
      "download: s3://velia-piperuns-dev/VPR_orfcalling_20240307222241_HEK293T-MedRes_SRR8449567/output/VPR_orfcalling_20240307222241_HEK293T-MedRes_SRR8449567_found_by_any_caller.csv to data/VPR_orfcalling_20240307222241_HEK293T-MedRes_SRR8449567_found_by_any_caller.csv\n"
     ]
    },
    {
     "name": "stderr",
     "output_type": "stream",
     "text": [
      "/tmp/ipykernel_1823159/3789791599.py:15: DtypeWarning: Columns (14) have mixed types. Specify dtype option on import or set low_memory=False.\n",
      "  for index, row in pd.read_csv(data_path, sep='\\t').iterrows():\n"
     ]
    },
    {
     "name": "stdout",
     "output_type": "stream",
     "text": [
      "aws s3 cp s3://velia-piperuns-dev/VPR_orfcalling_20240307222241_HEK293T-TG-rep1_SRR8449573/output/VPR_orfcalling_20240307222241_HEK293T-TG-rep1_SRR8449573_found_by_any_caller.csv ./data/VPR_orfcalling_20240307222241_HEK293T-TG-rep1_SRR8449573_found_by_any_caller.csv\n",
      "download: s3://velia-piperuns-dev/VPR_orfcalling_20240307222241_HEK293T-TG-rep1_SRR8449573/output/VPR_orfcalling_20240307222241_HEK293T-TG-rep1_SRR8449573_found_by_any_caller.csv to data/VPR_orfcalling_20240307222241_HEK293T-TG-rep1_SRR8449573_found_by_any_caller.csv\n"
     ]
    },
    {
     "name": "stderr",
     "output_type": "stream",
     "text": [
      "/tmp/ipykernel_1823159/3789791599.py:15: DtypeWarning: Columns (14) have mixed types. Specify dtype option on import or set low_memory=False.\n",
      "  for index, row in pd.read_csv(data_path, sep='\\t').iterrows():\n"
     ]
    },
    {
     "name": "stdout",
     "output_type": "stream",
     "text": [
      "aws s3 cp s3://velia-piperuns-dev/VPR_orfcalling_20240307222241_HEK293T-TG-rep2_SRR8449574/output/VPR_orfcalling_20240307222241_HEK293T-TG-rep2_SRR8449574_found_by_any_caller.csv ./data/VPR_orfcalling_20240307222241_HEK293T-TG-rep2_SRR8449574_found_by_any_caller.csv\n",
      "download: s3://velia-piperuns-dev/VPR_orfcalling_20240307222241_HEK293T-TG-rep2_SRR8449574/output/VPR_orfcalling_20240307222241_HEK293T-TG-rep2_SRR8449574_found_by_any_caller.csv to data/VPR_orfcalling_20240307222241_HEK293T-TG-rep2_SRR8449574_found_by_any_caller.csv\n"
     ]
    },
    {
     "name": "stderr",
     "output_type": "stream",
     "text": [
      "/tmp/ipykernel_1823159/3789791599.py:15: DtypeWarning: Columns (14) have mixed types. Specify dtype option on import or set low_memory=False.\n",
      "  for index, row in pd.read_csv(data_path, sep='\\t').iterrows():\n"
     ]
    },
    {
     "name": "stdout",
     "output_type": "stream",
     "text": [
      "aws s3 cp s3://velia-piperuns-dev/VPR_orfcalling_20240307222241_HEK293T-TM-rep1_SRR8449571/output/VPR_orfcalling_20240307222241_HEK293T-TM-rep1_SRR8449571_found_by_any_caller.csv ./data/VPR_orfcalling_20240307222241_HEK293T-TM-rep1_SRR8449571_found_by_any_caller.csv\n"
     ]
    }
   ],
   "source": [
    "local_folder= \"./data\"\n",
    "orf_callers = [\"price\", \"ribotish\", \"ribocode\"]\n",
    "\n",
    "merged_orfs_info = {}\n",
    "count = 0\n",
    "for experiment_name in open(f\"{local_folder}/experiments.txt\"):\n",
    "    experiment_name = experiment_name.split(\"PRE\")[1].strip()[:-1]\n",
    "    count += load_orfs(experiment_name, local_folder, merged_orfs_info, orf_callers)\n",
    "print(count) \n",
    "pd.DataFrame(merged_orfs_info.values()).reset_index().to_csv(\n",
    "    f\"{local_folder}/merged_orfs_found_by_any_caller.csv\",\n",
    "    sep=\"\\t\",\n",
    "    index=False) "
   ]
  }
 ],
 "metadata": {
  "kernelspec": {
   "display_name": "Python 3 (ipykernel)",
   "language": "python",
   "name": "python3"
  },
  "language_info": {
   "codemirror_mode": {
    "name": "ipython",
    "version": 3
   },
   "file_extension": ".py",
   "mimetype": "text/x-python",
   "name": "python",
   "nbconvert_exporter": "python",
   "pygments_lexer": "ipython3",
   "version": "3.10.12"
  }
 },
 "nbformat": 4,
 "nbformat_minor": 5
}
