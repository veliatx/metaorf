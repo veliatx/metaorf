{
 "cells": [
  {
   "cell_type": "code",
   "execution_count": 1,
   "id": "c2bc3e0b-9c3b-46f6-a900-d75f62ea7e1e",
   "metadata": {
    "tags": []
   },
   "outputs": [],
   "source": [
    "import numpy as np"
   ]
  },
  {
   "cell_type": "code",
   "execution_count": 2,
   "id": "e3dea697-60d3-41c4-acae-869eb3176f39",
   "metadata": {},
   "outputs": [],
   "source": [
    "def read_transcript_bed_file(transcript_bed_file):\n",
    "    \"\"\"Returns a dictionary that maps transcript_ids to their genomic locations.\"\"\"\n",
    "\n",
    "    transcripts = {}\n",
    "    for line in open(transcript_bed_file):\n",
    "        elements = line.strip().split()\n",
    "        # print(elements)\n",
    "        transcripts[elements[3]] = {\n",
    "            \"chrom_id\": elements[0],\n",
    "            \"start\": int(elements[1]),\n",
    "            \"end\": int(elements[2]),\n",
    "            \"strand\": elements[5],\n",
    "            \"block_count\": int(elements[9]),\n",
    "            \"block_sizes\": [int(size) for size in elements[10].split(\",\") if size],\n",
    "            \"block_starts\": [int(start_pos) for start_pos in elements[11].split(\",\") if start_pos],\n",
    "        }\n",
    "    return transcripts\n",
    "\n",
    "def get_score(transcript, scores):\n",
    "    score_map = []\n",
    "    if transcript[\"strand\"] == \"-\":\n",
    "        scores = scores[::-1]\n",
    "\n",
    "    current_score_pos = 0\n",
    "    for block_index in range(transcript[\"block_count\"]):\n",
    "        for pos_on_transcript in range(transcript[\"block_sizes\"][block_index]):\n",
    "            pos_on_genome = pos_on_transcript + transcript[\"block_starts\"][block_index] + transcript[\"start\"]\n",
    "            score_map.append((transcript[\"chrom_id\"], pos_on_genome, scores[current_score_pos]))    \n",
    "            current_score_pos += 1\n",
    "    return score_map"
   ]
  },
  {
   "cell_type": "code",
   "execution_count": 3,
   "id": "42d3bcf2-f99a-465e-bb5c-da60e4618801",
   "metadata": {
    "tags": []
   },
   "outputs": [],
   "source": [
    "def process_tis_transformer_scores(tis_transformer_folder, transcript_bed_file, tis_transformer_prediction_file):\n",
    "    transcript_coordinates = read_transcript_bed_file(transcript_bed_file)\n",
    "\n",
    "    with open(tis_transformer_prediction_file, \"w\") as prediction_file:\n",
    "        for file_idx in range(1, 7):\n",
    "            for transcript_info, scores in np.load(f\"{tis_transformer_folder}/TIS_predictions_v2_{file_idx}.npy\", allow_pickle=True):\n",
    "                transcript_name, _ = transcript_info.split(\"::\")\n",
    "                for chrom_id, pos, score in get_score(transcript_coordinates[transcript_name], scores):\n",
    "                    if score >= 1e-10:\n",
    "                        line_to_write = f\"{transcript_name}\\t{chrom_id}\\t{pos}\\t{score}\\n\"\n",
    "                        prediction_file.write(line_to_write)"
   ]
  },
  {
   "cell_type": "code",
   "execution_count": 4,
   "id": "cf556dc3-a106-4554-8240-a6b79c34a943",
   "metadata": {
    "tags": []
   },
   "outputs": [],
   "source": [
    "tis_transformer_folder = \"/home/ec2-user/efs-mount-point/mnt/efs0/riboseq_callers/TIS_transformer/data_veliadb/\"\n",
    "transcript_bed_file = \"/home/ec2-user/efs-mount-point/mnt/efs0/riboseq_callers/data/ORFrater/human_GRCh38_p14/annotations/veliadb_v2.fixed.bed\"\n",
    "tis_transformer_prediction_file = \"/home/ec2-user/efs-mount-point/mnt/efs0/riboseq_callers/data/ORFrater/human_GRCh38_p14/tis_transformer/tis_transformer_predictions.veliadb_v2.fixed.txt\"\n",
    "process_tis_transformer_scores(\n",
    "    tis_transformer_folder=tis_transformer_folder,\n",
    "    transcript_bed_file=transcript_bed_file,\n",
    "    tis_transformer_prediction_file=tis_transformer_prediction_file)"
   ]
  }
 ],
 "metadata": {
  "kernelspec": {
   "display_name": "Python 3 (ipykernel)",
   "language": "python",
   "name": "python3"
  },
  "language_info": {
   "codemirror_mode": {
    "name": "ipython",
    "version": 3
   },
   "file_extension": ".py",
   "mimetype": "text/x-python",
   "name": "python",
   "nbconvert_exporter": "python",
   "pygments_lexer": "ipython3",
   "version": "3.10.12"
  }
 },
 "nbformat": 4,
 "nbformat_minor": 5
}
