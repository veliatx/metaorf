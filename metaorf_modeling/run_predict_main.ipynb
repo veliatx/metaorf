{
 "cells": [
  {
   "cell_type": "markdown",
   "id": "fb0b7004-46c6-418d-971b-3fd439f4e657",
   "metadata": {},
   "source": [
    "This script predicts scores for ORF candidates in each experiment and saves the positive ones. This is the second and final step of the ORF score prediction.\n",
    "Specifically,\n",
    "(1) for each experiment, we load the feature set and predict the ORF scores with the model trained from script \"run_modeling_main.ipynb\"\n",
    "(2) any ORFs with scores > 0.5 will be added to a set named \"postive_orf_key\"\n",
    "(3) We go through the table \"merged_orfs_found_by_any_caller.csv\" and add rows appearing in \"postive_orf_key\" to a new table \"{local_folder}/merged_orfs_positive.csv\". In this way, our program won't consume tons of memory and the resulting table won't contain duplicate ORFs."
   ]
  },
  {
   "cell_type": "code",
   "execution_count": 1,
   "id": "aade6407-27cb-4dc3-a317-007b85c423a7",
   "metadata": {},
   "outputs": [],
   "source": [
    "import os\n",
    "import torch\n",
    "import pandas as pd\n",
    "\n",
    "import utils\n",
    "import modeling_utils"
   ]
  },
  {
   "cell_type": "code",
   "execution_count": 2,
   "id": "e5ee89ad-a596-4ddb-8489-73357bb9644e",
   "metadata": {},
   "outputs": [
    {
     "data": {
      "text/plain": [
       "MLP(\n",
       "  (fc1): Linear(in_features=27, out_features=64, bias=True)\n",
       "  (relu): ReLU()\n",
       "  (fc2): Linear(in_features=64, out_features=1, bias=True)\n",
       "  (sigmoid): Sigmoid()\n",
       ")"
      ]
     },
     "execution_count": 2,
     "metadata": {},
     "output_type": "execute_result"
    }
   ],
   "source": [
    "local_folder= \"./data\"\n",
    "model = torch.load(f\"{local_folder}/best_model\")\n",
    "model.eval()"
   ]
  },
  {
   "cell_type": "code",
   "execution_count": 3,
   "id": "21bfb415-25c9-4fae-92a5-450bcab9f55e",
   "metadata": {
    "tags": []
   },
   "outputs": [
    {
     "name": "stdout",
     "output_type": "stream",
     "text": [
      "download: s3://velia-piperuns-dev/VPR_orfcalling_20240307222145_MB1_1A/output/VPR_orfcalling_20240307222145_MB1_1A_orf_features.csv to data/VPR_orfcalling_20240307222145_MB1_1A_orf_features.csv\n",
      "download: s3://velia-piperuns-dev/VPR_orfcalling_20240307222145_MB1_1B/output/VPR_orfcalling_20240307222145_MB1_1B_orf_features.csv to data/VPR_orfcalling_20240307222145_MB1_1B_orf_features.csv\n",
      "download: s3://velia-piperuns-dev/VPR_orfcalling_20240307222145_MB1_2A/output/VPR_orfcalling_20240307222145_MB1_2A_orf_features.csv to data/VPR_orfcalling_20240307222145_MB1_2A_orf_features.csv\n",
      "download: s3://velia-piperuns-dev/VPR_orfcalling_20240307222145_MB1_2B/output/VPR_orfcalling_20240307222145_MB1_2B_orf_features.csv to data/VPR_orfcalling_20240307222145_MB1_2B_orf_features.csv\n",
      "download: s3://velia-piperuns-dev/VPR_orfcalling_20240307222145_YL12_M0_a/output/VPR_orfcalling_20240307222145_YL12_M0_a_orf_features.csv to data/VPR_orfcalling_20240307222145_YL12_M0_a_orf_features.csv\n",
      "download: s3://velia-piperuns-dev/VPR_orfcalling_20240307222145_YL12_M0_b/output/VPR_orfcalling_20240307222145_YL12_M0_b_orf_features.csv to data/VPR_orfcalling_20240307222145_YL12_M0_b_orf_features.csv\n"
     ]
    },
    {
     "name": "stderr",
     "output_type": "stream",
     "text": [
      "fatal error: An error occurred (404) when calling the HeadObject operation: Key \"VPR_orfcalling_20240307222145_YL12_M1_a/output/VPR_orfcalling_20240307222145_YL12_M1_a_orf_features.csv\" does not exist\n"
     ]
    },
    {
     "name": "stdout",
     "output_type": "stream",
     "text": [
      "download: s3://velia-piperuns-dev/VPR_orfcalling_20240307222145_YL12_M2_a/output/VPR_orfcalling_20240307222145_YL12_M2_a_orf_features.csv to data/VPR_orfcalling_20240307222145_YL12_M2_a_orf_features.csv\n",
      "download: s3://velia-piperuns-dev/VPR_orfcalling_20240307222145_YL12_M2_b/output/VPR_orfcalling_20240307222145_YL12_M2_b_orf_features.csv to data/VPR_orfcalling_20240307222145_YL12_M2_b_orf_features.csv\n"
     ]
    },
    {
     "name": "stderr",
     "output_type": "stream",
     "text": [
      "fatal error: An error occurred (404) when calling the HeadObject operation: Key \"VPR_orfcalling_20240307222145_YL12_M2_c/output/VPR_orfcalling_20240307222145_YL12_M2_c_orf_features.csv\" does not exist\n"
     ]
    },
    {
     "name": "stdout",
     "output_type": "stream",
     "text": [
      "download: s3://velia-piperuns-dev/VPR_orfcalling_20240307222208_BL11_PBMCL1_0p5/output/VPR_orfcalling_20240307222208_BL11_PBMCL1_0p5_orf_features.csv to data/VPR_orfcalling_20240307222208_BL11_PBMCL1_0p5_orf_features.csv\n",
      "download: s3://velia-piperuns-dev/VPR_orfcalling_20240307222208_BL11_PBMCL1_2/output/VPR_orfcalling_20240307222208_BL11_PBMCL1_2_orf_features.csv to data/VPR_orfcalling_20240307222208_BL11_PBMCL1_2_orf_features.csv\n",
      "download: s3://velia-piperuns-dev/VPR_orfcalling_20240307222208_BL11_PBMCL2_0p5/output/VPR_orfcalling_20240307222208_BL11_PBMCL2_0p5_orf_features.csv to data/VPR_orfcalling_20240307222208_BL11_PBMCL2_0p5_orf_features.csv\n",
      "download: s3://velia-piperuns-dev/VPR_orfcalling_20240307222208_BL11_PBMCL2_2/output/VPR_orfcalling_20240307222208_BL11_PBMCL2_2_orf_features.csv to data/VPR_orfcalling_20240307222208_BL11_PBMCL2_2_orf_features.csv\n",
      "download: s3://velia-piperuns-dev/VPR_orfcalling_20240307222208_BL11_PBMCU1_0p5/output/VPR_orfcalling_20240307222208_BL11_PBMCU1_0p5_orf_features.csv to data/VPR_orfcalling_20240307222208_BL11_PBMCU1_0p5_orf_features.csv\n",
      "download: s3://velia-piperuns-dev/VPR_orfcalling_20240307222208_BL11_PBMCU1_2/output/VPR_orfcalling_20240307222208_BL11_PBMCU1_2_orf_features.csv to data/VPR_orfcalling_20240307222208_BL11_PBMCU1_2_orf_features.csv\n",
      "download: s3://velia-piperuns-dev/VPR_orfcalling_20240307222208_BL11_PBMCU2_0p5/output/VPR_orfcalling_20240307222208_BL11_PBMCU2_0p5_orf_features.csv to data/VPR_orfcalling_20240307222208_BL11_PBMCU2_0p5_orf_features.csv\n",
      "download: s3://velia-piperuns-dev/VPR_orfcalling_20240307222208_BL11_PBMCU2_2/output/VPR_orfcalling_20240307222208_BL11_PBMCU2_2_orf_features.csv to data/VPR_orfcalling_20240307222208_BL11_PBMCU2_2_orf_features.csv\n",
      "download: s3://velia-piperuns-dev/VPR_orfcalling_20240307222208_YL4_L1/output/VPR_orfcalling_20240307222208_YL4_L1_orf_features.csv to data/VPR_orfcalling_20240307222208_YL4_L1_orf_features.csv\n",
      "download: s3://velia-piperuns-dev/VPR_orfcalling_20240307222208_YL4_L2/output/VPR_orfcalling_20240307222208_YL4_L2_orf_features.csv to data/VPR_orfcalling_20240307222208_YL4_L2_orf_features.csv\n",
      "download: s3://velia-piperuns-dev/VPR_orfcalling_20240307222208_YL4_U1/output/VPR_orfcalling_20240307222208_YL4_U1_orf_features.csv to data/VPR_orfcalling_20240307222208_YL4_U1_orf_features.csv\n",
      "download: s3://velia-piperuns-dev/VPR_orfcalling_20240307222208_YL4_U2/output/VPR_orfcalling_20240307222208_YL4_U2_orf_features.csv to data/VPR_orfcalling_20240307222208_YL4_U2_orf_features.csv\n",
      "download: s3://velia-piperuns-dev/VPR_orfcalling_20240307222208_YL5_R1_01/output/VPR_orfcalling_20240307222208_YL5_R1_01_orf_features.csv to data/VPR_orfcalling_20240307222208_YL5_R1_01_orf_features.csv\n",
      "download: s3://velia-piperuns-dev/VPR_orfcalling_20240307222208_YL5_R1_04/output/VPR_orfcalling_20240307222208_YL5_R1_04_orf_features.csv to data/VPR_orfcalling_20240307222208_YL5_R1_04_orf_features.csv\n",
      "download: s3://velia-piperuns-dev/VPR_orfcalling_20240307222208_YL5_R1_21/output/VPR_orfcalling_20240307222208_YL5_R1_21_orf_features.csv to data/VPR_orfcalling_20240307222208_YL5_R1_21_orf_features.csv\n",
      "download: s3://velia-piperuns-dev/VPR_orfcalling_20240307222208_YL5_R2_01/output/VPR_orfcalling_20240307222208_YL5_R2_01_orf_features.csv to data/VPR_orfcalling_20240307222208_YL5_R2_01_orf_features.csv\n",
      "download: s3://velia-piperuns-dev/VPR_orfcalling_20240307222208_YL5_R2_04/output/VPR_orfcalling_20240307222208_YL5_R2_04_orf_features.csv to data/VPR_orfcalling_20240307222208_YL5_R2_04_orf_features.csv\n",
      "download: s3://velia-piperuns-dev/VPR_orfcalling_20240307222208_YL5_R2_21/output/VPR_orfcalling_20240307222208_YL5_R2_21_orf_features.csv to data/VPR_orfcalling_20240307222208_YL5_R2_21_orf_features.csv\n",
      "download: s3://velia-piperuns-dev/VPR_orfcalling_20240307222208_YL5_U1_04/output/VPR_orfcalling_20240307222208_YL5_U1_04_orf_features.csv to data/VPR_orfcalling_20240307222208_YL5_U1_04_orf_features.csv\n",
      "download: s3://velia-piperuns-dev/VPR_orfcalling_20240307222208_YL5_U1_1/output/VPR_orfcalling_20240307222208_YL5_U1_1_orf_features.csv to data/VPR_orfcalling_20240307222208_YL5_U1_1_orf_features.csv\n",
      "download: s3://velia-piperuns-dev/VPR_orfcalling_20240307222208_YL5_U1_21/output/VPR_orfcalling_20240307222208_YL5_U1_21_orf_features.csv to data/VPR_orfcalling_20240307222208_YL5_U1_21_orf_features.csv\n",
      "download: s3://velia-piperuns-dev/VPR_orfcalling_20240307222208_YL5_U2_04/output/VPR_orfcalling_20240307222208_YL5_U2_04_orf_features.csv to data/VPR_orfcalling_20240307222208_YL5_U2_04_orf_features.csv\n",
      "download: s3://velia-piperuns-dev/VPR_orfcalling_20240307222208_YL5_U2_1/output/VPR_orfcalling_20240307222208_YL5_U2_1_orf_features.csv to data/VPR_orfcalling_20240307222208_YL5_U2_1_orf_features.csv\n",
      "download: s3://velia-piperuns-dev/VPR_orfcalling_20240307222208_YL5_U2_21/output/VPR_orfcalling_20240307222208_YL5_U2_21_orf_features.csv to data/VPR_orfcalling_20240307222208_YL5_U2_21_orf_features.csv\n",
      "download: s3://velia-piperuns-dev/VPR_orfcalling_20240307222241_Caco-2_LM_rep1/output/VPR_orfcalling_20240307222241_Caco-2_LM_rep1_orf_features.csv to data/VPR_orfcalling_20240307222241_Caco-2_LM_rep1_orf_features.csv\n",
      "download: s3://velia-piperuns-dev/VPR_orfcalling_20240307222241_Caco-2_LM_rep2/output/VPR_orfcalling_20240307222241_Caco-2_LM_rep2_orf_features.csv to data/VPR_orfcalling_20240307222241_Caco-2_LM_rep2_orf_features.csv\n",
      "download: s3://velia-piperuns-dev/VPR_orfcalling_20240307222241_Caco-2_MWOLip_rep1/output/VPR_orfcalling_20240307222241_Caco-2_MWOLip_rep1_orf_features.csv to data/VPR_orfcalling_20240307222241_Caco-2_MWOLip_rep1_orf_features.csv\n",
      "download: s3://velia-piperuns-dev/VPR_orfcalling_20240307222241_Caco-2_MWOLip_rep2/output/VPR_orfcalling_20240307222241_Caco-2_MWOLip_rep2_orf_features.csv to data/VPR_orfcalling_20240307222241_Caco-2_MWOLip_rep2_orf_features.csv\n",
      "download: s3://velia-piperuns-dev/VPR_orfcalling_20240307222241_Caco-2_control_rep1/output/VPR_orfcalling_20240307222241_Caco-2_control_rep1_orf_features.csv to data/VPR_orfcalling_20240307222241_Caco-2_control_rep1_orf_features.csv\n",
      "download: s3://velia-piperuns-dev/VPR_orfcalling_20240307222241_Caco-2_control_rep2/output/VPR_orfcalling_20240307222241_Caco-2_control_rep2_orf_features.csv to data/VPR_orfcalling_20240307222241_Caco-2_control_rep2_orf_features.csv\n",
      "download: s3://velia-piperuns-dev/VPR_orfcalling_20240307222241_Caco-2_undiff_rep1/output/VPR_orfcalling_20240307222241_Caco-2_undiff_rep1_orf_features.csv to data/VPR_orfcalling_20240307222241_Caco-2_undiff_rep1_orf_features.csv\n",
      "download: s3://velia-piperuns-dev/VPR_orfcalling_20240307222241_Caco-2_undiff_rep2/output/VPR_orfcalling_20240307222241_Caco-2_undiff_rep2_orf_features.csv to data/VPR_orfcalling_20240307222241_Caco-2_undiff_rep2_orf_features.csv\n"
     ]
    },
    {
     "name": "stderr",
     "output_type": "stream",
     "text": [
      "fatal error: An error occurred (404) when calling the HeadObject operation: Key \"VPR_orfcalling_20240307222241_HCC1954_RPF_1/output/VPR_orfcalling_20240307222241_HCC1954_RPF_1_orf_features.csv\" does not exist\n"
     ]
    },
    {
     "name": "stdout",
     "output_type": "stream",
     "text": [
      "download: s3://velia-piperuns-dev/VPR_orfcalling_20240307222241_HCC1954_rep2/output/VPR_orfcalling_20240307222241_HCC1954_rep2_orf_features.csv to data/VPR_orfcalling_20240307222241_HCC1954_rep2_orf_features.csv\n",
      "download: s3://velia-piperuns-dev/VPR_orfcalling_20240307222241_HCC1954_rep3/output/VPR_orfcalling_20240307222241_HCC1954_rep3_orf_features.csv to data/VPR_orfcalling_20240307222241_HCC1954_rep3_orf_features.csv\n",
      "download: s3://velia-piperuns-dev/VPR_orfcalling_20240307222241_HEK293T-DMSO-rep1_SRR8449569/output/VPR_orfcalling_20240307222241_HEK293T-DMSO-rep1_SRR8449569_orf_features.csv to data/VPR_orfcalling_20240307222241_HEK293T-DMSO-rep1_SRR8449569_orf_features.csv\n",
      "download: s3://velia-piperuns-dev/VPR_orfcalling_20240307222241_HEK293T-DMSO-rep2_SRR8449570/output/VPR_orfcalling_20240307222241_HEK293T-DMSO-rep2_SRR8449570_orf_features.csv to data/VPR_orfcalling_20240307222241_HEK293T-DMSO-rep2_SRR8449570_orf_features.csv\n",
      "download: s3://velia-piperuns-dev/VPR_orfcalling_20240307222241_HEK293T-HiRes_SRR8449568/output/VPR_orfcalling_20240307222241_HEK293T-HiRes_SRR8449568_orf_features.csv to data/VPR_orfcalling_20240307222241_HEK293T-HiRes_SRR8449568_orf_features.csv\n"
     ]
    },
    {
     "name": "stderr",
     "output_type": "stream",
     "text": [
      "fatal error: An error occurred (404) when calling the HeadObject operation: Key \"VPR_orfcalling_20240307222241_HEK293T-LoRes_SRR8449566/output/VPR_orfcalling_20240307222241_HEK293T-LoRes_SRR8449566_orf_features.csv\" does not exist\n"
     ]
    },
    {
     "name": "stdout",
     "output_type": "stream",
     "text": [
      "download: s3://velia-piperuns-dev/VPR_orfcalling_20240307222241_HEK293T-MedRes_SRR8449567/output/VPR_orfcalling_20240307222241_HEK293T-MedRes_SRR8449567_orf_features.csv to data/VPR_orfcalling_20240307222241_HEK293T-MedRes_SRR8449567_orf_features.csv\n",
      "download: s3://velia-piperuns-dev/VPR_orfcalling_20240307222241_HEK293T-TG-rep1_SRR8449573/output/VPR_orfcalling_20240307222241_HEK293T-TG-rep1_SRR8449573_orf_features.csv to data/VPR_orfcalling_20240307222241_HEK293T-TG-rep1_SRR8449573_orf_features.csv\n",
      "download: s3://velia-piperuns-dev/VPR_orfcalling_20240307222241_HEK293T-TG-rep2_SRR8449574/output/VPR_orfcalling_20240307222241_HEK293T-TG-rep2_SRR8449574_orf_features.csv to data/VPR_orfcalling_20240307222241_HEK293T-TG-rep2_SRR8449574_orf_features.csv\n",
      "download: s3://velia-piperuns-dev/VPR_orfcalling_20240307222241_HEK293T-TM-rep1_SRR8449571/output/VPR_orfcalling_20240307222241_HEK293T-TM-rep1_SRR8449571_orf_features.csv to data/VPR_orfcalling_20240307222241_HEK293T-TM-rep1_SRR8449571_orf_features.csv\n"
     ]
    },
    {
     "name": "stderr",
     "output_type": "stream",
     "text": [
      "fatal error: An error occurred (404) when calling the HeadObject operation: Key \"VPR_orfcalling_20240307222241_HEK293T-TM-rep2_SRR8449572/output/VPR_orfcalling_20240307222241_HEK293T-TM-rep2_SRR8449572_orf_features.csv\" does not exist\n"
     ]
    },
    {
     "name": "stdout",
     "output_type": "stream",
     "text": [
      "download: s3://velia-piperuns-dev/VPR_orfcalling_20240307222241_HeLaS3-HiRes-rep1_SRR8449577/output/VPR_orfcalling_20240307222241_HeLaS3-HiRes-rep1_SRR8449577_orf_features.csv to data/VPR_orfcalling_20240307222241_HeLaS3-HiRes-rep1_SRR8449577_orf_features.csv\n",
      "download: s3://velia-piperuns-dev/VPR_orfcalling_20240307222241_HeLaS3-HiRes-rep2_SRR8449578/output/VPR_orfcalling_20240307222241_HeLaS3-HiRes-rep2_SRR8449578_orf_features.csv to data/VPR_orfcalling_20240307222241_HeLaS3-HiRes-rep2_SRR8449578_orf_features.csv\n"
     ]
    },
    {
     "name": "stderr",
     "output_type": "stream",
     "text": [
      "fatal error: An error occurred (404) when calling the HeadObject operation: Key \"VPR_orfcalling_20240307222241_HeLaS3-LoRes-rep1_SRR8449575/output/VPR_orfcalling_20240307222241_HeLaS3-LoRes-rep1_SRR8449575_orf_features.csv\" does not exist\n"
     ]
    },
    {
     "name": "stdout",
     "output_type": "stream",
     "text": [
      "download: s3://velia-piperuns-dev/VPR_orfcalling_20240307222241_HeLaS3-LoRes-rep2_SRR8449576/output/VPR_orfcalling_20240307222241_HeLaS3-LoRes-rep2_SRR8449576_orf_features.csv to data/VPR_orfcalling_20240307222241_HeLaS3-LoRes-rep2_SRR8449576_orf_features.csv\n",
      "download: s3://velia-piperuns-dev/VPR_orfcalling_20240307222241_HepG2_chol-oleic_rep1/output/VPR_orfcalling_20240307222241_HepG2_chol-oleic_rep1_orf_features.csv to data/VPR_orfcalling_20240307222241_HepG2_chol-oleic_rep1_orf_features.csv\n",
      "download: s3://velia-piperuns-dev/VPR_orfcalling_20240307222241_HepG2_chol-oleic_rep2/output/VPR_orfcalling_20240307222241_HepG2_chol-oleic_rep2_orf_features.csv to data/VPR_orfcalling_20240307222241_HepG2_chol-oleic_rep2_orf_features.csv\n",
      "download: s3://velia-piperuns-dev/VPR_orfcalling_20240307222241_HepG2_control_rep1/output/VPR_orfcalling_20240307222241_HepG2_control_rep1_orf_features.csv to data/VPR_orfcalling_20240307222241_HepG2_control_rep1_orf_features.csv\n",
      "download: s3://velia-piperuns-dev/VPR_orfcalling_20240307222241_HepG2_control_rep2/output/VPR_orfcalling_20240307222241_HepG2_control_rep2_orf_features.csv to data/VPR_orfcalling_20240307222241_HepG2_control_rep2_orf_features.csv\n",
      "download: s3://velia-piperuns-dev/VPR_orfcalling_20240307222241_K562-HiRes-rep1_SRR8449579/output/VPR_orfcalling_20240307222241_K562-HiRes-rep1_SRR8449579_orf_features.csv to data/VPR_orfcalling_20240307222241_K562-HiRes-rep1_SRR8449579_orf_features.csv\n",
      "download: s3://velia-piperuns-dev/VPR_orfcalling_20240307222241_K562-HiRes-rep2_SRR8449580/output/VPR_orfcalling_20240307222241_K562-HiRes-rep2_SRR8449580_orf_features.csv to data/VPR_orfcalling_20240307222241_K562-HiRes-rep2_SRR8449580_orf_features.csv\n",
      "download: s3://velia-piperuns-dev/VPR_orfcalling_20240307222241_K562-HiRes-rep3_SRR8449581/output/VPR_orfcalling_20240307222241_K562-HiRes-rep3_SRR8449581_orf_features.csv to data/VPR_orfcalling_20240307222241_K562-HiRes-rep3_SRR8449581_orf_features.csv\n"
     ]
    },
    {
     "name": "stderr",
     "output_type": "stream",
     "text": [
      "fatal error: An error occurred (404) when calling the HeadObject operation: Key \"VPR_orfcalling_20240307222241_MCF-7_RPF_2/output/VPR_orfcalling_20240307222241_MCF-7_RPF_2_orf_features.csv\" does not exist\n"
     ]
    },
    {
     "name": "stdout",
     "output_type": "stream",
     "text": [
      "download: s3://velia-piperuns-dev/VPR_orfcalling_20240307222241_MCF-7_RPF_3/output/VPR_orfcalling_20240307222241_MCF-7_RPF_3_orf_features.csv to data/VPR_orfcalling_20240307222241_MCF-7_RPF_3_orf_features.csv\n",
      "download: s3://velia-piperuns-dev/VPR_orfcalling_20240307222241_MCF-7_RPF_4/output/VPR_orfcalling_20240307222241_MCF-7_RPF_4_orf_features.csv to data/VPR_orfcalling_20240307222241_MCF-7_RPF_4_orf_features.csv\n",
      "download: s3://velia-piperuns-dev/VPR_orfcalling_20240307222241_MCF-7_RPF_5/output/VPR_orfcalling_20240307222241_MCF-7_RPF_5_orf_features.csv to data/VPR_orfcalling_20240307222241_MCF-7_RPF_5_orf_features.csv\n",
      "download: s3://velia-piperuns-dev/VPR_orfcalling_20240307222241_MCF-7_rep6/output/VPR_orfcalling_20240307222241_MCF-7_rep6_orf_features.csv to data/VPR_orfcalling_20240307222241_MCF-7_rep6_orf_features.csv\n",
      "download: s3://velia-piperuns-dev/VPR_orfcalling_20240307222241_MCF-7_rep7/output/VPR_orfcalling_20240307222241_MCF-7_rep7_orf_features.csv to data/VPR_orfcalling_20240307222241_MCF-7_rep7_orf_features.csv\n"
     ]
    },
    {
     "name": "stderr",
     "output_type": "stream",
     "text": [
      "fatal error: An error occurred (404) when calling the HeadObject operation: Key \"VPR_orfcalling_20240307222241_MDA-MB-231_RPF_1/output/VPR_orfcalling_20240307222241_MDA-MB-231_RPF_1_orf_features.csv\" does not exist\n"
     ]
    },
    {
     "name": "stdout",
     "output_type": "stream",
     "text": [
      "download: s3://velia-piperuns-dev/VPR_orfcalling_20240307222241_MDA-MB-231_rep2/output/VPR_orfcalling_20240307222241_MDA-MB-231_rep2_orf_features.csv to data/VPR_orfcalling_20240307222241_MDA-MB-231_rep2_orf_features.csv\n",
      "download: s3://velia-piperuns-dev/VPR_orfcalling_20240307222241_MDA-MB-231_rep3/output/VPR_orfcalling_20240307222241_MDA-MB-231_rep3_orf_features.csv to data/VPR_orfcalling_20240307222241_MDA-MB-231_rep3_orf_features.csv\n",
      "download: s3://velia-piperuns-dev/VPR_orfcalling_20240307222241_cardiomyocyte-rep1_SRR9113067/output/VPR_orfcalling_20240307222241_cardiomyocyte-rep1_SRR9113067_orf_features.csv to data/VPR_orfcalling_20240307222241_cardiomyocyte-rep1_SRR9113067_orf_features.csv\n",
      "download: s3://velia-piperuns-dev/VPR_orfcalling_20240307222241_cardiomyocyte-rep2_SRR9113068/output/VPR_orfcalling_20240307222241_cardiomyocyte-rep2_SRR9113068_orf_features.csv to data/VPR_orfcalling_20240307222241_cardiomyocyte-rep2_SRR9113068_orf_features.csv\n",
      "download: s3://velia-piperuns-dev/VPR_orfcalling_20240307222241_cardiomyocyte-rep3_SRR9113069/output/VPR_orfcalling_20240307222241_cardiomyocyte-rep3_SRR9113069_orf_features.csv to data/VPR_orfcalling_20240307222241_cardiomyocyte-rep3_SRR9113069_orf_features.csv\n",
      "download: s3://velia-piperuns-dev/VPR_orfcalling_20240307222241_iPSC-rep1_SRR9113064/output/VPR_orfcalling_20240307222241_iPSC-rep1_SRR9113064_orf_features.csv to data/VPR_orfcalling_20240307222241_iPSC-rep1_SRR9113064_orf_features.csv\n",
      "download: s3://velia-piperuns-dev/VPR_orfcalling_20240307222241_iPSC-rep2_SRR9113065/output/VPR_orfcalling_20240307222241_iPSC-rep2_SRR9113065_orf_features.csv to data/VPR_orfcalling_20240307222241_iPSC-rep2_SRR9113065_orf_features.csv\n",
      "download: s3://velia-piperuns-dev/VPR_orfcalling_20240307222241_iPSC-rep3_SRR9113066/output/VPR_orfcalling_20240307222241_iPSC-rep3_SRR9113066_orf_features.csv to data/VPR_orfcalling_20240307222241_iPSC-rep3_SRR9113066_orf_features.csv\n"
     ]
    },
    {
     "name": "stderr",
     "output_type": "stream",
     "text": [
      "fatal error: An error occurred (404) when calling the HeadObject operation: Key \"VPR_orfcalling_20240308012528_SRX1059898/output/VPR_orfcalling_20240308012528_SRX1059898_orf_features.csv\" does not exist\n",
      "fatal error: An error occurred (404) when calling the HeadObject operation: Key \"VPR_orfcalling_20240308012528_SRX1059899/output/VPR_orfcalling_20240308012528_SRX1059899_orf_features.csv\" does not exist\n",
      "fatal error: An error occurred (404) when calling the HeadObject operation: Key \"VPR_orfcalling_20240308012528_SRX1059900/output/VPR_orfcalling_20240308012528_SRX1059900_orf_features.csv\" does not exist\n",
      "fatal error: An error occurred (404) when calling the HeadObject operation: Key \"VPR_orfcalling_20240308012528_SRX1059901/output/VPR_orfcalling_20240308012528_SRX1059901_orf_features.csv\" does not exist\n",
      "fatal error: An error occurred (404) when calling the HeadObject operation: Key \"VPR_orfcalling_20240308012528_SRX1059902/output/VPR_orfcalling_20240308012528_SRX1059902_orf_features.csv\" does not exist\n",
      "fatal error: An error occurred (404) when calling the HeadObject operation: Key \"VPR_orfcalling_20240308012528_SRX1059903/output/VPR_orfcalling_20240308012528_SRX1059903_orf_features.csv\" does not exist\n"
     ]
    },
    {
     "name": "stdout",
     "output_type": "stream",
     "text": [
      "download: s3://velia-piperuns-dev/VPR_orfcalling_20240308012528_SRX10921846/output/VPR_orfcalling_20240308012528_SRX10921846_orf_features.csv to data/VPR_orfcalling_20240308012528_SRX10921846_orf_features.csv\n",
      "download: s3://velia-piperuns-dev/VPR_orfcalling_20240308012528_SRX10921847/output/VPR_orfcalling_20240308012528_SRX10921847_orf_features.csv to data/VPR_orfcalling_20240308012528_SRX10921847_orf_features.csv\n"
     ]
    },
    {
     "name": "stderr",
     "output_type": "stream",
     "text": [
      "fatal error: An error occurred (404) when calling the HeadObject operation: Key \"VPR_orfcalling_20240308012528_SRX11811942/output/VPR_orfcalling_20240308012528_SRX11811942_orf_features.csv\" does not exist\n",
      "fatal error: An error occurred (404) when calling the HeadObject operation: Key \"VPR_orfcalling_20240308012528_SRX11811943/output/VPR_orfcalling_20240308012528_SRX11811943_orf_features.csv\" does not exist\n",
      "fatal error: An error occurred (404) when calling the HeadObject operation: Key \"VPR_orfcalling_20240308012528_SRX11811944/output/VPR_orfcalling_20240308012528_SRX11811944_orf_features.csv\" does not exist\n",
      "fatal error: An error occurred (404) when calling the HeadObject operation: Key \"VPR_orfcalling_20240308012528_SRX11811945/output/VPR_orfcalling_20240308012528_SRX11811945_orf_features.csv\" does not exist\n",
      "fatal error: An error occurred (404) when calling the HeadObject operation: Key \"VPR_orfcalling_20240308012528_SRX11811946/output/VPR_orfcalling_20240308012528_SRX11811946_orf_features.csv\" does not exist\n",
      "fatal error: An error occurred (404) when calling the HeadObject operation: Key \"VPR_orfcalling_20240308012528_SRX11811947/output/VPR_orfcalling_20240308012528_SRX11811947_orf_features.csv\" does not exist\n",
      "fatal error: An error occurred (404) when calling the HeadObject operation: Key \"VPR_orfcalling_20240308012528_SRX11811948/output/VPR_orfcalling_20240308012528_SRX11811948_orf_features.csv\" does not exist\n",
      "fatal error: An error occurred (404) when calling the HeadObject operation: Key \"VPR_orfcalling_20240308012528_SRX11811949/output/VPR_orfcalling_20240308012528_SRX11811949_orf_features.csv\" does not exist\n",
      "fatal error: An error occurred (404) when calling the HeadObject operation: Key \"VPR_orfcalling_20240308012528_SRX11811950/output/VPR_orfcalling_20240308012528_SRX11811950_orf_features.csv\" does not exist\n",
      "fatal error: An error occurred (404) when calling the HeadObject operation: Key \"VPR_orfcalling_20240308012528_SRX11811951/output/VPR_orfcalling_20240308012528_SRX11811951_orf_features.csv\" does not exist\n",
      "fatal error: An error occurred (404) when calling the HeadObject operation: Key \"VPR_orfcalling_20240308012528_SRX11811952/output/VPR_orfcalling_20240308012528_SRX11811952_orf_features.csv\" does not exist\n",
      "fatal error: An error occurred (404) when calling the HeadObject operation: Key \"VPR_orfcalling_20240308012528_SRX11811953/output/VPR_orfcalling_20240308012528_SRX11811953_orf_features.csv\" does not exist\n",
      "fatal error: An error occurred (404) when calling the HeadObject operation: Key \"VPR_orfcalling_20240308012528_SRX11811954/output/VPR_orfcalling_20240308012528_SRX11811954_orf_features.csv\" does not exist\n",
      "fatal error: An error occurred (404) when calling the HeadObject operation: Key \"VPR_orfcalling_20240308012528_SRX11811955/output/VPR_orfcalling_20240308012528_SRX11811955_orf_features.csv\" does not exist\n",
      "fatal error: An error occurred (404) when calling the HeadObject operation: Key \"VPR_orfcalling_20240308012528_SRX11811956/output/VPR_orfcalling_20240308012528_SRX11811956_orf_features.csv\" does not exist\n",
      "fatal error: An error occurred (404) when calling the HeadObject operation: Key \"VPR_orfcalling_20240308012528_SRX11811957/output/VPR_orfcalling_20240308012528_SRX11811957_orf_features.csv\" does not exist\n",
      "fatal error: An error occurred (404) when calling the HeadObject operation: Key \"VPR_orfcalling_20240308012528_SRX11811958/output/VPR_orfcalling_20240308012528_SRX11811958_orf_features.csv\" does not exist\n"
     ]
    },
    {
     "name": "stdout",
     "output_type": "stream",
     "text": [
      "download: s3://velia-piperuns-dev/VPR_orfcalling_20240308012528_SRX11811959/output/VPR_orfcalling_20240308012528_SRX11811959_orf_features.csv to data/VPR_orfcalling_20240308012528_SRX11811959_orf_features.csv\n",
      "download: s3://velia-piperuns-dev/VPR_orfcalling_20240308012528_SRX11811960/output/VPR_orfcalling_20240308012528_SRX11811960_orf_features.csv to data/VPR_orfcalling_20240308012528_SRX11811960_orf_features.csv\n",
      "download: s3://velia-piperuns-dev/VPR_orfcalling_20240308012528_SRX11811961/output/VPR_orfcalling_20240308012528_SRX11811961_orf_features.csv to data/VPR_orfcalling_20240308012528_SRX11811961_orf_features.csv\n",
      "download: s3://velia-piperuns-dev/VPR_orfcalling_20240308012528_SRX11811962/output/VPR_orfcalling_20240308012528_SRX11811962_orf_features.csv to data/VPR_orfcalling_20240308012528_SRX11811962_orf_features.csv\n",
      "download: s3://velia-piperuns-dev/VPR_orfcalling_20240308012528_SRX11811963/output/VPR_orfcalling_20240308012528_SRX11811963_orf_features.csv to data/VPR_orfcalling_20240308012528_SRX11811963_orf_features.csv\n"
     ]
    },
    {
     "name": "stderr",
     "output_type": "stream",
     "text": [
      "fatal error: An error occurred (404) when calling the HeadObject operation: Key \"VPR_orfcalling_20240308012528_SRX11811964/output/VPR_orfcalling_20240308012528_SRX11811964_orf_features.csv\" does not exist\n",
      "fatal error: An error occurred (404) when calling the HeadObject operation: Key \"VPR_orfcalling_20240308012528_SRX11811965/output/VPR_orfcalling_20240308012528_SRX11811965_orf_features.csv\" does not exist\n",
      "fatal error: An error occurred (404) when calling the HeadObject operation: Key \"VPR_orfcalling_20240308012528_SRX11811966/output/VPR_orfcalling_20240308012528_SRX11811966_orf_features.csv\" does not exist\n",
      "fatal error: An error occurred (404) when calling the HeadObject operation: Key \"VPR_orfcalling_20240308012528_SRX11811967/output/VPR_orfcalling_20240308012528_SRX11811967_orf_features.csv\" does not exist\n"
     ]
    },
    {
     "name": "stdout",
     "output_type": "stream",
     "text": [
      "download: s3://velia-piperuns-dev/VPR_orfcalling_20240308012528_SRX11811968/output/VPR_orfcalling_20240308012528_SRX11811968_orf_features.csv to data/VPR_orfcalling_20240308012528_SRX11811968_orf_features.csv\n",
      "download: s3://velia-piperuns-dev/VPR_orfcalling_20240308012528_SRX11811969/output/VPR_orfcalling_20240308012528_SRX11811969_orf_features.csv to data/VPR_orfcalling_20240308012528_SRX11811969_orf_features.csv\n",
      "download: s3://velia-piperuns-dev/VPR_orfcalling_20240308012528_SRX11811970/output/VPR_orfcalling_20240308012528_SRX11811970_orf_features.csv to data/VPR_orfcalling_20240308012528_SRX11811970_orf_features.csv\n",
      "download: s3://velia-piperuns-dev/VPR_orfcalling_20240308012528_SRX11811971/output/VPR_orfcalling_20240308012528_SRX11811971_orf_features.csv to data/VPR_orfcalling_20240308012528_SRX11811971_orf_features.csv\n",
      "download: s3://velia-piperuns-dev/VPR_orfcalling_20240308012528_SRX11811972/output/VPR_orfcalling_20240308012528_SRX11811972_orf_features.csv to data/VPR_orfcalling_20240308012528_SRX11811972_orf_features.csv\n",
      "download: s3://velia-piperuns-dev/VPR_orfcalling_20240308012528_SRX11811973/output/VPR_orfcalling_20240308012528_SRX11811973_orf_features.csv to data/VPR_orfcalling_20240308012528_SRX11811973_orf_features.csv\n"
     ]
    },
    {
     "name": "stderr",
     "output_type": "stream",
     "text": [
      "fatal error: An error occurred (404) when calling the HeadObject operation: Key \"VPR_orfcalling_20240308012528_SRX11811974/output/VPR_orfcalling_20240308012528_SRX11811974_orf_features.csv\" does not exist\n"
     ]
    },
    {
     "name": "stdout",
     "output_type": "stream",
     "text": [
      "download: s3://velia-piperuns-dev/VPR_orfcalling_20240308012528_SRX11811975/output/VPR_orfcalling_20240308012528_SRX11811975_orf_features.csv to data/VPR_orfcalling_20240308012528_SRX11811975_orf_features.csv\n"
     ]
    },
    {
     "name": "stderr",
     "output_type": "stream",
     "text": [
      "fatal error: An error occurred (404) when calling the HeadObject operation: Key \"VPR_orfcalling_20240308012528_SRX11811976/output/VPR_orfcalling_20240308012528_SRX11811976_orf_features.csv\" does not exist\n"
     ]
    },
    {
     "name": "stdout",
     "output_type": "stream",
     "text": [
      "download: s3://velia-piperuns-dev/VPR_orfcalling_20240308012528_SRX11811977/output/VPR_orfcalling_20240308012528_SRX11811977_orf_features.csv to data/VPR_orfcalling_20240308012528_SRX11811977_orf_features.csv\n",
      "download: s3://velia-piperuns-dev/VPR_orfcalling_20240308012528_SRX11811978/output/VPR_orfcalling_20240308012528_SRX11811978_orf_features.csv to data/VPR_orfcalling_20240308012528_SRX11811978_orf_features.csv\n",
      "download: s3://velia-piperuns-dev/VPR_orfcalling_20240308012528_SRX11811979/output/VPR_orfcalling_20240308012528_SRX11811979_orf_features.csv to data/VPR_orfcalling_20240308012528_SRX11811979_orf_features.csv\n",
      "download: s3://velia-piperuns-dev/VPR_orfcalling_20240308012528_SRX11811980/output/VPR_orfcalling_20240308012528_SRX11811980_orf_features.csv to data/VPR_orfcalling_20240308012528_SRX11811980_orf_features.csv\n",
      "download: s3://velia-piperuns-dev/VPR_orfcalling_20240308012528_SRX11811981/output/VPR_orfcalling_20240308012528_SRX11811981_orf_features.csv to data/VPR_orfcalling_20240308012528_SRX11811981_orf_features.csv\n",
      "download: s3://velia-piperuns-dev/VPR_orfcalling_20240308012528_SRX11811982/output/VPR_orfcalling_20240308012528_SRX11811982_orf_features.csv to data/VPR_orfcalling_20240308012528_SRX11811982_orf_features.csv\n",
      "download: s3://velia-piperuns-dev/VPR_orfcalling_20240308012528_SRX11811983/output/VPR_orfcalling_20240308012528_SRX11811983_orf_features.csv to data/VPR_orfcalling_20240308012528_SRX11811983_orf_features.csv\n",
      "download: s3://velia-piperuns-dev/VPR_orfcalling_20240308012528_SRX11811984/output/VPR_orfcalling_20240308012528_SRX11811984_orf_features.csv to data/VPR_orfcalling_20240308012528_SRX11811984_orf_features.csv\n"
     ]
    },
    {
     "name": "stderr",
     "output_type": "stream",
     "text": [
      "fatal error: An error occurred (404) when calling the HeadObject operation: Key \"VPR_orfcalling_20240308012528_SRX11811985/output/VPR_orfcalling_20240308012528_SRX11811985_orf_features.csv\" does not exist\n",
      "fatal error: An error occurred (404) when calling the HeadObject operation: Key \"VPR_orfcalling_20240308012528_SRX11811986/output/VPR_orfcalling_20240308012528_SRX11811986_orf_features.csv\" does not exist\n",
      "fatal error: An error occurred (404) when calling the HeadObject operation: Key \"VPR_orfcalling_20240308012528_SRX11811987/output/VPR_orfcalling_20240308012528_SRX11811987_orf_features.csv\" does not exist\n",
      "fatal error: An error occurred (404) when calling the HeadObject operation: Key \"VPR_orfcalling_20240308012528_SRX11811988/output/VPR_orfcalling_20240308012528_SRX11811988_orf_features.csv\" does not exist\n",
      "fatal error: An error occurred (404) when calling the HeadObject operation: Key \"VPR_orfcalling_20240308012528_SRX11811989/output/VPR_orfcalling_20240308012528_SRX11811989_orf_features.csv\" does not exist\n",
      "fatal error: An error occurred (404) when calling the HeadObject operation: Key \"VPR_orfcalling_20240308012528_SRX11811990/output/VPR_orfcalling_20240308012528_SRX11811990_orf_features.csv\" does not exist\n",
      "fatal error: An error occurred (404) when calling the HeadObject operation: Key \"VPR_orfcalling_20240308012528_SRX11811991/output/VPR_orfcalling_20240308012528_SRX11811991_orf_features.csv\" does not exist\n",
      "fatal error: An error occurred (404) when calling the HeadObject operation: Key \"VPR_orfcalling_20240308012528_SRX11811992/output/VPR_orfcalling_20240308012528_SRX11811992_orf_features.csv\" does not exist\n",
      "fatal error: An error occurred (404) when calling the HeadObject operation: Key \"VPR_orfcalling_20240308012528_SRX11811993/output/VPR_orfcalling_20240308012528_SRX11811993_orf_features.csv\" does not exist\n",
      "fatal error: An error occurred (404) when calling the HeadObject operation: Key \"VPR_orfcalling_20240308012528_SRX11811994/output/VPR_orfcalling_20240308012528_SRX11811994_orf_features.csv\" does not exist\n",
      "fatal error: An error occurred (404) when calling the HeadObject operation: Key \"VPR_orfcalling_20240308012528_SRX11811995/output/VPR_orfcalling_20240308012528_SRX11811995_orf_features.csv\" does not exist\n",
      "fatal error: An error occurred (404) when calling the HeadObject operation: Key \"VPR_orfcalling_20240308012528_SRX11811996/output/VPR_orfcalling_20240308012528_SRX11811996_orf_features.csv\" does not exist\n",
      "fatal error: An error occurred (404) when calling the HeadObject operation: Key \"VPR_orfcalling_20240308012528_SRX11811997/output/VPR_orfcalling_20240308012528_SRX11811997_orf_features.csv\" does not exist\n",
      "fatal error: An error occurred (404) when calling the HeadObject operation: Key \"VPR_orfcalling_20240308012528_SRX11811998/output/VPR_orfcalling_20240308012528_SRX11811998_orf_features.csv\" does not exist\n",
      "fatal error: An error occurred (404) when calling the HeadObject operation: Key \"VPR_orfcalling_20240308012528_SRX11811999/output/VPR_orfcalling_20240308012528_SRX11811999_orf_features.csv\" does not exist\n",
      "fatal error: An error occurred (404) when calling the HeadObject operation: Key \"VPR_orfcalling_20240308012528_SRX11812000/output/VPR_orfcalling_20240308012528_SRX11812000_orf_features.csv\" does not exist\n",
      "fatal error: An error occurred (404) when calling the HeadObject operation: Key \"VPR_orfcalling_20240308012528_SRX11812001/output/VPR_orfcalling_20240308012528_SRX11812001_orf_features.csv\" does not exist\n",
      "fatal error: An error occurred (404) when calling the HeadObject operation: Key \"VPR_orfcalling_20240308012528_SRX11812002/output/VPR_orfcalling_20240308012528_SRX11812002_orf_features.csv\" does not exist\n",
      "fatal error: An error occurred (404) when calling the HeadObject operation: Key \"VPR_orfcalling_20240308012528_SRX11812003/output/VPR_orfcalling_20240308012528_SRX11812003_orf_features.csv\" does not exist\n",
      "fatal error: An error occurred (404) when calling the HeadObject operation: Key \"VPR_orfcalling_20240308012528_SRX11812004/output/VPR_orfcalling_20240308012528_SRX11812004_orf_features.csv\" does not exist\n",
      "fatal error: An error occurred (404) when calling the HeadObject operation: Key \"VPR_orfcalling_20240308012528_SRX11812005/output/VPR_orfcalling_20240308012528_SRX11812005_orf_features.csv\" does not exist\n"
     ]
    },
    {
     "name": "stdout",
     "output_type": "stream",
     "text": [
      "download: s3://velia-piperuns-dev/VPR_orfcalling_20240308012528_SRX11812006/output/VPR_orfcalling_20240308012528_SRX11812006_orf_features.csv to data/VPR_orfcalling_20240308012528_SRX11812006_orf_features.csv\n"
     ]
    },
    {
     "name": "stderr",
     "output_type": "stream",
     "text": [
      "fatal error: An error occurred (404) when calling the HeadObject operation: Key \"VPR_orfcalling_20240308012528_SRX11812007/output/VPR_orfcalling_20240308012528_SRX11812007_orf_features.csv\" does not exist\n",
      "fatal error: An error occurred (404) when calling the HeadObject operation: Key \"VPR_orfcalling_20240308012528_SRX11812008/output/VPR_orfcalling_20240308012528_SRX11812008_orf_features.csv\" does not exist\n",
      "fatal error: An error occurred (404) when calling the HeadObject operation: Key \"VPR_orfcalling_20240308012528_SRX11812009/output/VPR_orfcalling_20240308012528_SRX11812009_orf_features.csv\" does not exist\n",
      "fatal error: An error occurred (404) when calling the HeadObject operation: Key \"VPR_orfcalling_20240308012528_SRX11812010/output/VPR_orfcalling_20240308012528_SRX11812010_orf_features.csv\" does not exist\n",
      "fatal error: An error occurred (404) when calling the HeadObject operation: Key \"VPR_orfcalling_20240308012528_SRX11812011/output/VPR_orfcalling_20240308012528_SRX11812011_orf_features.csv\" does not exist\n",
      "fatal error: An error occurred (404) when calling the HeadObject operation: Key \"VPR_orfcalling_20240308012528_SRX11812012/output/VPR_orfcalling_20240308012528_SRX11812012_orf_features.csv\" does not exist\n",
      "fatal error: An error occurred (404) when calling the HeadObject operation: Key \"VPR_orfcalling_20240308012528_SRX11812013/output/VPR_orfcalling_20240308012528_SRX11812013_orf_features.csv\" does not exist\n",
      "fatal error: An error occurred (404) when calling the HeadObject operation: Key \"VPR_orfcalling_20240308012528_SRX11812014/output/VPR_orfcalling_20240308012528_SRX11812014_orf_features.csv\" does not exist\n",
      "fatal error: An error occurred (404) when calling the HeadObject operation: Key \"VPR_orfcalling_20240308012528_SRX11812015/output/VPR_orfcalling_20240308012528_SRX11812015_orf_features.csv\" does not exist\n",
      "fatal error: An error occurred (404) when calling the HeadObject operation: Key \"VPR_orfcalling_20240308012528_SRX11812016/output/VPR_orfcalling_20240308012528_SRX11812016_orf_features.csv\" does not exist\n",
      "fatal error: An error occurred (404) when calling the HeadObject operation: Key \"VPR_orfcalling_20240308012528_SRX11812017/output/VPR_orfcalling_20240308012528_SRX11812017_orf_features.csv\" does not exist\n",
      "fatal error: An error occurred (404) when calling the HeadObject operation: Key \"VPR_orfcalling_20240308012528_SRX11812018/output/VPR_orfcalling_20240308012528_SRX11812018_orf_features.csv\" does not exist\n",
      "fatal error: An error occurred (404) when calling the HeadObject operation: Key \"VPR_orfcalling_20240308012528_SRX11812019/output/VPR_orfcalling_20240308012528_SRX11812019_orf_features.csv\" does not exist\n",
      "fatal error: An error occurred (404) when calling the HeadObject operation: Key \"VPR_orfcalling_20240308012528_SRX11812020/output/VPR_orfcalling_20240308012528_SRX11812020_orf_features.csv\" does not exist\n",
      "fatal error: An error occurred (404) when calling the HeadObject operation: Key \"VPR_orfcalling_20240308012528_SRX1402454/output/VPR_orfcalling_20240308012528_SRX1402454_orf_features.csv\" does not exist\n",
      "fatal error: An error occurred (404) when calling the HeadObject operation: Key \"VPR_orfcalling_20240308012528_SRX1402455/output/VPR_orfcalling_20240308012528_SRX1402455_orf_features.csv\" does not exist\n",
      "fatal error: An error occurred (404) when calling the HeadObject operation: Key \"VPR_orfcalling_20240308012528_SRX1402457/output/VPR_orfcalling_20240308012528_SRX1402457_orf_features.csv\" does not exist\n",
      "fatal error: An error occurred (404) when calling the HeadObject operation: Key \"VPR_orfcalling_20240308012528_SRX1402458/output/VPR_orfcalling_20240308012528_SRX1402458_orf_features.csv\" does not exist\n"
     ]
    },
    {
     "name": "stdout",
     "output_type": "stream",
     "text": [
      "download: s3://velia-piperuns-dev/VPR_orfcalling_20240308012528_SRX3884275/output/VPR_orfcalling_20240308012528_SRX3884275_orf_features.csv to data/VPR_orfcalling_20240308012528_SRX3884275_orf_features.csv\n",
      "download: s3://velia-piperuns-dev/VPR_orfcalling_20240308012528_SRX3884277/output/VPR_orfcalling_20240308012528_SRX3884277_orf_features.csv to data/VPR_orfcalling_20240308012528_SRX3884277_orf_features.csv\n"
     ]
    },
    {
     "name": "stderr",
     "output_type": "stream",
     "text": [
      "fatal error: An error occurred (404) when calling the HeadObject operation: Key \"VPR_orfcalling_20240308012528_SRX3884280/output/VPR_orfcalling_20240308012528_SRX3884280_orf_features.csv\" does not exist\n"
     ]
    },
    {
     "name": "stdout",
     "output_type": "stream",
     "text": [
      "download: s3://velia-piperuns-dev/VPR_orfcalling_20240308012528_SRX3884282/output/VPR_orfcalling_20240308012528_SRX3884282_orf_features.csv to data/VPR_orfcalling_20240308012528_SRX3884282_orf_features.csv\n",
      "download: s3://velia-piperuns-dev/VPR_orfcalling_20240308012528_SRX3884284/output/VPR_orfcalling_20240308012528_SRX3884284_orf_features.csv to data/VPR_orfcalling_20240308012528_SRX3884284_orf_features.csv\n"
     ]
    },
    {
     "name": "stderr",
     "output_type": "stream",
     "text": [
      "fatal error: An error occurred (404) when calling the HeadObject operation: Key \"VPR_orfcalling_20240308012528_SRX3884286/output/VPR_orfcalling_20240308012528_SRX3884286_orf_features.csv\" does not exist\n"
     ]
    },
    {
     "name": "stdout",
     "output_type": "stream",
     "text": [
      "download: s3://velia-piperuns-dev/VPR_orfcalling_20240308012528_SRX3884288/output/VPR_orfcalling_20240308012528_SRX3884288_orf_features.csv to data/VPR_orfcalling_20240308012528_SRX3884288_orf_features.csv\n",
      "download: s3://velia-piperuns-dev/VPR_orfcalling_20240308012528_SRX3884290/output/VPR_orfcalling_20240308012528_SRX3884290_orf_features.csv to data/VPR_orfcalling_20240308012528_SRX3884290_orf_features.csv\n",
      "download: s3://velia-piperuns-dev/VPR_orfcalling_20240308012528_SRX3884292/output/VPR_orfcalling_20240308012528_SRX3884292_orf_features.csv to data/VPR_orfcalling_20240308012528_SRX3884292_orf_features.csv\n",
      "download: s3://velia-piperuns-dev/VPR_orfcalling_20240308012528_SRX3884294/output/VPR_orfcalling_20240308012528_SRX3884294_orf_features.csv to data/VPR_orfcalling_20240308012528_SRX3884294_orf_features.csv\n",
      "download: s3://velia-piperuns-dev/VPR_orfcalling_20240308012528_SRX3884296/output/VPR_orfcalling_20240308012528_SRX3884296_orf_features.csv to data/VPR_orfcalling_20240308012528_SRX3884296_orf_features.csv\n",
      "download: s3://velia-piperuns-dev/VPR_orfcalling_20240308012528_SRX3884298/output/VPR_orfcalling_20240308012528_SRX3884298_orf_features.csv to data/VPR_orfcalling_20240308012528_SRX3884298_orf_features.csv\n"
     ]
    },
    {
     "name": "stderr",
     "output_type": "stream",
     "text": [
      "fatal error: An error occurred (404) when calling the HeadObject operation: Key \"VPR_orfcalling_20240308012528_SRX3884300/output/VPR_orfcalling_20240308012528_SRX3884300_orf_features.csv\" does not exist\n",
      "fatal error: An error occurred (404) when calling the HeadObject operation: Key \"VPR_orfcalling_20240308012528_SRX3884302/output/VPR_orfcalling_20240308012528_SRX3884302_orf_features.csv\" does not exist\n"
     ]
    },
    {
     "name": "stdout",
     "output_type": "stream",
     "text": [
      "download: s3://velia-piperuns-dev/VPR_orfcalling_20240308012528_SRX3884304/output/VPR_orfcalling_20240308012528_SRX3884304_orf_features.csv to data/VPR_orfcalling_20240308012528_SRX3884304_orf_features.csv\n"
     ]
    },
    {
     "name": "stderr",
     "output_type": "stream",
     "text": [
      "fatal error: An error occurred (404) when calling the HeadObject operation: Key \"VPR_orfcalling_20240308012528_SRX3884306/output/VPR_orfcalling_20240308012528_SRX3884306_orf_features.csv\" does not exist\n"
     ]
    },
    {
     "name": "stdout",
     "output_type": "stream",
     "text": [
      "download: s3://velia-piperuns-dev/VPR_orfcalling_20240308012528_SRX3884308/output/VPR_orfcalling_20240308012528_SRX3884308_orf_features.csv to data/VPR_orfcalling_20240308012528_SRX3884308_orf_features.csv\n"
     ]
    },
    {
     "name": "stderr",
     "output_type": "stream",
     "text": [
      "fatal error: An error occurred (404) when calling the HeadObject operation: Key \"VPR_orfcalling_20240308012528_SRX3884310/output/VPR_orfcalling_20240308012528_SRX3884310_orf_features.csv\" does not exist\n"
     ]
    },
    {
     "name": "stdout",
     "output_type": "stream",
     "text": [
      "download: s3://velia-piperuns-dev/VPR_orfcalling_20240308012528_SRX3884312/output/VPR_orfcalling_20240308012528_SRX3884312_orf_features.csv to data/VPR_orfcalling_20240308012528_SRX3884312_orf_features.csv\n",
      "download: s3://velia-piperuns-dev/VPR_orfcalling_20240308012528_SRX3884314/output/VPR_orfcalling_20240308012528_SRX3884314_orf_features.csv to data/VPR_orfcalling_20240308012528_SRX3884314_orf_features.csv\n",
      "download: s3://velia-piperuns-dev/VPR_orfcalling_20240308012528_SRX5766767/output/VPR_orfcalling_20240308012528_SRX5766767_orf_features.csv to data/VPR_orfcalling_20240308012528_SRX5766767_orf_features.csv\n",
      "download: s3://velia-piperuns-dev/VPR_orfcalling_20240308012528_SRX5766768/output/VPR_orfcalling_20240308012528_SRX5766768_orf_features.csv to data/VPR_orfcalling_20240308012528_SRX5766768_orf_features.csv\n",
      "download: s3://velia-piperuns-dev/VPR_orfcalling_20240308012528_SRX5766769/output/VPR_orfcalling_20240308012528_SRX5766769_orf_features.csv to data/VPR_orfcalling_20240308012528_SRX5766769_orf_features.csv\n",
      "download: s3://velia-piperuns-dev/VPR_orfcalling_20240308012528_SRX5766770/output/VPR_orfcalling_20240308012528_SRX5766770_orf_features.csv to data/VPR_orfcalling_20240308012528_SRX5766770_orf_features.csv\n"
     ]
    },
    {
     "name": "stderr",
     "output_type": "stream",
     "text": [
      "fatal error: An error occurred (404) when calling the HeadObject operation: Key \"VPR_orfcalling_20240308012528_SRX5766771/output/VPR_orfcalling_20240308012528_SRX5766771_orf_features.csv\" does not exist\n",
      "fatal error: An error occurred (404) when calling the HeadObject operation: Key \"VPR_orfcalling_20240308012528_SRX663295/output/VPR_orfcalling_20240308012528_SRX663295_orf_features.csv\" does not exist\n",
      "fatal error: An error occurred (404) when calling the HeadObject operation: Key \"VPR_orfcalling_20240308012528_SRX663296/output/VPR_orfcalling_20240308012528_SRX663296_orf_features.csv\" does not exist\n",
      "fatal error: An error occurred (404) when calling the HeadObject operation: Key \"VPR_orfcalling_20240308012528_SRX663297/output/VPR_orfcalling_20240308012528_SRX663297_orf_features.csv\" does not exist\n",
      "fatal error: An error occurred (404) when calling the HeadObject operation: Key \"VPR_orfcalling_20240308012528_SRX663298/output/VPR_orfcalling_20240308012528_SRX663298_orf_features.csv\" does not exist\n",
      "fatal error: An error occurred (404) when calling the HeadObject operation: Key \"VPR_orfcalling_20240308012528_SRX663299/output/VPR_orfcalling_20240308012528_SRX663299_orf_features.csv\" does not exist\n",
      "fatal error: An error occurred (404) when calling the HeadObject operation: Key \"VPR_orfcalling_20240308012528_SRX663300/output/VPR_orfcalling_20240308012528_SRX663300_orf_features.csv\" does not exist\n"
     ]
    },
    {
     "name": "stdout",
     "output_type": "stream",
     "text": [
      "download: s3://velia-piperuns-dev/VPR_orfcalling_20240308012528_SRX8190759/output/VPR_orfcalling_20240308012528_SRX8190759_orf_features.csv to data/VPR_orfcalling_20240308012528_SRX8190759_orf_features.csv\n",
      "download: s3://velia-piperuns-dev/VPR_orfcalling_20240308012528_SRX8190760/output/VPR_orfcalling_20240308012528_SRX8190760_orf_features.csv to data/VPR_orfcalling_20240308012528_SRX8190760_orf_features.csv\n",
      "download: s3://velia-piperuns-dev/VPR_orfcalling_20240308012528_SRX8190763/output/VPR_orfcalling_20240308012528_SRX8190763_orf_features.csv to data/VPR_orfcalling_20240308012528_SRX8190763_orf_features.csv\n",
      "download: s3://velia-piperuns-dev/VPR_orfcalling_20240308012528_SRX8190764/output/VPR_orfcalling_20240308012528_SRX8190764_orf_features.csv to data/VPR_orfcalling_20240308012528_SRX8190764_orf_features.csv\n"
     ]
    },
    {
     "name": "stderr",
     "output_type": "stream",
     "text": [
      "fatal error: An error occurred (404) when calling the HeadObject operation: Key \"VPR_orfcalling_20240308012528_SRX8190767/output/VPR_orfcalling_20240308012528_SRX8190767_orf_features.csv\" does not exist\n"
     ]
    },
    {
     "name": "stdout",
     "output_type": "stream",
     "text": [
      "download: s3://velia-piperuns-dev/VPR_orfcalling_20240308012528_SRX8190768/output/VPR_orfcalling_20240308012528_SRX8190768_orf_features.csv to data/VPR_orfcalling_20240308012528_SRX8190768_orf_features.csv\n",
      "download: s3://velia-piperuns-dev/VPR_orfcalling_20240308012528_SRX8190771/output/VPR_orfcalling_20240308012528_SRX8190771_orf_features.csv to data/VPR_orfcalling_20240308012528_SRX8190771_orf_features.csv\n",
      "download: s3://velia-piperuns-dev/VPR_orfcalling_20240308012528_SRX8190772/output/VPR_orfcalling_20240308012528_SRX8190772_orf_features.csv to data/VPR_orfcalling_20240308012528_SRX8190772_orf_features.csv\n",
      "download: s3://velia-piperuns-dev/VPR_orfcalling_20240308012804_SRX663267/output/VPR_orfcalling_20240308012804_SRX663267_orf_features.csv to data/VPR_orfcalling_20240308012804_SRX663267_orf_features.csv\n",
      "download: s3://velia-piperuns-dev/VPR_orfcalling_20240308012804_SRX663268/output/VPR_orfcalling_20240308012804_SRX663268_orf_features.csv to data/VPR_orfcalling_20240308012804_SRX663268_orf_features.csv\n",
      "download: s3://velia-piperuns-dev/VPR_orfcalling_20240308012804_SRX663271/output/VPR_orfcalling_20240308012804_SRX663271_orf_features.csv to data/VPR_orfcalling_20240308012804_SRX663271_orf_features.csv\n",
      "download: s3://velia-piperuns-dev/VPR_orfcalling_20240308012804_SRX663272/output/VPR_orfcalling_20240308012804_SRX663272_orf_features.csv to data/VPR_orfcalling_20240308012804_SRX663272_orf_features.csv\n"
     ]
    },
    {
     "name": "stderr",
     "output_type": "stream",
     "text": [
      "fatal error: An error occurred (404) when calling the HeadObject operation: Key \"VPR_orfcalling_20240308012804_SRX663273/output/VPR_orfcalling_20240308012804_SRX663273_orf_features.csv\" does not exist\n",
      "fatal error: An error occurred (404) when calling the HeadObject operation: Key \"VPR_orfcalling_20240308012804_SRX663274/output/VPR_orfcalling_20240308012804_SRX663274_orf_features.csv\" does not exist\n",
      "fatal error: An error occurred (404) when calling the HeadObject operation: Key \"VPR_orfcalling_20240308012804_SRX952421/output/VPR_orfcalling_20240308012804_SRX952421_orf_features.csv\" does not exist\n",
      "fatal error: An error occurred (404) when calling the HeadObject operation: Key \"VPR_orfcalling_20240308012804_SRX952422/output/VPR_orfcalling_20240308012804_SRX952422_orf_features.csv\" does not exist\n",
      "fatal error: An error occurred (404) when calling the HeadObject operation: Key \"VPR_orfcalling_20240308012804_SRX952425/output/VPR_orfcalling_20240308012804_SRX952425_orf_features.csv\" does not exist\n",
      "fatal error: An error occurred (404) when calling the HeadObject operation: Key \"VPR_orfcalling_20240308012804_SRX952426/output/VPR_orfcalling_20240308012804_SRX952426_orf_features.csv\" does not exist\n"
     ]
    },
    {
     "name": "stdout",
     "output_type": "stream",
     "text": [
      "download: s3://velia-piperuns-dev/VPR_orfcalling_20240308012940_ERX3391949/output/VPR_orfcalling_20240308012940_ERX3391949_orf_features.csv to data/VPR_orfcalling_20240308012940_ERX3391949_orf_features.csv\n",
      "download: s3://velia-piperuns-dev/VPR_orfcalling_20240308012940_ERX3391950/output/VPR_orfcalling_20240308012940_ERX3391950_orf_features.csv to data/VPR_orfcalling_20240308012940_ERX3391950_orf_features.csv\n",
      "download: s3://velia-piperuns-dev/VPR_orfcalling_20240308012940_SRX1254413/output/VPR_orfcalling_20240308012940_SRX1254413_orf_features.csv to data/VPR_orfcalling_20240308012940_SRX1254413_orf_features.csv\n",
      "download: s3://velia-piperuns-dev/VPR_orfcalling_20240308012940_SRX1447296/output/VPR_orfcalling_20240308012940_SRX1447296_orf_features.csv to data/VPR_orfcalling_20240308012940_SRX1447296_orf_features.csv\n",
      "download: s3://velia-piperuns-dev/VPR_orfcalling_20240308012940_SRX1447297/output/VPR_orfcalling_20240308012940_SRX1447297_orf_features.csv to data/VPR_orfcalling_20240308012940_SRX1447297_orf_features.csv\n",
      "download: s3://velia-piperuns-dev/VPR_orfcalling_20240308012940_SRX7666669/output/VPR_orfcalling_20240308012940_SRX7666669_orf_features.csv to data/VPR_orfcalling_20240308012940_SRX7666669_orf_features.csv\n",
      "download: s3://velia-piperuns-dev/VPR_orfcalling_20240308012940_SRX7666670/output/VPR_orfcalling_20240308012940_SRX7666670_orf_features.csv to data/VPR_orfcalling_20240308012940_SRX7666670_orf_features.csv\n",
      "download: s3://velia-piperuns-dev/VPR_orfcalling_20240308012940_SRX7666671/output/VPR_orfcalling_20240308012940_SRX7666671_orf_features.csv to data/VPR_orfcalling_20240308012940_SRX7666671_orf_features.csv\n",
      "download: s3://velia-piperuns-dev/VPR_orfcalling_20240308012940_SRX7666672/output/VPR_orfcalling_20240308012940_SRX7666672_orf_features.csv to data/VPR_orfcalling_20240308012940_SRX7666672_orf_features.csv\n",
      "download: s3://velia-piperuns-dev/VPR_orfcalling_20240308012940_SRX7666673/output/VPR_orfcalling_20240308012940_SRX7666673_orf_features.csv to data/VPR_orfcalling_20240308012940_SRX7666673_orf_features.csv\n",
      "download: s3://velia-piperuns-dev/VPR_orfcalling_20240308012940_SRX7666674/output/VPR_orfcalling_20240308012940_SRX7666674_orf_features.csv to data/VPR_orfcalling_20240308012940_SRX7666674_orf_features.csv\n",
      "download: s3://velia-piperuns-dev/VPR_orfcalling_20240308012940_SRX7666675/output/VPR_orfcalling_20240308012940_SRX7666675_orf_features.csv to data/VPR_orfcalling_20240308012940_SRX7666675_orf_features.csv\n",
      "download: s3://velia-piperuns-dev/VPR_orfcalling_20240308012940_SRX7666676/output/VPR_orfcalling_20240308012940_SRX7666676_orf_features.csv to data/VPR_orfcalling_20240308012940_SRX7666676_orf_features.csv\n",
      "download: s3://velia-piperuns-dev/VPR_orfcalling_20240308012940_SRX7666677/output/VPR_orfcalling_20240308012940_SRX7666677_orf_features.csv to data/VPR_orfcalling_20240308012940_SRX7666677_orf_features.csv\n",
      "download: s3://velia-piperuns-dev/VPR_orfcalling_20240308012940_SRX7666678/output/VPR_orfcalling_20240308012940_SRX7666678_orf_features.csv to data/VPR_orfcalling_20240308012940_SRX7666678_orf_features.csv\n",
      "download: s3://velia-piperuns-dev/VPR_orfcalling_20240308012940_SRX7666679/output/VPR_orfcalling_20240308012940_SRX7666679_orf_features.csv to data/VPR_orfcalling_20240308012940_SRX7666679_orf_features.csv\n",
      "download: s3://velia-piperuns-dev/VPR_orfcalling_20240308012940_SRX7666680/output/VPR_orfcalling_20240308012940_SRX7666680_orf_features.csv to data/VPR_orfcalling_20240308012940_SRX7666680_orf_features.csv\n",
      "download: s3://velia-piperuns-dev/VPR_orfcalling_20240308012940_SRX7666681/output/VPR_orfcalling_20240308012940_SRX7666681_orf_features.csv to data/VPR_orfcalling_20240308012940_SRX7666681_orf_features.csv\n",
      "download: s3://velia-piperuns-dev/VPR_orfcalling_20240308012940_SRX7666682/output/VPR_orfcalling_20240308012940_SRX7666682_orf_features.csv to data/VPR_orfcalling_20240308012940_SRX7666682_orf_features.csv\n",
      "download: s3://velia-piperuns-dev/VPR_orfcalling_20240308012940_SRX7666683/output/VPR_orfcalling_20240308012940_SRX7666683_orf_features.csv to data/VPR_orfcalling_20240308012940_SRX7666683_orf_features.csv\n",
      "download: s3://velia-piperuns-dev/VPR_orfcalling_20240308012940_SRX7666684/output/VPR_orfcalling_20240308012940_SRX7666684_orf_features.csv to data/VPR_orfcalling_20240308012940_SRX7666684_orf_features.csv\n",
      "download: s3://velia-piperuns-dev/VPR_orfcalling_20240308012940_SRX7666685/output/VPR_orfcalling_20240308012940_SRX7666685_orf_features.csv to data/VPR_orfcalling_20240308012940_SRX7666685_orf_features.csv\n",
      "download: s3://velia-piperuns-dev/VPR_orfcalling_20240308012940_SRX7666686/output/VPR_orfcalling_20240308012940_SRX7666686_orf_features.csv to data/VPR_orfcalling_20240308012940_SRX7666686_orf_features.csv\n",
      "download: s3://velia-piperuns-dev/VPR_orfcalling_20240308012940_SRX7666687/output/VPR_orfcalling_20240308012940_SRX7666687_orf_features.csv to data/VPR_orfcalling_20240308012940_SRX7666687_orf_features.csv\n",
      "download: s3://velia-piperuns-dev/VPR_orfcalling_20240308012940_SRX7666688/output/VPR_orfcalling_20240308012940_SRX7666688_orf_features.csv to data/VPR_orfcalling_20240308012940_SRX7666688_orf_features.csv\n",
      "download: s3://velia-piperuns-dev/VPR_orfcalling_20240308012940_SRX7666689/output/VPR_orfcalling_20240308012940_SRX7666689_orf_features.csv to data/VPR_orfcalling_20240308012940_SRX7666689_orf_features.csv\n",
      "download: s3://velia-piperuns-dev/VPR_orfcalling_20240308012940_SRX7666690/output/VPR_orfcalling_20240308012940_SRX7666690_orf_features.csv to data/VPR_orfcalling_20240308012940_SRX7666690_orf_features.csv\n",
      "download: s3://velia-piperuns-dev/VPR_orfcalling_20240308012940_SRX7666691/output/VPR_orfcalling_20240308012940_SRX7666691_orf_features.csv to data/VPR_orfcalling_20240308012940_SRX7666691_orf_features.csv\n",
      "download: s3://velia-piperuns-dev/VPR_orfcalling_20240308012940_SRX7666692/output/VPR_orfcalling_20240308012940_SRX7666692_orf_features.csv to data/VPR_orfcalling_20240308012940_SRX7666692_orf_features.csv\n",
      "download: s3://velia-piperuns-dev/VPR_orfcalling_20240308012940_SRX7666693/output/VPR_orfcalling_20240308012940_SRX7666693_orf_features.csv to data/VPR_orfcalling_20240308012940_SRX7666693_orf_features.csv\n",
      "download: s3://velia-piperuns-dev/VPR_orfcalling_20240308012940_SRX7666694/output/VPR_orfcalling_20240308012940_SRX7666694_orf_features.csv to data/VPR_orfcalling_20240308012940_SRX7666694_orf_features.csv\n",
      "download: s3://velia-piperuns-dev/VPR_orfcalling_20240308012940_SRX7666695/output/VPR_orfcalling_20240308012940_SRX7666695_orf_features.csv to data/VPR_orfcalling_20240308012940_SRX7666695_orf_features.csv\n",
      "download: s3://velia-piperuns-dev/VPR_orfcalling_20240308012940_SRX7666696/output/VPR_orfcalling_20240308012940_SRX7666696_orf_features.csv to data/VPR_orfcalling_20240308012940_SRX7666696_orf_features.csv\n",
      "download: s3://velia-piperuns-dev/VPR_orfcalling_20240308012940_SRX7666697/output/VPR_orfcalling_20240308012940_SRX7666697_orf_features.csv to data/VPR_orfcalling_20240308012940_SRX7666697_orf_features.csv\n",
      "download: s3://velia-piperuns-dev/VPR_orfcalling_20240308012940_SRX7666698/output/VPR_orfcalling_20240308012940_SRX7666698_orf_features.csv to data/VPR_orfcalling_20240308012940_SRX7666698_orf_features.csv\n",
      "download: s3://velia-piperuns-dev/VPR_orfcalling_20240308012940_SRX876046/output/VPR_orfcalling_20240308012940_SRX876046_orf_features.csv to data/VPR_orfcalling_20240308012940_SRX876046_orf_features.csv\n",
      "download: s3://velia-piperuns-dev/VPR_orfcalling_20240308012940_SRX876047/output/VPR_orfcalling_20240308012940_SRX876047_orf_features.csv to data/VPR_orfcalling_20240308012940_SRX876047_orf_features.csv\n",
      "download: s3://velia-piperuns-dev/VPR_orfcalling_20240308012940_SRX876048/output/VPR_orfcalling_20240308012940_SRX876048_orf_features.csv to data/VPR_orfcalling_20240308012940_SRX876048_orf_features.csv\n",
      "download: s3://velia-piperuns-dev/VPR_orfcalling_20240308012940_SRX876049/output/VPR_orfcalling_20240308012940_SRX876049_orf_features.csv to data/VPR_orfcalling_20240308012940_SRX876049_orf_features.csv\n"
     ]
    },
    {
     "name": "stderr",
     "output_type": "stream",
     "text": [
      "fatal error: An error occurred (404) when calling the HeadObject operation: Key \"VPR_orfcalling_20240308012940_SRX876050/output/VPR_orfcalling_20240308012940_SRX876050_orf_features.csv\" does not exist\n",
      "fatal error: An error occurred (404) when calling the HeadObject operation: Key \"VPR_orfcalling_20240308012940_SRX876051/output/VPR_orfcalling_20240308012940_SRX876051_orf_features.csv\" does not exist\n",
      "fatal error: An error occurred (404) when calling the HeadObject operation: Key \"VPR_orfcalling_20240308012940_SRX876052/output/VPR_orfcalling_20240308012940_SRX876052_orf_features.csv\" does not exist\n",
      "fatal error: An error occurred (404) when calling the HeadObject operation: Key \"VPR_orfcalling_20240308012940_SRX876053/output/VPR_orfcalling_20240308012940_SRX876053_orf_features.csv\" does not exist\n"
     ]
    },
    {
     "name": "stdout",
     "output_type": "stream",
     "text": [
      "download: s3://velia-piperuns-dev/VPR_orfcalling_20240308012940_SRX876054/output/VPR_orfcalling_20240308012940_SRX876054_orf_features.csv to data/VPR_orfcalling_20240308012940_SRX876054_orf_features.csv\n",
      "download: s3://velia-piperuns-dev/VPR_orfcalling_20240308012940_SRX876055/output/VPR_orfcalling_20240308012940_SRX876055_orf_features.csv to data/VPR_orfcalling_20240308012940_SRX876055_orf_features.csv\n",
      "download: s3://velia-piperuns-dev/VPR_orfcalling_20240308012940_SRX876056/output/VPR_orfcalling_20240308012940_SRX876056_orf_features.csv to data/VPR_orfcalling_20240308012940_SRX876056_orf_features.csv\n",
      "download: s3://velia-piperuns-dev/VPR_orfcalling_20240308012940_SRX876057/output/VPR_orfcalling_20240308012940_SRX876057_orf_features.csv to data/VPR_orfcalling_20240308012940_SRX876057_orf_features.csv\n",
      "download: s3://velia-piperuns-dev/VPR_orfcalling_20240308012940_SRX876058/output/VPR_orfcalling_20240308012940_SRX876058_orf_features.csv to data/VPR_orfcalling_20240308012940_SRX876058_orf_features.csv\n",
      "download: s3://velia-piperuns-dev/VPR_orfcalling_20240308012940_SRX876059/output/VPR_orfcalling_20240308012940_SRX876059_orf_features.csv to data/VPR_orfcalling_20240308012940_SRX876059_orf_features.csv\n",
      "download: s3://velia-piperuns-dev/VPR_orfcalling_20240308012940_SRX876063/output/VPR_orfcalling_20240308012940_SRX876063_orf_features.csv to data/VPR_orfcalling_20240308012940_SRX876063_orf_features.csv\n",
      "download: s3://velia-piperuns-dev/VPR_orfcalling_20240308012940_SRX876064/output/VPR_orfcalling_20240308012940_SRX876064_orf_features.csv to data/VPR_orfcalling_20240308012940_SRX876064_orf_features.csv\n",
      "download: s3://velia-piperuns-dev/VPR_orfcalling_20240308012940_SRX876065/output/VPR_orfcalling_20240308012940_SRX876065_orf_features.csv to data/VPR_orfcalling_20240308012940_SRX876065_orf_features.csv\n"
     ]
    },
    {
     "name": "stderr",
     "output_type": "stream",
     "text": [
      "fatal error: An error occurred (404) when calling the HeadObject operation: Key \"VPR_orfcalling_20240308012940_SRX876066/output/VPR_orfcalling_20240308012940_SRX876066_orf_features.csv\" does not exist\n",
      "fatal error: An error occurred (404) when calling the HeadObject operation: Key \"VPR_orfcalling_20240308012940_SRX876067/output/VPR_orfcalling_20240308012940_SRX876067_orf_features.csv\" does not exist\n",
      "fatal error: An error occurred (404) when calling the HeadObject operation: Key \"VPR_orfcalling_20240308012940_SRX876068/output/VPR_orfcalling_20240308012940_SRX876068_orf_features.csv\" does not exist\n"
     ]
    },
    {
     "name": "stdout",
     "output_type": "stream",
     "text": [
      "download: s3://velia-piperuns-dev/VPR_orfcalling_20240308012940_SRX876069/output/VPR_orfcalling_20240308012940_SRX876069_orf_features.csv to data/VPR_orfcalling_20240308012940_SRX876069_orf_features.csv\n",
      "download: s3://velia-piperuns-dev/VPR_orfcalling_20240308012940_SRX876070/output/VPR_orfcalling_20240308012940_SRX876070_orf_features.csv to data/VPR_orfcalling_20240308012940_SRX876070_orf_features.csv\n",
      "download: s3://velia-piperuns-dev/VPR_orfcalling_20240308012940_SRX876071/output/VPR_orfcalling_20240308012940_SRX876071_orf_features.csv to data/VPR_orfcalling_20240308012940_SRX876071_orf_features.csv\n"
     ]
    },
    {
     "name": "stderr",
     "output_type": "stream",
     "text": [
      "fatal error: An error occurred (404) when calling the HeadObject operation: Key \"VPR_orfcalling_20240308012940_SRX876072/output/VPR_orfcalling_20240308012940_SRX876072_orf_features.csv\" does not exist\n",
      "fatal error: An error occurred (404) when calling the HeadObject operation: Key \"VPR_orfcalling_20240308012940_SRX876073/output/VPR_orfcalling_20240308012940_SRX876073_orf_features.csv\" does not exist\n",
      "fatal error: An error occurred (404) when calling the HeadObject operation: Key \"VPR_orfcalling_20240308012940_SRX876074/output/VPR_orfcalling_20240308012940_SRX876074_orf_features.csv\" does not exist\n"
     ]
    }
   ],
   "source": [
    "postive_orf_key = set()\n",
    "for experiment_name in open(f\"{local_folder}/experiments.txt\"):\n",
    "    experiment_name = experiment_name.split(\"PRE\")[1].strip()[:-1]\n",
    "    features = []\n",
    "    utils.download_feature_set(\n",
    "        experiment_name=experiment_name,\n",
    "        local_folder=\"./data/\")\n",
    "    \n",
    "    # skip experiments that failed riboseq QC\n",
    "    if not os.path.exists(f\"{local_folder}/{experiment_name}_orf_features.csv\"):\n",
    "        continue\n",
    "        \n",
    "    utils.read_features_no_labels(\n",
    "        data_path=f\"{local_folder}/{experiment_name}_orf_features.csv\",\n",
    "        features = features)\n",
    "    utils.remove_local_copy(experiment_name, local_folder)\n",
    "    \n",
    "    (data_x, data_y, _, _, _, _) = utils.get_dataset(features, validation_chroms={}, test_chroms={})\n",
    "    y_pred_list = modeling_utils.predict(model, data_x)\n",
    "    \n",
    "    for orf_idx, (orf_key, _, _) in enumerate(features):\n",
    "        if y_pred_list[orf_idx] >= 0.5:\n",
    "            postive_orf_key.add(orf_key)"
   ]
  },
  {
   "cell_type": "code",
   "execution_count": 4,
   "id": "7efe0ea1-f1fa-4733-b010-486ab4689935",
   "metadata": {
    "tags": []
   },
   "outputs": [
    {
     "data": {
      "text/plain": [
       "9695"
      ]
     },
     "execution_count": 4,
     "metadata": {},
     "output_type": "execute_result"
    }
   ],
   "source": [
    "len(postive_orf_key)"
   ]
  },
  {
   "cell_type": "code",
   "execution_count": 5,
   "id": "224a9e15-74b4-4b82-96e3-8c2d6acbad29",
   "metadata": {},
   "outputs": [],
   "source": [
    "def save_orfs(local_folder, postive_orf_key):    \n",
    "    merged_orfs_info = {}\n",
    "    for index, row in pd.read_csv(\n",
    "        f\"{local_folder}/merged_orfs_found_by_any_caller.csv\",\n",
    "        sep='\\t',\n",
    "        index_col=0).iterrows():\n",
    "        orf_key = (row[\"chrom_id\"], str(row[\"orf_start\"]), str(row[\"orf_end\"]), row[\"strand\"], row[\"exon_blocks\"])\n",
    "        \n",
    "        if orf_key in postive_orf_key:\n",
    "            merged_orfs_info[orf_key] = row\n",
    "    df = pd.DataFrame(merged_orfs_info.values()).reset_index(drop=True)\n",
    "    df.to_csv(\n",
    "        f\"{local_folder}/merged_orfs_positive.csv\",\n",
    "        sep=\"\\t\",\n",
    "        index=False)"
   ]
  },
  {
   "cell_type": "code",
   "execution_count": 6,
   "id": "45f8c638-6170-4d4b-aaaf-778d87539140",
   "metadata": {
    "tags": []
   },
   "outputs": [],
   "source": [
    "save_orfs(local_folder, postive_orf_key)"
   ]
  }
 ],
 "metadata": {
  "kernelspec": {
   "display_name": "Python 3 (ipykernel)",
   "language": "python",
   "name": "python3"
  },
  "language_info": {
   "codemirror_mode": {
    "name": "ipython",
    "version": 3
   },
   "file_extension": ".py",
   "mimetype": "text/x-python",
   "name": "python",
   "nbconvert_exporter": "python",
   "pygments_lexer": "ipython3",
   "version": "3.10.12"
  }
 },
 "nbformat": 4,
 "nbformat_minor": 5
}
