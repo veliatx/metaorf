{
 "cells": [
  {
   "cell_type": "code",
   "execution_count": 1,
   "id": "677e47ff-7700-46f4-8d67-bf58c7c97b11",
   "metadata": {
    "tags": []
   },
   "outputs": [],
   "source": [
    "import pandas as pd\n",
    "\n",
    "from Bio.Seq import Seq\n",
    "from pathlib import Path\n",
    "from veliadb import base\n",
    "\n",
    "import dask.dataframe as dd\n",
    "from dask.distributed import Client, LocalCluster\n",
    "\n",
    "import pandas as pd"
   ]
  },
  {
   "cell_type": "code",
   "execution_count": 2,
   "id": "5e4a9f78-1a60-40e3-914c-a060101cd6b3",
   "metadata": {},
   "outputs": [],
   "source": [
    "cluster = LocalCluster(memory_limit='50GB')  # Adjust as per your system's capacity\n",
    "client = Client(cluster)"
   ]
  },
  {
   "cell_type": "code",
   "execution_count": 3,
   "id": "a481c7a5-4c6f-4911-84e9-d67e4012ee75",
   "metadata": {},
   "outputs": [],
   "source": [
    "session = base.Session()"
   ]
  },
  {
   "cell_type": "code",
   "execution_count": null,
   "id": "93b21073-3540-4f8c-ae81-d8bf22e40075",
   "metadata": {},
   "outputs": [],
   "source": []
  },
  {
   "cell_type": "code",
   "execution_count": 4,
   "id": "3d45d433-8d84-4e8d-83af-2ebb1a2313a6",
   "metadata": {
    "tags": []
   },
   "outputs": [],
   "source": [
    "bp_dir = Path('/home/ec2-user/velia-data-dev/VDC_004_annotation/big_prot/v0.8.1_minlen_15_maxlen_150/')\n",
    "data_dir = Path('../data').absolute()"
   ]
  },
  {
   "cell_type": "code",
   "execution_count": 5,
   "id": "ab235e34-47ce-405c-a32b-29f5f8b0b51f",
   "metadata": {},
   "outputs": [],
   "source": [
    "assembly_ids = {}\n",
    "\n",
    "for assembly in session.query(base.Assembly).all():\n",
    "    if assembly.ucsc_style_name.startswith('chr') and len(assembly.ucsc_style_name) < 6:\n",
    "        assembly_ids[assembly.id] = assembly.ucsc_style_name\n",
    "    else:\n",
    "        assembly_ids[assembly.id] = assembly.genbank_accession"
   ]
  },
  {
   "cell_type": "code",
   "execution_count": 6,
   "id": "0073ed6c-6d20-4aa3-8562-c887283dadf6",
   "metadata": {},
   "outputs": [],
   "source": [
    "dtypes = {'ribocode': 'float64',\n",
    "          'ribotish': 'float64',\n",
    "          'three_utr_vs_stop_codon_max': 'float64',\n",
    "          'three_utr_vs_stop_codon_mean': 'float64',\n",
    "          'three_utr_vs_cds_max': 'float64',\n",
    "          'three_utr_vs_cds_mean': 'float64'}\n",
    "\n",
    "dataset_names = []\n",
    "for i, feature_file in enumerate(data_dir.glob('*orf_features.csv')):\n",
    "    #if i > 10:\n",
    "    #    continue\n",
    "    dataset_names.append(feature_file.name)\n",
    "\n",
    "feature_dds = []\n",
    "for dataset in dataset_names:\n",
    "    feature_dds.append(dd.read_csv(data_dir.joinpath(f'{dataset}'), sep='\\t', dtype=dtypes))\n",
    "\n",
    "feature_dd = dd.concat(feature_dds, axis=0)\n",
    "\n",
    "#for column in feature_dd.columns:\n",
    "#    if feature_dd[column].dtype != 'object':  # Assuming 'object' dtype for strings\n",
    "#        feature_dd[column] = feature_dd[column].astype('float64')\n",
    "\n",
    "#feature_df['orf_id'] = feature_df.apply(lambda x: f'{x.chrom_id}_{x.orf_start}_{x.orf_end}_{x.strand}_{x.exon_blocks}', axis=1)\n",
    "#feature_df.set_index('orf_id', inplace=True)\n",
    "#feature_df = feature_df.select_dtypes(include='number')\n",
    "#feature_df = feature_df.groupby('orf_id').mean()"
   ]
  },
  {
   "cell_type": "code",
   "execution_count": 8,
   "id": "c507c6ad-af42-455e-8bb5-35bc8e45251d",
   "metadata": {},
   "outputs": [],
   "source": [
    "def translate_nt(row):\n",
    "    \"\"\"\n",
    "    \"\"\"\n",
    "    try: \n",
    "        seq = str(Seq(row.orf_sequence).translate())\n",
    "    except:\n",
    "        seq = ''\n",
    "\n",
    "    return seq"
   ]
  },
  {
   "cell_type": "code",
   "execution_count": 9,
   "id": "cca05ca0-3f93-4d7e-84c6-744c58a90410",
   "metadata": {},
   "outputs": [],
   "source": [
    "feature_dd['aa'] = feature_dd.apply(translate_nt, axis=1, meta=('aa', 'object'))"
   ]
  },
  {
   "cell_type": "code",
   "execution_count": 10,
   "id": "32c04126-f649-4a63-84a5-c206af10346c",
   "metadata": {},
   "outputs": [],
   "source": [
    "feature_df = feature_dd.compute()"
   ]
  },
  {
   "cell_type": "code",
   "execution_count": 11,
   "id": "7bc184c6-a708-46e0-bd47-2ffd9a54112f",
   "metadata": {},
   "outputs": [],
   "source": [
    "feature_df.to_csv('../data/features_all_aa.csv')"
   ]
  },
  {
   "cell_type": "code",
   "execution_count": 18,
   "id": "9fdc08f1-648a-40db-a63c-bdb61b589b84",
   "metadata": {},
   "outputs": [],
   "source": [
    "#feature_df['length'] = feature_df.apply(lambda x: len(x['orf_sequence']), axis=1)\n",
    "#feature_df[(feature_df['length'] > 45) & (feature_df['length'] < 451)]"
   ]
  },
  {
   "cell_type": "code",
   "execution_count": 12,
   "id": "b9371420-8123-4f8b-a065-503a9db36ba2",
   "metadata": {
    "tags": []
   },
   "outputs": [],
   "source": [
    "bp_df = pd.read_csv(bp_dir.joinpath('orfset_v0.8.1_minlen_15_maxlen_150_orfs.csv.gz'))"
   ]
  },
  {
   "cell_type": "code",
   "execution_count": 13,
   "id": "3ea53506-f306-4a70-a4cd-448687f5c975",
   "metadata": {},
   "outputs": [],
   "source": [
    "feature_bp_df = feature_df.merge(bp_df, left_on='aa', right_on='orf.aa_seq')"
   ]
  },
  {
   "cell_type": "code",
   "execution_count": null,
   "id": "b7512795-fb2c-4d75-947a-5f4cd930f6c9",
   "metadata": {},
   "outputs": [],
   "source": [
    "feature_bp_df.drop_duplicates(inplace=True)"
   ]
  },
  {
   "cell_type": "code",
   "execution_count": 15,
   "id": "f068fb86-4de3-46f1-9cb6-0442a422c8b3",
   "metadata": {},
   "outputs": [],
   "source": [
    "feature_bp_df.to_csv('../data/features_all_aa-bp.csv')"
   ]
  },
  {
   "cell_type": "code",
   "execution_count": 69,
   "id": "b7fc416a-b3ba-4fe0-b2e8-1c062be8a111",
   "metadata": {},
   "outputs": [],
   "source": [
    "bp_df['orf.ucsc_style_name'] = bp_df.apply(lambda x: assembly_ids[x['orf.assembly_id']], axis=1)"
   ]
  },
  {
   "cell_type": "code",
   "execution_count": 70,
   "id": "741b5ec9-c96d-4fa6-9e16-aaf0b7486fa0",
   "metadata": {
    "tags": []
   },
   "outputs": [],
   "source": [
    "feature_df = pd.read_csv('../data/orf_features_all.csv', index_col='orf_id')"
   ]
  },
  {
   "cell_type": "code",
   "execution_count": null,
   "id": "fa096540-8e16-41d1-9d56-a025380b4ac0",
   "metadata": {},
   "outputs": [],
   "source": []
  },
  {
   "cell_type": "code",
   "execution_count": 76,
   "id": "99e796be-35db-4c6d-a670-73285aeb856c",
   "metadata": {},
   "outputs": [],
   "source": [
    "bp_df['orf.orf_ribo_idx_str'] = bp_df.apply(lambda x: generate_ribo_style_idx_str(x), axis=1)"
   ]
  },
  {
   "cell_type": "code",
   "execution_count": null,
   "id": "de62fb95-dcf1-45de-a398-c7858b860314",
   "metadata": {},
   "outputs": [],
   "source": []
  },
  {
   "cell_type": "markdown",
   "id": "7be60059-ab15-4168-a5a7-4ab744d0d18a",
   "metadata": {},
   "source": [
    "#### Custom lists"
   ]
  },
  {
   "cell_type": "code",
   "execution_count": 8,
   "id": "8cdb9acd-8950-4dd1-a20f-52bba5a9f070",
   "metadata": {
    "tags": []
   },
   "outputs": [],
   "source": [
    "negatives_lvn_df = pd.read_csv('../data/negatives_to_map.txt', sep='\\t', header=None)\n",
    "negatives_lvn_df[1] = negatives_lvn_df[1] + '*'\n",
    "neg_df = negatives_lvn_df.merge(bp_df, left_on=1, right_on='orf.aa_seq')\n",
    "neg_df.to_csv('../data/negatives_bp-v081_240313.csv', index=None)"
   ]
  },
  {
   "cell_type": "code",
   "execution_count": 14,
   "id": "3dddd8d5-cccb-4235-a6f0-1dc9e9e459b5",
   "metadata": {
    "tags": []
   },
   "outputs": [],
   "source": [
    "list2_df = pd.read_csv('../data/list2.txt', sep='\\t', header=None)\n",
    "list2_df[1] = list2_df[1] + '*'\n",
    "list2_bp_df = list2_df.merge(bp_df, left_on=1, right_on='orf.aa_seq')\n",
    "list2_bp_df.to_csv('../data/list2_bp-v081_240313.csv', index=None)"
   ]
  },
  {
   "cell_type": "code",
   "execution_count": 20,
   "id": "4c33c4c5-d505-42bd-b8ef-b633768483ef",
   "metadata": {
    "tags": []
   },
   "outputs": [],
   "source": [
    "prot_df = pd.read_csv('../data/prot_to_map.txt', sep='\\t', header=None)\n",
    "prot_df[1] = prot_df[1] + '*'\n",
    "prot_bp_df = prot_df.merge(bp_df, left_on=1, right_on='orf.aa_seq')\n",
    "prot_bp_df.to_csv('../data/prot2map_bp-v081_240313.csv', index=None)"
   ]
  },
  {
   "cell_type": "code",
   "execution_count": 22,
   "id": "8465f488-51c3-4437-9b25-7f50c13ab846",
   "metadata": {
    "tags": []
   },
   "outputs": [],
   "source": []
  }
 ],
 "metadata": {
  "kernelspec": {
   "display_name": "Python 3 (ipykernel)",
   "language": "python",
   "name": "python3"
  },
  "language_info": {
   "codemirror_mode": {
    "name": "ipython",
    "version": 3
   },
   "file_extension": ".py",
   "mimetype": "text/x-python",
   "name": "python",
   "nbconvert_exporter": "python",
   "pygments_lexer": "ipython3",
   "version": "3.10.12"
  }
 },
 "nbformat": 4,
 "nbformat_minor": 5
}
