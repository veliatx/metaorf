{
 "cells": [
  {
   "cell_type": "markdown",
   "id": "cdb87457-aca7-48c2-86a5-870a6db389f6",
   "metadata": {},
   "source": [
    "This is a script where we generates multiple versions of models and compare their perfromance.\n",
    "To generate and save the final model, use another script named \"run_modeling_main.ipynb\""
   ]
  },
  {
   "cell_type": "code",
   "execution_count": 1,
   "id": "18773008-38d2-468c-a725-7d30c59e47d2",
   "metadata": {
    "tags": []
   },
   "outputs": [],
   "source": [
    "import random\n",
    "import torch.nn as nn\n",
    "\n",
    "import utils\n",
    "import modeling_utils\n",
    "from importlib import reload"
   ]
  },
  {
   "cell_type": "code",
   "execution_count": 2,
   "id": "feb4b775-ee29-4afd-8bfa-ec238104b09c",
   "metadata": {
    "tags": []
   },
   "outputs": [
    {
     "name": "stdout",
     "output_type": "stream",
     "text": [
      "('chr4', '164877331', '164879008', '+', '164877331-164877407|164878919-164879008')\n"
     ]
    }
   ],
   "source": [
    "local_folder = \"./data/\"\n",
    "truthset_positive = f\"{local_folder}/truthset_positives.240227.tsv\"\n",
    "truthset_negative = f\"{local_folder}/truthset_negatives.240227.tsv\"\n",
    "label_columns = [\"score.(iPSC)\", \"score.(MB1)\", \"score.(Gaertner)\"]\n",
    "\n",
    "labels = {}\n",
    "utils.read_labels(data_path=truthset_negative, labels=labels, label_columns=label_columns)\n",
    "utils.read_labels(data_path=truthset_positive, labels=labels, label_columns=label_columns)"
   ]
  },
  {
   "cell_type": "code",
   "execution_count": 3,
   "id": "5c7d5d37-66e1-435a-935c-a7aebe0a4a01",
   "metadata": {
    "tags": []
   },
   "outputs": [
    {
     "name": "stdout",
     "output_type": "stream",
     "text": [
      "download: s3://velia-piperuns-dev/VPR_orfcalling_20240302075301_iPSC-rep1_SRR9113064/output/VPR_orfcalling_20240302075301_iPSC-rep1_SRR9113064_orf_features.csv to data/VPR_orfcalling_20240302075301_iPSC-rep1_SRR9113064_orf_features.csv\n",
      "206 2998\n",
      "download: s3://velia-piperuns-dev/VPR_orfcalling_20240302075301_iPSC-rep2_SRR9113065/output/VPR_orfcalling_20240302075301_iPSC-rep2_SRR9113065_orf_features.csv to data/VPR_orfcalling_20240302075301_iPSC-rep2_SRR9113065_orf_features.csv\n",
      "206 2992\n",
      "download: s3://velia-piperuns-dev/VPR_orfcalling_20240302075301_iPSC-rep3_SRR9113066/output/VPR_orfcalling_20240302075301_iPSC-rep3_SRR9113066_orf_features.csv to data/VPR_orfcalling_20240302075301_iPSC-rep3_SRR9113066_orf_features.csv\n",
      "204 2942\n",
      "download: s3://velia-piperuns-dev/VPR_orfcalling_20240302173017_SRX7666669/output/VPR_orfcalling_20240302173017_SRX7666669_orf_features.csv to data/VPR_orfcalling_20240302173017_SRX7666669_orf_features.csv\n",
      "211 3025\n",
      "download: s3://velia-piperuns-dev/VPR_orfcalling_20240302173017_SRX7666670/output/VPR_orfcalling_20240302173017_SRX7666670_orf_features.csv to data/VPR_orfcalling_20240302173017_SRX7666670_orf_features.csv\n",
      "217 3058\n",
      "download: s3://velia-piperuns-dev/VPR_orfcalling_20240302173017_SRX7666671/output/VPR_orfcalling_20240302173017_SRX7666671_orf_features.csv to data/VPR_orfcalling_20240302173017_SRX7666671_orf_features.csv\n",
      "213 3051\n",
      "download: s3://velia-piperuns-dev/VPR_orfcalling_20240302173017_SRX7666672/output/VPR_orfcalling_20240302173017_SRX7666672_orf_features.csv to data/VPR_orfcalling_20240302173017_SRX7666672_orf_features.csv\n",
      "211 3061\n",
      "download: s3://velia-piperuns-dev/VPR_orfcalling_20240302173017_SRX7666673/output/VPR_orfcalling_20240302173017_SRX7666673_orf_features.csv to data/VPR_orfcalling_20240302173017_SRX7666673_orf_features.csv\n",
      "213 3066\n",
      "download: s3://velia-piperuns-dev/VPR_orfcalling_20240302173017_SRX7666674/output/VPR_orfcalling_20240302173017_SRX7666674_orf_features.csv to data/VPR_orfcalling_20240302173017_SRX7666674_orf_features.csv\n",
      "217 3198\n",
      "download: s3://velia-piperuns-dev/VPR_orfcalling_20240302173017_SRX7666675/output/VPR_orfcalling_20240302173017_SRX7666675_orf_features.csv to data/VPR_orfcalling_20240302173017_SRX7666675_orf_features.csv\n",
      "216 3232\n",
      "download: s3://velia-piperuns-dev/VPR_orfcalling_20240302173017_SRX7666676/output/VPR_orfcalling_20240302173017_SRX7666676_orf_features.csv to data/VPR_orfcalling_20240302173017_SRX7666676_orf_features.csv\n",
      "218 3234\n",
      "download: s3://velia-piperuns-dev/VPR_orfcalling_20240302173017_SRX7666677/output/VPR_orfcalling_20240302173017_SRX7666677_orf_features.csv to data/VPR_orfcalling_20240302173017_SRX7666677_orf_features.csv\n",
      "217 3250\n",
      "download: s3://velia-piperuns-dev/VPR_orfcalling_20240302173017_SRX7666678/output/VPR_orfcalling_20240302173017_SRX7666678_orf_features.csv to data/VPR_orfcalling_20240302173017_SRX7666678_orf_features.csv\n",
      "216 3248\n",
      "download: s3://velia-piperuns-dev/VPR_orfcalling_20240302173017_SRX7666679/output/VPR_orfcalling_20240302173017_SRX7666679_orf_features.csv to data/VPR_orfcalling_20240302173017_SRX7666679_orf_features.csv\n",
      "215 3263\n",
      "download: s3://velia-piperuns-dev/VPR_orfcalling_20240302173017_SRX7666680/output/VPR_orfcalling_20240302173017_SRX7666680_orf_features.csv to data/VPR_orfcalling_20240302173017_SRX7666680_orf_features.csv\n",
      "216 3261\n",
      "download: s3://velia-piperuns-dev/VPR_orfcalling_20240302173017_SRX7666681/output/VPR_orfcalling_20240302173017_SRX7666681_orf_features.csv to data/VPR_orfcalling_20240302173017_SRX7666681_orf_features.csv\n",
      "215 3271\n",
      "download: s3://velia-piperuns-dev/VPR_orfcalling_20240302173017_SRX7666682/output/VPR_orfcalling_20240302173017_SRX7666682_orf_features.csv to data/VPR_orfcalling_20240302173017_SRX7666682_orf_features.csv\n",
      "217 3273\n",
      "download: s3://velia-piperuns-dev/VPR_orfcalling_20240302173017_SRX7666683/output/VPR_orfcalling_20240302173017_SRX7666683_orf_features.csv to data/VPR_orfcalling_20240302173017_SRX7666683_orf_features.csv\n",
      "219 3240\n",
      "download: s3://velia-piperuns-dev/VPR_orfcalling_20240302173017_SRX7666684/output/VPR_orfcalling_20240302173017_SRX7666684_orf_features.csv to data/VPR_orfcalling_20240302173017_SRX7666684_orf_features.csv\n",
      "218 3212\n",
      "download: s3://velia-piperuns-dev/VPR_orfcalling_20240302173017_SRX7666685/output/VPR_orfcalling_20240302173017_SRX7666685_orf_features.csv to data/VPR_orfcalling_20240302173017_SRX7666685_orf_features.csv\n",
      "220 3259\n",
      "download: s3://velia-piperuns-dev/VPR_orfcalling_20240302173017_SRX7666686/output/VPR_orfcalling_20240302173017_SRX7666686_orf_features.csv to data/VPR_orfcalling_20240302173017_SRX7666686_orf_features.csv\n",
      "220 3253\n",
      "download: s3://velia-piperuns-dev/VPR_orfcalling_20240302173017_SRX7666687/output/VPR_orfcalling_20240302173017_SRX7666687_orf_features.csv to data/VPR_orfcalling_20240302173017_SRX7666687_orf_features.csv\n",
      "221 3255\n",
      "download: s3://velia-piperuns-dev/VPR_orfcalling_20240302173017_SRX7666688/output/VPR_orfcalling_20240302173017_SRX7666688_orf_features.csv to data/VPR_orfcalling_20240302173017_SRX7666688_orf_features.csv\n",
      "220 3243\n",
      "download: s3://velia-piperuns-dev/VPR_orfcalling_20240302173017_SRX7666689/output/VPR_orfcalling_20240302173017_SRX7666689_orf_features.csv to data/VPR_orfcalling_20240302173017_SRX7666689_orf_features.csv\n",
      "216 3141\n",
      "download: s3://velia-piperuns-dev/VPR_orfcalling_20240302173017_SRX7666690/output/VPR_orfcalling_20240302173017_SRX7666690_orf_features.csv to data/VPR_orfcalling_20240302173017_SRX7666690_orf_features.csv\n",
      "216 3192\n",
      "download: s3://velia-piperuns-dev/VPR_orfcalling_20240302173017_SRX7666691/output/VPR_orfcalling_20240302173017_SRX7666691_orf_features.csv to data/VPR_orfcalling_20240302173017_SRX7666691_orf_features.csv\n",
      "217 3203\n",
      "download: s3://velia-piperuns-dev/VPR_orfcalling_20240302173017_SRX7666692/output/VPR_orfcalling_20240302173017_SRX7666692_orf_features.csv to data/VPR_orfcalling_20240302173017_SRX7666692_orf_features.csv\n",
      "219 3187\n",
      "download: s3://velia-piperuns-dev/VPR_orfcalling_20240302173017_SRX7666693/output/VPR_orfcalling_20240302173017_SRX7666693_orf_features.csv to data/VPR_orfcalling_20240302173017_SRX7666693_orf_features.csv\n",
      "217 3228\n",
      "download: s3://velia-piperuns-dev/VPR_orfcalling_20240302173017_SRX7666694/output/VPR_orfcalling_20240302173017_SRX7666694_orf_features.csv to data/VPR_orfcalling_20240302173017_SRX7666694_orf_features.csv\n",
      "225 3218\n",
      "download: s3://velia-piperuns-dev/VPR_orfcalling_20240302173017_SRX7666695/output/VPR_orfcalling_20240302173017_SRX7666695_orf_features.csv to data/VPR_orfcalling_20240302173017_SRX7666695_orf_features.csv\n",
      "222 3235\n",
      "download: s3://velia-piperuns-dev/VPR_orfcalling_20240302173017_SRX7666696/output/VPR_orfcalling_20240302173017_SRX7666696_orf_features.csv to data/VPR_orfcalling_20240302173017_SRX7666696_orf_features.csv\n",
      "222 3224\n",
      "download: s3://velia-piperuns-dev/VPR_orfcalling_20240302173017_SRX7666697/output/VPR_orfcalling_20240302173017_SRX7666697_orf_features.csv to data/VPR_orfcalling_20240302173017_SRX7666697_orf_features.csv\n",
      "221 3256\n",
      "download: s3://velia-piperuns-dev/VPR_orfcalling_20240302173017_SRX7666698/output/VPR_orfcalling_20240302173017_SRX7666698_orf_features.csv to data/VPR_orfcalling_20240302173017_SRX7666698_orf_features.csv\n",
      "221 3252\n",
      "download: s3://velia-piperuns-dev/VPR_orfcalling_20240305203004_MB1_1A/output/VPR_orfcalling_20240305203004_MB1_1A_orf_features.csv to data/VPR_orfcalling_20240305203004_MB1_1A_orf_features.csv\n",
      "161 2104\n",
      "download: s3://velia-piperuns-dev/VPR_orfcalling_20240305203004_MB1_1B/output/VPR_orfcalling_20240305203004_MB1_1B_orf_features.csv to data/VPR_orfcalling_20240305203004_MB1_1B_orf_features.csv\n",
      "157 1791\n",
      "download: s3://velia-piperuns-dev/VPR_orfcalling_20240305203004_MB1_2A/output/VPR_orfcalling_20240305203004_MB1_2A_orf_features.csv to data/VPR_orfcalling_20240305203004_MB1_2A_orf_features.csv\n",
      "160 1927\n"
     ]
    }
   ],
   "source": [
    "group_names = [\"iPSC\", \"Gaertner\", \"MB1\"]\n",
    "experiment_groups = {}\n",
    "for group_name in group_names:\n",
    "    experiment_groups[group_name] = []\n",
    "    for line in open(f\"{local_folder}/{group_name}.txt\"):\n",
    "        experiment_groups[group_name].append(line.strip())\n",
    "\n",
    "features = {}\n",
    "for group_name, experiment_name_list in experiment_groups.items():\n",
    "    features[group_name] = []\n",
    "    for experiment_name in experiment_name_list:\n",
    "        utils.download_feature_set(\n",
    "            experiment_name=experiment_name,\n",
    "            local_folder=\"./data/\")\n",
    "        utils.read_features(\n",
    "            data_path=f\"{local_folder}/{experiment_name}_orf_features.csv\",\n",
    "            features = features[group_name],\n",
    "            labels=labels,\n",
    "            label_name=f\"score.({group_name})\")\n",
    "        utils.remove_local_copy(experiment_name, local_folder)"
   ]
  },
  {
   "cell_type": "code",
   "execution_count": 4,
   "id": "783bf322-9cce-4990-93ff-ac99eb658cc6",
   "metadata": {
    "tags": []
   },
   "outputs": [],
   "source": [
    "def run(feature_list):\n",
    "    validation_chroms = [\"chr1\", \"chr7\", \"chr14\", \"chr21\"]\n",
    "    test_chroms = [\"chr2\", \"chr8\", \"chr15\", \"chr22\"]\n",
    "    \n",
    "    (training_data_x, training_data_y,\n",
    "     validation_data_x, validation_data_y,\n",
    "     test_data_x, test_data_y) = utils.get_dataset(feature_list, validation_chroms, test_chroms)\n",
    "    model = modeling.train_model(\n",
    "        training_data_x, training_data_y, validation_data_x, validation_data_y)\n",
    "    return model\n",
    "\n",
    "def evaluate(model, feature_list, experiment_name):\n",
    "    validation_chroms = [\"chr1\", \"chr7\", \"chr14\", \"chr21\"]\n",
    "    test_chroms = [\"chr2\", \"chr8\", \"chr15\", \"chr22\"]\n",
    "    \n",
    "    (_, _, _, _, test_data_x, test_data_y) = utils.get_dataset(feature_list, validation_chroms, test_chroms)\n",
    "    modeling.evaluate_model(nn.BCELoss(), model, test_data_x, test_data_y,\n",
    "                            plot=True, plot_folder=\"./plots\", experiment_name=experiment_name)"
   ]
  },
  {
   "cell_type": "markdown",
   "id": "442e37ff-06f5-424f-bb9b-9d9a12ecf7e8",
   "metadata": {
    "tags": []
   },
   "source": [
    "# generate models with different training data combinations"
   ]
  },
  {
   "cell_type": "code",
   "execution_count": 5,
   "id": "218d9035-4acd-4576-ba5c-6201beadde48",
   "metadata": {
    "tags": []
   },
   "outputs": [
    {
     "ename": "NameError",
     "evalue": "name 'modeling' is not defined",
     "output_type": "error",
     "traceback": [
      "\u001b[0;31m---------------------------------------------------------------------------\u001b[0m",
      "\u001b[0;31mNameError\u001b[0m                                 Traceback (most recent call last)",
      "Cell \u001b[0;32mIn[5], line 3\u001b[0m\n\u001b[1;32m      1\u001b[0m feature_list \u001b[38;5;241m=\u001b[39m features[\u001b[38;5;124m\"\u001b[39m\u001b[38;5;124mGaertner\u001b[39m\u001b[38;5;124m\"\u001b[39m] \u001b[38;5;241m+\u001b[39m features[\u001b[38;5;124m\"\u001b[39m\u001b[38;5;124miPSC\u001b[39m\u001b[38;5;124m\"\u001b[39m]\n\u001b[1;32m      2\u001b[0m random\u001b[38;5;241m.\u001b[39mshuffle(feature_list)\n\u001b[0;32m----> 3\u001b[0m model_Gaertner_iPSC \u001b[38;5;241m=\u001b[39m \u001b[43mrun\u001b[49m\u001b[43m(\u001b[49m\u001b[43mfeature_list\u001b[49m\u001b[43m)\u001b[49m\n",
      "Cell \u001b[0;32mIn[4], line 8\u001b[0m, in \u001b[0;36mrun\u001b[0;34m(feature_list)\u001b[0m\n\u001b[1;32m      3\u001b[0m test_chroms \u001b[38;5;241m=\u001b[39m [\u001b[38;5;124m\"\u001b[39m\u001b[38;5;124mchr2\u001b[39m\u001b[38;5;124m\"\u001b[39m, \u001b[38;5;124m\"\u001b[39m\u001b[38;5;124mchr8\u001b[39m\u001b[38;5;124m\"\u001b[39m, \u001b[38;5;124m\"\u001b[39m\u001b[38;5;124mchr15\u001b[39m\u001b[38;5;124m\"\u001b[39m, \u001b[38;5;124m\"\u001b[39m\u001b[38;5;124mchr22\u001b[39m\u001b[38;5;124m\"\u001b[39m]\n\u001b[1;32m      5\u001b[0m (training_data_x, training_data_y,\n\u001b[1;32m      6\u001b[0m  validation_data_x, validation_data_y,\n\u001b[1;32m      7\u001b[0m  test_data_x, test_data_y) \u001b[38;5;241m=\u001b[39m utils\u001b[38;5;241m.\u001b[39mget_dataset(feature_list, validation_chroms, test_chroms)\n\u001b[0;32m----> 8\u001b[0m model \u001b[38;5;241m=\u001b[39m \u001b[43mmodeling\u001b[49m\u001b[38;5;241m.\u001b[39mtrain_model(\n\u001b[1;32m      9\u001b[0m     training_data_x, training_data_y, validation_data_x, validation_data_y)\n\u001b[1;32m     10\u001b[0m \u001b[38;5;28;01mreturn\u001b[39;00m model\n",
      "\u001b[0;31mNameError\u001b[0m: name 'modeling' is not defined"
     ]
    }
   ],
   "source": [
    "feature_list = features[\"Gaertner\"] + features[\"iPSC\"]\n",
    "random.shuffle(feature_list)\n",
    "model_Gaertner_iPSC = run(feature_list)"
   ]
  },
  {
   "cell_type": "code",
   "execution_count": null,
   "id": "ab250eba-add7-4a27-8c94-a189ae32e290",
   "metadata": {
    "tags": []
   },
   "outputs": [],
   "source": [
    "feature_list = features[\"Gaertner\"]\n",
    "random.shuffle(feature_list)\n",
    "model_Gaertner = run(feature_list)"
   ]
  },
  {
   "cell_type": "code",
   "execution_count": null,
   "id": "e87a628d-46c0-45ab-998a-9ea61a0f307c",
   "metadata": {
    "tags": []
   },
   "outputs": [],
   "source": [
    "feature_list = features[\"iPSC\"]\n",
    "random.shuffle(feature_list)\n",
    "model_iPSC = run(feature_list)"
   ]
  },
  {
   "cell_type": "markdown",
   "id": "5aa6b5a7-91b0-411a-8cf3-1cfb5f559ead",
   "metadata": {
    "tags": []
   },
   "source": [
    "# Evaluate different models on the same test data"
   ]
  },
  {
   "cell_type": "code",
   "execution_count": null,
   "id": "016c8904-d5b4-446a-af46-3891ed26a778",
   "metadata": {
    "tags": []
   },
   "outputs": [],
   "source": [
    "#test_loss, roc_auc, pr_auc = modeling.evaluate_model(nn.BCELoss(), best_model, test_data_x, test_data_y)"
   ]
  },
  {
   "cell_type": "code",
   "execution_count": null,
   "id": "4e540fe4-51fd-4f74-81fc-78f1c0f6e182",
   "metadata": {
    "tags": []
   },
   "outputs": [],
   "source": [
    "evaluate(model=model_Gaertner_iPSC,\n",
    "         feature_list=features[\"MB1\"],\n",
    "         experiment_name=\"HCT116_model_pancreatic_progenitors_iPSC\")"
   ]
  },
  {
   "cell_type": "code",
   "execution_count": null,
   "id": "66e1292e-3fa1-4f2c-9a51-4a50bc16fe19",
   "metadata": {
    "tags": []
   },
   "outputs": [],
   "source": [
    "evaluate(model=model_Gaertner,\n",
    "         feature_list=features[\"MB1\"],\n",
    "         experiment_name=\"HCT116_model_pancreatic_progenitors\")"
   ]
  },
  {
   "cell_type": "code",
   "execution_count": null,
   "id": "c51266fd-09c0-41cb-b9f4-8a7061757598",
   "metadata": {
    "tags": []
   },
   "outputs": [],
   "source": [
    "evaluate(model=model_iPSC,\n",
    "         feature_list=features[\"MB1\"],\n",
    "         experiment_name=\"HCT116_model_iPSC\")"
   ]
  }
 ],
 "metadata": {
  "kernelspec": {
   "display_name": "Python 3 (ipykernel)",
   "language": "python",
   "name": "python3"
  },
  "language_info": {
   "codemirror_mode": {
    "name": "ipython",
    "version": 3
   },
   "file_extension": ".py",
   "mimetype": "text/x-python",
   "name": "python",
   "nbconvert_exporter": "python",
   "pygments_lexer": "ipython3",
   "version": "3.10.12"
  }
 },
 "nbformat": 4,
 "nbformat_minor": 5
}
