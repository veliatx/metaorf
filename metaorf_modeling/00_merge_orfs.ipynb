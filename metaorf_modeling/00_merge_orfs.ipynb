{
 "cells": [
  {
   "cell_type": "markdown",
   "id": "4b44690a-b478-4a92-a9bd-9c504c4555a4",
   "metadata": {},
   "source": [
    "This script merges ORF candidates from all experiments into one table in the CSV format.\n",
    "The resulting table will be stored as {local_folder}/merged_orfs_found_by_any_caller.csv\n",
    "This is the first step of the ORF score prediction and only need to be executed once when you update the experiment list."
   ]
  },
  {
   "cell_type": "code",
   "execution_count": 1,
   "id": "014d24d6-5fd0-40b2-b7e7-50fc7f708cd8",
   "metadata": {},
   "outputs": [],
   "source": [
    "import pandas as pd\n",
    "import os\n",
    "\n",
    "from veliadb.base import Session, Assembly"
   ]
  },
  {
   "cell_type": "code",
   "execution_count": 2,
   "id": "9892dd62-154a-42da-b36d-a9362cb17456",
   "metadata": {},
   "outputs": [],
   "source": [
    "def exon_block_to_veliadb_style(exon_blocks, exon_delimiter = '|'):\n",
    "    block_sizes = []\n",
    "    chrom_starts = []\n",
    "    for e in exon_blocks.split(exon_delimiter):\n",
    "        e_start, e_end = e.split('-')\n",
    "        block_sizes.append(str(int(e_end)-int(e_start)))\n",
    "        chrom_starts.append(str(int(e_start)+1)) # Add 1 to starts to convert to 1-indexed\n",
    "    return ';'.join(chrom_starts), ';'.join(block_sizes)\n",
    "\n",
    "\n",
    "def metaorf_call_to_veliadb_hash_string(row, chrom_id_to_assembly_id, bp_df_ids):\n",
    "    assembly_id = chrom_id_to_assembly_id[row['chrom_id']]\n",
    "    chrom_starts, block_sizes = exon_block_to_veliadb_style(row['exon_blocks'])\n",
    "    chrom_start = int(row['orf_start'])+1 # Add 1 to start to convert to 1-indexed\n",
    "    hash_string = f\"{assembly_id}_{chrom_start}_{row['orf_end']}_{row['strand']}_{chrom_starts}_{block_sizes}\"\n",
    "    \n",
    "    if hash_string in bp_df_ids:\n",
    "        return hash_string\n",
    "    else:\n",
    "        return \"\"\n",
    "\n",
    "\n",
    "def add_big_prot_ids(orfs):\n",
    "    session = Session()\n",
    "    ucsc_style2assembly_id = {}\n",
    "    for a in session.query(Assembly).all():\n",
    "        if a.ucsc_style_name != 'na':\n",
    "            if \"_\" in a.ucsc_style_name:\n",
    "                chrom_name = a.genbank_accession\n",
    "            else:\n",
    "                chrom_name = a.ucsc_style_name        \n",
    "            ucsc_style2assembly_id[chrom_name] = a.id\n",
    "\n",
    "    bp_df = pd.read_csv('s3://velia-data-dev/VDC_004_annotation/big_prot/v0.9.3/orfset_v0.9.3_full_minlen_15_maxlen_999999999_orfs.csv.gz')\n",
    "    bp_df_ids = set(bp_df[\"orf.orf_idx_str\"])\n",
    "\n",
    "    for orf in orfs.values():\n",
    "        orf[\"bigprot_id\"] = metaorf_call_to_veliadb_hash_string(orf, ucsc_style2assembly_id, bp_df_ids)"
   ]
  },
  {
   "cell_type": "code",
   "execution_count": 3,
   "id": "9db329a9-ede6-4456-9f12-59500f0c5ebd",
   "metadata": {},
   "outputs": [],
   "source": [
    "def download_feature_set(experiment_name, local_path):\n",
    "    orf_path = f\"s3://velia-piperuns-dev/{experiment_name}/output/{experiment_name}_found_by_any_caller.csv\"\n",
    "    local_path = f\"{local_path}/{experiment_name}_found_by_any_caller.csv\"\n",
    "    cmd = f\"aws s3 cp {orf_path} {local_path}\"\n",
    "    print(cmd)\n",
    "    os.system(cmd)\n",
    "    return local_path\n",
    "\n",
    "def load_orfs(experiment_name, local_folder, merged_orfs_info, orf_callers):\n",
    "    data_path = download_feature_set(experiment_name, local_folder)\n",
    "    if not os.path.exists(data_path):\n",
    "        return 0\n",
    "    \n",
    "    for index, row in pd.read_csv(data_path, sep='\\t').iterrows():\n",
    "        orf_key = (row[\"chrom_id\"], row[\"orf_start\"], row[\"orf_end\"], row[\"strand\"], row[\"exon_blocks\"])\n",
    "        if orf_key not in merged_orfs_info:\n",
    "            merged_orfs_info[orf_key] = row\n",
    "            merged_orfs_info[orf_key] = pd.concat([merged_orfs_info[orf_key],\n",
    "                                                   pd.Series({\"#called\": 1,\n",
    "                                                              \"cell_types\": experiment_name})])\n",
    "        else:\n",
    "            merged_orfs_info[orf_key][\"#called\"] += 1\n",
    "            merged_orfs_info[orf_key][\"cell_types\"] += (\",\" + experiment_name)\n",
    "            for orf_caller in orf_callers:\n",
    "                if (type(row[f\"orf_score_{orf_caller}\"]) == type(\"\")\n",
    "                    and (not row[f\"orf_score_{orf_caller}\"].strip())):\n",
    "                    continue\n",
    "                else:\n",
    "                    if ((type(merged_orfs_info[orf_key][f\"orf_score_{orf_caller}\"]) == type(\"\") and\n",
    "                         (not merged_orfs_info[orf_key][f\"orf_score_{orf_caller}\"].strip()))\n",
    "                        or (merged_orfs_info[orf_key][f\"orf_score_{orf_caller}\"] is None)\n",
    "                        or (float(merged_orfs_info[orf_key][f\"orf_score_{orf_caller}\"]) <= float(row[f\"orf_score_{orf_caller}\"]))):\n",
    "                        merged_orfs_info[orf_key][f\"orf_score_{orf_caller}\"] = row[f\"orf_score_{orf_caller}\"]\n",
    "                        merged_orfs_info[orf_key][f\"ORF_type_{orf_caller}\"] = row[f\"ORF_type_{orf_caller}\"]\n",
    "                        merged_orfs_info[orf_key][f\"gene_id_{orf_caller}\"] = row[f\"gene_id_{orf_caller}\"]\n",
    "                        merged_orfs_info[orf_key][f\"transcript_id_{orf_caller}\"] = row[f\"transcript_id_{orf_caller}\"]    \n",
    "    os.remove(data_path)\n",
    "    return 1"
   ]
  },
  {
   "cell_type": "code",
   "execution_count": 4,
   "id": "6869035c-ce29-4fb3-843c-8be4bccb51b6",
   "metadata": {
    "tags": []
   },
   "outputs": [
    {
     "name": "stdout",
     "output_type": "stream",
     "text": [
      "aws s3 cp s3://velia-piperuns-dev/VPR_orfcalling_20240308012804_SRX663267/output/VPR_orfcalling_20240308012804_SRX663267_found_by_any_caller.csv ../data/VPR_orfcalling_20240308012804_SRX663267_found_by_any_caller.csv\n",
      "download: s3://velia-piperuns-dev/VPR_orfcalling_20240308012804_SRX663267/output/VPR_orfcalling_20240308012804_SRX663267_found_by_any_caller.csv to ../data/VPR_orfcalling_20240308012804_SRX663267_found_by_any_caller.csv\n",
      "aws s3 cp s3://velia-piperuns-dev/VPR_orfcalling_20240308012804_SRX663268/output/VPR_orfcalling_20240308012804_SRX663268_found_by_any_caller.csv ../data/VPR_orfcalling_20240308012804_SRX663268_found_by_any_caller.csv\n",
      "download: s3://velia-piperuns-dev/VPR_orfcalling_20240308012804_SRX663268/output/VPR_orfcalling_20240308012804_SRX663268_found_by_any_caller.csv to ../data/VPR_orfcalling_20240308012804_SRX663268_found_by_any_caller.csv\n"
     ]
    },
    {
     "name": "stderr",
     "output_type": "stream",
     "text": [
      "/tmp/ipykernel_10651/83718651.py:14: DtypeWarning: Columns (14) have mixed types. Specify dtype option on import or set low_memory=False.\n",
      "  for index, row in pd.read_csv(data_path, sep='\\t').iterrows():\n"
     ]
    },
    {
     "name": "stdout",
     "output_type": "stream",
     "text": [
      "aws s3 cp s3://velia-piperuns-dev/VPR_orfcalling_20240308012804_SRX663271/output/VPR_orfcalling_20240308012804_SRX663271_found_by_any_caller.csv ../data/VPR_orfcalling_20240308012804_SRX663271_found_by_any_caller.csv\n",
      "download: s3://velia-piperuns-dev/VPR_orfcalling_20240308012804_SRX663271/output/VPR_orfcalling_20240308012804_SRX663271_found_by_any_caller.csv to ../data/VPR_orfcalling_20240308012804_SRX663271_found_by_any_caller.csv\n"
     ]
    },
    {
     "name": "stderr",
     "output_type": "stream",
     "text": [
      "/tmp/ipykernel_10651/83718651.py:14: DtypeWarning: Columns (14) have mixed types. Specify dtype option on import or set low_memory=False.\n",
      "  for index, row in pd.read_csv(data_path, sep='\\t').iterrows():\n"
     ]
    },
    {
     "name": "stdout",
     "output_type": "stream",
     "text": [
      "aws s3 cp s3://velia-piperuns-dev/VPR_orfcalling_20240308012804_SRX663272/output/VPR_orfcalling_20240308012804_SRX663272_found_by_any_caller.csv ../data/VPR_orfcalling_20240308012804_SRX663272_found_by_any_caller.csv\n",
      "download: s3://velia-piperuns-dev/VPR_orfcalling_20240308012804_SRX663272/output/VPR_orfcalling_20240308012804_SRX663272_found_by_any_caller.csv to ../data/VPR_orfcalling_20240308012804_SRX663272_found_by_any_caller.csv\n"
     ]
    },
    {
     "name": "stderr",
     "output_type": "stream",
     "text": [
      "/tmp/ipykernel_10651/83718651.py:14: DtypeWarning: Columns (14) have mixed types. Specify dtype option on import or set low_memory=False.\n",
      "  for index, row in pd.read_csv(data_path, sep='\\t').iterrows():\n"
     ]
    },
    {
     "name": "stdout",
     "output_type": "stream",
     "text": [
      "aws s3 cp s3://velia-piperuns-dev/VPR_orfcalling_20240307222241_Caco-2_control_rep1/output/VPR_orfcalling_20240307222241_Caco-2_control_rep1_found_by_any_caller.csv ../data/VPR_orfcalling_20240307222241_Caco-2_control_rep1_found_by_any_caller.csv\n",
      "download: s3://velia-piperuns-dev/VPR_orfcalling_20240307222241_Caco-2_control_rep1/output/VPR_orfcalling_20240307222241_Caco-2_control_rep1_found_by_any_caller.csv to ../data/VPR_orfcalling_20240307222241_Caco-2_control_rep1_found_by_any_caller.csv\n",
      "aws s3 cp s3://velia-piperuns-dev/VPR_orfcalling_20240307222241_Caco-2_control_rep2/output/VPR_orfcalling_20240307222241_Caco-2_control_rep2_found_by_any_caller.csv ../data/VPR_orfcalling_20240307222241_Caco-2_control_rep2_found_by_any_caller.csv\n",
      "download: s3://velia-piperuns-dev/VPR_orfcalling_20240307222241_Caco-2_control_rep2/output/VPR_orfcalling_20240307222241_Caco-2_control_rep2_found_by_any_caller.csv to ../data/VPR_orfcalling_20240307222241_Caco-2_control_rep2_found_by_any_caller.csv\n",
      "aws s3 cp s3://velia-piperuns-dev/VPR_orfcalling_20240307222241_Caco-2_LM_rep1/output/VPR_orfcalling_20240307222241_Caco-2_LM_rep1_found_by_any_caller.csv ../data/VPR_orfcalling_20240307222241_Caco-2_LM_rep1_found_by_any_caller.csv\n",
      "download: s3://velia-piperuns-dev/VPR_orfcalling_20240307222241_Caco-2_LM_rep1/output/VPR_orfcalling_20240307222241_Caco-2_LM_rep1_found_by_any_caller.csv to ../data/VPR_orfcalling_20240307222241_Caco-2_LM_rep1_found_by_any_caller.csv\n",
      "aws s3 cp s3://velia-piperuns-dev/VPR_orfcalling_20240307222241_Caco-2_LM_rep2/output/VPR_orfcalling_20240307222241_Caco-2_LM_rep2_found_by_any_caller.csv ../data/VPR_orfcalling_20240307222241_Caco-2_LM_rep2_found_by_any_caller.csv\n",
      "download: s3://velia-piperuns-dev/VPR_orfcalling_20240307222241_Caco-2_LM_rep2/output/VPR_orfcalling_20240307222241_Caco-2_LM_rep2_found_by_any_caller.csv to ../data/VPR_orfcalling_20240307222241_Caco-2_LM_rep2_found_by_any_caller.csv\n"
     ]
    },
    {
     "name": "stderr",
     "output_type": "stream",
     "text": [
      "/tmp/ipykernel_10651/83718651.py:14: DtypeWarning: Columns (14) have mixed types. Specify dtype option on import or set low_memory=False.\n",
      "  for index, row in pd.read_csv(data_path, sep='\\t').iterrows():\n"
     ]
    },
    {
     "name": "stdout",
     "output_type": "stream",
     "text": [
      "aws s3 cp s3://velia-piperuns-dev/VPR_orfcalling_20240307222241_Caco-2_MWOLip_rep1/output/VPR_orfcalling_20240307222241_Caco-2_MWOLip_rep1_found_by_any_caller.csv ../data/VPR_orfcalling_20240307222241_Caco-2_MWOLip_rep1_found_by_any_caller.csv\n",
      "download: s3://velia-piperuns-dev/VPR_orfcalling_20240307222241_Caco-2_MWOLip_rep1/output/VPR_orfcalling_20240307222241_Caco-2_MWOLip_rep1_found_by_any_caller.csv to ../data/VPR_orfcalling_20240307222241_Caco-2_MWOLip_rep1_found_by_any_caller.csv\n",
      "aws s3 cp s3://velia-piperuns-dev/VPR_orfcalling_20240307222241_Caco-2_MWOLip_rep2/output/VPR_orfcalling_20240307222241_Caco-2_MWOLip_rep2_found_by_any_caller.csv ../data/VPR_orfcalling_20240307222241_Caco-2_MWOLip_rep2_found_by_any_caller.csv\n",
      "download: s3://velia-piperuns-dev/VPR_orfcalling_20240307222241_Caco-2_MWOLip_rep2/output/VPR_orfcalling_20240307222241_Caco-2_MWOLip_rep2_found_by_any_caller.csv to ../data/VPR_orfcalling_20240307222241_Caco-2_MWOLip_rep2_found_by_any_caller.csv\n",
      "aws s3 cp s3://velia-piperuns-dev/VPR_orfcalling_20240307222241_Caco-2_undiff_rep1/output/VPR_orfcalling_20240307222241_Caco-2_undiff_rep1_found_by_any_caller.csv ../data/VPR_orfcalling_20240307222241_Caco-2_undiff_rep1_found_by_any_caller.csv\n",
      "download: s3://velia-piperuns-dev/VPR_orfcalling_20240307222241_Caco-2_undiff_rep1/output/VPR_orfcalling_20240307222241_Caco-2_undiff_rep1_found_by_any_caller.csv to ../data/VPR_orfcalling_20240307222241_Caco-2_undiff_rep1_found_by_any_caller.csv\n",
      "aws s3 cp s3://velia-piperuns-dev/VPR_orfcalling_20240307222241_Caco-2_undiff_rep2/output/VPR_orfcalling_20240307222241_Caco-2_undiff_rep2_found_by_any_caller.csv ../data/VPR_orfcalling_20240307222241_Caco-2_undiff_rep2_found_by_any_caller.csv\n",
      "download: s3://velia-piperuns-dev/VPR_orfcalling_20240307222241_Caco-2_undiff_rep2/output/VPR_orfcalling_20240307222241_Caco-2_undiff_rep2_found_by_any_caller.csv to ../data/VPR_orfcalling_20240307222241_Caco-2_undiff_rep2_found_by_any_caller.csv\n"
     ]
    },
    {
     "name": "stderr",
     "output_type": "stream",
     "text": [
      "/tmp/ipykernel_10651/83718651.py:14: DtypeWarning: Columns (14) have mixed types. Specify dtype option on import or set low_memory=False.\n",
      "  for index, row in pd.read_csv(data_path, sep='\\t').iterrows():\n"
     ]
    },
    {
     "name": "stdout",
     "output_type": "stream",
     "text": [
      "aws s3 cp s3://velia-piperuns-dev/VPR_orfcalling_20240307222241_HCC1954_rep2/output/VPR_orfcalling_20240307222241_HCC1954_rep2_found_by_any_caller.csv ../data/VPR_orfcalling_20240307222241_HCC1954_rep2_found_by_any_caller.csv\n",
      "download: s3://velia-piperuns-dev/VPR_orfcalling_20240307222241_HCC1954_rep2/output/VPR_orfcalling_20240307222241_HCC1954_rep2_found_by_any_caller.csv to ../data/VPR_orfcalling_20240307222241_HCC1954_rep2_found_by_any_caller.csv\n"
     ]
    },
    {
     "name": "stderr",
     "output_type": "stream",
     "text": [
      "/tmp/ipykernel_10651/83718651.py:14: DtypeWarning: Columns (14) have mixed types. Specify dtype option on import or set low_memory=False.\n",
      "  for index, row in pd.read_csv(data_path, sep='\\t').iterrows():\n"
     ]
    },
    {
     "name": "stdout",
     "output_type": "stream",
     "text": [
      "aws s3 cp s3://velia-piperuns-dev/VPR_orfcalling_20240307222241_HCC1954_rep3/output/VPR_orfcalling_20240307222241_HCC1954_rep3_found_by_any_caller.csv ../data/VPR_orfcalling_20240307222241_HCC1954_rep3_found_by_any_caller.csv\n",
      "download: s3://velia-piperuns-dev/VPR_orfcalling_20240307222241_HCC1954_rep3/output/VPR_orfcalling_20240307222241_HCC1954_rep3_found_by_any_caller.csv to ../data/VPR_orfcalling_20240307222241_HCC1954_rep3_found_by_any_caller.csv\n",
      "aws s3 cp s3://velia-piperuns-dev/VPR_orfcalling_20240307222241_HepG2_chol-oleic_rep1/output/VPR_orfcalling_20240307222241_HepG2_chol-oleic_rep1_found_by_any_caller.csv ../data/VPR_orfcalling_20240307222241_HepG2_chol-oleic_rep1_found_by_any_caller.csv\n",
      "download: s3://velia-piperuns-dev/VPR_orfcalling_20240307222241_HepG2_chol-oleic_rep1/output/VPR_orfcalling_20240307222241_HepG2_chol-oleic_rep1_found_by_any_caller.csv to ../data/VPR_orfcalling_20240307222241_HepG2_chol-oleic_rep1_found_by_any_caller.csv\n"
     ]
    },
    {
     "name": "stderr",
     "output_type": "stream",
     "text": [
      "/tmp/ipykernel_10651/83718651.py:14: DtypeWarning: Columns (14) have mixed types. Specify dtype option on import or set low_memory=False.\n",
      "  for index, row in pd.read_csv(data_path, sep='\\t').iterrows():\n"
     ]
    },
    {
     "name": "stdout",
     "output_type": "stream",
     "text": [
      "aws s3 cp s3://velia-piperuns-dev/VPR_orfcalling_20240307222241_HepG2_chol-oleic_rep2/output/VPR_orfcalling_20240307222241_HepG2_chol-oleic_rep2_found_by_any_caller.csv ../data/VPR_orfcalling_20240307222241_HepG2_chol-oleic_rep2_found_by_any_caller.csv\n",
      "download: s3://velia-piperuns-dev/VPR_orfcalling_20240307222241_HepG2_chol-oleic_rep2/output/VPR_orfcalling_20240307222241_HepG2_chol-oleic_rep2_found_by_any_caller.csv to ../data/VPR_orfcalling_20240307222241_HepG2_chol-oleic_rep2_found_by_any_caller.csv\n"
     ]
    },
    {
     "name": "stderr",
     "output_type": "stream",
     "text": [
      "/tmp/ipykernel_10651/83718651.py:14: DtypeWarning: Columns (14) have mixed types. Specify dtype option on import or set low_memory=False.\n",
      "  for index, row in pd.read_csv(data_path, sep='\\t').iterrows():\n"
     ]
    },
    {
     "name": "stdout",
     "output_type": "stream",
     "text": [
      "aws s3 cp s3://velia-piperuns-dev/VPR_orfcalling_20240307222241_HepG2_control_rep1/output/VPR_orfcalling_20240307222241_HepG2_control_rep1_found_by_any_caller.csv ../data/VPR_orfcalling_20240307222241_HepG2_control_rep1_found_by_any_caller.csv\n",
      "download: s3://velia-piperuns-dev/VPR_orfcalling_20240307222241_HepG2_control_rep1/output/VPR_orfcalling_20240307222241_HepG2_control_rep1_found_by_any_caller.csv to ../data/VPR_orfcalling_20240307222241_HepG2_control_rep1_found_by_any_caller.csv\n"
     ]
    },
    {
     "name": "stderr",
     "output_type": "stream",
     "text": [
      "/tmp/ipykernel_10651/83718651.py:14: DtypeWarning: Columns (14) have mixed types. Specify dtype option on import or set low_memory=False.\n",
      "  for index, row in pd.read_csv(data_path, sep='\\t').iterrows():\n"
     ]
    },
    {
     "name": "stdout",
     "output_type": "stream",
     "text": [
      "aws s3 cp s3://velia-piperuns-dev/VPR_orfcalling_20240307222241_HepG2_control_rep2/output/VPR_orfcalling_20240307222241_HepG2_control_rep2_found_by_any_caller.csv ../data/VPR_orfcalling_20240307222241_HepG2_control_rep2_found_by_any_caller.csv\n",
      "download: s3://velia-piperuns-dev/VPR_orfcalling_20240307222241_HepG2_control_rep2/output/VPR_orfcalling_20240307222241_HepG2_control_rep2_found_by_any_caller.csv to ../data/VPR_orfcalling_20240307222241_HepG2_control_rep2_found_by_any_caller.csv\n",
      "aws s3 cp s3://velia-piperuns-dev/VPR_orfcalling_20240307222241_MCF-7_rep6/output/VPR_orfcalling_20240307222241_MCF-7_rep6_found_by_any_caller.csv ../data/VPR_orfcalling_20240307222241_MCF-7_rep6_found_by_any_caller.csv\n",
      "download: s3://velia-piperuns-dev/VPR_orfcalling_20240307222241_MCF-7_rep6/output/VPR_orfcalling_20240307222241_MCF-7_rep6_found_by_any_caller.csv to ../data/VPR_orfcalling_20240307222241_MCF-7_rep6_found_by_any_caller.csv\n"
     ]
    },
    {
     "name": "stderr",
     "output_type": "stream",
     "text": [
      "/tmp/ipykernel_10651/83718651.py:14: DtypeWarning: Columns (14) have mixed types. Specify dtype option on import or set low_memory=False.\n",
      "  for index, row in pd.read_csv(data_path, sep='\\t').iterrows():\n"
     ]
    },
    {
     "name": "stdout",
     "output_type": "stream",
     "text": [
      "aws s3 cp s3://velia-piperuns-dev/VPR_orfcalling_20240307222241_MCF-7_rep7/output/VPR_orfcalling_20240307222241_MCF-7_rep7_found_by_any_caller.csv ../data/VPR_orfcalling_20240307222241_MCF-7_rep7_found_by_any_caller.csv\n",
      "download: s3://velia-piperuns-dev/VPR_orfcalling_20240307222241_MCF-7_rep7/output/VPR_orfcalling_20240307222241_MCF-7_rep7_found_by_any_caller.csv to ../data/VPR_orfcalling_20240307222241_MCF-7_rep7_found_by_any_caller.csv\n"
     ]
    },
    {
     "name": "stderr",
     "output_type": "stream",
     "text": [
      "/tmp/ipykernel_10651/83718651.py:14: DtypeWarning: Columns (14) have mixed types. Specify dtype option on import or set low_memory=False.\n",
      "  for index, row in pd.read_csv(data_path, sep='\\t').iterrows():\n"
     ]
    },
    {
     "name": "stdout",
     "output_type": "stream",
     "text": [
      "aws s3 cp s3://velia-piperuns-dev/VPR_orfcalling_20240307222241_MCF-7_RPF_3/output/VPR_orfcalling_20240307222241_MCF-7_RPF_3_found_by_any_caller.csv ../data/VPR_orfcalling_20240307222241_MCF-7_RPF_3_found_by_any_caller.csv\n",
      "download: s3://velia-piperuns-dev/VPR_orfcalling_20240307222241_MCF-7_RPF_3/output/VPR_orfcalling_20240307222241_MCF-7_RPF_3_found_by_any_caller.csv to ../data/VPR_orfcalling_20240307222241_MCF-7_RPF_3_found_by_any_caller.csv\n"
     ]
    },
    {
     "name": "stderr",
     "output_type": "stream",
     "text": [
      "/tmp/ipykernel_10651/83718651.py:14: DtypeWarning: Columns (14) have mixed types. Specify dtype option on import or set low_memory=False.\n",
      "  for index, row in pd.read_csv(data_path, sep='\\t').iterrows():\n"
     ]
    },
    {
     "name": "stdout",
     "output_type": "stream",
     "text": [
      "aws s3 cp s3://velia-piperuns-dev/VPR_orfcalling_20240307222241_MCF-7_RPF_4/output/VPR_orfcalling_20240307222241_MCF-7_RPF_4_found_by_any_caller.csv ../data/VPR_orfcalling_20240307222241_MCF-7_RPF_4_found_by_any_caller.csv\n",
      "download: s3://velia-piperuns-dev/VPR_orfcalling_20240307222241_MCF-7_RPF_4/output/VPR_orfcalling_20240307222241_MCF-7_RPF_4_found_by_any_caller.csv to ../data/VPR_orfcalling_20240307222241_MCF-7_RPF_4_found_by_any_caller.csv\n"
     ]
    },
    {
     "name": "stderr",
     "output_type": "stream",
     "text": [
      "/tmp/ipykernel_10651/83718651.py:14: DtypeWarning: Columns (14) have mixed types. Specify dtype option on import or set low_memory=False.\n",
      "  for index, row in pd.read_csv(data_path, sep='\\t').iterrows():\n"
     ]
    },
    {
     "name": "stdout",
     "output_type": "stream",
     "text": [
      "aws s3 cp s3://velia-piperuns-dev/VPR_orfcalling_20240307222241_MCF-7_RPF_5/output/VPR_orfcalling_20240307222241_MCF-7_RPF_5_found_by_any_caller.csv ../data/VPR_orfcalling_20240307222241_MCF-7_RPF_5_found_by_any_caller.csv\n",
      "download: s3://velia-piperuns-dev/VPR_orfcalling_20240307222241_MCF-7_RPF_5/output/VPR_orfcalling_20240307222241_MCF-7_RPF_5_found_by_any_caller.csv to ../data/VPR_orfcalling_20240307222241_MCF-7_RPF_5_found_by_any_caller.csv\n"
     ]
    },
    {
     "name": "stderr",
     "output_type": "stream",
     "text": [
      "/tmp/ipykernel_10651/83718651.py:14: DtypeWarning: Columns (14) have mixed types. Specify dtype option on import or set low_memory=False.\n",
      "  for index, row in pd.read_csv(data_path, sep='\\t').iterrows():\n"
     ]
    },
    {
     "name": "stdout",
     "output_type": "stream",
     "text": [
      "aws s3 cp s3://velia-piperuns-dev/VPR_orfcalling_20240307222241_MDA-MB-231_rep2/output/VPR_orfcalling_20240307222241_MDA-MB-231_rep2_found_by_any_caller.csv ../data/VPR_orfcalling_20240307222241_MDA-MB-231_rep2_found_by_any_caller.csv\n",
      "download: s3://velia-piperuns-dev/VPR_orfcalling_20240307222241_MDA-MB-231_rep2/output/VPR_orfcalling_20240307222241_MDA-MB-231_rep2_found_by_any_caller.csv to ../data/VPR_orfcalling_20240307222241_MDA-MB-231_rep2_found_by_any_caller.csv\n",
      "aws s3 cp s3://velia-piperuns-dev/VPR_orfcalling_20240307222241_MDA-MB-231_rep3/output/VPR_orfcalling_20240307222241_MDA-MB-231_rep3_found_by_any_caller.csv ../data/VPR_orfcalling_20240307222241_MDA-MB-231_rep3_found_by_any_caller.csv\n",
      "download: s3://velia-piperuns-dev/VPR_orfcalling_20240307222241_MDA-MB-231_rep3/output/VPR_orfcalling_20240307222241_MDA-MB-231_rep3_found_by_any_caller.csv to ../data/VPR_orfcalling_20240307222241_MDA-MB-231_rep3_found_by_any_caller.csv\n",
      "aws s3 cp s3://velia-piperuns-dev/VPR_orfcalling_20240307222241_K562-HiRes-rep3_SRR8449581/output/VPR_orfcalling_20240307222241_K562-HiRes-rep3_SRR8449581_found_by_any_caller.csv ../data/VPR_orfcalling_20240307222241_K562-HiRes-rep3_SRR8449581_found_by_any_caller.csv\n",
      "download: s3://velia-piperuns-dev/VPR_orfcalling_20240307222241_K562-HiRes-rep3_SRR8449581/output/VPR_orfcalling_20240307222241_K562-HiRes-rep3_SRR8449581_found_by_any_caller.csv to ../data/VPR_orfcalling_20240307222241_K562-HiRes-rep3_SRR8449581_found_by_any_caller.csv\n"
     ]
    },
    {
     "name": "stderr",
     "output_type": "stream",
     "text": [
      "/tmp/ipykernel_10651/83718651.py:14: DtypeWarning: Columns (14) have mixed types. Specify dtype option on import or set low_memory=False.\n",
      "  for index, row in pd.read_csv(data_path, sep='\\t').iterrows():\n"
     ]
    },
    {
     "name": "stdout",
     "output_type": "stream",
     "text": [
      "aws s3 cp s3://velia-piperuns-dev/VPR_orfcalling_20240307222241_K562-HiRes-rep2_SRR8449580/output/VPR_orfcalling_20240307222241_K562-HiRes-rep2_SRR8449580_found_by_any_caller.csv ../data/VPR_orfcalling_20240307222241_K562-HiRes-rep2_SRR8449580_found_by_any_caller.csv\n",
      "download: s3://velia-piperuns-dev/VPR_orfcalling_20240307222241_K562-HiRes-rep2_SRR8449580/output/VPR_orfcalling_20240307222241_K562-HiRes-rep2_SRR8449580_found_by_any_caller.csv to ../data/VPR_orfcalling_20240307222241_K562-HiRes-rep2_SRR8449580_found_by_any_caller.csv\n"
     ]
    },
    {
     "name": "stderr",
     "output_type": "stream",
     "text": [
      "/tmp/ipykernel_10651/83718651.py:14: DtypeWarning: Columns (14) have mixed types. Specify dtype option on import or set low_memory=False.\n",
      "  for index, row in pd.read_csv(data_path, sep='\\t').iterrows():\n"
     ]
    },
    {
     "name": "stdout",
     "output_type": "stream",
     "text": [
      "aws s3 cp s3://velia-piperuns-dev/VPR_orfcalling_20240307222241_K562-HiRes-rep1_SRR8449579/output/VPR_orfcalling_20240307222241_K562-HiRes-rep1_SRR8449579_found_by_any_caller.csv ../data/VPR_orfcalling_20240307222241_K562-HiRes-rep1_SRR8449579_found_by_any_caller.csv\n",
      "download: s3://velia-piperuns-dev/VPR_orfcalling_20240307222241_K562-HiRes-rep1_SRR8449579/output/VPR_orfcalling_20240307222241_K562-HiRes-rep1_SRR8449579_found_by_any_caller.csv to ../data/VPR_orfcalling_20240307222241_K562-HiRes-rep1_SRR8449579_found_by_any_caller.csv\n"
     ]
    },
    {
     "name": "stderr",
     "output_type": "stream",
     "text": [
      "/tmp/ipykernel_10651/83718651.py:14: DtypeWarning: Columns (14) have mixed types. Specify dtype option on import or set low_memory=False.\n",
      "  for index, row in pd.read_csv(data_path, sep='\\t').iterrows():\n"
     ]
    },
    {
     "name": "stdout",
     "output_type": "stream",
     "text": [
      "aws s3 cp s3://velia-piperuns-dev/VPR_orfcalling_20240307222241_HeLaS3-LoRes-rep2_SRR8449576/output/VPR_orfcalling_20240307222241_HeLaS3-LoRes-rep2_SRR8449576_found_by_any_caller.csv ../data/VPR_orfcalling_20240307222241_HeLaS3-LoRes-rep2_SRR8449576_found_by_any_caller.csv\n",
      "download: s3://velia-piperuns-dev/VPR_orfcalling_20240307222241_HeLaS3-LoRes-rep2_SRR8449576/output/VPR_orfcalling_20240307222241_HeLaS3-LoRes-rep2_SRR8449576_found_by_any_caller.csv to ../data/VPR_orfcalling_20240307222241_HeLaS3-LoRes-rep2_SRR8449576_found_by_any_caller.csv\n",
      "aws s3 cp s3://velia-piperuns-dev/VPR_orfcalling_20240307222241_HeLaS3-HiRes-rep2_SRR8449578/output/VPR_orfcalling_20240307222241_HeLaS3-HiRes-rep2_SRR8449578_found_by_any_caller.csv ../data/VPR_orfcalling_20240307222241_HeLaS3-HiRes-rep2_SRR8449578_found_by_any_caller.csv\n",
      "download: s3://velia-piperuns-dev/VPR_orfcalling_20240307222241_HeLaS3-HiRes-rep2_SRR8449578/output/VPR_orfcalling_20240307222241_HeLaS3-HiRes-rep2_SRR8449578_found_by_any_caller.csv to ../data/VPR_orfcalling_20240307222241_HeLaS3-HiRes-rep2_SRR8449578_found_by_any_caller.csv\n"
     ]
    },
    {
     "name": "stderr",
     "output_type": "stream",
     "text": [
      "/tmp/ipykernel_10651/83718651.py:14: DtypeWarning: Columns (14) have mixed types. Specify dtype option on import or set low_memory=False.\n",
      "  for index, row in pd.read_csv(data_path, sep='\\t').iterrows():\n"
     ]
    },
    {
     "name": "stdout",
     "output_type": "stream",
     "text": [
      "aws s3 cp s3://velia-piperuns-dev/VPR_orfcalling_20240307222241_HeLaS3-HiRes-rep1_SRR8449577/output/VPR_orfcalling_20240307222241_HeLaS3-HiRes-rep1_SRR8449577_found_by_any_caller.csv ../data/VPR_orfcalling_20240307222241_HeLaS3-HiRes-rep1_SRR8449577_found_by_any_caller.csv\n",
      "download: s3://velia-piperuns-dev/VPR_orfcalling_20240307222241_HeLaS3-HiRes-rep1_SRR8449577/output/VPR_orfcalling_20240307222241_HeLaS3-HiRes-rep1_SRR8449577_found_by_any_caller.csv to ../data/VPR_orfcalling_20240307222241_HeLaS3-HiRes-rep1_SRR8449577_found_by_any_caller.csv\n",
      "aws s3 cp s3://velia-piperuns-dev/VPR_orfcalling_20240307222241_HEK293T-TM-rep1_SRR8449571/output/VPR_orfcalling_20240307222241_HEK293T-TM-rep1_SRR8449571_found_by_any_caller.csv ../data/VPR_orfcalling_20240307222241_HEK293T-TM-rep1_SRR8449571_found_by_any_caller.csv\n",
      "download: s3://velia-piperuns-dev/VPR_orfcalling_20240307222241_HEK293T-TM-rep1_SRR8449571/output/VPR_orfcalling_20240307222241_HEK293T-TM-rep1_SRR8449571_found_by_any_caller.csv to ../data/VPR_orfcalling_20240307222241_HEK293T-TM-rep1_SRR8449571_found_by_any_caller.csv\n",
      "aws s3 cp s3://velia-piperuns-dev/VPR_orfcalling_20240307222241_HEK293T-TG-rep2_SRR8449574/output/VPR_orfcalling_20240307222241_HEK293T-TG-rep2_SRR8449574_found_by_any_caller.csv ../data/VPR_orfcalling_20240307222241_HEK293T-TG-rep2_SRR8449574_found_by_any_caller.csv\n",
      "download: s3://velia-piperuns-dev/VPR_orfcalling_20240307222241_HEK293T-TG-rep2_SRR8449574/output/VPR_orfcalling_20240307222241_HEK293T-TG-rep2_SRR8449574_found_by_any_caller.csv to ../data/VPR_orfcalling_20240307222241_HEK293T-TG-rep2_SRR8449574_found_by_any_caller.csv\n",
      "aws s3 cp s3://velia-piperuns-dev/VPR_orfcalling_20240307222241_HEK293T-TG-rep1_SRR8449573/output/VPR_orfcalling_20240307222241_HEK293T-TG-rep1_SRR8449573_found_by_any_caller.csv ../data/VPR_orfcalling_20240307222241_HEK293T-TG-rep1_SRR8449573_found_by_any_caller.csv\n",
      "download: s3://velia-piperuns-dev/VPR_orfcalling_20240307222241_HEK293T-TG-rep1_SRR8449573/output/VPR_orfcalling_20240307222241_HEK293T-TG-rep1_SRR8449573_found_by_any_caller.csv to ../data/VPR_orfcalling_20240307222241_HEK293T-TG-rep1_SRR8449573_found_by_any_caller.csv\n",
      "aws s3 cp s3://velia-piperuns-dev/VPR_orfcalling_20240307222241_HEK293T-MedRes_SRR8449567/output/VPR_orfcalling_20240307222241_HEK293T-MedRes_SRR8449567_found_by_any_caller.csv ../data/VPR_orfcalling_20240307222241_HEK293T-MedRes_SRR8449567_found_by_any_caller.csv\n",
      "download: s3://velia-piperuns-dev/VPR_orfcalling_20240307222241_HEK293T-MedRes_SRR8449567/output/VPR_orfcalling_20240307222241_HEK293T-MedRes_SRR8449567_found_by_any_caller.csv to ../data/VPR_orfcalling_20240307222241_HEK293T-MedRes_SRR8449567_found_by_any_caller.csv\n"
     ]
    },
    {
     "name": "stderr",
     "output_type": "stream",
     "text": [
      "/tmp/ipykernel_10651/83718651.py:14: DtypeWarning: Columns (14) have mixed types. Specify dtype option on import or set low_memory=False.\n",
      "  for index, row in pd.read_csv(data_path, sep='\\t').iterrows():\n"
     ]
    },
    {
     "name": "stdout",
     "output_type": "stream",
     "text": [
      "aws s3 cp s3://velia-piperuns-dev/VPR_orfcalling_20240307222241_HEK293T-HiRes_SRR8449568/output/VPR_orfcalling_20240307222241_HEK293T-HiRes_SRR8449568_found_by_any_caller.csv ../data/VPR_orfcalling_20240307222241_HEK293T-HiRes_SRR8449568_found_by_any_caller.csv\n",
      "download: s3://velia-piperuns-dev/VPR_orfcalling_20240307222241_HEK293T-HiRes_SRR8449568/output/VPR_orfcalling_20240307222241_HEK293T-HiRes_SRR8449568_found_by_any_caller.csv to ../data/VPR_orfcalling_20240307222241_HEK293T-HiRes_SRR8449568_found_by_any_caller.csv\n"
     ]
    },
    {
     "name": "stderr",
     "output_type": "stream",
     "text": [
      "/tmp/ipykernel_10651/83718651.py:14: DtypeWarning: Columns (14) have mixed types. Specify dtype option on import or set low_memory=False.\n",
      "  for index, row in pd.read_csv(data_path, sep='\\t').iterrows():\n"
     ]
    },
    {
     "name": "stdout",
     "output_type": "stream",
     "text": [
      "aws s3 cp s3://velia-piperuns-dev/VPR_orfcalling_20240307222241_HEK293T-DMSO-rep2_SRR8449570/output/VPR_orfcalling_20240307222241_HEK293T-DMSO-rep2_SRR8449570_found_by_any_caller.csv ../data/VPR_orfcalling_20240307222241_HEK293T-DMSO-rep2_SRR8449570_found_by_any_caller.csv\n",
      "download: s3://velia-piperuns-dev/VPR_orfcalling_20240307222241_HEK293T-DMSO-rep2_SRR8449570/output/VPR_orfcalling_20240307222241_HEK293T-DMSO-rep2_SRR8449570_found_by_any_caller.csv to ../data/VPR_orfcalling_20240307222241_HEK293T-DMSO-rep2_SRR8449570_found_by_any_caller.csv\n"
     ]
    },
    {
     "name": "stderr",
     "output_type": "stream",
     "text": [
      "/tmp/ipykernel_10651/83718651.py:14: DtypeWarning: Columns (14) have mixed types. Specify dtype option on import or set low_memory=False.\n",
      "  for index, row in pd.read_csv(data_path, sep='\\t').iterrows():\n"
     ]
    },
    {
     "name": "stdout",
     "output_type": "stream",
     "text": [
      "aws s3 cp s3://velia-piperuns-dev/VPR_orfcalling_20240307222241_HEK293T-DMSO-rep1_SRR8449569/output/VPR_orfcalling_20240307222241_HEK293T-DMSO-rep1_SRR8449569_found_by_any_caller.csv ../data/VPR_orfcalling_20240307222241_HEK293T-DMSO-rep1_SRR8449569_found_by_any_caller.csv\n",
      "download: s3://velia-piperuns-dev/VPR_orfcalling_20240307222241_HEK293T-DMSO-rep1_SRR8449569/output/VPR_orfcalling_20240307222241_HEK293T-DMSO-rep1_SRR8449569_found_by_any_caller.csv to ../data/VPR_orfcalling_20240307222241_HEK293T-DMSO-rep1_SRR8449569_found_by_any_caller.csv\n",
      "aws s3 cp s3://velia-piperuns-dev/VPR_orfcalling_20240307222241_cardiomyocyte-rep3_SRR9113069/output/VPR_orfcalling_20240307222241_cardiomyocyte-rep3_SRR9113069_found_by_any_caller.csv ../data/VPR_orfcalling_20240307222241_cardiomyocyte-rep3_SRR9113069_found_by_any_caller.csv\n",
      "download: s3://velia-piperuns-dev/VPR_orfcalling_20240307222241_cardiomyocyte-rep3_SRR9113069/output/VPR_orfcalling_20240307222241_cardiomyocyte-rep3_SRR9113069_found_by_any_caller.csv to ../data/VPR_orfcalling_20240307222241_cardiomyocyte-rep3_SRR9113069_found_by_any_caller.csv\n",
      "aws s3 cp s3://velia-piperuns-dev/VPR_orfcalling_20240307222241_cardiomyocyte-rep2_SRR9113068/output/VPR_orfcalling_20240307222241_cardiomyocyte-rep2_SRR9113068_found_by_any_caller.csv ../data/VPR_orfcalling_20240307222241_cardiomyocyte-rep2_SRR9113068_found_by_any_caller.csv\n",
      "download: s3://velia-piperuns-dev/VPR_orfcalling_20240307222241_cardiomyocyte-rep2_SRR9113068/output/VPR_orfcalling_20240307222241_cardiomyocyte-rep2_SRR9113068_found_by_any_caller.csv to ../data/VPR_orfcalling_20240307222241_cardiomyocyte-rep2_SRR9113068_found_by_any_caller.csv\n",
      "aws s3 cp s3://velia-piperuns-dev/VPR_orfcalling_20240307222241_cardiomyocyte-rep1_SRR9113067/output/VPR_orfcalling_20240307222241_cardiomyocyte-rep1_SRR9113067_found_by_any_caller.csv ../data/VPR_orfcalling_20240307222241_cardiomyocyte-rep1_SRR9113067_found_by_any_caller.csv\n",
      "download: s3://velia-piperuns-dev/VPR_orfcalling_20240307222241_cardiomyocyte-rep1_SRR9113067/output/VPR_orfcalling_20240307222241_cardiomyocyte-rep1_SRR9113067_found_by_any_caller.csv to ../data/VPR_orfcalling_20240307222241_cardiomyocyte-rep1_SRR9113067_found_by_any_caller.csv\n",
      "aws s3 cp s3://velia-piperuns-dev/VPR_orfcalling_20240307222241_iPSC-rep3_SRR9113066/output/VPR_orfcalling_20240307222241_iPSC-rep3_SRR9113066_found_by_any_caller.csv ../data/VPR_orfcalling_20240307222241_iPSC-rep3_SRR9113066_found_by_any_caller.csv\n",
      "download: s3://velia-piperuns-dev/VPR_orfcalling_20240307222241_iPSC-rep3_SRR9113066/output/VPR_orfcalling_20240307222241_iPSC-rep3_SRR9113066_found_by_any_caller.csv to ../data/VPR_orfcalling_20240307222241_iPSC-rep3_SRR9113066_found_by_any_caller.csv\n",
      "aws s3 cp s3://velia-piperuns-dev/VPR_orfcalling_20240307222241_iPSC-rep2_SRR9113065/output/VPR_orfcalling_20240307222241_iPSC-rep2_SRR9113065_found_by_any_caller.csv ../data/VPR_orfcalling_20240307222241_iPSC-rep2_SRR9113065_found_by_any_caller.csv\n",
      "download: s3://velia-piperuns-dev/VPR_orfcalling_20240307222241_iPSC-rep2_SRR9113065/output/VPR_orfcalling_20240307222241_iPSC-rep2_SRR9113065_found_by_any_caller.csv to ../data/VPR_orfcalling_20240307222241_iPSC-rep2_SRR9113065_found_by_any_caller.csv\n",
      "aws s3 cp s3://velia-piperuns-dev/VPR_orfcalling_20240307222241_iPSC-rep1_SRR9113064/output/VPR_orfcalling_20240307222241_iPSC-rep1_SRR9113064_found_by_any_caller.csv ../data/VPR_orfcalling_20240307222241_iPSC-rep1_SRR9113064_found_by_any_caller.csv\n",
      "download: s3://velia-piperuns-dev/VPR_orfcalling_20240307222241_iPSC-rep1_SRR9113064/output/VPR_orfcalling_20240307222241_iPSC-rep1_SRR9113064_found_by_any_caller.csv to ../data/VPR_orfcalling_20240307222241_iPSC-rep1_SRR9113064_found_by_any_caller.csv\n",
      "aws s3 cp s3://velia-piperuns-dev/VPR_orfcalling_20240308012528_SRX3884275/output/VPR_orfcalling_20240308012528_SRX3884275_found_by_any_caller.csv ../data/VPR_orfcalling_20240308012528_SRX3884275_found_by_any_caller.csv\n",
      "download: s3://velia-piperuns-dev/VPR_orfcalling_20240308012528_SRX3884275/output/VPR_orfcalling_20240308012528_SRX3884275_found_by_any_caller.csv to ../data/VPR_orfcalling_20240308012528_SRX3884275_found_by_any_caller.csv\n",
      "aws s3 cp s3://velia-piperuns-dev/VPR_orfcalling_20240308012528_SRX3884277/output/VPR_orfcalling_20240308012528_SRX3884277_found_by_any_caller.csv ../data/VPR_orfcalling_20240308012528_SRX3884277_found_by_any_caller.csv\n",
      "download: s3://velia-piperuns-dev/VPR_orfcalling_20240308012528_SRX3884277/output/VPR_orfcalling_20240308012528_SRX3884277_found_by_any_caller.csv to ../data/VPR_orfcalling_20240308012528_SRX3884277_found_by_any_caller.csv\n",
      "aws s3 cp s3://velia-piperuns-dev/VPR_orfcalling_20240308012528_SRX3884282/output/VPR_orfcalling_20240308012528_SRX3884282_found_by_any_caller.csv ../data/VPR_orfcalling_20240308012528_SRX3884282_found_by_any_caller.csv\n",
      "download: s3://velia-piperuns-dev/VPR_orfcalling_20240308012528_SRX3884282/output/VPR_orfcalling_20240308012528_SRX3884282_found_by_any_caller.csv to ../data/VPR_orfcalling_20240308012528_SRX3884282_found_by_any_caller.csv\n",
      "aws s3 cp s3://velia-piperuns-dev/VPR_orfcalling_20240308012528_SRX3884284/output/VPR_orfcalling_20240308012528_SRX3884284_found_by_any_caller.csv ../data/VPR_orfcalling_20240308012528_SRX3884284_found_by_any_caller.csv\n",
      "download: s3://velia-piperuns-dev/VPR_orfcalling_20240308012528_SRX3884284/output/VPR_orfcalling_20240308012528_SRX3884284_found_by_any_caller.csv to ../data/VPR_orfcalling_20240308012528_SRX3884284_found_by_any_caller.csv\n",
      "aws s3 cp s3://velia-piperuns-dev/VPR_orfcalling_20240308012528_SRX3884288/output/VPR_orfcalling_20240308012528_SRX3884288_found_by_any_caller.csv ../data/VPR_orfcalling_20240308012528_SRX3884288_found_by_any_caller.csv\n",
      "download: s3://velia-piperuns-dev/VPR_orfcalling_20240308012528_SRX3884288/output/VPR_orfcalling_20240308012528_SRX3884288_found_by_any_caller.csv to ../data/VPR_orfcalling_20240308012528_SRX3884288_found_by_any_caller.csv\n",
      "aws s3 cp s3://velia-piperuns-dev/VPR_orfcalling_20240308012528_SRX3884290/output/VPR_orfcalling_20240308012528_SRX3884290_found_by_any_caller.csv ../data/VPR_orfcalling_20240308012528_SRX3884290_found_by_any_caller.csv\n",
      "download: s3://velia-piperuns-dev/VPR_orfcalling_20240308012528_SRX3884290/output/VPR_orfcalling_20240308012528_SRX3884290_found_by_any_caller.csv to ../data/VPR_orfcalling_20240308012528_SRX3884290_found_by_any_caller.csv\n",
      "aws s3 cp s3://velia-piperuns-dev/VPR_orfcalling_20240308012528_SRX3884292/output/VPR_orfcalling_20240308012528_SRX3884292_found_by_any_caller.csv ../data/VPR_orfcalling_20240308012528_SRX3884292_found_by_any_caller.csv\n",
      "download: s3://velia-piperuns-dev/VPR_orfcalling_20240308012528_SRX3884292/output/VPR_orfcalling_20240308012528_SRX3884292_found_by_any_caller.csv to ../data/VPR_orfcalling_20240308012528_SRX3884292_found_by_any_caller.csv\n",
      "aws s3 cp s3://velia-piperuns-dev/VPR_orfcalling_20240308012528_SRX3884294/output/VPR_orfcalling_20240308012528_SRX3884294_found_by_any_caller.csv ../data/VPR_orfcalling_20240308012528_SRX3884294_found_by_any_caller.csv\n",
      "download: s3://velia-piperuns-dev/VPR_orfcalling_20240308012528_SRX3884294/output/VPR_orfcalling_20240308012528_SRX3884294_found_by_any_caller.csv to ../data/VPR_orfcalling_20240308012528_SRX3884294_found_by_any_caller.csv\n",
      "aws s3 cp s3://velia-piperuns-dev/VPR_orfcalling_20240308012528_SRX3884296/output/VPR_orfcalling_20240308012528_SRX3884296_found_by_any_caller.csv ../data/VPR_orfcalling_20240308012528_SRX3884296_found_by_any_caller.csv\n",
      "download: s3://velia-piperuns-dev/VPR_orfcalling_20240308012528_SRX3884296/output/VPR_orfcalling_20240308012528_SRX3884296_found_by_any_caller.csv to ../data/VPR_orfcalling_20240308012528_SRX3884296_found_by_any_caller.csv\n",
      "aws s3 cp s3://velia-piperuns-dev/VPR_orfcalling_20240308012528_SRX3884298/output/VPR_orfcalling_20240308012528_SRX3884298_found_by_any_caller.csv ../data/VPR_orfcalling_20240308012528_SRX3884298_found_by_any_caller.csv\n",
      "download: s3://velia-piperuns-dev/VPR_orfcalling_20240308012528_SRX3884298/output/VPR_orfcalling_20240308012528_SRX3884298_found_by_any_caller.csv to ../data/VPR_orfcalling_20240308012528_SRX3884298_found_by_any_caller.csv\n",
      "aws s3 cp s3://velia-piperuns-dev/VPR_orfcalling_20240308012528_SRX3884304/output/VPR_orfcalling_20240308012528_SRX3884304_found_by_any_caller.csv ../data/VPR_orfcalling_20240308012528_SRX3884304_found_by_any_caller.csv\n",
      "download: s3://velia-piperuns-dev/VPR_orfcalling_20240308012528_SRX3884304/output/VPR_orfcalling_20240308012528_SRX3884304_found_by_any_caller.csv to ../data/VPR_orfcalling_20240308012528_SRX3884304_found_by_any_caller.csv\n",
      "aws s3 cp s3://velia-piperuns-dev/VPR_orfcalling_20240308012528_SRX3884308/output/VPR_orfcalling_20240308012528_SRX3884308_found_by_any_caller.csv ../data/VPR_orfcalling_20240308012528_SRX3884308_found_by_any_caller.csv\n",
      "download: s3://velia-piperuns-dev/VPR_orfcalling_20240308012528_SRX3884308/output/VPR_orfcalling_20240308012528_SRX3884308_found_by_any_caller.csv to ../data/VPR_orfcalling_20240308012528_SRX3884308_found_by_any_caller.csv\n",
      "aws s3 cp s3://velia-piperuns-dev/VPR_orfcalling_20240308012528_SRX3884312/output/VPR_orfcalling_20240308012528_SRX3884312_found_by_any_caller.csv ../data/VPR_orfcalling_20240308012528_SRX3884312_found_by_any_caller.csv\n",
      "download: s3://velia-piperuns-dev/VPR_orfcalling_20240308012528_SRX3884312/output/VPR_orfcalling_20240308012528_SRX3884312_found_by_any_caller.csv to ../data/VPR_orfcalling_20240308012528_SRX3884312_found_by_any_caller.csv\n",
      "aws s3 cp s3://velia-piperuns-dev/VPR_orfcalling_20240308012528_SRX3884314/output/VPR_orfcalling_20240308012528_SRX3884314_found_by_any_caller.csv ../data/VPR_orfcalling_20240308012528_SRX3884314_found_by_any_caller.csv\n",
      "download: s3://velia-piperuns-dev/VPR_orfcalling_20240308012528_SRX3884314/output/VPR_orfcalling_20240308012528_SRX3884314_found_by_any_caller.csv to ../data/VPR_orfcalling_20240308012528_SRX3884314_found_by_any_caller.csv\n",
      "aws s3 cp s3://velia-piperuns-dev/VPR_orfcalling_20240308012528_SRX10921846/output/VPR_orfcalling_20240308012528_SRX10921846_found_by_any_caller.csv ../data/VPR_orfcalling_20240308012528_SRX10921846_found_by_any_caller.csv\n",
      "download: s3://velia-piperuns-dev/VPR_orfcalling_20240308012528_SRX10921846/output/VPR_orfcalling_20240308012528_SRX10921846_found_by_any_caller.csv to ../data/VPR_orfcalling_20240308012528_SRX10921846_found_by_any_caller.csv\n"
     ]
    },
    {
     "name": "stderr",
     "output_type": "stream",
     "text": [
      "/tmp/ipykernel_10651/83718651.py:14: DtypeWarning: Columns (14) have mixed types. Specify dtype option on import or set low_memory=False.\n",
      "  for index, row in pd.read_csv(data_path, sep='\\t').iterrows():\n"
     ]
    },
    {
     "name": "stdout",
     "output_type": "stream",
     "text": [
      "aws s3 cp s3://velia-piperuns-dev/VPR_orfcalling_20240308012528_SRX10921847/output/VPR_orfcalling_20240308012528_SRX10921847_found_by_any_caller.csv ../data/VPR_orfcalling_20240308012528_SRX10921847_found_by_any_caller.csv\n",
      "download: s3://velia-piperuns-dev/VPR_orfcalling_20240308012528_SRX10921847/output/VPR_orfcalling_20240308012528_SRX10921847_found_by_any_caller.csv to ../data/VPR_orfcalling_20240308012528_SRX10921847_found_by_any_caller.csv\n"
     ]
    },
    {
     "name": "stderr",
     "output_type": "stream",
     "text": [
      "/tmp/ipykernel_10651/83718651.py:14: DtypeWarning: Columns (14) have mixed types. Specify dtype option on import or set low_memory=False.\n",
      "  for index, row in pd.read_csv(data_path, sep='\\t').iterrows():\n"
     ]
    },
    {
     "name": "stdout",
     "output_type": "stream",
     "text": [
      "aws s3 cp s3://velia-piperuns-dev/VPR_orfcalling_20240308012528_SRX5766767/output/VPR_orfcalling_20240308012528_SRX5766767_found_by_any_caller.csv ../data/VPR_orfcalling_20240308012528_SRX5766767_found_by_any_caller.csv\n",
      "download: s3://velia-piperuns-dev/VPR_orfcalling_20240308012528_SRX5766767/output/VPR_orfcalling_20240308012528_SRX5766767_found_by_any_caller.csv to ../data/VPR_orfcalling_20240308012528_SRX5766767_found_by_any_caller.csv\n"
     ]
    },
    {
     "name": "stderr",
     "output_type": "stream",
     "text": [
      "/tmp/ipykernel_10651/83718651.py:14: DtypeWarning: Columns (14) have mixed types. Specify dtype option on import or set low_memory=False.\n",
      "  for index, row in pd.read_csv(data_path, sep='\\t').iterrows():\n"
     ]
    },
    {
     "name": "stdout",
     "output_type": "stream",
     "text": [
      "aws s3 cp s3://velia-piperuns-dev/VPR_orfcalling_20240308012528_SRX5766768/output/VPR_orfcalling_20240308012528_SRX5766768_found_by_any_caller.csv ../data/VPR_orfcalling_20240308012528_SRX5766768_found_by_any_caller.csv\n",
      "download: s3://velia-piperuns-dev/VPR_orfcalling_20240308012528_SRX5766768/output/VPR_orfcalling_20240308012528_SRX5766768_found_by_any_caller.csv to ../data/VPR_orfcalling_20240308012528_SRX5766768_found_by_any_caller.csv\n",
      "aws s3 cp s3://velia-piperuns-dev/VPR_orfcalling_20240308012528_SRX5766769/output/VPR_orfcalling_20240308012528_SRX5766769_found_by_any_caller.csv ../data/VPR_orfcalling_20240308012528_SRX5766769_found_by_any_caller.csv\n",
      "download: s3://velia-piperuns-dev/VPR_orfcalling_20240308012528_SRX5766769/output/VPR_orfcalling_20240308012528_SRX5766769_found_by_any_caller.csv to ../data/VPR_orfcalling_20240308012528_SRX5766769_found_by_any_caller.csv\n"
     ]
    },
    {
     "name": "stderr",
     "output_type": "stream",
     "text": [
      "/tmp/ipykernel_10651/83718651.py:14: DtypeWarning: Columns (14) have mixed types. Specify dtype option on import or set low_memory=False.\n",
      "  for index, row in pd.read_csv(data_path, sep='\\t').iterrows():\n"
     ]
    },
    {
     "name": "stdout",
     "output_type": "stream",
     "text": [
      "aws s3 cp s3://velia-piperuns-dev/VPR_orfcalling_20240308012528_SRX5766770/output/VPR_orfcalling_20240308012528_SRX5766770_found_by_any_caller.csv ../data/VPR_orfcalling_20240308012528_SRX5766770_found_by_any_caller.csv\n",
      "download: s3://velia-piperuns-dev/VPR_orfcalling_20240308012528_SRX5766770/output/VPR_orfcalling_20240308012528_SRX5766770_found_by_any_caller.csv to ../data/VPR_orfcalling_20240308012528_SRX5766770_found_by_any_caller.csv\n",
      "aws s3 cp s3://velia-piperuns-dev/VPR_orfcalling_20240308012528_SRX8190759/output/VPR_orfcalling_20240308012528_SRX8190759_found_by_any_caller.csv ../data/VPR_orfcalling_20240308012528_SRX8190759_found_by_any_caller.csv\n",
      "download: s3://velia-piperuns-dev/VPR_orfcalling_20240308012528_SRX8190759/output/VPR_orfcalling_20240308012528_SRX8190759_found_by_any_caller.csv to ../data/VPR_orfcalling_20240308012528_SRX8190759_found_by_any_caller.csv\n",
      "aws s3 cp s3://velia-piperuns-dev/VPR_orfcalling_20240308012528_SRX8190760/output/VPR_orfcalling_20240308012528_SRX8190760_found_by_any_caller.csv ../data/VPR_orfcalling_20240308012528_SRX8190760_found_by_any_caller.csv\n",
      "download: s3://velia-piperuns-dev/VPR_orfcalling_20240308012528_SRX8190760/output/VPR_orfcalling_20240308012528_SRX8190760_found_by_any_caller.csv to ../data/VPR_orfcalling_20240308012528_SRX8190760_found_by_any_caller.csv\n"
     ]
    },
    {
     "name": "stderr",
     "output_type": "stream",
     "text": [
      "/tmp/ipykernel_10651/83718651.py:14: DtypeWarning: Columns (14) have mixed types. Specify dtype option on import or set low_memory=False.\n",
      "  for index, row in pd.read_csv(data_path, sep='\\t').iterrows():\n"
     ]
    },
    {
     "name": "stdout",
     "output_type": "stream",
     "text": [
      "aws s3 cp s3://velia-piperuns-dev/VPR_orfcalling_20240308012528_SRX8190763/output/VPR_orfcalling_20240308012528_SRX8190763_found_by_any_caller.csv ../data/VPR_orfcalling_20240308012528_SRX8190763_found_by_any_caller.csv\n",
      "download: s3://velia-piperuns-dev/VPR_orfcalling_20240308012528_SRX8190763/output/VPR_orfcalling_20240308012528_SRX8190763_found_by_any_caller.csv to ../data/VPR_orfcalling_20240308012528_SRX8190763_found_by_any_caller.csv\n",
      "aws s3 cp s3://velia-piperuns-dev/VPR_orfcalling_20240308012528_SRX8190764/output/VPR_orfcalling_20240308012528_SRX8190764_found_by_any_caller.csv ../data/VPR_orfcalling_20240308012528_SRX8190764_found_by_any_caller.csv\n",
      "download: s3://velia-piperuns-dev/VPR_orfcalling_20240308012528_SRX8190764/output/VPR_orfcalling_20240308012528_SRX8190764_found_by_any_caller.csv to ../data/VPR_orfcalling_20240308012528_SRX8190764_found_by_any_caller.csv\n",
      "aws s3 cp s3://velia-piperuns-dev/VPR_orfcalling_20240308012528_SRX8190768/output/VPR_orfcalling_20240308012528_SRX8190768_found_by_any_caller.csv ../data/VPR_orfcalling_20240308012528_SRX8190768_found_by_any_caller.csv\n",
      "download: s3://velia-piperuns-dev/VPR_orfcalling_20240308012528_SRX8190768/output/VPR_orfcalling_20240308012528_SRX8190768_found_by_any_caller.csv to ../data/VPR_orfcalling_20240308012528_SRX8190768_found_by_any_caller.csv\n"
     ]
    },
    {
     "name": "stderr",
     "output_type": "stream",
     "text": [
      "/tmp/ipykernel_10651/83718651.py:14: DtypeWarning: Columns (14) have mixed types. Specify dtype option on import or set low_memory=False.\n",
      "  for index, row in pd.read_csv(data_path, sep='\\t').iterrows():\n"
     ]
    },
    {
     "name": "stdout",
     "output_type": "stream",
     "text": [
      "aws s3 cp s3://velia-piperuns-dev/VPR_orfcalling_20240308012528_SRX8190771/output/VPR_orfcalling_20240308012528_SRX8190771_found_by_any_caller.csv ../data/VPR_orfcalling_20240308012528_SRX8190771_found_by_any_caller.csv\n",
      "download: s3://velia-piperuns-dev/VPR_orfcalling_20240308012528_SRX8190771/output/VPR_orfcalling_20240308012528_SRX8190771_found_by_any_caller.csv to ../data/VPR_orfcalling_20240308012528_SRX8190771_found_by_any_caller.csv\n"
     ]
    },
    {
     "name": "stderr",
     "output_type": "stream",
     "text": [
      "/tmp/ipykernel_10651/83718651.py:14: DtypeWarning: Columns (14) have mixed types. Specify dtype option on import or set low_memory=False.\n",
      "  for index, row in pd.read_csv(data_path, sep='\\t').iterrows():\n"
     ]
    },
    {
     "name": "stdout",
     "output_type": "stream",
     "text": [
      "aws s3 cp s3://velia-piperuns-dev/VPR_orfcalling_20240308012528_SRX8190772/output/VPR_orfcalling_20240308012528_SRX8190772_found_by_any_caller.csv ../data/VPR_orfcalling_20240308012528_SRX8190772_found_by_any_caller.csv\n",
      "download: s3://velia-piperuns-dev/VPR_orfcalling_20240308012528_SRX8190772/output/VPR_orfcalling_20240308012528_SRX8190772_found_by_any_caller.csv to ../data/VPR_orfcalling_20240308012528_SRX8190772_found_by_any_caller.csv\n",
      "aws s3 cp s3://velia-piperuns-dev/VPR_orfcalling_20240308012528_SRX11811959/output/VPR_orfcalling_20240308012528_SRX11811959_found_by_any_caller.csv ../data/VPR_orfcalling_20240308012528_SRX11811959_found_by_any_caller.csv\n",
      "download: s3://velia-piperuns-dev/VPR_orfcalling_20240308012528_SRX11811959/output/VPR_orfcalling_20240308012528_SRX11811959_found_by_any_caller.csv to ../data/VPR_orfcalling_20240308012528_SRX11811959_found_by_any_caller.csv\n",
      "aws s3 cp s3://velia-piperuns-dev/VPR_orfcalling_20240308012528_SRX11811960/output/VPR_orfcalling_20240308012528_SRX11811960_found_by_any_caller.csv ../data/VPR_orfcalling_20240308012528_SRX11811960_found_by_any_caller.csv\n",
      "download: s3://velia-piperuns-dev/VPR_orfcalling_20240308012528_SRX11811960/output/VPR_orfcalling_20240308012528_SRX11811960_found_by_any_caller.csv to ../data/VPR_orfcalling_20240308012528_SRX11811960_found_by_any_caller.csv\n",
      "aws s3 cp s3://velia-piperuns-dev/VPR_orfcalling_20240308012528_SRX11811961/output/VPR_orfcalling_20240308012528_SRX11811961_found_by_any_caller.csv ../data/VPR_orfcalling_20240308012528_SRX11811961_found_by_any_caller.csv\n",
      "download: s3://velia-piperuns-dev/VPR_orfcalling_20240308012528_SRX11811961/output/VPR_orfcalling_20240308012528_SRX11811961_found_by_any_caller.csv to ../data/VPR_orfcalling_20240308012528_SRX11811961_found_by_any_caller.csv\n"
     ]
    },
    {
     "name": "stderr",
     "output_type": "stream",
     "text": [
      "/tmp/ipykernel_10651/83718651.py:14: DtypeWarning: Columns (14) have mixed types. Specify dtype option on import or set low_memory=False.\n",
      "  for index, row in pd.read_csv(data_path, sep='\\t').iterrows():\n"
     ]
    },
    {
     "name": "stdout",
     "output_type": "stream",
     "text": [
      "aws s3 cp s3://velia-piperuns-dev/VPR_orfcalling_20240308012528_SRX11811962/output/VPR_orfcalling_20240308012528_SRX11811962_found_by_any_caller.csv ../data/VPR_orfcalling_20240308012528_SRX11811962_found_by_any_caller.csv\n",
      "download: s3://velia-piperuns-dev/VPR_orfcalling_20240308012528_SRX11811962/output/VPR_orfcalling_20240308012528_SRX11811962_found_by_any_caller.csv to ../data/VPR_orfcalling_20240308012528_SRX11811962_found_by_any_caller.csv\n",
      "aws s3 cp s3://velia-piperuns-dev/VPR_orfcalling_20240308012528_SRX11811963/output/VPR_orfcalling_20240308012528_SRX11811963_found_by_any_caller.csv ../data/VPR_orfcalling_20240308012528_SRX11811963_found_by_any_caller.csv\n",
      "download: s3://velia-piperuns-dev/VPR_orfcalling_20240308012528_SRX11811963/output/VPR_orfcalling_20240308012528_SRX11811963_found_by_any_caller.csv to ../data/VPR_orfcalling_20240308012528_SRX11811963_found_by_any_caller.csv\n"
     ]
    },
    {
     "name": "stderr",
     "output_type": "stream",
     "text": [
      "/tmp/ipykernel_10651/83718651.py:14: DtypeWarning: Columns (14) have mixed types. Specify dtype option on import or set low_memory=False.\n",
      "  for index, row in pd.read_csv(data_path, sep='\\t').iterrows():\n"
     ]
    },
    {
     "name": "stdout",
     "output_type": "stream",
     "text": [
      "aws s3 cp s3://velia-piperuns-dev/VPR_orfcalling_20240308012528_SRX11811968/output/VPR_orfcalling_20240308012528_SRX11811968_found_by_any_caller.csv ../data/VPR_orfcalling_20240308012528_SRX11811968_found_by_any_caller.csv\n",
      "download: s3://velia-piperuns-dev/VPR_orfcalling_20240308012528_SRX11811968/output/VPR_orfcalling_20240308012528_SRX11811968_found_by_any_caller.csv to ../data/VPR_orfcalling_20240308012528_SRX11811968_found_by_any_caller.csv\n"
     ]
    },
    {
     "name": "stderr",
     "output_type": "stream",
     "text": [
      "/tmp/ipykernel_10651/83718651.py:14: DtypeWarning: Columns (14) have mixed types. Specify dtype option on import or set low_memory=False.\n",
      "  for index, row in pd.read_csv(data_path, sep='\\t').iterrows():\n"
     ]
    },
    {
     "name": "stdout",
     "output_type": "stream",
     "text": [
      "aws s3 cp s3://velia-piperuns-dev/VPR_orfcalling_20240308012528_SRX11811969/output/VPR_orfcalling_20240308012528_SRX11811969_found_by_any_caller.csv ../data/VPR_orfcalling_20240308012528_SRX11811969_found_by_any_caller.csv\n",
      "download: s3://velia-piperuns-dev/VPR_orfcalling_20240308012528_SRX11811969/output/VPR_orfcalling_20240308012528_SRX11811969_found_by_any_caller.csv to ../data/VPR_orfcalling_20240308012528_SRX11811969_found_by_any_caller.csv\n",
      "aws s3 cp s3://velia-piperuns-dev/VPR_orfcalling_20240308012528_SRX11811970/output/VPR_orfcalling_20240308012528_SRX11811970_found_by_any_caller.csv ../data/VPR_orfcalling_20240308012528_SRX11811970_found_by_any_caller.csv\n",
      "download: s3://velia-piperuns-dev/VPR_orfcalling_20240308012528_SRX11811970/output/VPR_orfcalling_20240308012528_SRX11811970_found_by_any_caller.csv to ../data/VPR_orfcalling_20240308012528_SRX11811970_found_by_any_caller.csv\n"
     ]
    },
    {
     "name": "stderr",
     "output_type": "stream",
     "text": [
      "/tmp/ipykernel_10651/83718651.py:14: DtypeWarning: Columns (14) have mixed types. Specify dtype option on import or set low_memory=False.\n",
      "  for index, row in pd.read_csv(data_path, sep='\\t').iterrows():\n"
     ]
    },
    {
     "name": "stdout",
     "output_type": "stream",
     "text": [
      "aws s3 cp s3://velia-piperuns-dev/VPR_orfcalling_20240308012528_SRX11811971/output/VPR_orfcalling_20240308012528_SRX11811971_found_by_any_caller.csv ../data/VPR_orfcalling_20240308012528_SRX11811971_found_by_any_caller.csv\n",
      "download: s3://velia-piperuns-dev/VPR_orfcalling_20240308012528_SRX11811971/output/VPR_orfcalling_20240308012528_SRX11811971_found_by_any_caller.csv to ../data/VPR_orfcalling_20240308012528_SRX11811971_found_by_any_caller.csv\n"
     ]
    },
    {
     "name": "stderr",
     "output_type": "stream",
     "text": [
      "/tmp/ipykernel_10651/83718651.py:14: DtypeWarning: Columns (14) have mixed types. Specify dtype option on import or set low_memory=False.\n",
      "  for index, row in pd.read_csv(data_path, sep='\\t').iterrows():\n"
     ]
    },
    {
     "name": "stdout",
     "output_type": "stream",
     "text": [
      "aws s3 cp s3://velia-piperuns-dev/VPR_orfcalling_20240308012528_SRX11811972/output/VPR_orfcalling_20240308012528_SRX11811972_found_by_any_caller.csv ../data/VPR_orfcalling_20240308012528_SRX11811972_found_by_any_caller.csv\n",
      "download: s3://velia-piperuns-dev/VPR_orfcalling_20240308012528_SRX11811972/output/VPR_orfcalling_20240308012528_SRX11811972_found_by_any_caller.csv to ../data/VPR_orfcalling_20240308012528_SRX11811972_found_by_any_caller.csv\n",
      "aws s3 cp s3://velia-piperuns-dev/VPR_orfcalling_20240308012528_SRX11811973/output/VPR_orfcalling_20240308012528_SRX11811973_found_by_any_caller.csv ../data/VPR_orfcalling_20240308012528_SRX11811973_found_by_any_caller.csv\n",
      "download: s3://velia-piperuns-dev/VPR_orfcalling_20240308012528_SRX11811973/output/VPR_orfcalling_20240308012528_SRX11811973_found_by_any_caller.csv to ../data/VPR_orfcalling_20240308012528_SRX11811973_found_by_any_caller.csv\n"
     ]
    },
    {
     "name": "stderr",
     "output_type": "stream",
     "text": [
      "/tmp/ipykernel_10651/83718651.py:14: DtypeWarning: Columns (14) have mixed types. Specify dtype option on import or set low_memory=False.\n",
      "  for index, row in pd.read_csv(data_path, sep='\\t').iterrows():\n"
     ]
    },
    {
     "name": "stdout",
     "output_type": "stream",
     "text": [
      "aws s3 cp s3://velia-piperuns-dev/VPR_orfcalling_20240308012528_SRX11811975/output/VPR_orfcalling_20240308012528_SRX11811975_found_by_any_caller.csv ../data/VPR_orfcalling_20240308012528_SRX11811975_found_by_any_caller.csv\n",
      "download: s3://velia-piperuns-dev/VPR_orfcalling_20240308012528_SRX11811975/output/VPR_orfcalling_20240308012528_SRX11811975_found_by_any_caller.csv to ../data/VPR_orfcalling_20240308012528_SRX11811975_found_by_any_caller.csv\n"
     ]
    },
    {
     "name": "stderr",
     "output_type": "stream",
     "text": [
      "/tmp/ipykernel_10651/83718651.py:14: DtypeWarning: Columns (14) have mixed types. Specify dtype option on import or set low_memory=False.\n",
      "  for index, row in pd.read_csv(data_path, sep='\\t').iterrows():\n"
     ]
    },
    {
     "name": "stdout",
     "output_type": "stream",
     "text": [
      "aws s3 cp s3://velia-piperuns-dev/VPR_orfcalling_20240308012528_SRX11811977/output/VPR_orfcalling_20240308012528_SRX11811977_found_by_any_caller.csv ../data/VPR_orfcalling_20240308012528_SRX11811977_found_by_any_caller.csv\n",
      "download: s3://velia-piperuns-dev/VPR_orfcalling_20240308012528_SRX11811977/output/VPR_orfcalling_20240308012528_SRX11811977_found_by_any_caller.csv to ../data/VPR_orfcalling_20240308012528_SRX11811977_found_by_any_caller.csv\n",
      "aws s3 cp s3://velia-piperuns-dev/VPR_orfcalling_20240308012528_SRX11811978/output/VPR_orfcalling_20240308012528_SRX11811978_found_by_any_caller.csv ../data/VPR_orfcalling_20240308012528_SRX11811978_found_by_any_caller.csv\n",
      "download: s3://velia-piperuns-dev/VPR_orfcalling_20240308012528_SRX11811978/output/VPR_orfcalling_20240308012528_SRX11811978_found_by_any_caller.csv to ../data/VPR_orfcalling_20240308012528_SRX11811978_found_by_any_caller.csv\n",
      "aws s3 cp s3://velia-piperuns-dev/VPR_orfcalling_20240308012528_SRX11811979/output/VPR_orfcalling_20240308012528_SRX11811979_found_by_any_caller.csv ../data/VPR_orfcalling_20240308012528_SRX11811979_found_by_any_caller.csv\n",
      "download: s3://velia-piperuns-dev/VPR_orfcalling_20240308012528_SRX11811979/output/VPR_orfcalling_20240308012528_SRX11811979_found_by_any_caller.csv to ../data/VPR_orfcalling_20240308012528_SRX11811979_found_by_any_caller.csv\n",
      "aws s3 cp s3://velia-piperuns-dev/VPR_orfcalling_20240308012528_SRX11811980/output/VPR_orfcalling_20240308012528_SRX11811980_found_by_any_caller.csv ../data/VPR_orfcalling_20240308012528_SRX11811980_found_by_any_caller.csv\n",
      "download: s3://velia-piperuns-dev/VPR_orfcalling_20240308012528_SRX11811980/output/VPR_orfcalling_20240308012528_SRX11811980_found_by_any_caller.csv to ../data/VPR_orfcalling_20240308012528_SRX11811980_found_by_any_caller.csv\n",
      "aws s3 cp s3://velia-piperuns-dev/VPR_orfcalling_20240308012528_SRX11811981/output/VPR_orfcalling_20240308012528_SRX11811981_found_by_any_caller.csv ../data/VPR_orfcalling_20240308012528_SRX11811981_found_by_any_caller.csv\n",
      "download: s3://velia-piperuns-dev/VPR_orfcalling_20240308012528_SRX11811981/output/VPR_orfcalling_20240308012528_SRX11811981_found_by_any_caller.csv to ../data/VPR_orfcalling_20240308012528_SRX11811981_found_by_any_caller.csv\n"
     ]
    },
    {
     "name": "stderr",
     "output_type": "stream",
     "text": [
      "/tmp/ipykernel_10651/83718651.py:14: DtypeWarning: Columns (14) have mixed types. Specify dtype option on import or set low_memory=False.\n",
      "  for index, row in pd.read_csv(data_path, sep='\\t').iterrows():\n"
     ]
    },
    {
     "name": "stdout",
     "output_type": "stream",
     "text": [
      "aws s3 cp s3://velia-piperuns-dev/VPR_orfcalling_20240308012528_SRX11811982/output/VPR_orfcalling_20240308012528_SRX11811982_found_by_any_caller.csv ../data/VPR_orfcalling_20240308012528_SRX11811982_found_by_any_caller.csv\n",
      "download: s3://velia-piperuns-dev/VPR_orfcalling_20240308012528_SRX11811982/output/VPR_orfcalling_20240308012528_SRX11811982_found_by_any_caller.csv to ../data/VPR_orfcalling_20240308012528_SRX11811982_found_by_any_caller.csv\n",
      "aws s3 cp s3://velia-piperuns-dev/VPR_orfcalling_20240308012528_SRX11811983/output/VPR_orfcalling_20240308012528_SRX11811983_found_by_any_caller.csv ../data/VPR_orfcalling_20240308012528_SRX11811983_found_by_any_caller.csv\n",
      "download: s3://velia-piperuns-dev/VPR_orfcalling_20240308012528_SRX11811983/output/VPR_orfcalling_20240308012528_SRX11811983_found_by_any_caller.csv to ../data/VPR_orfcalling_20240308012528_SRX11811983_found_by_any_caller.csv\n",
      "aws s3 cp s3://velia-piperuns-dev/VPR_orfcalling_20240308012528_SRX11811984/output/VPR_orfcalling_20240308012528_SRX11811984_found_by_any_caller.csv ../data/VPR_orfcalling_20240308012528_SRX11811984_found_by_any_caller.csv\n",
      "download: s3://velia-piperuns-dev/VPR_orfcalling_20240308012528_SRX11811984/output/VPR_orfcalling_20240308012528_SRX11811984_found_by_any_caller.csv to ../data/VPR_orfcalling_20240308012528_SRX11811984_found_by_any_caller.csv\n"
     ]
    },
    {
     "name": "stderr",
     "output_type": "stream",
     "text": [
      "/tmp/ipykernel_10651/83718651.py:14: DtypeWarning: Columns (14) have mixed types. Specify dtype option on import or set low_memory=False.\n",
      "  for index, row in pd.read_csv(data_path, sep='\\t').iterrows():\n"
     ]
    },
    {
     "name": "stdout",
     "output_type": "stream",
     "text": [
      "aws s3 cp s3://velia-piperuns-dev/VPR_orfcalling_20240308012528_SRX11812006/output/VPR_orfcalling_20240308012528_SRX11812006_found_by_any_caller.csv ../data/VPR_orfcalling_20240308012528_SRX11812006_found_by_any_caller.csv\n",
      "download: s3://velia-piperuns-dev/VPR_orfcalling_20240308012528_SRX11812006/output/VPR_orfcalling_20240308012528_SRX11812006_found_by_any_caller.csv to ../data/VPR_orfcalling_20240308012528_SRX11812006_found_by_any_caller.csv\n"
     ]
    },
    {
     "name": "stderr",
     "output_type": "stream",
     "text": [
      "/tmp/ipykernel_10651/83718651.py:14: DtypeWarning: Columns (14) have mixed types. Specify dtype option on import or set low_memory=False.\n",
      "  for index, row in pd.read_csv(data_path, sep='\\t').iterrows():\n"
     ]
    },
    {
     "name": "stdout",
     "output_type": "stream",
     "text": [
      "aws s3 cp s3://velia-piperuns-dev/VPR_orfcalling_20240307222145_MB1_1A/output/VPR_orfcalling_20240307222145_MB1_1A_found_by_any_caller.csv ../data/VPR_orfcalling_20240307222145_MB1_1A_found_by_any_caller.csv\n",
      "download: s3://velia-piperuns-dev/VPR_orfcalling_20240307222145_MB1_1A/output/VPR_orfcalling_20240307222145_MB1_1A_found_by_any_caller.csv to ../data/VPR_orfcalling_20240307222145_MB1_1A_found_by_any_caller.csv\n"
     ]
    },
    {
     "name": "stderr",
     "output_type": "stream",
     "text": [
      "/tmp/ipykernel_10651/83718651.py:14: DtypeWarning: Columns (14) have mixed types. Specify dtype option on import or set low_memory=False.\n",
      "  for index, row in pd.read_csv(data_path, sep='\\t').iterrows():\n"
     ]
    },
    {
     "name": "stdout",
     "output_type": "stream",
     "text": [
      "aws s3 cp s3://velia-piperuns-dev/VPR_orfcalling_20240307222145_MB1_1B/output/VPR_orfcalling_20240307222145_MB1_1B_found_by_any_caller.csv ../data/VPR_orfcalling_20240307222145_MB1_1B_found_by_any_caller.csv\n",
      "download: s3://velia-piperuns-dev/VPR_orfcalling_20240307222145_MB1_1B/output/VPR_orfcalling_20240307222145_MB1_1B_found_by_any_caller.csv to ../data/VPR_orfcalling_20240307222145_MB1_1B_found_by_any_caller.csv\n"
     ]
    },
    {
     "name": "stderr",
     "output_type": "stream",
     "text": [
      "/tmp/ipykernel_10651/83718651.py:14: DtypeWarning: Columns (14) have mixed types. Specify dtype option on import or set low_memory=False.\n",
      "  for index, row in pd.read_csv(data_path, sep='\\t').iterrows():\n"
     ]
    },
    {
     "name": "stdout",
     "output_type": "stream",
     "text": [
      "aws s3 cp s3://velia-piperuns-dev/VPR_orfcalling_20240307222145_MB1_2A/output/VPR_orfcalling_20240307222145_MB1_2A_found_by_any_caller.csv ../data/VPR_orfcalling_20240307222145_MB1_2A_found_by_any_caller.csv\n",
      "download: s3://velia-piperuns-dev/VPR_orfcalling_20240307222145_MB1_2A/output/VPR_orfcalling_20240307222145_MB1_2A_found_by_any_caller.csv to ../data/VPR_orfcalling_20240307222145_MB1_2A_found_by_any_caller.csv\n"
     ]
    },
    {
     "name": "stderr",
     "output_type": "stream",
     "text": [
      "/tmp/ipykernel_10651/83718651.py:14: DtypeWarning: Columns (14) have mixed types. Specify dtype option on import or set low_memory=False.\n",
      "  for index, row in pd.read_csv(data_path, sep='\\t').iterrows():\n"
     ]
    },
    {
     "name": "stdout",
     "output_type": "stream",
     "text": [
      "aws s3 cp s3://velia-piperuns-dev/VPR_orfcalling_20240307222145_MB1_2B/output/VPR_orfcalling_20240307222145_MB1_2B_found_by_any_caller.csv ../data/VPR_orfcalling_20240307222145_MB1_2B_found_by_any_caller.csv\n",
      "download: s3://velia-piperuns-dev/VPR_orfcalling_20240307222145_MB1_2B/output/VPR_orfcalling_20240307222145_MB1_2B_found_by_any_caller.csv to ../data/VPR_orfcalling_20240307222145_MB1_2B_found_by_any_caller.csv\n",
      "aws s3 cp s3://velia-piperuns-dev/VPR_orfcalling_20240307222145_YL12_M0_a/output/VPR_orfcalling_20240307222145_YL12_M0_a_found_by_any_caller.csv ../data/VPR_orfcalling_20240307222145_YL12_M0_a_found_by_any_caller.csv\n",
      "download: s3://velia-piperuns-dev/VPR_orfcalling_20240307222145_YL12_M0_a/output/VPR_orfcalling_20240307222145_YL12_M0_a_found_by_any_caller.csv to ../data/VPR_orfcalling_20240307222145_YL12_M0_a_found_by_any_caller.csv\n"
     ]
    },
    {
     "name": "stderr",
     "output_type": "stream",
     "text": [
      "/tmp/ipykernel_10651/83718651.py:14: DtypeWarning: Columns (14) have mixed types. Specify dtype option on import or set low_memory=False.\n",
      "  for index, row in pd.read_csv(data_path, sep='\\t').iterrows():\n"
     ]
    },
    {
     "name": "stdout",
     "output_type": "stream",
     "text": [
      "aws s3 cp s3://velia-piperuns-dev/VPR_orfcalling_20240307222145_YL12_M0_b/output/VPR_orfcalling_20240307222145_YL12_M0_b_found_by_any_caller.csv ../data/VPR_orfcalling_20240307222145_YL12_M0_b_found_by_any_caller.csv\n",
      "download: s3://velia-piperuns-dev/VPR_orfcalling_20240307222145_YL12_M0_b/output/VPR_orfcalling_20240307222145_YL12_M0_b_found_by_any_caller.csv to ../data/VPR_orfcalling_20240307222145_YL12_M0_b_found_by_any_caller.csv\n"
     ]
    },
    {
     "name": "stderr",
     "output_type": "stream",
     "text": [
      "/tmp/ipykernel_10651/83718651.py:14: DtypeWarning: Columns (14) have mixed types. Specify dtype option on import or set low_memory=False.\n",
      "  for index, row in pd.read_csv(data_path, sep='\\t').iterrows():\n"
     ]
    },
    {
     "name": "stdout",
     "output_type": "stream",
     "text": [
      "aws s3 cp s3://velia-piperuns-dev/VPR_orfcalling_20240307222145_YL12_M2_a/output/VPR_orfcalling_20240307222145_YL12_M2_a_found_by_any_caller.csv ../data/VPR_orfcalling_20240307222145_YL12_M2_a_found_by_any_caller.csv\n",
      "download: s3://velia-piperuns-dev/VPR_orfcalling_20240307222145_YL12_M2_a/output/VPR_orfcalling_20240307222145_YL12_M2_a_found_by_any_caller.csv to ../data/VPR_orfcalling_20240307222145_YL12_M2_a_found_by_any_caller.csv\n"
     ]
    },
    {
     "name": "stderr",
     "output_type": "stream",
     "text": [
      "/tmp/ipykernel_10651/83718651.py:14: DtypeWarning: Columns (14) have mixed types. Specify dtype option on import or set low_memory=False.\n",
      "  for index, row in pd.read_csv(data_path, sep='\\t').iterrows():\n"
     ]
    },
    {
     "name": "stdout",
     "output_type": "stream",
     "text": [
      "aws s3 cp s3://velia-piperuns-dev/VPR_orfcalling_20240307222145_YL12_M2_b/output/VPR_orfcalling_20240307222145_YL12_M2_b_found_by_any_caller.csv ../data/VPR_orfcalling_20240307222145_YL12_M2_b_found_by_any_caller.csv\n",
      "download: s3://velia-piperuns-dev/VPR_orfcalling_20240307222145_YL12_M2_b/output/VPR_orfcalling_20240307222145_YL12_M2_b_found_by_any_caller.csv to ../data/VPR_orfcalling_20240307222145_YL12_M2_b_found_by_any_caller.csv\n"
     ]
    },
    {
     "name": "stderr",
     "output_type": "stream",
     "text": [
      "/tmp/ipykernel_10651/83718651.py:14: DtypeWarning: Columns (14) have mixed types. Specify dtype option on import or set low_memory=False.\n",
      "  for index, row in pd.read_csv(data_path, sep='\\t').iterrows():\n"
     ]
    },
    {
     "name": "stdout",
     "output_type": "stream",
     "text": [
      "aws s3 cp s3://velia-piperuns-dev/VPR_orfcalling_20240308012940_SRX7666669/output/VPR_orfcalling_20240308012940_SRX7666669_found_by_any_caller.csv ../data/VPR_orfcalling_20240308012940_SRX7666669_found_by_any_caller.csv\n",
      "download: s3://velia-piperuns-dev/VPR_orfcalling_20240308012940_SRX7666669/output/VPR_orfcalling_20240308012940_SRX7666669_found_by_any_caller.csv to ../data/VPR_orfcalling_20240308012940_SRX7666669_found_by_any_caller.csv\n"
     ]
    },
    {
     "name": "stderr",
     "output_type": "stream",
     "text": [
      "/tmp/ipykernel_10651/83718651.py:14: DtypeWarning: Columns (14) have mixed types. Specify dtype option on import or set low_memory=False.\n",
      "  for index, row in pd.read_csv(data_path, sep='\\t').iterrows():\n"
     ]
    },
    {
     "name": "stdout",
     "output_type": "stream",
     "text": [
      "aws s3 cp s3://velia-piperuns-dev/VPR_orfcalling_20240308012940_SRX7666670/output/VPR_orfcalling_20240308012940_SRX7666670_found_by_any_caller.csv ../data/VPR_orfcalling_20240308012940_SRX7666670_found_by_any_caller.csv\n",
      "download: s3://velia-piperuns-dev/VPR_orfcalling_20240308012940_SRX7666670/output/VPR_orfcalling_20240308012940_SRX7666670_found_by_any_caller.csv to ../data/VPR_orfcalling_20240308012940_SRX7666670_found_by_any_caller.csv\n"
     ]
    },
    {
     "name": "stderr",
     "output_type": "stream",
     "text": [
      "/tmp/ipykernel_10651/83718651.py:14: DtypeWarning: Columns (14) have mixed types. Specify dtype option on import or set low_memory=False.\n",
      "  for index, row in pd.read_csv(data_path, sep='\\t').iterrows():\n"
     ]
    },
    {
     "name": "stdout",
     "output_type": "stream",
     "text": [
      "aws s3 cp s3://velia-piperuns-dev/VPR_orfcalling_20240308012940_SRX7666671/output/VPR_orfcalling_20240308012940_SRX7666671_found_by_any_caller.csv ../data/VPR_orfcalling_20240308012940_SRX7666671_found_by_any_caller.csv\n",
      "download: s3://velia-piperuns-dev/VPR_orfcalling_20240308012940_SRX7666671/output/VPR_orfcalling_20240308012940_SRX7666671_found_by_any_caller.csv to ../data/VPR_orfcalling_20240308012940_SRX7666671_found_by_any_caller.csv\n"
     ]
    },
    {
     "name": "stderr",
     "output_type": "stream",
     "text": [
      "/tmp/ipykernel_10651/83718651.py:14: DtypeWarning: Columns (14) have mixed types. Specify dtype option on import or set low_memory=False.\n",
      "  for index, row in pd.read_csv(data_path, sep='\\t').iterrows():\n"
     ]
    },
    {
     "name": "stdout",
     "output_type": "stream",
     "text": [
      "aws s3 cp s3://velia-piperuns-dev/VPR_orfcalling_20240308012940_SRX7666672/output/VPR_orfcalling_20240308012940_SRX7666672_found_by_any_caller.csv ../data/VPR_orfcalling_20240308012940_SRX7666672_found_by_any_caller.csv\n",
      "download: s3://velia-piperuns-dev/VPR_orfcalling_20240308012940_SRX7666672/output/VPR_orfcalling_20240308012940_SRX7666672_found_by_any_caller.csv to ../data/VPR_orfcalling_20240308012940_SRX7666672_found_by_any_caller.csv\n"
     ]
    },
    {
     "name": "stderr",
     "output_type": "stream",
     "text": [
      "/tmp/ipykernel_10651/83718651.py:14: DtypeWarning: Columns (14) have mixed types. Specify dtype option on import or set low_memory=False.\n",
      "  for index, row in pd.read_csv(data_path, sep='\\t').iterrows():\n"
     ]
    },
    {
     "name": "stdout",
     "output_type": "stream",
     "text": [
      "aws s3 cp s3://velia-piperuns-dev/VPR_orfcalling_20240308012940_SRX7666673/output/VPR_orfcalling_20240308012940_SRX7666673_found_by_any_caller.csv ../data/VPR_orfcalling_20240308012940_SRX7666673_found_by_any_caller.csv\n",
      "download: s3://velia-piperuns-dev/VPR_orfcalling_20240308012940_SRX7666673/output/VPR_orfcalling_20240308012940_SRX7666673_found_by_any_caller.csv to ../data/VPR_orfcalling_20240308012940_SRX7666673_found_by_any_caller.csv\n"
     ]
    },
    {
     "name": "stderr",
     "output_type": "stream",
     "text": [
      "/tmp/ipykernel_10651/83718651.py:14: DtypeWarning: Columns (14) have mixed types. Specify dtype option on import or set low_memory=False.\n",
      "  for index, row in pd.read_csv(data_path, sep='\\t').iterrows():\n"
     ]
    },
    {
     "name": "stdout",
     "output_type": "stream",
     "text": [
      "aws s3 cp s3://velia-piperuns-dev/VPR_orfcalling_20240308012940_SRX7666674/output/VPR_orfcalling_20240308012940_SRX7666674_found_by_any_caller.csv ../data/VPR_orfcalling_20240308012940_SRX7666674_found_by_any_caller.csv\n",
      "download: s3://velia-piperuns-dev/VPR_orfcalling_20240308012940_SRX7666674/output/VPR_orfcalling_20240308012940_SRX7666674_found_by_any_caller.csv to ../data/VPR_orfcalling_20240308012940_SRX7666674_found_by_any_caller.csv\n"
     ]
    },
    {
     "name": "stderr",
     "output_type": "stream",
     "text": [
      "/tmp/ipykernel_10651/83718651.py:14: DtypeWarning: Columns (14) have mixed types. Specify dtype option on import or set low_memory=False.\n",
      "  for index, row in pd.read_csv(data_path, sep='\\t').iterrows():\n"
     ]
    },
    {
     "name": "stdout",
     "output_type": "stream",
     "text": [
      "aws s3 cp s3://velia-piperuns-dev/VPR_orfcalling_20240308012940_SRX7666675/output/VPR_orfcalling_20240308012940_SRX7666675_found_by_any_caller.csv ../data/VPR_orfcalling_20240308012940_SRX7666675_found_by_any_caller.csv\n",
      "download: s3://velia-piperuns-dev/VPR_orfcalling_20240308012940_SRX7666675/output/VPR_orfcalling_20240308012940_SRX7666675_found_by_any_caller.csv to ../data/VPR_orfcalling_20240308012940_SRX7666675_found_by_any_caller.csv\n"
     ]
    },
    {
     "name": "stderr",
     "output_type": "stream",
     "text": [
      "/tmp/ipykernel_10651/83718651.py:14: DtypeWarning: Columns (14) have mixed types. Specify dtype option on import or set low_memory=False.\n",
      "  for index, row in pd.read_csv(data_path, sep='\\t').iterrows():\n"
     ]
    },
    {
     "name": "stdout",
     "output_type": "stream",
     "text": [
      "aws s3 cp s3://velia-piperuns-dev/VPR_orfcalling_20240308012940_SRX7666676/output/VPR_orfcalling_20240308012940_SRX7666676_found_by_any_caller.csv ../data/VPR_orfcalling_20240308012940_SRX7666676_found_by_any_caller.csv\n",
      "download: s3://velia-piperuns-dev/VPR_orfcalling_20240308012940_SRX7666676/output/VPR_orfcalling_20240308012940_SRX7666676_found_by_any_caller.csv to ../data/VPR_orfcalling_20240308012940_SRX7666676_found_by_any_caller.csv\n"
     ]
    },
    {
     "name": "stderr",
     "output_type": "stream",
     "text": [
      "/tmp/ipykernel_10651/83718651.py:14: DtypeWarning: Columns (14) have mixed types. Specify dtype option on import or set low_memory=False.\n",
      "  for index, row in pd.read_csv(data_path, sep='\\t').iterrows():\n"
     ]
    },
    {
     "name": "stdout",
     "output_type": "stream",
     "text": [
      "aws s3 cp s3://velia-piperuns-dev/VPR_orfcalling_20240308012940_SRX7666677/output/VPR_orfcalling_20240308012940_SRX7666677_found_by_any_caller.csv ../data/VPR_orfcalling_20240308012940_SRX7666677_found_by_any_caller.csv\n",
      "download: s3://velia-piperuns-dev/VPR_orfcalling_20240308012940_SRX7666677/output/VPR_orfcalling_20240308012940_SRX7666677_found_by_any_caller.csv to ../data/VPR_orfcalling_20240308012940_SRX7666677_found_by_any_caller.csv\n"
     ]
    },
    {
     "name": "stderr",
     "output_type": "stream",
     "text": [
      "/tmp/ipykernel_10651/83718651.py:14: DtypeWarning: Columns (14) have mixed types. Specify dtype option on import or set low_memory=False.\n",
      "  for index, row in pd.read_csv(data_path, sep='\\t').iterrows():\n"
     ]
    },
    {
     "name": "stdout",
     "output_type": "stream",
     "text": [
      "aws s3 cp s3://velia-piperuns-dev/VPR_orfcalling_20240308012940_SRX7666678/output/VPR_orfcalling_20240308012940_SRX7666678_found_by_any_caller.csv ../data/VPR_orfcalling_20240308012940_SRX7666678_found_by_any_caller.csv\n",
      "download: s3://velia-piperuns-dev/VPR_orfcalling_20240308012940_SRX7666678/output/VPR_orfcalling_20240308012940_SRX7666678_found_by_any_caller.csv to ../data/VPR_orfcalling_20240308012940_SRX7666678_found_by_any_caller.csv\n"
     ]
    },
    {
     "name": "stderr",
     "output_type": "stream",
     "text": [
      "/tmp/ipykernel_10651/83718651.py:14: DtypeWarning: Columns (14) have mixed types. Specify dtype option on import or set low_memory=False.\n",
      "  for index, row in pd.read_csv(data_path, sep='\\t').iterrows():\n"
     ]
    },
    {
     "name": "stdout",
     "output_type": "stream",
     "text": [
      "aws s3 cp s3://velia-piperuns-dev/VPR_orfcalling_20240308012940_SRX7666679/output/VPR_orfcalling_20240308012940_SRX7666679_found_by_any_caller.csv ../data/VPR_orfcalling_20240308012940_SRX7666679_found_by_any_caller.csv\n",
      "download: s3://velia-piperuns-dev/VPR_orfcalling_20240308012940_SRX7666679/output/VPR_orfcalling_20240308012940_SRX7666679_found_by_any_caller.csv to ../data/VPR_orfcalling_20240308012940_SRX7666679_found_by_any_caller.csv\n"
     ]
    },
    {
     "name": "stderr",
     "output_type": "stream",
     "text": [
      "/tmp/ipykernel_10651/83718651.py:14: DtypeWarning: Columns (14) have mixed types. Specify dtype option on import or set low_memory=False.\n",
      "  for index, row in pd.read_csv(data_path, sep='\\t').iterrows():\n"
     ]
    },
    {
     "name": "stdout",
     "output_type": "stream",
     "text": [
      "aws s3 cp s3://velia-piperuns-dev/VPR_orfcalling_20240308012940_SRX7666680/output/VPR_orfcalling_20240308012940_SRX7666680_found_by_any_caller.csv ../data/VPR_orfcalling_20240308012940_SRX7666680_found_by_any_caller.csv\n",
      "download: s3://velia-piperuns-dev/VPR_orfcalling_20240308012940_SRX7666680/output/VPR_orfcalling_20240308012940_SRX7666680_found_by_any_caller.csv to ../data/VPR_orfcalling_20240308012940_SRX7666680_found_by_any_caller.csv\n"
     ]
    },
    {
     "name": "stderr",
     "output_type": "stream",
     "text": [
      "/tmp/ipykernel_10651/83718651.py:14: DtypeWarning: Columns (14) have mixed types. Specify dtype option on import or set low_memory=False.\n",
      "  for index, row in pd.read_csv(data_path, sep='\\t').iterrows():\n"
     ]
    },
    {
     "name": "stdout",
     "output_type": "stream",
     "text": [
      "aws s3 cp s3://velia-piperuns-dev/VPR_orfcalling_20240308012940_SRX7666681/output/VPR_orfcalling_20240308012940_SRX7666681_found_by_any_caller.csv ../data/VPR_orfcalling_20240308012940_SRX7666681_found_by_any_caller.csv\n",
      "download: s3://velia-piperuns-dev/VPR_orfcalling_20240308012940_SRX7666681/output/VPR_orfcalling_20240308012940_SRX7666681_found_by_any_caller.csv to ../data/VPR_orfcalling_20240308012940_SRX7666681_found_by_any_caller.csv\n"
     ]
    },
    {
     "name": "stderr",
     "output_type": "stream",
     "text": [
      "/tmp/ipykernel_10651/83718651.py:14: DtypeWarning: Columns (14) have mixed types. Specify dtype option on import or set low_memory=False.\n",
      "  for index, row in pd.read_csv(data_path, sep='\\t').iterrows():\n"
     ]
    },
    {
     "name": "stdout",
     "output_type": "stream",
     "text": [
      "aws s3 cp s3://velia-piperuns-dev/VPR_orfcalling_20240308012940_SRX7666682/output/VPR_orfcalling_20240308012940_SRX7666682_found_by_any_caller.csv ../data/VPR_orfcalling_20240308012940_SRX7666682_found_by_any_caller.csv\n",
      "download: s3://velia-piperuns-dev/VPR_orfcalling_20240308012940_SRX7666682/output/VPR_orfcalling_20240308012940_SRX7666682_found_by_any_caller.csv to ../data/VPR_orfcalling_20240308012940_SRX7666682_found_by_any_caller.csv\n"
     ]
    },
    {
     "name": "stderr",
     "output_type": "stream",
     "text": [
      "/tmp/ipykernel_10651/83718651.py:14: DtypeWarning: Columns (14) have mixed types. Specify dtype option on import or set low_memory=False.\n",
      "  for index, row in pd.read_csv(data_path, sep='\\t').iterrows():\n"
     ]
    },
    {
     "name": "stdout",
     "output_type": "stream",
     "text": [
      "aws s3 cp s3://velia-piperuns-dev/VPR_orfcalling_20240308012940_SRX7666683/output/VPR_orfcalling_20240308012940_SRX7666683_found_by_any_caller.csv ../data/VPR_orfcalling_20240308012940_SRX7666683_found_by_any_caller.csv\n",
      "download: s3://velia-piperuns-dev/VPR_orfcalling_20240308012940_SRX7666683/output/VPR_orfcalling_20240308012940_SRX7666683_found_by_any_caller.csv to ../data/VPR_orfcalling_20240308012940_SRX7666683_found_by_any_caller.csv\n"
     ]
    },
    {
     "name": "stderr",
     "output_type": "stream",
     "text": [
      "/tmp/ipykernel_10651/83718651.py:14: DtypeWarning: Columns (14) have mixed types. Specify dtype option on import or set low_memory=False.\n",
      "  for index, row in pd.read_csv(data_path, sep='\\t').iterrows():\n"
     ]
    },
    {
     "name": "stdout",
     "output_type": "stream",
     "text": [
      "aws s3 cp s3://velia-piperuns-dev/VPR_orfcalling_20240308012940_SRX7666684/output/VPR_orfcalling_20240308012940_SRX7666684_found_by_any_caller.csv ../data/VPR_orfcalling_20240308012940_SRX7666684_found_by_any_caller.csv\n",
      "download: s3://velia-piperuns-dev/VPR_orfcalling_20240308012940_SRX7666684/output/VPR_orfcalling_20240308012940_SRX7666684_found_by_any_caller.csv to ../data/VPR_orfcalling_20240308012940_SRX7666684_found_by_any_caller.csv\n"
     ]
    },
    {
     "name": "stderr",
     "output_type": "stream",
     "text": [
      "/tmp/ipykernel_10651/83718651.py:14: DtypeWarning: Columns (14) have mixed types. Specify dtype option on import or set low_memory=False.\n",
      "  for index, row in pd.read_csv(data_path, sep='\\t').iterrows():\n"
     ]
    },
    {
     "name": "stdout",
     "output_type": "stream",
     "text": [
      "aws s3 cp s3://velia-piperuns-dev/VPR_orfcalling_20240308012940_SRX7666685/output/VPR_orfcalling_20240308012940_SRX7666685_found_by_any_caller.csv ../data/VPR_orfcalling_20240308012940_SRX7666685_found_by_any_caller.csv\n",
      "download: s3://velia-piperuns-dev/VPR_orfcalling_20240308012940_SRX7666685/output/VPR_orfcalling_20240308012940_SRX7666685_found_by_any_caller.csv to ../data/VPR_orfcalling_20240308012940_SRX7666685_found_by_any_caller.csv\n"
     ]
    },
    {
     "name": "stderr",
     "output_type": "stream",
     "text": [
      "/tmp/ipykernel_10651/83718651.py:14: DtypeWarning: Columns (14) have mixed types. Specify dtype option on import or set low_memory=False.\n",
      "  for index, row in pd.read_csv(data_path, sep='\\t').iterrows():\n"
     ]
    },
    {
     "name": "stdout",
     "output_type": "stream",
     "text": [
      "aws s3 cp s3://velia-piperuns-dev/VPR_orfcalling_20240308012940_SRX7666686/output/VPR_orfcalling_20240308012940_SRX7666686_found_by_any_caller.csv ../data/VPR_orfcalling_20240308012940_SRX7666686_found_by_any_caller.csv\n",
      "download: s3://velia-piperuns-dev/VPR_orfcalling_20240308012940_SRX7666686/output/VPR_orfcalling_20240308012940_SRX7666686_found_by_any_caller.csv to ../data/VPR_orfcalling_20240308012940_SRX7666686_found_by_any_caller.csv\n"
     ]
    },
    {
     "name": "stderr",
     "output_type": "stream",
     "text": [
      "/tmp/ipykernel_10651/83718651.py:14: DtypeWarning: Columns (14) have mixed types. Specify dtype option on import or set low_memory=False.\n",
      "  for index, row in pd.read_csv(data_path, sep='\\t').iterrows():\n"
     ]
    },
    {
     "name": "stdout",
     "output_type": "stream",
     "text": [
      "aws s3 cp s3://velia-piperuns-dev/VPR_orfcalling_20240308012940_SRX7666687/output/VPR_orfcalling_20240308012940_SRX7666687_found_by_any_caller.csv ../data/VPR_orfcalling_20240308012940_SRX7666687_found_by_any_caller.csv\n",
      "download: s3://velia-piperuns-dev/VPR_orfcalling_20240308012940_SRX7666687/output/VPR_orfcalling_20240308012940_SRX7666687_found_by_any_caller.csv to ../data/VPR_orfcalling_20240308012940_SRX7666687_found_by_any_caller.csv\n"
     ]
    },
    {
     "name": "stderr",
     "output_type": "stream",
     "text": [
      "/tmp/ipykernel_10651/83718651.py:14: DtypeWarning: Columns (14) have mixed types. Specify dtype option on import or set low_memory=False.\n",
      "  for index, row in pd.read_csv(data_path, sep='\\t').iterrows():\n"
     ]
    },
    {
     "name": "stdout",
     "output_type": "stream",
     "text": [
      "aws s3 cp s3://velia-piperuns-dev/VPR_orfcalling_20240308012940_SRX7666688/output/VPR_orfcalling_20240308012940_SRX7666688_found_by_any_caller.csv ../data/VPR_orfcalling_20240308012940_SRX7666688_found_by_any_caller.csv\n",
      "download: s3://velia-piperuns-dev/VPR_orfcalling_20240308012940_SRX7666688/output/VPR_orfcalling_20240308012940_SRX7666688_found_by_any_caller.csv to ../data/VPR_orfcalling_20240308012940_SRX7666688_found_by_any_caller.csv\n"
     ]
    },
    {
     "name": "stderr",
     "output_type": "stream",
     "text": [
      "/tmp/ipykernel_10651/83718651.py:14: DtypeWarning: Columns (14) have mixed types. Specify dtype option on import or set low_memory=False.\n",
      "  for index, row in pd.read_csv(data_path, sep='\\t').iterrows():\n"
     ]
    },
    {
     "name": "stdout",
     "output_type": "stream",
     "text": [
      "aws s3 cp s3://velia-piperuns-dev/VPR_orfcalling_20240308012940_SRX7666689/output/VPR_orfcalling_20240308012940_SRX7666689_found_by_any_caller.csv ../data/VPR_orfcalling_20240308012940_SRX7666689_found_by_any_caller.csv\n",
      "download: s3://velia-piperuns-dev/VPR_orfcalling_20240308012940_SRX7666689/output/VPR_orfcalling_20240308012940_SRX7666689_found_by_any_caller.csv to ../data/VPR_orfcalling_20240308012940_SRX7666689_found_by_any_caller.csv\n"
     ]
    },
    {
     "name": "stderr",
     "output_type": "stream",
     "text": [
      "/tmp/ipykernel_10651/83718651.py:14: DtypeWarning: Columns (14) have mixed types. Specify dtype option on import or set low_memory=False.\n",
      "  for index, row in pd.read_csv(data_path, sep='\\t').iterrows():\n"
     ]
    },
    {
     "name": "stdout",
     "output_type": "stream",
     "text": [
      "aws s3 cp s3://velia-piperuns-dev/VPR_orfcalling_20240308012940_SRX7666690/output/VPR_orfcalling_20240308012940_SRX7666690_found_by_any_caller.csv ../data/VPR_orfcalling_20240308012940_SRX7666690_found_by_any_caller.csv\n",
      "download: s3://velia-piperuns-dev/VPR_orfcalling_20240308012940_SRX7666690/output/VPR_orfcalling_20240308012940_SRX7666690_found_by_any_caller.csv to ../data/VPR_orfcalling_20240308012940_SRX7666690_found_by_any_caller.csv\n"
     ]
    },
    {
     "name": "stderr",
     "output_type": "stream",
     "text": [
      "/tmp/ipykernel_10651/83718651.py:14: DtypeWarning: Columns (14) have mixed types. Specify dtype option on import or set low_memory=False.\n",
      "  for index, row in pd.read_csv(data_path, sep='\\t').iterrows():\n"
     ]
    },
    {
     "name": "stdout",
     "output_type": "stream",
     "text": [
      "aws s3 cp s3://velia-piperuns-dev/VPR_orfcalling_20240308012940_SRX7666691/output/VPR_orfcalling_20240308012940_SRX7666691_found_by_any_caller.csv ../data/VPR_orfcalling_20240308012940_SRX7666691_found_by_any_caller.csv\n",
      "download: s3://velia-piperuns-dev/VPR_orfcalling_20240308012940_SRX7666691/output/VPR_orfcalling_20240308012940_SRX7666691_found_by_any_caller.csv to ../data/VPR_orfcalling_20240308012940_SRX7666691_found_by_any_caller.csv\n"
     ]
    },
    {
     "name": "stderr",
     "output_type": "stream",
     "text": [
      "/tmp/ipykernel_10651/83718651.py:14: DtypeWarning: Columns (14) have mixed types. Specify dtype option on import or set low_memory=False.\n",
      "  for index, row in pd.read_csv(data_path, sep='\\t').iterrows():\n"
     ]
    },
    {
     "name": "stdout",
     "output_type": "stream",
     "text": [
      "aws s3 cp s3://velia-piperuns-dev/VPR_orfcalling_20240308012940_SRX7666692/output/VPR_orfcalling_20240308012940_SRX7666692_found_by_any_caller.csv ../data/VPR_orfcalling_20240308012940_SRX7666692_found_by_any_caller.csv\n",
      "download: s3://velia-piperuns-dev/VPR_orfcalling_20240308012940_SRX7666692/output/VPR_orfcalling_20240308012940_SRX7666692_found_by_any_caller.csv to ../data/VPR_orfcalling_20240308012940_SRX7666692_found_by_any_caller.csv\n"
     ]
    },
    {
     "name": "stderr",
     "output_type": "stream",
     "text": [
      "/tmp/ipykernel_10651/83718651.py:14: DtypeWarning: Columns (14) have mixed types. Specify dtype option on import or set low_memory=False.\n",
      "  for index, row in pd.read_csv(data_path, sep='\\t').iterrows():\n"
     ]
    },
    {
     "name": "stdout",
     "output_type": "stream",
     "text": [
      "aws s3 cp s3://velia-piperuns-dev/VPR_orfcalling_20240308012940_SRX7666693/output/VPR_orfcalling_20240308012940_SRX7666693_found_by_any_caller.csv ../data/VPR_orfcalling_20240308012940_SRX7666693_found_by_any_caller.csv\n",
      "download: s3://velia-piperuns-dev/VPR_orfcalling_20240308012940_SRX7666693/output/VPR_orfcalling_20240308012940_SRX7666693_found_by_any_caller.csv to ../data/VPR_orfcalling_20240308012940_SRX7666693_found_by_any_caller.csv\n"
     ]
    },
    {
     "name": "stderr",
     "output_type": "stream",
     "text": [
      "/tmp/ipykernel_10651/83718651.py:14: DtypeWarning: Columns (14) have mixed types. Specify dtype option on import or set low_memory=False.\n",
      "  for index, row in pd.read_csv(data_path, sep='\\t').iterrows():\n"
     ]
    },
    {
     "name": "stdout",
     "output_type": "stream",
     "text": [
      "aws s3 cp s3://velia-piperuns-dev/VPR_orfcalling_20240308012940_SRX7666694/output/VPR_orfcalling_20240308012940_SRX7666694_found_by_any_caller.csv ../data/VPR_orfcalling_20240308012940_SRX7666694_found_by_any_caller.csv\n",
      "download: s3://velia-piperuns-dev/VPR_orfcalling_20240308012940_SRX7666694/output/VPR_orfcalling_20240308012940_SRX7666694_found_by_any_caller.csv to ../data/VPR_orfcalling_20240308012940_SRX7666694_found_by_any_caller.csv\n"
     ]
    },
    {
     "name": "stderr",
     "output_type": "stream",
     "text": [
      "/tmp/ipykernel_10651/83718651.py:14: DtypeWarning: Columns (14) have mixed types. Specify dtype option on import or set low_memory=False.\n",
      "  for index, row in pd.read_csv(data_path, sep='\\t').iterrows():\n"
     ]
    },
    {
     "name": "stdout",
     "output_type": "stream",
     "text": [
      "aws s3 cp s3://velia-piperuns-dev/VPR_orfcalling_20240308012940_SRX7666695/output/VPR_orfcalling_20240308012940_SRX7666695_found_by_any_caller.csv ../data/VPR_orfcalling_20240308012940_SRX7666695_found_by_any_caller.csv\n",
      "download: s3://velia-piperuns-dev/VPR_orfcalling_20240308012940_SRX7666695/output/VPR_orfcalling_20240308012940_SRX7666695_found_by_any_caller.csv to ../data/VPR_orfcalling_20240308012940_SRX7666695_found_by_any_caller.csv\n"
     ]
    },
    {
     "name": "stderr",
     "output_type": "stream",
     "text": [
      "/tmp/ipykernel_10651/83718651.py:14: DtypeWarning: Columns (14) have mixed types. Specify dtype option on import or set low_memory=False.\n",
      "  for index, row in pd.read_csv(data_path, sep='\\t').iterrows():\n"
     ]
    },
    {
     "name": "stdout",
     "output_type": "stream",
     "text": [
      "aws s3 cp s3://velia-piperuns-dev/VPR_orfcalling_20240308012940_SRX7666696/output/VPR_orfcalling_20240308012940_SRX7666696_found_by_any_caller.csv ../data/VPR_orfcalling_20240308012940_SRX7666696_found_by_any_caller.csv\n",
      "download: s3://velia-piperuns-dev/VPR_orfcalling_20240308012940_SRX7666696/output/VPR_orfcalling_20240308012940_SRX7666696_found_by_any_caller.csv to ../data/VPR_orfcalling_20240308012940_SRX7666696_found_by_any_caller.csv\n"
     ]
    },
    {
     "name": "stderr",
     "output_type": "stream",
     "text": [
      "/tmp/ipykernel_10651/83718651.py:14: DtypeWarning: Columns (14) have mixed types. Specify dtype option on import or set low_memory=False.\n",
      "  for index, row in pd.read_csv(data_path, sep='\\t').iterrows():\n"
     ]
    },
    {
     "name": "stdout",
     "output_type": "stream",
     "text": [
      "aws s3 cp s3://velia-piperuns-dev/VPR_orfcalling_20240308012940_SRX7666697/output/VPR_orfcalling_20240308012940_SRX7666697_found_by_any_caller.csv ../data/VPR_orfcalling_20240308012940_SRX7666697_found_by_any_caller.csv\n",
      "download: s3://velia-piperuns-dev/VPR_orfcalling_20240308012940_SRX7666697/output/VPR_orfcalling_20240308012940_SRX7666697_found_by_any_caller.csv to ../data/VPR_orfcalling_20240308012940_SRX7666697_found_by_any_caller.csv\n"
     ]
    },
    {
     "name": "stderr",
     "output_type": "stream",
     "text": [
      "/tmp/ipykernel_10651/83718651.py:14: DtypeWarning: Columns (14) have mixed types. Specify dtype option on import or set low_memory=False.\n",
      "  for index, row in pd.read_csv(data_path, sep='\\t').iterrows():\n"
     ]
    },
    {
     "name": "stdout",
     "output_type": "stream",
     "text": [
      "aws s3 cp s3://velia-piperuns-dev/VPR_orfcalling_20240308012940_SRX7666698/output/VPR_orfcalling_20240308012940_SRX7666698_found_by_any_caller.csv ../data/VPR_orfcalling_20240308012940_SRX7666698_found_by_any_caller.csv\n",
      "download: s3://velia-piperuns-dev/VPR_orfcalling_20240308012940_SRX7666698/output/VPR_orfcalling_20240308012940_SRX7666698_found_by_any_caller.csv to ../data/VPR_orfcalling_20240308012940_SRX7666698_found_by_any_caller.csv\n"
     ]
    },
    {
     "name": "stderr",
     "output_type": "stream",
     "text": [
      "/tmp/ipykernel_10651/83718651.py:14: DtypeWarning: Columns (14) have mixed types. Specify dtype option on import or set low_memory=False.\n",
      "  for index, row in pd.read_csv(data_path, sep='\\t').iterrows():\n"
     ]
    },
    {
     "name": "stdout",
     "output_type": "stream",
     "text": [
      "aws s3 cp s3://velia-piperuns-dev/VPR_orfcalling_20240308012940_SRX876046/output/VPR_orfcalling_20240308012940_SRX876046_found_by_any_caller.csv ../data/VPR_orfcalling_20240308012940_SRX876046_found_by_any_caller.csv\n",
      "download: s3://velia-piperuns-dev/VPR_orfcalling_20240308012940_SRX876046/output/VPR_orfcalling_20240308012940_SRX876046_found_by_any_caller.csv to ../data/VPR_orfcalling_20240308012940_SRX876046_found_by_any_caller.csv\n",
      "aws s3 cp s3://velia-piperuns-dev/VPR_orfcalling_20240308012940_SRX876047/output/VPR_orfcalling_20240308012940_SRX876047_found_by_any_caller.csv ../data/VPR_orfcalling_20240308012940_SRX876047_found_by_any_caller.csv\n",
      "download: s3://velia-piperuns-dev/VPR_orfcalling_20240308012940_SRX876047/output/VPR_orfcalling_20240308012940_SRX876047_found_by_any_caller.csv to ../data/VPR_orfcalling_20240308012940_SRX876047_found_by_any_caller.csv\n",
      "aws s3 cp s3://velia-piperuns-dev/VPR_orfcalling_20240308012940_SRX876048/output/VPR_orfcalling_20240308012940_SRX876048_found_by_any_caller.csv ../data/VPR_orfcalling_20240308012940_SRX876048_found_by_any_caller.csv\n",
      "download: s3://velia-piperuns-dev/VPR_orfcalling_20240308012940_SRX876048/output/VPR_orfcalling_20240308012940_SRX876048_found_by_any_caller.csv to ../data/VPR_orfcalling_20240308012940_SRX876048_found_by_any_caller.csv\n"
     ]
    },
    {
     "name": "stderr",
     "output_type": "stream",
     "text": [
      "/tmp/ipykernel_10651/83718651.py:14: DtypeWarning: Columns (14) have mixed types. Specify dtype option on import or set low_memory=False.\n",
      "  for index, row in pd.read_csv(data_path, sep='\\t').iterrows():\n"
     ]
    },
    {
     "name": "stdout",
     "output_type": "stream",
     "text": [
      "aws s3 cp s3://velia-piperuns-dev/VPR_orfcalling_20240308012940_SRX876049/output/VPR_orfcalling_20240308012940_SRX876049_found_by_any_caller.csv ../data/VPR_orfcalling_20240308012940_SRX876049_found_by_any_caller.csv\n",
      "download: s3://velia-piperuns-dev/VPR_orfcalling_20240308012940_SRX876049/output/VPR_orfcalling_20240308012940_SRX876049_found_by_any_caller.csv to ../data/VPR_orfcalling_20240308012940_SRX876049_found_by_any_caller.csv\n",
      "aws s3 cp s3://velia-piperuns-dev/VPR_orfcalling_20240308012940_SRX876054/output/VPR_orfcalling_20240308012940_SRX876054_found_by_any_caller.csv ../data/VPR_orfcalling_20240308012940_SRX876054_found_by_any_caller.csv\n",
      "download: s3://velia-piperuns-dev/VPR_orfcalling_20240308012940_SRX876054/output/VPR_orfcalling_20240308012940_SRX876054_found_by_any_caller.csv to ../data/VPR_orfcalling_20240308012940_SRX876054_found_by_any_caller.csv\n"
     ]
    },
    {
     "name": "stderr",
     "output_type": "stream",
     "text": [
      "/tmp/ipykernel_10651/83718651.py:14: DtypeWarning: Columns (14) have mixed types. Specify dtype option on import or set low_memory=False.\n",
      "  for index, row in pd.read_csv(data_path, sep='\\t').iterrows():\n"
     ]
    },
    {
     "name": "stdout",
     "output_type": "stream",
     "text": [
      "aws s3 cp s3://velia-piperuns-dev/VPR_orfcalling_20240308012940_SRX876055/output/VPR_orfcalling_20240308012940_SRX876055_found_by_any_caller.csv ../data/VPR_orfcalling_20240308012940_SRX876055_found_by_any_caller.csv\n",
      "download: s3://velia-piperuns-dev/VPR_orfcalling_20240308012940_SRX876055/output/VPR_orfcalling_20240308012940_SRX876055_found_by_any_caller.csv to ../data/VPR_orfcalling_20240308012940_SRX876055_found_by_any_caller.csv\n"
     ]
    },
    {
     "name": "stderr",
     "output_type": "stream",
     "text": [
      "/tmp/ipykernel_10651/83718651.py:14: DtypeWarning: Columns (14) have mixed types. Specify dtype option on import or set low_memory=False.\n",
      "  for index, row in pd.read_csv(data_path, sep='\\t').iterrows():\n"
     ]
    },
    {
     "name": "stdout",
     "output_type": "stream",
     "text": [
      "aws s3 cp s3://velia-piperuns-dev/VPR_orfcalling_20240308012940_SRX876056/output/VPR_orfcalling_20240308012940_SRX876056_found_by_any_caller.csv ../data/VPR_orfcalling_20240308012940_SRX876056_found_by_any_caller.csv\n",
      "download: s3://velia-piperuns-dev/VPR_orfcalling_20240308012940_SRX876056/output/VPR_orfcalling_20240308012940_SRX876056_found_by_any_caller.csv to ../data/VPR_orfcalling_20240308012940_SRX876056_found_by_any_caller.csv\n"
     ]
    },
    {
     "name": "stderr",
     "output_type": "stream",
     "text": [
      "/tmp/ipykernel_10651/83718651.py:14: DtypeWarning: Columns (14) have mixed types. Specify dtype option on import or set low_memory=False.\n",
      "  for index, row in pd.read_csv(data_path, sep='\\t').iterrows():\n"
     ]
    },
    {
     "name": "stdout",
     "output_type": "stream",
     "text": [
      "aws s3 cp s3://velia-piperuns-dev/VPR_orfcalling_20240308012940_SRX876057/output/VPR_orfcalling_20240308012940_SRX876057_found_by_any_caller.csv ../data/VPR_orfcalling_20240308012940_SRX876057_found_by_any_caller.csv\n",
      "download: s3://velia-piperuns-dev/VPR_orfcalling_20240308012940_SRX876057/output/VPR_orfcalling_20240308012940_SRX876057_found_by_any_caller.csv to ../data/VPR_orfcalling_20240308012940_SRX876057_found_by_any_caller.csv\n"
     ]
    },
    {
     "name": "stderr",
     "output_type": "stream",
     "text": [
      "/tmp/ipykernel_10651/83718651.py:14: DtypeWarning: Columns (14) have mixed types. Specify dtype option on import or set low_memory=False.\n",
      "  for index, row in pd.read_csv(data_path, sep='\\t').iterrows():\n"
     ]
    },
    {
     "name": "stdout",
     "output_type": "stream",
     "text": [
      "aws s3 cp s3://velia-piperuns-dev/VPR_orfcalling_20240308012940_SRX876058/output/VPR_orfcalling_20240308012940_SRX876058_found_by_any_caller.csv ../data/VPR_orfcalling_20240308012940_SRX876058_found_by_any_caller.csv\n",
      "download: s3://velia-piperuns-dev/VPR_orfcalling_20240308012940_SRX876058/output/VPR_orfcalling_20240308012940_SRX876058_found_by_any_caller.csv to ../data/VPR_orfcalling_20240308012940_SRX876058_found_by_any_caller.csv\n"
     ]
    },
    {
     "name": "stderr",
     "output_type": "stream",
     "text": [
      "/tmp/ipykernel_10651/83718651.py:14: DtypeWarning: Columns (14) have mixed types. Specify dtype option on import or set low_memory=False.\n",
      "  for index, row in pd.read_csv(data_path, sep='\\t').iterrows():\n"
     ]
    },
    {
     "name": "stdout",
     "output_type": "stream",
     "text": [
      "aws s3 cp s3://velia-piperuns-dev/VPR_orfcalling_20240308012940_SRX876059/output/VPR_orfcalling_20240308012940_SRX876059_found_by_any_caller.csv ../data/VPR_orfcalling_20240308012940_SRX876059_found_by_any_caller.csv\n",
      "download: s3://velia-piperuns-dev/VPR_orfcalling_20240308012940_SRX876059/output/VPR_orfcalling_20240308012940_SRX876059_found_by_any_caller.csv to ../data/VPR_orfcalling_20240308012940_SRX876059_found_by_any_caller.csv\n"
     ]
    },
    {
     "name": "stderr",
     "output_type": "stream",
     "text": [
      "/tmp/ipykernel_10651/83718651.py:14: DtypeWarning: Columns (14) have mixed types. Specify dtype option on import or set low_memory=False.\n",
      "  for index, row in pd.read_csv(data_path, sep='\\t').iterrows():\n"
     ]
    },
    {
     "name": "stdout",
     "output_type": "stream",
     "text": [
      "aws s3 cp s3://velia-piperuns-dev/VPR_orfcalling_20240308012940_SRX876063/output/VPR_orfcalling_20240308012940_SRX876063_found_by_any_caller.csv ../data/VPR_orfcalling_20240308012940_SRX876063_found_by_any_caller.csv\n",
      "download: s3://velia-piperuns-dev/VPR_orfcalling_20240308012940_SRX876063/output/VPR_orfcalling_20240308012940_SRX876063_found_by_any_caller.csv to ../data/VPR_orfcalling_20240308012940_SRX876063_found_by_any_caller.csv\n",
      "aws s3 cp s3://velia-piperuns-dev/VPR_orfcalling_20240308012940_SRX876064/output/VPR_orfcalling_20240308012940_SRX876064_found_by_any_caller.csv ../data/VPR_orfcalling_20240308012940_SRX876064_found_by_any_caller.csv\n",
      "download: s3://velia-piperuns-dev/VPR_orfcalling_20240308012940_SRX876064/output/VPR_orfcalling_20240308012940_SRX876064_found_by_any_caller.csv to ../data/VPR_orfcalling_20240308012940_SRX876064_found_by_any_caller.csv\n",
      "aws s3 cp s3://velia-piperuns-dev/VPR_orfcalling_20240308012940_SRX876065/output/VPR_orfcalling_20240308012940_SRX876065_found_by_any_caller.csv ../data/VPR_orfcalling_20240308012940_SRX876065_found_by_any_caller.csv\n",
      "download: s3://velia-piperuns-dev/VPR_orfcalling_20240308012940_SRX876065/output/VPR_orfcalling_20240308012940_SRX876065_found_by_any_caller.csv to ../data/VPR_orfcalling_20240308012940_SRX876065_found_by_any_caller.csv\n",
      "aws s3 cp s3://velia-piperuns-dev/VPR_orfcalling_20240308012940_SRX876069/output/VPR_orfcalling_20240308012940_SRX876069_found_by_any_caller.csv ../data/VPR_orfcalling_20240308012940_SRX876069_found_by_any_caller.csv\n",
      "download: s3://velia-piperuns-dev/VPR_orfcalling_20240308012940_SRX876069/output/VPR_orfcalling_20240308012940_SRX876069_found_by_any_caller.csv to ../data/VPR_orfcalling_20240308012940_SRX876069_found_by_any_caller.csv\n",
      "aws s3 cp s3://velia-piperuns-dev/VPR_orfcalling_20240308012940_SRX876070/output/VPR_orfcalling_20240308012940_SRX876070_found_by_any_caller.csv ../data/VPR_orfcalling_20240308012940_SRX876070_found_by_any_caller.csv\n",
      "download: s3://velia-piperuns-dev/VPR_orfcalling_20240308012940_SRX876070/output/VPR_orfcalling_20240308012940_SRX876070_found_by_any_caller.csv to ../data/VPR_orfcalling_20240308012940_SRX876070_found_by_any_caller.csv\n",
      "aws s3 cp s3://velia-piperuns-dev/VPR_orfcalling_20240308012940_SRX876071/output/VPR_orfcalling_20240308012940_SRX876071_found_by_any_caller.csv ../data/VPR_orfcalling_20240308012940_SRX876071_found_by_any_caller.csv\n",
      "download: s3://velia-piperuns-dev/VPR_orfcalling_20240308012940_SRX876071/output/VPR_orfcalling_20240308012940_SRX876071_found_by_any_caller.csv to ../data/VPR_orfcalling_20240308012940_SRX876071_found_by_any_caller.csv\n",
      "aws s3 cp s3://velia-piperuns-dev/VPR_orfcalling_20240308012940_SRX1254413/output/VPR_orfcalling_20240308012940_SRX1254413_found_by_any_caller.csv ../data/VPR_orfcalling_20240308012940_SRX1254413_found_by_any_caller.csv\n",
      "download: s3://velia-piperuns-dev/VPR_orfcalling_20240308012940_SRX1254413/output/VPR_orfcalling_20240308012940_SRX1254413_found_by_any_caller.csv to ../data/VPR_orfcalling_20240308012940_SRX1254413_found_by_any_caller.csv\n"
     ]
    },
    {
     "name": "stderr",
     "output_type": "stream",
     "text": [
      "/tmp/ipykernel_10651/83718651.py:14: DtypeWarning: Columns (14) have mixed types. Specify dtype option on import or set low_memory=False.\n",
      "  for index, row in pd.read_csv(data_path, sep='\\t').iterrows():\n"
     ]
    },
    {
     "name": "stdout",
     "output_type": "stream",
     "text": [
      "aws s3 cp s3://velia-piperuns-dev/VPR_orfcalling_20240308012940_SRX1447296/output/VPR_orfcalling_20240308012940_SRX1447296_found_by_any_caller.csv ../data/VPR_orfcalling_20240308012940_SRX1447296_found_by_any_caller.csv\n",
      "download: s3://velia-piperuns-dev/VPR_orfcalling_20240308012940_SRX1447296/output/VPR_orfcalling_20240308012940_SRX1447296_found_by_any_caller.csv to ../data/VPR_orfcalling_20240308012940_SRX1447296_found_by_any_caller.csv\n",
      "aws s3 cp s3://velia-piperuns-dev/VPR_orfcalling_20240308012940_SRX1447297/output/VPR_orfcalling_20240308012940_SRX1447297_found_by_any_caller.csv ../data/VPR_orfcalling_20240308012940_SRX1447297_found_by_any_caller.csv\n",
      "download: s3://velia-piperuns-dev/VPR_orfcalling_20240308012940_SRX1447297/output/VPR_orfcalling_20240308012940_SRX1447297_found_by_any_caller.csv to ../data/VPR_orfcalling_20240308012940_SRX1447297_found_by_any_caller.csv\n",
      "aws s3 cp s3://velia-piperuns-dev/VPR_orfcalling_20240307222208_BL11_PBMCU1_0p5/output/VPR_orfcalling_20240307222208_BL11_PBMCU1_0p5_found_by_any_caller.csv ../data/VPR_orfcalling_20240307222208_BL11_PBMCU1_0p5_found_by_any_caller.csv\n",
      "download: s3://velia-piperuns-dev/VPR_orfcalling_20240307222208_BL11_PBMCU1_0p5/output/VPR_orfcalling_20240307222208_BL11_PBMCU1_0p5_found_by_any_caller.csv to ../data/VPR_orfcalling_20240307222208_BL11_PBMCU1_0p5_found_by_any_caller.csv\n",
      "aws s3 cp s3://velia-piperuns-dev/VPR_orfcalling_20240307222208_BL11_PBMCU2_0p5/output/VPR_orfcalling_20240307222208_BL11_PBMCU2_0p5_found_by_any_caller.csv ../data/VPR_orfcalling_20240307222208_BL11_PBMCU2_0p5_found_by_any_caller.csv\n",
      "download: s3://velia-piperuns-dev/VPR_orfcalling_20240307222208_BL11_PBMCU2_0p5/output/VPR_orfcalling_20240307222208_BL11_PBMCU2_0p5_found_by_any_caller.csv to ../data/VPR_orfcalling_20240307222208_BL11_PBMCU2_0p5_found_by_any_caller.csv\n",
      "aws s3 cp s3://velia-piperuns-dev/VPR_orfcalling_20240307222208_BL11_PBMCL1_0p5/output/VPR_orfcalling_20240307222208_BL11_PBMCL1_0p5_found_by_any_caller.csv ../data/VPR_orfcalling_20240307222208_BL11_PBMCL1_0p5_found_by_any_caller.csv\n",
      "download: s3://velia-piperuns-dev/VPR_orfcalling_20240307222208_BL11_PBMCL1_0p5/output/VPR_orfcalling_20240307222208_BL11_PBMCL1_0p5_found_by_any_caller.csv to ../data/VPR_orfcalling_20240307222208_BL11_PBMCL1_0p5_found_by_any_caller.csv\n",
      "aws s3 cp s3://velia-piperuns-dev/VPR_orfcalling_20240307222208_BL11_PBMCL2_0p5/output/VPR_orfcalling_20240307222208_BL11_PBMCL2_0p5_found_by_any_caller.csv ../data/VPR_orfcalling_20240307222208_BL11_PBMCL2_0p5_found_by_any_caller.csv\n",
      "download: s3://velia-piperuns-dev/VPR_orfcalling_20240307222208_BL11_PBMCL2_0p5/output/VPR_orfcalling_20240307222208_BL11_PBMCL2_0p5_found_by_any_caller.csv to ../data/VPR_orfcalling_20240307222208_BL11_PBMCL2_0p5_found_by_any_caller.csv\n",
      "aws s3 cp s3://velia-piperuns-dev/VPR_orfcalling_20240307222208_BL11_PBMCU1_2/output/VPR_orfcalling_20240307222208_BL11_PBMCU1_2_found_by_any_caller.csv ../data/VPR_orfcalling_20240307222208_BL11_PBMCU1_2_found_by_any_caller.csv\n",
      "download: s3://velia-piperuns-dev/VPR_orfcalling_20240307222208_BL11_PBMCU1_2/output/VPR_orfcalling_20240307222208_BL11_PBMCU1_2_found_by_any_caller.csv to ../data/VPR_orfcalling_20240307222208_BL11_PBMCU1_2_found_by_any_caller.csv\n",
      "aws s3 cp s3://velia-piperuns-dev/VPR_orfcalling_20240307222208_BL11_PBMCU2_2/output/VPR_orfcalling_20240307222208_BL11_PBMCU2_2_found_by_any_caller.csv ../data/VPR_orfcalling_20240307222208_BL11_PBMCU2_2_found_by_any_caller.csv\n",
      "download: s3://velia-piperuns-dev/VPR_orfcalling_20240307222208_BL11_PBMCU2_2/output/VPR_orfcalling_20240307222208_BL11_PBMCU2_2_found_by_any_caller.csv to ../data/VPR_orfcalling_20240307222208_BL11_PBMCU2_2_found_by_any_caller.csv\n",
      "aws s3 cp s3://velia-piperuns-dev/VPR_orfcalling_20240307222208_BL11_PBMCL1_2/output/VPR_orfcalling_20240307222208_BL11_PBMCL1_2_found_by_any_caller.csv ../data/VPR_orfcalling_20240307222208_BL11_PBMCL1_2_found_by_any_caller.csv\n",
      "download: s3://velia-piperuns-dev/VPR_orfcalling_20240307222208_BL11_PBMCL1_2/output/VPR_orfcalling_20240307222208_BL11_PBMCL1_2_found_by_any_caller.csv to ../data/VPR_orfcalling_20240307222208_BL11_PBMCL1_2_found_by_any_caller.csv\n",
      "aws s3 cp s3://velia-piperuns-dev/VPR_orfcalling_20240307222208_BL11_PBMCL2_2/output/VPR_orfcalling_20240307222208_BL11_PBMCL2_2_found_by_any_caller.csv ../data/VPR_orfcalling_20240307222208_BL11_PBMCL2_2_found_by_any_caller.csv\n",
      "download: s3://velia-piperuns-dev/VPR_orfcalling_20240307222208_BL11_PBMCL2_2/output/VPR_orfcalling_20240307222208_BL11_PBMCL2_2_found_by_any_caller.csv to ../data/VPR_orfcalling_20240307222208_BL11_PBMCL2_2_found_by_any_caller.csv\n",
      "aws s3 cp s3://velia-piperuns-dev/VPR_orfcalling_20240307222208_YL4_U1/output/VPR_orfcalling_20240307222208_YL4_U1_found_by_any_caller.csv ../data/VPR_orfcalling_20240307222208_YL4_U1_found_by_any_caller.csv\n",
      "download: s3://velia-piperuns-dev/VPR_orfcalling_20240307222208_YL4_U1/output/VPR_orfcalling_20240307222208_YL4_U1_found_by_any_caller.csv to ../data/VPR_orfcalling_20240307222208_YL4_U1_found_by_any_caller.csv\n",
      "aws s3 cp s3://velia-piperuns-dev/VPR_orfcalling_20240307222208_YL4_U2/output/VPR_orfcalling_20240307222208_YL4_U2_found_by_any_caller.csv ../data/VPR_orfcalling_20240307222208_YL4_U2_found_by_any_caller.csv\n",
      "download: s3://velia-piperuns-dev/VPR_orfcalling_20240307222208_YL4_U2/output/VPR_orfcalling_20240307222208_YL4_U2_found_by_any_caller.csv to ../data/VPR_orfcalling_20240307222208_YL4_U2_found_by_any_caller.csv\n",
      "aws s3 cp s3://velia-piperuns-dev/VPR_orfcalling_20240307222208_YL4_L1/output/VPR_orfcalling_20240307222208_YL4_L1_found_by_any_caller.csv ../data/VPR_orfcalling_20240307222208_YL4_L1_found_by_any_caller.csv\n",
      "download: s3://velia-piperuns-dev/VPR_orfcalling_20240307222208_YL4_L1/output/VPR_orfcalling_20240307222208_YL4_L1_found_by_any_caller.csv to ../data/VPR_orfcalling_20240307222208_YL4_L1_found_by_any_caller.csv\n",
      "aws s3 cp s3://velia-piperuns-dev/VPR_orfcalling_20240307222208_YL4_L2/output/VPR_orfcalling_20240307222208_YL4_L2_found_by_any_caller.csv ../data/VPR_orfcalling_20240307222208_YL4_L2_found_by_any_caller.csv\n",
      "download: s3://velia-piperuns-dev/VPR_orfcalling_20240307222208_YL4_L2/output/VPR_orfcalling_20240307222208_YL4_L2_found_by_any_caller.csv to ../data/VPR_orfcalling_20240307222208_YL4_L2_found_by_any_caller.csv\n",
      "aws s3 cp s3://velia-piperuns-dev/VPR_orfcalling_20240307222208_YL5_U1_1/output/VPR_orfcalling_20240307222208_YL5_U1_1_found_by_any_caller.csv ../data/VPR_orfcalling_20240307222208_YL5_U1_1_found_by_any_caller.csv\n",
      "download: s3://velia-piperuns-dev/VPR_orfcalling_20240307222208_YL5_U1_1/output/VPR_orfcalling_20240307222208_YL5_U1_1_found_by_any_caller.csv to ../data/VPR_orfcalling_20240307222208_YL5_U1_1_found_by_any_caller.csv\n",
      "aws s3 cp s3://velia-piperuns-dev/VPR_orfcalling_20240307222208_YL5_U2_1/output/VPR_orfcalling_20240307222208_YL5_U2_1_found_by_any_caller.csv ../data/VPR_orfcalling_20240307222208_YL5_U2_1_found_by_any_caller.csv\n",
      "download: s3://velia-piperuns-dev/VPR_orfcalling_20240307222208_YL5_U2_1/output/VPR_orfcalling_20240307222208_YL5_U2_1_found_by_any_caller.csv to ../data/VPR_orfcalling_20240307222208_YL5_U2_1_found_by_any_caller.csv\n",
      "aws s3 cp s3://velia-piperuns-dev/VPR_orfcalling_20240307222208_YL5_R1_01/output/VPR_orfcalling_20240307222208_YL5_R1_01_found_by_any_caller.csv ../data/VPR_orfcalling_20240307222208_YL5_R1_01_found_by_any_caller.csv\n",
      "download: s3://velia-piperuns-dev/VPR_orfcalling_20240307222208_YL5_R1_01/output/VPR_orfcalling_20240307222208_YL5_R1_01_found_by_any_caller.csv to ../data/VPR_orfcalling_20240307222208_YL5_R1_01_found_by_any_caller.csv\n",
      "aws s3 cp s3://velia-piperuns-dev/VPR_orfcalling_20240307222208_YL5_R2_01/output/VPR_orfcalling_20240307222208_YL5_R2_01_found_by_any_caller.csv ../data/VPR_orfcalling_20240307222208_YL5_R2_01_found_by_any_caller.csv\n",
      "download: s3://velia-piperuns-dev/VPR_orfcalling_20240307222208_YL5_R2_01/output/VPR_orfcalling_20240307222208_YL5_R2_01_found_by_any_caller.csv to ../data/VPR_orfcalling_20240307222208_YL5_R2_01_found_by_any_caller.csv\n",
      "aws s3 cp s3://velia-piperuns-dev/VPR_orfcalling_20240307222208_YL5_U1_04/output/VPR_orfcalling_20240307222208_YL5_U1_04_found_by_any_caller.csv ../data/VPR_orfcalling_20240307222208_YL5_U1_04_found_by_any_caller.csv\n",
      "download: s3://velia-piperuns-dev/VPR_orfcalling_20240307222208_YL5_U1_04/output/VPR_orfcalling_20240307222208_YL5_U1_04_found_by_any_caller.csv to ../data/VPR_orfcalling_20240307222208_YL5_U1_04_found_by_any_caller.csv\n",
      "aws s3 cp s3://velia-piperuns-dev/VPR_orfcalling_20240307222208_YL5_U2_04/output/VPR_orfcalling_20240307222208_YL5_U2_04_found_by_any_caller.csv ../data/VPR_orfcalling_20240307222208_YL5_U2_04_found_by_any_caller.csv\n",
      "download: s3://velia-piperuns-dev/VPR_orfcalling_20240307222208_YL5_U2_04/output/VPR_orfcalling_20240307222208_YL5_U2_04_found_by_any_caller.csv to ../data/VPR_orfcalling_20240307222208_YL5_U2_04_found_by_any_caller.csv\n",
      "aws s3 cp s3://velia-piperuns-dev/VPR_orfcalling_20240307222208_YL5_R1_04/output/VPR_orfcalling_20240307222208_YL5_R1_04_found_by_any_caller.csv ../data/VPR_orfcalling_20240307222208_YL5_R1_04_found_by_any_caller.csv\n",
      "download: s3://velia-piperuns-dev/VPR_orfcalling_20240307222208_YL5_R1_04/output/VPR_orfcalling_20240307222208_YL5_R1_04_found_by_any_caller.csv to ../data/VPR_orfcalling_20240307222208_YL5_R1_04_found_by_any_caller.csv\n",
      "aws s3 cp s3://velia-piperuns-dev/VPR_orfcalling_20240307222208_YL5_R2_04/output/VPR_orfcalling_20240307222208_YL5_R2_04_found_by_any_caller.csv ../data/VPR_orfcalling_20240307222208_YL5_R2_04_found_by_any_caller.csv\n",
      "download: s3://velia-piperuns-dev/VPR_orfcalling_20240307222208_YL5_R2_04/output/VPR_orfcalling_20240307222208_YL5_R2_04_found_by_any_caller.csv to ../data/VPR_orfcalling_20240307222208_YL5_R2_04_found_by_any_caller.csv\n",
      "aws s3 cp s3://velia-piperuns-dev/VPR_orfcalling_20240307222208_YL5_U1_21/output/VPR_orfcalling_20240307222208_YL5_U1_21_found_by_any_caller.csv ../data/VPR_orfcalling_20240307222208_YL5_U1_21_found_by_any_caller.csv\n",
      "download: s3://velia-piperuns-dev/VPR_orfcalling_20240307222208_YL5_U1_21/output/VPR_orfcalling_20240307222208_YL5_U1_21_found_by_any_caller.csv to ../data/VPR_orfcalling_20240307222208_YL5_U1_21_found_by_any_caller.csv\n",
      "aws s3 cp s3://velia-piperuns-dev/VPR_orfcalling_20240307222208_YL5_U2_21/output/VPR_orfcalling_20240307222208_YL5_U2_21_found_by_any_caller.csv ../data/VPR_orfcalling_20240307222208_YL5_U2_21_found_by_any_caller.csv\n",
      "download: s3://velia-piperuns-dev/VPR_orfcalling_20240307222208_YL5_U2_21/output/VPR_orfcalling_20240307222208_YL5_U2_21_found_by_any_caller.csv to ../data/VPR_orfcalling_20240307222208_YL5_U2_21_found_by_any_caller.csv\n",
      "aws s3 cp s3://velia-piperuns-dev/VPR_orfcalling_20240307222208_YL5_R1_21/output/VPR_orfcalling_20240307222208_YL5_R1_21_found_by_any_caller.csv ../data/VPR_orfcalling_20240307222208_YL5_R1_21_found_by_any_caller.csv\n",
      "download: s3://velia-piperuns-dev/VPR_orfcalling_20240307222208_YL5_R1_21/output/VPR_orfcalling_20240307222208_YL5_R1_21_found_by_any_caller.csv to ../data/VPR_orfcalling_20240307222208_YL5_R1_21_found_by_any_caller.csv\n",
      "aws s3 cp s3://velia-piperuns-dev/VPR_orfcalling_20240307222208_YL5_R2_21/output/VPR_orfcalling_20240307222208_YL5_R2_21_found_by_any_caller.csv ../data/VPR_orfcalling_20240307222208_YL5_R2_21_found_by_any_caller.csv\n",
      "download: s3://velia-piperuns-dev/VPR_orfcalling_20240307222208_YL5_R2_21/output/VPR_orfcalling_20240307222208_YL5_R2_21_found_by_any_caller.csv to ../data/VPR_orfcalling_20240307222208_YL5_R2_21_found_by_any_caller.csv\n",
      "aws s3 cp s3://velia-piperuns-dev/VPR_orfcalling_20240308012940_ERX3391949/output/VPR_orfcalling_20240308012940_ERX3391949_found_by_any_caller.csv ../data/VPR_orfcalling_20240308012940_ERX3391949_found_by_any_caller.csv\n",
      "download: s3://velia-piperuns-dev/VPR_orfcalling_20240308012940_ERX3391949/output/VPR_orfcalling_20240308012940_ERX3391949_found_by_any_caller.csv to ../data/VPR_orfcalling_20240308012940_ERX3391949_found_by_any_caller.csv\n"
     ]
    },
    {
     "name": "stderr",
     "output_type": "stream",
     "text": [
      "/tmp/ipykernel_10651/83718651.py:14: DtypeWarning: Columns (14) have mixed types. Specify dtype option on import or set low_memory=False.\n",
      "  for index, row in pd.read_csv(data_path, sep='\\t').iterrows():\n"
     ]
    },
    {
     "name": "stdout",
     "output_type": "stream",
     "text": [
      "aws s3 cp s3://velia-piperuns-dev/VPR_orfcalling_20240308012940_ERX3391950/output/VPR_orfcalling_20240308012940_ERX3391950_found_by_any_caller.csv ../data/VPR_orfcalling_20240308012940_ERX3391950_found_by_any_caller.csv\n",
      "download: s3://velia-piperuns-dev/VPR_orfcalling_20240308012940_ERX3391950/output/VPR_orfcalling_20240308012940_ERX3391950_found_by_any_caller.csv to ../data/VPR_orfcalling_20240308012940_ERX3391950_found_by_any_caller.csv\n"
     ]
    },
    {
     "name": "stderr",
     "output_type": "stream",
     "text": [
      "/tmp/ipykernel_10651/83718651.py:14: DtypeWarning: Columns (14) have mixed types. Specify dtype option on import or set low_memory=False.\n",
      "  for index, row in pd.read_csv(data_path, sep='\\t').iterrows():\n"
     ]
    },
    {
     "name": "stdout",
     "output_type": "stream",
     "text": [
      "aws s3 cp s3://velia-piperuns-dev/VPR_orfcalling_20241101000923_SRX24842121/output/VPR_orfcalling_20241101000923_SRX24842121_found_by_any_caller.csv ../data/VPR_orfcalling_20241101000923_SRX24842121_found_by_any_caller.csv\n",
      "download: s3://velia-piperuns-dev/VPR_orfcalling_20241101000923_SRX24842121/output/VPR_orfcalling_20241101000923_SRX24842121_found_by_any_caller.csv to ../data/VPR_orfcalling_20241101000923_SRX24842121_found_by_any_caller.csv\n"
     ]
    },
    {
     "name": "stderr",
     "output_type": "stream",
     "text": [
      "/tmp/ipykernel_10651/83718651.py:14: DtypeWarning: Columns (14) have mixed types. Specify dtype option on import or set low_memory=False.\n",
      "  for index, row in pd.read_csv(data_path, sep='\\t').iterrows():\n"
     ]
    },
    {
     "name": "stdout",
     "output_type": "stream",
     "text": [
      "aws s3 cp s3://velia-piperuns-dev/VPR_orfcalling_20241101000923_SRX24842123/output/VPR_orfcalling_20241101000923_SRX24842123_found_by_any_caller.csv ../data/VPR_orfcalling_20241101000923_SRX24842123_found_by_any_caller.csv\n",
      "download: s3://velia-piperuns-dev/VPR_orfcalling_20241101000923_SRX24842123/output/VPR_orfcalling_20241101000923_SRX24842123_found_by_any_caller.csv to ../data/VPR_orfcalling_20241101000923_SRX24842123_found_by_any_caller.csv\n"
     ]
    },
    {
     "name": "stderr",
     "output_type": "stream",
     "text": [
      "/tmp/ipykernel_10651/83718651.py:14: DtypeWarning: Columns (14) have mixed types. Specify dtype option on import or set low_memory=False.\n",
      "  for index, row in pd.read_csv(data_path, sep='\\t').iterrows():\n"
     ]
    },
    {
     "name": "stdout",
     "output_type": "stream",
     "text": [
      "aws s3 cp s3://velia-piperuns-dev/VPR_orfcalling_20241101000923_SRX24842124/output/VPR_orfcalling_20241101000923_SRX24842124_found_by_any_caller.csv ../data/VPR_orfcalling_20241101000923_SRX24842124_found_by_any_caller.csv\n",
      "download: s3://velia-piperuns-dev/VPR_orfcalling_20241101000923_SRX24842124/output/VPR_orfcalling_20241101000923_SRX24842124_found_by_any_caller.csv to ../data/VPR_orfcalling_20241101000923_SRX24842124_found_by_any_caller.csv\n"
     ]
    },
    {
     "name": "stderr",
     "output_type": "stream",
     "text": [
      "/tmp/ipykernel_10651/83718651.py:14: DtypeWarning: Columns (14) have mixed types. Specify dtype option on import or set low_memory=False.\n",
      "  for index, row in pd.read_csv(data_path, sep='\\t').iterrows():\n"
     ]
    },
    {
     "name": "stdout",
     "output_type": "stream",
     "text": [
      "aws s3 cp s3://velia-piperuns-dev/VPR_orfcalling_20241101000923_SRX24842125/output/VPR_orfcalling_20241101000923_SRX24842125_found_by_any_caller.csv ../data/VPR_orfcalling_20241101000923_SRX24842125_found_by_any_caller.csv\n",
      "download: s3://velia-piperuns-dev/VPR_orfcalling_20241101000923_SRX24842125/output/VPR_orfcalling_20241101000923_SRX24842125_found_by_any_caller.csv to ../data/VPR_orfcalling_20241101000923_SRX24842125_found_by_any_caller.csv\n"
     ]
    },
    {
     "name": "stderr",
     "output_type": "stream",
     "text": [
      "/tmp/ipykernel_10651/83718651.py:14: DtypeWarning: Columns (14) have mixed types. Specify dtype option on import or set low_memory=False.\n",
      "  for index, row in pd.read_csv(data_path, sep='\\t').iterrows():\n"
     ]
    },
    {
     "name": "stdout",
     "output_type": "stream",
     "text": [
      "aws s3 cp s3://velia-piperuns-dev/VPR_orfcalling_20241101000923_SRX24842126/output/VPR_orfcalling_20241101000923_SRX24842126_found_by_any_caller.csv ../data/VPR_orfcalling_20241101000923_SRX24842126_found_by_any_caller.csv\n",
      "download: s3://velia-piperuns-dev/VPR_orfcalling_20241101000923_SRX24842126/output/VPR_orfcalling_20241101000923_SRX24842126_found_by_any_caller.csv to ../data/VPR_orfcalling_20241101000923_SRX24842126_found_by_any_caller.csv\n"
     ]
    },
    {
     "name": "stderr",
     "output_type": "stream",
     "text": [
      "/tmp/ipykernel_10651/83718651.py:14: DtypeWarning: Columns (14) have mixed types. Specify dtype option on import or set low_memory=False.\n",
      "  for index, row in pd.read_csv(data_path, sep='\\t').iterrows():\n"
     ]
    },
    {
     "name": "stdout",
     "output_type": "stream",
     "text": [
      "aws s3 cp s3://velia-piperuns-dev/VPR_orfcalling_20241101000923_SRX24842127/output/VPR_orfcalling_20241101000923_SRX24842127_found_by_any_caller.csv ../data/VPR_orfcalling_20241101000923_SRX24842127_found_by_any_caller.csv\n",
      "download: s3://velia-piperuns-dev/VPR_orfcalling_20241101000923_SRX24842127/output/VPR_orfcalling_20241101000923_SRX24842127_found_by_any_caller.csv to ../data/VPR_orfcalling_20241101000923_SRX24842127_found_by_any_caller.csv\n"
     ]
    },
    {
     "name": "stderr",
     "output_type": "stream",
     "text": [
      "/tmp/ipykernel_10651/83718651.py:14: DtypeWarning: Columns (14) have mixed types. Specify dtype option on import or set low_memory=False.\n",
      "  for index, row in pd.read_csv(data_path, sep='\\t').iterrows():\n"
     ]
    },
    {
     "name": "stdout",
     "output_type": "stream",
     "text": [
      "aws s3 cp s3://velia-piperuns-dev/VPR_orfcalling_20241101000923_SRX24842128/output/VPR_orfcalling_20241101000923_SRX24842128_found_by_any_caller.csv ../data/VPR_orfcalling_20241101000923_SRX24842128_found_by_any_caller.csv\n",
      "download: s3://velia-piperuns-dev/VPR_orfcalling_20241101000923_SRX24842128/output/VPR_orfcalling_20241101000923_SRX24842128_found_by_any_caller.csv to ../data/VPR_orfcalling_20241101000923_SRX24842128_found_by_any_caller.csv\n"
     ]
    },
    {
     "name": "stderr",
     "output_type": "stream",
     "text": [
      "/tmp/ipykernel_10651/83718651.py:14: DtypeWarning: Columns (14) have mixed types. Specify dtype option on import or set low_memory=False.\n",
      "  for index, row in pd.read_csv(data_path, sep='\\t').iterrows():\n"
     ]
    },
    {
     "name": "stdout",
     "output_type": "stream",
     "text": [
      "aws s3 cp s3://velia-piperuns-dev/VPR_orfcalling_20241101000923_SRX24843296/output/VPR_orfcalling_20241101000923_SRX24843296_found_by_any_caller.csv ../data/VPR_orfcalling_20241101000923_SRX24843296_found_by_any_caller.csv\n",
      "download: s3://velia-piperuns-dev/VPR_orfcalling_20241101000923_SRX24843296/output/VPR_orfcalling_20241101000923_SRX24843296_found_by_any_caller.csv to ../data/VPR_orfcalling_20241101000923_SRX24843296_found_by_any_caller.csv\n"
     ]
    },
    {
     "name": "stderr",
     "output_type": "stream",
     "text": [
      "/tmp/ipykernel_10651/83718651.py:14: DtypeWarning: Columns (14) have mixed types. Specify dtype option on import or set low_memory=False.\n",
      "  for index, row in pd.read_csv(data_path, sep='\\t').iterrows():\n"
     ]
    },
    {
     "name": "stdout",
     "output_type": "stream",
     "text": [
      "aws s3 cp s3://velia-piperuns-dev/VPR_orfcalling_20241101000923_SRX24843297/output/VPR_orfcalling_20241101000923_SRX24843297_found_by_any_caller.csv ../data/VPR_orfcalling_20241101000923_SRX24843297_found_by_any_caller.csv\n",
      "download: s3://velia-piperuns-dev/VPR_orfcalling_20241101000923_SRX24843297/output/VPR_orfcalling_20241101000923_SRX24843297_found_by_any_caller.csv to ../data/VPR_orfcalling_20241101000923_SRX24843297_found_by_any_caller.csv\n"
     ]
    },
    {
     "name": "stderr",
     "output_type": "stream",
     "text": [
      "/tmp/ipykernel_10651/83718651.py:14: DtypeWarning: Columns (14) have mixed types. Specify dtype option on import or set low_memory=False.\n",
      "  for index, row in pd.read_csv(data_path, sep='\\t').iterrows():\n"
     ]
    },
    {
     "name": "stdout",
     "output_type": "stream",
     "text": [
      "aws s3 cp s3://velia-piperuns-dev/VPR_orfcalling_20241101000923_SRX24843298/output/VPR_orfcalling_20241101000923_SRX24843298_found_by_any_caller.csv ../data/VPR_orfcalling_20241101000923_SRX24843298_found_by_any_caller.csv\n",
      "download: s3://velia-piperuns-dev/VPR_orfcalling_20241101000923_SRX24843298/output/VPR_orfcalling_20241101000923_SRX24843298_found_by_any_caller.csv to ../data/VPR_orfcalling_20241101000923_SRX24843298_found_by_any_caller.csv\n",
      "aws s3 cp s3://velia-piperuns-dev/VPR_orfcalling_20241101000923_SRX24843299/output/VPR_orfcalling_20241101000923_SRX24843299_found_by_any_caller.csv ../data/VPR_orfcalling_20241101000923_SRX24843299_found_by_any_caller.csv\n",
      "download: s3://velia-piperuns-dev/VPR_orfcalling_20241101000923_SRX24843299/output/VPR_orfcalling_20241101000923_SRX24843299_found_by_any_caller.csv to ../data/VPR_orfcalling_20241101000923_SRX24843299_found_by_any_caller.csv\n"
     ]
    },
    {
     "name": "stderr",
     "output_type": "stream",
     "text": [
      "/tmp/ipykernel_10651/83718651.py:14: DtypeWarning: Columns (14) have mixed types. Specify dtype option on import or set low_memory=False.\n",
      "  for index, row in pd.read_csv(data_path, sep='\\t').iterrows():\n"
     ]
    },
    {
     "name": "stdout",
     "output_type": "stream",
     "text": [
      "aws s3 cp s3://velia-piperuns-dev/VPR_orfcalling_20241101000923_SRX24843300/output/VPR_orfcalling_20241101000923_SRX24843300_found_by_any_caller.csv ../data/VPR_orfcalling_20241101000923_SRX24843300_found_by_any_caller.csv\n",
      "download: s3://velia-piperuns-dev/VPR_orfcalling_20241101000923_SRX24843300/output/VPR_orfcalling_20241101000923_SRX24843300_found_by_any_caller.csv to ../data/VPR_orfcalling_20241101000923_SRX24843300_found_by_any_caller.csv\n"
     ]
    },
    {
     "name": "stderr",
     "output_type": "stream",
     "text": [
      "/tmp/ipykernel_10651/83718651.py:14: DtypeWarning: Columns (14) have mixed types. Specify dtype option on import or set low_memory=False.\n",
      "  for index, row in pd.read_csv(data_path, sep='\\t').iterrows():\n"
     ]
    },
    {
     "name": "stdout",
     "output_type": "stream",
     "text": [
      "aws s3 cp s3://velia-piperuns-dev/VPR_orfcalling_20241101000923_SRX24843301/output/VPR_orfcalling_20241101000923_SRX24843301_found_by_any_caller.csv ../data/VPR_orfcalling_20241101000923_SRX24843301_found_by_any_caller.csv\n",
      "download: s3://velia-piperuns-dev/VPR_orfcalling_20241101000923_SRX24843301/output/VPR_orfcalling_20241101000923_SRX24843301_found_by_any_caller.csv to ../data/VPR_orfcalling_20241101000923_SRX24843301_found_by_any_caller.csv\n"
     ]
    },
    {
     "name": "stderr",
     "output_type": "stream",
     "text": [
      "/tmp/ipykernel_10651/83718651.py:14: DtypeWarning: Columns (14) have mixed types. Specify dtype option on import or set low_memory=False.\n",
      "  for index, row in pd.read_csv(data_path, sep='\\t').iterrows():\n"
     ]
    },
    {
     "name": "stdout",
     "output_type": "stream",
     "text": [
      "aws s3 cp s3://velia-piperuns-dev/VPR_orfcalling_20241101000923_SRX24843302/output/VPR_orfcalling_20241101000923_SRX24843302_found_by_any_caller.csv ../data/VPR_orfcalling_20241101000923_SRX24843302_found_by_any_caller.csv\n",
      "download: s3://velia-piperuns-dev/VPR_orfcalling_20241101000923_SRX24843302/output/VPR_orfcalling_20241101000923_SRX24843302_found_by_any_caller.csv to ../data/VPR_orfcalling_20241101000923_SRX24843302_found_by_any_caller.csv\n",
      "aws s3 cp s3://velia-piperuns-dev/VPR_orfcalling_20241101000923_SRX24843303/output/VPR_orfcalling_20241101000923_SRX24843303_found_by_any_caller.csv ../data/VPR_orfcalling_20241101000923_SRX24843303_found_by_any_caller.csv\n",
      "download: s3://velia-piperuns-dev/VPR_orfcalling_20241101000923_SRX24843303/output/VPR_orfcalling_20241101000923_SRX24843303_found_by_any_caller.csv to ../data/VPR_orfcalling_20241101000923_SRX24843303_found_by_any_caller.csv\n",
      "190\n"
     ]
    }
   ],
   "source": [
    "local_folder= \"../data\"\n",
    "orf_callers = [\"price\", \"ribotish\", \"ribocode\"]\n",
    "\n",
    "merged_orfs_info = {}\n",
    "count = 0\n",
    "for experiment_name in open(f\"{local_folder}/experiments.txt\"):\n",
    "    experiment_name = experiment_name.strip().strip(\"/\")\n",
    "    count += load_orfs(experiment_name, local_folder, merged_orfs_info, orf_callers)\n",
    "print(count)"
   ]
  },
  {
   "cell_type": "code",
   "execution_count": 5,
   "id": "1fc72bca-e5d4-41a0-85f7-ce649276a11d",
   "metadata": {},
   "outputs": [
    {
     "name": "stderr",
     "output_type": "stream",
     "text": [
      "/tmp/ipykernel_10651/1172930309.py:34: DtypeWarning: Columns (4,5,8,14) have mixed types. Specify dtype option on import or set low_memory=False.\n",
      "  bp_df = pd.read_csv('s3://velia-data-dev/VDC_004_annotation/big_prot/v0.9.3/orfset_v0.9.3_full_minlen_15_maxlen_999999999_orfs.csv.gz')\n"
     ]
    }
   ],
   "source": [
    "add_big_prot_ids(merged_orfs_info)"
   ]
  },
  {
   "cell_type": "code",
   "execution_count": 6,
   "id": "9e3dc66f-8fef-4c39-ad6f-819f859fca75",
   "metadata": {},
   "outputs": [],
   "source": [
    "pd.DataFrame(merged_orfs_info.values()).reset_index().to_csv(\n",
    "    f\"{local_folder}/merged_orfs_found_by_any_caller.csv\",\n",
    "    sep=\"\\t\",\n",
    "    index=False)"
   ]
  },
  {
   "cell_type": "code",
   "execution_count": 7,
   "id": "f3c1c8a2",
   "metadata": {},
   "outputs": [
    {
     "data": {
      "text/plain": [
       "(549923, 21)"
      ]
     },
     "execution_count": 7,
     "metadata": {},
     "output_type": "execute_result"
    }
   ],
   "source": [
    "pd.DataFrame(merged_orfs_info.values()).shape"
   ]
  },
  {
   "cell_type": "code",
   "execution_count": 8,
   "id": "e90ab8bd-5418-4e76-aba7-12e57d64ca7d",
   "metadata": {},
   "outputs": [
    {
     "data": {
      "text/plain": [
       "(549923, 21)"
      ]
     },
     "execution_count": 8,
     "metadata": {},
     "output_type": "execute_result"
    }
   ],
   "source": [
    "pd.DataFrame(merged_orfs_info.values()).shape"
   ]
  }
 ],
 "metadata": {
  "kernelspec": {
   "display_name": "Python 3 (ipykernel)",
   "language": "python",
   "name": "python3"
  },
  "language_info": {
   "codemirror_mode": {
    "name": "ipython",
    "version": 3
   },
   "file_extension": ".py",
   "mimetype": "text/x-python",
   "name": "python",
   "nbconvert_exporter": "python",
   "pygments_lexer": "ipython3",
   "version": "3.10.12"
  }
 },
 "nbformat": 4,
 "nbformat_minor": 5
}
