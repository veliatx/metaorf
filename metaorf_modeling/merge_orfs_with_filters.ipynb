{
 "cells": [
  {
   "cell_type": "markdown",
   "id": "4b44690a-b478-4a92-a9bd-9c504c4555a4",
   "metadata": {},
   "source": [
    "This script merges ORF candidates from all experiments into one table in the CSV format.\n",
    "The resulting table will be stored as {local_folder}/merged_orfs_found_by_any_caller.csv\n",
    "This is the first step of the ORF score prediction and only need to be executed once when you update the experiment list."
   ]
  },
  {
   "cell_type": "code",
   "execution_count": 4,
   "id": "014d24d6-5fd0-40b2-b7e7-50fc7f708cd8",
   "metadata": {},
   "outputs": [],
   "source": [
    "import pandas as pd\n",
    "import subprocess\n",
    "import shlex\n",
    "import os"
   ]
  },
  {
   "cell_type": "code",
   "execution_count": null,
   "id": "8b68a264-11a3-4f6c-a075-6ab8a6a21c58",
   "metadata": {},
   "outputs": [],
   "source": []
  },
  {
   "cell_type": "code",
   "execution_count": 5,
   "id": "9db329a9-ede6-4456-9f12-59500f0c5ebd",
   "metadata": {},
   "outputs": [],
   "source": [
    "def download_feature_set(experiment_name, local_path):\n",
    "    orf_path = f\"s3://velia-piperuns-dev/{experiment_name}/output/{experiment_name}_found_by_any_caller.csv\"\n",
    "    local_path = f\"{local_folder}/{experiment_name}_found_by_any_caller.csv\"\n",
    "    cmd = f\"aws s3 cp {orf_path} {local_path}\"\n",
    "    print(cmd)\n",
    "    subprocess.run(shlex.split(cmd))\n",
    "    return local_path\n",
    "\n",
    "def load_orfs(experiment_name, local_folder, merged_orfs_info, orf_callers,\n",
    "              orfs_to_skip, annotations_to_exclude):\n",
    "    data_path = download_feature_set(experiment_name, local_folder)\n",
    "    if not os.path.exists(data_path):\n",
    "        return 0\n",
    "    \n",
    "    orfs_info = {}\n",
    "    for index, row in pd.read_csv(data_path, sep='\\t').iterrows():\n",
    "        orf_key = (row[\"chrom_id\"], row[\"orf_start\"], row[\"orf_end\"], row[\"strand\"], row[\"exon_blocks\"])\n",
    "        if orf_key not in merged_orfs_info:\n",
    "            merged_orfs_info[orf_key] = row\n",
    "            merged_orfs_info[orf_key] = pd.concat([merged_orfs_info[orf_key],\n",
    "                                                   pd.Series({\"#called\": 1,\n",
    "                                                              \"cell_types\": experiment_name})])\n",
    "        else:\n",
    "            merged_orfs_info[orf_key][\"#called\"] += 1\n",
    "            merged_orfs_info[orf_key][\"cell_types\"] += (\",\" + experiment_name)\n",
    "            for orf_caller in orf_callers:\n",
    "                if (type(row[f\"orf_score_{orf_caller}\"]) == type(\"\")\n",
    "                    and (not row[f\"orf_score_{orf_caller}\"].strip())):\n",
    "                    continue\n",
    "                else:\n",
    "                    if ((type(merged_orfs_info[orf_key][f\"orf_score_{orf_caller}\"]) == type(\"\") and\n",
    "                         (not merged_orfs_info[orf_key][f\"orf_score_{orf_caller}\"].strip()))\n",
    "                        or (merged_orfs_info[orf_key][f\"orf_score_{orf_caller}\"] is None)\n",
    "                        or (float(merged_orfs_info[orf_key][f\"orf_score_{orf_caller}\"]) <= float(row[f\"orf_score_{orf_caller}\"]))):\n",
    "                        merged_orfs_info[orf_key][f\"orf_score_{orf_caller}\"] = row[f\"orf_score_{orf_caller}\"]\n",
    "                        merged_orfs_info[orf_key][f\"ORF_type_{orf_caller}\"] = row[f\"ORF_type_{orf_caller}\"]\n",
    "                        merged_orfs_info[orf_key][f\"gene_id_{orf_caller}\"] = row[f\"gene_id_{orf_caller}\"]\n",
    "                        merged_orfs_info[orf_key][f\"transcript_id_{orf_caller}\"] = row[f\"transcript_id_{orf_caller}\"]\n",
    "                        if row[f\"ORF_type_{orf_caller}\"] in annotations_to_exclude:\n",
    "                            orfs_to_skip.add(orf_key)\n",
    "    #os.remove(data_path)\n",
    "    return 1"
   ]
  },
  {
   "cell_type": "code",
   "execution_count": null,
   "id": "6869035c-ce29-4fb3-843c-8be4bccb51b6",
   "metadata": {
    "tags": []
   },
   "outputs": [
    {
     "name": "stdout",
     "output_type": "stream",
     "text": [
      "aws s3 cp s3://velia-piperuns-dev/VPR_orfcalling_20240307222145_MB1_1A/output/VPR_orfcalling_20240307222145_MB1_1A_found_by_any_caller.csv ./data/VPR_orfcalling_20240307222145_MB1_1A_found_by_any_caller.csv\n",
      "download: s3://velia-piperuns-dev/VPR_orfcalling_20240307222145_MB1_1A/output/VPR_orfcalling_20240307222145_MB1_1A_found_by_any_caller.csv to data/VPR_orfcalling_20240307222145_MB1_1A_found_by_any_caller.csv\n",
      "aws s3 cp s3://velia-piperuns-dev/VPR_orfcalling_20240307222145_MB1_1B/output/VPR_orfcalling_20240307222145_MB1_1B_found_by_any_caller.csv ./data/VPR_orfcalling_20240307222145_MB1_1B_found_by_any_caller.csv\n",
      "download: s3://velia-piperuns-dev/VPR_orfcalling_20240307222145_MB1_1B/output/VPR_orfcalling_20240307222145_MB1_1B_found_by_any_caller.csv to data/VPR_orfcalling_20240307222145_MB1_1B_found_by_any_caller.csv\n"
     ]
    },
    {
     "name": "stderr",
     "output_type": "stream",
     "text": [
      "/tmp/ipykernel_62869/1228207664.py:16: DtypeWarning: Columns (14) have mixed types. Specify dtype option on import or set low_memory=False.\n",
      "  for index, row in pd.read_csv(data_path, sep='\\t').iterrows():\n"
     ]
    },
    {
     "name": "stdout",
     "output_type": "stream",
     "text": [
      "aws s3 cp s3://velia-piperuns-dev/VPR_orfcalling_20240307222145_MB1_2A/output/VPR_orfcalling_20240307222145_MB1_2A_found_by_any_caller.csv ./data/VPR_orfcalling_20240307222145_MB1_2A_found_by_any_caller.csv\n",
      "download: s3://velia-piperuns-dev/VPR_orfcalling_20240307222145_MB1_2A/output/VPR_orfcalling_20240307222145_MB1_2A_found_by_any_caller.csv to data/VPR_orfcalling_20240307222145_MB1_2A_found_by_any_caller.csv\n"
     ]
    },
    {
     "name": "stderr",
     "output_type": "stream",
     "text": [
      "/tmp/ipykernel_62869/1228207664.py:16: DtypeWarning: Columns (14) have mixed types. Specify dtype option on import or set low_memory=False.\n",
      "  for index, row in pd.read_csv(data_path, sep='\\t').iterrows():\n"
     ]
    },
    {
     "name": "stdout",
     "output_type": "stream",
     "text": [
      "aws s3 cp s3://velia-piperuns-dev/VPR_orfcalling_20240307222145_MB1_2B/output/VPR_orfcalling_20240307222145_MB1_2B_found_by_any_caller.csv ./data/VPR_orfcalling_20240307222145_MB1_2B_found_by_any_caller.csv\n",
      "download: s3://velia-piperuns-dev/VPR_orfcalling_20240307222145_MB1_2B/output/VPR_orfcalling_20240307222145_MB1_2B_found_by_any_caller.csv to data/VPR_orfcalling_20240307222145_MB1_2B_found_by_any_caller.csv\n"
     ]
    },
    {
     "name": "stderr",
     "output_type": "stream",
     "text": [
      "/tmp/ipykernel_62869/1228207664.py:16: DtypeWarning: Columns (14) have mixed types. Specify dtype option on import or set low_memory=False.\n",
      "  for index, row in pd.read_csv(data_path, sep='\\t').iterrows():\n"
     ]
    },
    {
     "name": "stdout",
     "output_type": "stream",
     "text": [
      "aws s3 cp s3://velia-piperuns-dev/VPR_orfcalling_20240307222145_YL12_M0_a/output/VPR_orfcalling_20240307222145_YL12_M0_a_found_by_any_caller.csv ./data/VPR_orfcalling_20240307222145_YL12_M0_a_found_by_any_caller.csv\n",
      "download: s3://velia-piperuns-dev/VPR_orfcalling_20240307222145_YL12_M0_a/output/VPR_orfcalling_20240307222145_YL12_M0_a_found_by_any_caller.csv to data/VPR_orfcalling_20240307222145_YL12_M0_a_found_by_any_caller.csv\n",
      "aws s3 cp s3://velia-piperuns-dev/VPR_orfcalling_20240307222145_YL12_M0_b/output/VPR_orfcalling_20240307222145_YL12_M0_b_found_by_any_caller.csv ./data/VPR_orfcalling_20240307222145_YL12_M0_b_found_by_any_caller.csv\n",
      "download: s3://velia-piperuns-dev/VPR_orfcalling_20240307222145_YL12_M0_b/output/VPR_orfcalling_20240307222145_YL12_M0_b_found_by_any_caller.csv to data/VPR_orfcalling_20240307222145_YL12_M0_b_found_by_any_caller.csv\n"
     ]
    },
    {
     "name": "stderr",
     "output_type": "stream",
     "text": [
      "/tmp/ipykernel_62869/1228207664.py:16: DtypeWarning: Columns (14) have mixed types. Specify dtype option on import or set low_memory=False.\n",
      "  for index, row in pd.read_csv(data_path, sep='\\t').iterrows():\n"
     ]
    },
    {
     "name": "stdout",
     "output_type": "stream",
     "text": [
      "aws s3 cp s3://velia-piperuns-dev/VPR_orfcalling_20240307222145_YL12_M1_a/output/VPR_orfcalling_20240307222145_YL12_M1_a_found_by_any_caller.csv ./data/VPR_orfcalling_20240307222145_YL12_M1_a_found_by_any_caller.csv\n"
     ]
    },
    {
     "name": "stderr",
     "output_type": "stream",
     "text": [
      "fatal error: An error occurred (404) when calling the HeadObject operation: Key \"VPR_orfcalling_20240307222145_YL12_M1_a/output/VPR_orfcalling_20240307222145_YL12_M1_a_found_by_any_caller.csv\" does not exist\n"
     ]
    },
    {
     "name": "stdout",
     "output_type": "stream",
     "text": [
      "aws s3 cp s3://velia-piperuns-dev/VPR_orfcalling_20240307222145_YL12_M2_a/output/VPR_orfcalling_20240307222145_YL12_M2_a_found_by_any_caller.csv ./data/VPR_orfcalling_20240307222145_YL12_M2_a_found_by_any_caller.csv\n",
      "download: s3://velia-piperuns-dev/VPR_orfcalling_20240307222145_YL12_M2_a/output/VPR_orfcalling_20240307222145_YL12_M2_a_found_by_any_caller.csv to data/VPR_orfcalling_20240307222145_YL12_M2_a_found_by_any_caller.csv\n"
     ]
    },
    {
     "name": "stderr",
     "output_type": "stream",
     "text": [
      "/tmp/ipykernel_62869/1228207664.py:16: DtypeWarning: Columns (14) have mixed types. Specify dtype option on import or set low_memory=False.\n",
      "  for index, row in pd.read_csv(data_path, sep='\\t').iterrows():\n"
     ]
    },
    {
     "name": "stdout",
     "output_type": "stream",
     "text": [
      "aws s3 cp s3://velia-piperuns-dev/VPR_orfcalling_20240307222145_YL12_M2_b/output/VPR_orfcalling_20240307222145_YL12_M2_b_found_by_any_caller.csv ./data/VPR_orfcalling_20240307222145_YL12_M2_b_found_by_any_caller.csv\n",
      "download: s3://velia-piperuns-dev/VPR_orfcalling_20240307222145_YL12_M2_b/output/VPR_orfcalling_20240307222145_YL12_M2_b_found_by_any_caller.csv to data/VPR_orfcalling_20240307222145_YL12_M2_b_found_by_any_caller.csv\n",
      "aws s3 cp s3://velia-piperuns-dev/VPR_orfcalling_20240307222145_YL12_M2_c/output/VPR_orfcalling_20240307222145_YL12_M2_c_found_by_any_caller.csv ./data/VPR_orfcalling_20240307222145_YL12_M2_c_found_by_any_caller.csv\n"
     ]
    },
    {
     "name": "stderr",
     "output_type": "stream",
     "text": [
      "fatal error: An error occurred (404) when calling the HeadObject operation: Key \"VPR_orfcalling_20240307222145_YL12_M2_c/output/VPR_orfcalling_20240307222145_YL12_M2_c_found_by_any_caller.csv\" does not exist\n"
     ]
    },
    {
     "name": "stdout",
     "output_type": "stream",
     "text": [
      "aws s3 cp s3://velia-piperuns-dev/VPR_orfcalling_20240307222208_BL11_PBMCL1_0p5/output/VPR_orfcalling_20240307222208_BL11_PBMCL1_0p5_found_by_any_caller.csv ./data/VPR_orfcalling_20240307222208_BL11_PBMCL1_0p5_found_by_any_caller.csv\n",
      "download: s3://velia-piperuns-dev/VPR_orfcalling_20240307222208_BL11_PBMCL1_0p5/output/VPR_orfcalling_20240307222208_BL11_PBMCL1_0p5_found_by_any_caller.csv to data/VPR_orfcalling_20240307222208_BL11_PBMCL1_0p5_found_by_any_caller.csv\n"
     ]
    },
    {
     "name": "stderr",
     "output_type": "stream",
     "text": [
      "/tmp/ipykernel_62869/1228207664.py:16: DtypeWarning: Columns (14) have mixed types. Specify dtype option on import or set low_memory=False.\n",
      "  for index, row in pd.read_csv(data_path, sep='\\t').iterrows():\n"
     ]
    },
    {
     "name": "stdout",
     "output_type": "stream",
     "text": [
      "aws s3 cp s3://velia-piperuns-dev/VPR_orfcalling_20240307222208_BL11_PBMCL1_2/output/VPR_orfcalling_20240307222208_BL11_PBMCL1_2_found_by_any_caller.csv ./data/VPR_orfcalling_20240307222208_BL11_PBMCL1_2_found_by_any_caller.csv\n",
      "download: s3://velia-piperuns-dev/VPR_orfcalling_20240307222208_BL11_PBMCL1_2/output/VPR_orfcalling_20240307222208_BL11_PBMCL1_2_found_by_any_caller.csv to data/VPR_orfcalling_20240307222208_BL11_PBMCL1_2_found_by_any_caller.csv\n"
     ]
    },
    {
     "name": "stderr",
     "output_type": "stream",
     "text": [
      "/tmp/ipykernel_62869/1228207664.py:16: DtypeWarning: Columns (14) have mixed types. Specify dtype option on import or set low_memory=False.\n",
      "  for index, row in pd.read_csv(data_path, sep='\\t').iterrows():\n"
     ]
    },
    {
     "name": "stdout",
     "output_type": "stream",
     "text": [
      "aws s3 cp s3://velia-piperuns-dev/VPR_orfcalling_20240307222208_BL11_PBMCL2_0p5/output/VPR_orfcalling_20240307222208_BL11_PBMCL2_0p5_found_by_any_caller.csv ./data/VPR_orfcalling_20240307222208_BL11_PBMCL2_0p5_found_by_any_caller.csv\n",
      "download: s3://velia-piperuns-dev/VPR_orfcalling_20240307222208_BL11_PBMCL2_0p5/output/VPR_orfcalling_20240307222208_BL11_PBMCL2_0p5_found_by_any_caller.csv to data/VPR_orfcalling_20240307222208_BL11_PBMCL2_0p5_found_by_any_caller.csv\n"
     ]
    },
    {
     "name": "stderr",
     "output_type": "stream",
     "text": [
      "/tmp/ipykernel_62869/1228207664.py:16: DtypeWarning: Columns (14) have mixed types. Specify dtype option on import or set low_memory=False.\n",
      "  for index, row in pd.read_csv(data_path, sep='\\t').iterrows():\n"
     ]
    },
    {
     "name": "stdout",
     "output_type": "stream",
     "text": [
      "aws s3 cp s3://velia-piperuns-dev/VPR_orfcalling_20240307222208_BL11_PBMCL2_2/output/VPR_orfcalling_20240307222208_BL11_PBMCL2_2_found_by_any_caller.csv ./data/VPR_orfcalling_20240307222208_BL11_PBMCL2_2_found_by_any_caller.csv\n",
      "download: s3://velia-piperuns-dev/VPR_orfcalling_20240307222208_BL11_PBMCL2_2/output/VPR_orfcalling_20240307222208_BL11_PBMCL2_2_found_by_any_caller.csv to data/VPR_orfcalling_20240307222208_BL11_PBMCL2_2_found_by_any_caller.csv\n"
     ]
    },
    {
     "name": "stderr",
     "output_type": "stream",
     "text": [
      "/tmp/ipykernel_62869/1228207664.py:16: DtypeWarning: Columns (14) have mixed types. Specify dtype option on import or set low_memory=False.\n",
      "  for index, row in pd.read_csv(data_path, sep='\\t').iterrows():\n"
     ]
    },
    {
     "name": "stdout",
     "output_type": "stream",
     "text": [
      "aws s3 cp s3://velia-piperuns-dev/VPR_orfcalling_20240307222208_BL11_PBMCU1_0p5/output/VPR_orfcalling_20240307222208_BL11_PBMCU1_0p5_found_by_any_caller.csv ./data/VPR_orfcalling_20240307222208_BL11_PBMCU1_0p5_found_by_any_caller.csv\n",
      "download: s3://velia-piperuns-dev/VPR_orfcalling_20240307222208_BL11_PBMCU1_0p5/output/VPR_orfcalling_20240307222208_BL11_PBMCU1_0p5_found_by_any_caller.csv to data/VPR_orfcalling_20240307222208_BL11_PBMCU1_0p5_found_by_any_caller.csv\n"
     ]
    },
    {
     "name": "stderr",
     "output_type": "stream",
     "text": [
      "/tmp/ipykernel_62869/1228207664.py:16: DtypeWarning: Columns (14) have mixed types. Specify dtype option on import or set low_memory=False.\n",
      "  for index, row in pd.read_csv(data_path, sep='\\t').iterrows():\n"
     ]
    },
    {
     "name": "stdout",
     "output_type": "stream",
     "text": [
      "aws s3 cp s3://velia-piperuns-dev/VPR_orfcalling_20240307222208_BL11_PBMCU1_2/output/VPR_orfcalling_20240307222208_BL11_PBMCU1_2_found_by_any_caller.csv ./data/VPR_orfcalling_20240307222208_BL11_PBMCU1_2_found_by_any_caller.csv\n",
      "download: s3://velia-piperuns-dev/VPR_orfcalling_20240307222208_BL11_PBMCU1_2/output/VPR_orfcalling_20240307222208_BL11_PBMCU1_2_found_by_any_caller.csv to data/VPR_orfcalling_20240307222208_BL11_PBMCU1_2_found_by_any_caller.csv\n"
     ]
    },
    {
     "name": "stderr",
     "output_type": "stream",
     "text": [
      "/tmp/ipykernel_62869/1228207664.py:16: DtypeWarning: Columns (14) have mixed types. Specify dtype option on import or set low_memory=False.\n",
      "  for index, row in pd.read_csv(data_path, sep='\\t').iterrows():\n"
     ]
    },
    {
     "name": "stdout",
     "output_type": "stream",
     "text": [
      "aws s3 cp s3://velia-piperuns-dev/VPR_orfcalling_20240307222208_BL11_PBMCU2_0p5/output/VPR_orfcalling_20240307222208_BL11_PBMCU2_0p5_found_by_any_caller.csv ./data/VPR_orfcalling_20240307222208_BL11_PBMCU2_0p5_found_by_any_caller.csv\n",
      "download: s3://velia-piperuns-dev/VPR_orfcalling_20240307222208_BL11_PBMCU2_0p5/output/VPR_orfcalling_20240307222208_BL11_PBMCU2_0p5_found_by_any_caller.csv to data/VPR_orfcalling_20240307222208_BL11_PBMCU2_0p5_found_by_any_caller.csv\n"
     ]
    },
    {
     "name": "stderr",
     "output_type": "stream",
     "text": [
      "/tmp/ipykernel_62869/1228207664.py:16: DtypeWarning: Columns (14) have mixed types. Specify dtype option on import or set low_memory=False.\n",
      "  for index, row in pd.read_csv(data_path, sep='\\t').iterrows():\n"
     ]
    },
    {
     "name": "stdout",
     "output_type": "stream",
     "text": [
      "aws s3 cp s3://velia-piperuns-dev/VPR_orfcalling_20240307222208_BL11_PBMCU2_2/output/VPR_orfcalling_20240307222208_BL11_PBMCU2_2_found_by_any_caller.csv ./data/VPR_orfcalling_20240307222208_BL11_PBMCU2_2_found_by_any_caller.csv\n",
      "download: s3://velia-piperuns-dev/VPR_orfcalling_20240307222208_BL11_PBMCU2_2/output/VPR_orfcalling_20240307222208_BL11_PBMCU2_2_found_by_any_caller.csv to data/VPR_orfcalling_20240307222208_BL11_PBMCU2_2_found_by_any_caller.csv\n"
     ]
    },
    {
     "name": "stderr",
     "output_type": "stream",
     "text": [
      "/tmp/ipykernel_62869/1228207664.py:16: DtypeWarning: Columns (14) have mixed types. Specify dtype option on import or set low_memory=False.\n",
      "  for index, row in pd.read_csv(data_path, sep='\\t').iterrows():\n"
     ]
    },
    {
     "name": "stdout",
     "output_type": "stream",
     "text": [
      "aws s3 cp s3://velia-piperuns-dev/VPR_orfcalling_20240307222208_YL4_L1/output/VPR_orfcalling_20240307222208_YL4_L1_found_by_any_caller.csv ./data/VPR_orfcalling_20240307222208_YL4_L1_found_by_any_caller.csv\n",
      "download: s3://velia-piperuns-dev/VPR_orfcalling_20240307222208_YL4_L1/output/VPR_orfcalling_20240307222208_YL4_L1_found_by_any_caller.csv to data/VPR_orfcalling_20240307222208_YL4_L1_found_by_any_caller.csv\n",
      "aws s3 cp s3://velia-piperuns-dev/VPR_orfcalling_20240307222208_YL4_L2/output/VPR_orfcalling_20240307222208_YL4_L2_found_by_any_caller.csv ./data/VPR_orfcalling_20240307222208_YL4_L2_found_by_any_caller.csv\n",
      "download: s3://velia-piperuns-dev/VPR_orfcalling_20240307222208_YL4_L2/output/VPR_orfcalling_20240307222208_YL4_L2_found_by_any_caller.csv to data/VPR_orfcalling_20240307222208_YL4_L2_found_by_any_caller.csv\n",
      "aws s3 cp s3://velia-piperuns-dev/VPR_orfcalling_20240307222208_YL4_U1/output/VPR_orfcalling_20240307222208_YL4_U1_found_by_any_caller.csv ./data/VPR_orfcalling_20240307222208_YL4_U1_found_by_any_caller.csv\n",
      "download: s3://velia-piperuns-dev/VPR_orfcalling_20240307222208_YL4_U1/output/VPR_orfcalling_20240307222208_YL4_U1_found_by_any_caller.csv to data/VPR_orfcalling_20240307222208_YL4_U1_found_by_any_caller.csv\n",
      "aws s3 cp s3://velia-piperuns-dev/VPR_orfcalling_20240307222208_YL4_U2/output/VPR_orfcalling_20240307222208_YL4_U2_found_by_any_caller.csv ./data/VPR_orfcalling_20240307222208_YL4_U2_found_by_any_caller.csv\n",
      "download: s3://velia-piperuns-dev/VPR_orfcalling_20240307222208_YL4_U2/output/VPR_orfcalling_20240307222208_YL4_U2_found_by_any_caller.csv to data/VPR_orfcalling_20240307222208_YL4_U2_found_by_any_caller.csv\n",
      "aws s3 cp s3://velia-piperuns-dev/VPR_orfcalling_20240307222208_YL5_R1_01/output/VPR_orfcalling_20240307222208_YL5_R1_01_found_by_any_caller.csv ./data/VPR_orfcalling_20240307222208_YL5_R1_01_found_by_any_caller.csv\n",
      "download: s3://velia-piperuns-dev/VPR_orfcalling_20240307222208_YL5_R1_01/output/VPR_orfcalling_20240307222208_YL5_R1_01_found_by_any_caller.csv to data/VPR_orfcalling_20240307222208_YL5_R1_01_found_by_any_caller.csv\n"
     ]
    },
    {
     "name": "stderr",
     "output_type": "stream",
     "text": [
      "/tmp/ipykernel_62869/1228207664.py:16: DtypeWarning: Columns (14) have mixed types. Specify dtype option on import or set low_memory=False.\n",
      "  for index, row in pd.read_csv(data_path, sep='\\t').iterrows():\n"
     ]
    },
    {
     "name": "stdout",
     "output_type": "stream",
     "text": [
      "aws s3 cp s3://velia-piperuns-dev/VPR_orfcalling_20240307222208_YL5_R1_04/output/VPR_orfcalling_20240307222208_YL5_R1_04_found_by_any_caller.csv ./data/VPR_orfcalling_20240307222208_YL5_R1_04_found_by_any_caller.csv\n",
      "download: s3://velia-piperuns-dev/VPR_orfcalling_20240307222208_YL5_R1_04/output/VPR_orfcalling_20240307222208_YL5_R1_04_found_by_any_caller.csv to data/VPR_orfcalling_20240307222208_YL5_R1_04_found_by_any_caller.csv\n",
      "aws s3 cp s3://velia-piperuns-dev/VPR_orfcalling_20240307222208_YL5_R1_21/output/VPR_orfcalling_20240307222208_YL5_R1_21_found_by_any_caller.csv ./data/VPR_orfcalling_20240307222208_YL5_R1_21_found_by_any_caller.csv\n",
      "download: s3://velia-piperuns-dev/VPR_orfcalling_20240307222208_YL5_R1_21/output/VPR_orfcalling_20240307222208_YL5_R1_21_found_by_any_caller.csv to data/VPR_orfcalling_20240307222208_YL5_R1_21_found_by_any_caller.csv\n"
     ]
    },
    {
     "name": "stderr",
     "output_type": "stream",
     "text": [
      "/tmp/ipykernel_62869/1228207664.py:16: DtypeWarning: Columns (14) have mixed types. Specify dtype option on import or set low_memory=False.\n",
      "  for index, row in pd.read_csv(data_path, sep='\\t').iterrows():\n"
     ]
    },
    {
     "name": "stdout",
     "output_type": "stream",
     "text": [
      "aws s3 cp s3://velia-piperuns-dev/VPR_orfcalling_20240307222208_YL5_R2_01/output/VPR_orfcalling_20240307222208_YL5_R2_01_found_by_any_caller.csv ./data/VPR_orfcalling_20240307222208_YL5_R2_01_found_by_any_caller.csv\n",
      "download: s3://velia-piperuns-dev/VPR_orfcalling_20240307222208_YL5_R2_01/output/VPR_orfcalling_20240307222208_YL5_R2_01_found_by_any_caller.csv to data/VPR_orfcalling_20240307222208_YL5_R2_01_found_by_any_caller.csv\n"
     ]
    },
    {
     "name": "stderr",
     "output_type": "stream",
     "text": [
      "/tmp/ipykernel_62869/1228207664.py:16: DtypeWarning: Columns (14) have mixed types. Specify dtype option on import or set low_memory=False.\n",
      "  for index, row in pd.read_csv(data_path, sep='\\t').iterrows():\n"
     ]
    },
    {
     "name": "stdout",
     "output_type": "stream",
     "text": [
      "aws s3 cp s3://velia-piperuns-dev/VPR_orfcalling_20240307222208_YL5_R2_04/output/VPR_orfcalling_20240307222208_YL5_R2_04_found_by_any_caller.csv ./data/VPR_orfcalling_20240307222208_YL5_R2_04_found_by_any_caller.csv\n",
      "download: s3://velia-piperuns-dev/VPR_orfcalling_20240307222208_YL5_R2_04/output/VPR_orfcalling_20240307222208_YL5_R2_04_found_by_any_caller.csv to data/VPR_orfcalling_20240307222208_YL5_R2_04_found_by_any_caller.csv\n",
      "aws s3 cp s3://velia-piperuns-dev/VPR_orfcalling_20240307222208_YL5_R2_21/output/VPR_orfcalling_20240307222208_YL5_R2_21_found_by_any_caller.csv ./data/VPR_orfcalling_20240307222208_YL5_R2_21_found_by_any_caller.csv\n",
      "download: s3://velia-piperuns-dev/VPR_orfcalling_20240307222208_YL5_R2_21/output/VPR_orfcalling_20240307222208_YL5_R2_21_found_by_any_caller.csv to data/VPR_orfcalling_20240307222208_YL5_R2_21_found_by_any_caller.csv\n"
     ]
    },
    {
     "name": "stderr",
     "output_type": "stream",
     "text": [
      "/tmp/ipykernel_62869/1228207664.py:16: DtypeWarning: Columns (14) have mixed types. Specify dtype option on import or set low_memory=False.\n",
      "  for index, row in pd.read_csv(data_path, sep='\\t').iterrows():\n"
     ]
    },
    {
     "name": "stdout",
     "output_type": "stream",
     "text": [
      "aws s3 cp s3://velia-piperuns-dev/VPR_orfcalling_20240307222208_YL5_U1_04/output/VPR_orfcalling_20240307222208_YL5_U1_04_found_by_any_caller.csv ./data/VPR_orfcalling_20240307222208_YL5_U1_04_found_by_any_caller.csv\n",
      "download: s3://velia-piperuns-dev/VPR_orfcalling_20240307222208_YL5_U1_04/output/VPR_orfcalling_20240307222208_YL5_U1_04_found_by_any_caller.csv to data/VPR_orfcalling_20240307222208_YL5_U1_04_found_by_any_caller.csv\n"
     ]
    },
    {
     "name": "stderr",
     "output_type": "stream",
     "text": [
      "/tmp/ipykernel_62869/1228207664.py:16: DtypeWarning: Columns (14) have mixed types. Specify dtype option on import or set low_memory=False.\n",
      "  for index, row in pd.read_csv(data_path, sep='\\t').iterrows():\n"
     ]
    },
    {
     "name": "stdout",
     "output_type": "stream",
     "text": [
      "aws s3 cp s3://velia-piperuns-dev/VPR_orfcalling_20240307222208_YL5_U1_1/output/VPR_orfcalling_20240307222208_YL5_U1_1_found_by_any_caller.csv ./data/VPR_orfcalling_20240307222208_YL5_U1_1_found_by_any_caller.csv\n",
      "download: s3://velia-piperuns-dev/VPR_orfcalling_20240307222208_YL5_U1_1/output/VPR_orfcalling_20240307222208_YL5_U1_1_found_by_any_caller.csv to data/VPR_orfcalling_20240307222208_YL5_U1_1_found_by_any_caller.csv\n",
      "aws s3 cp s3://velia-piperuns-dev/VPR_orfcalling_20240307222208_YL5_U1_21/output/VPR_orfcalling_20240307222208_YL5_U1_21_found_by_any_caller.csv ./data/VPR_orfcalling_20240307222208_YL5_U1_21_found_by_any_caller.csv\n",
      "download: s3://velia-piperuns-dev/VPR_orfcalling_20240307222208_YL5_U1_21/output/VPR_orfcalling_20240307222208_YL5_U1_21_found_by_any_caller.csv to data/VPR_orfcalling_20240307222208_YL5_U1_21_found_by_any_caller.csv\n"
     ]
    },
    {
     "name": "stderr",
     "output_type": "stream",
     "text": [
      "/tmp/ipykernel_62869/1228207664.py:16: DtypeWarning: Columns (14) have mixed types. Specify dtype option on import or set low_memory=False.\n",
      "  for index, row in pd.read_csv(data_path, sep='\\t').iterrows():\n"
     ]
    },
    {
     "name": "stdout",
     "output_type": "stream",
     "text": [
      "aws s3 cp s3://velia-piperuns-dev/VPR_orfcalling_20240307222208_YL5_U2_04/output/VPR_orfcalling_20240307222208_YL5_U2_04_found_by_any_caller.csv ./data/VPR_orfcalling_20240307222208_YL5_U2_04_found_by_any_caller.csv\n",
      "download: s3://velia-piperuns-dev/VPR_orfcalling_20240307222208_YL5_U2_04/output/VPR_orfcalling_20240307222208_YL5_U2_04_found_by_any_caller.csv to data/VPR_orfcalling_20240307222208_YL5_U2_04_found_by_any_caller.csv\n"
     ]
    },
    {
     "name": "stderr",
     "output_type": "stream",
     "text": [
      "/tmp/ipykernel_62869/1228207664.py:16: DtypeWarning: Columns (14) have mixed types. Specify dtype option on import or set low_memory=False.\n",
      "  for index, row in pd.read_csv(data_path, sep='\\t').iterrows():\n"
     ]
    },
    {
     "name": "stdout",
     "output_type": "stream",
     "text": [
      "aws s3 cp s3://velia-piperuns-dev/VPR_orfcalling_20240307222208_YL5_U2_1/output/VPR_orfcalling_20240307222208_YL5_U2_1_found_by_any_caller.csv ./data/VPR_orfcalling_20240307222208_YL5_U2_1_found_by_any_caller.csv\n",
      "download: s3://velia-piperuns-dev/VPR_orfcalling_20240307222208_YL5_U2_1/output/VPR_orfcalling_20240307222208_YL5_U2_1_found_by_any_caller.csv to data/VPR_orfcalling_20240307222208_YL5_U2_1_found_by_any_caller.csv\n",
      "aws s3 cp s3://velia-piperuns-dev/VPR_orfcalling_20240307222208_YL5_U2_21/output/VPR_orfcalling_20240307222208_YL5_U2_21_found_by_any_caller.csv ./data/VPR_orfcalling_20240307222208_YL5_U2_21_found_by_any_caller.csv\n",
      "download: s3://velia-piperuns-dev/VPR_orfcalling_20240307222208_YL5_U2_21/output/VPR_orfcalling_20240307222208_YL5_U2_21_found_by_any_caller.csv to data/VPR_orfcalling_20240307222208_YL5_U2_21_found_by_any_caller.csv\n",
      "aws s3 cp s3://velia-piperuns-dev/VPR_orfcalling_20240307222241_Caco-2_LM_rep1/output/VPR_orfcalling_20240307222241_Caco-2_LM_rep1_found_by_any_caller.csv ./data/VPR_orfcalling_20240307222241_Caco-2_LM_rep1_found_by_any_caller.csv\n",
      "download: s3://velia-piperuns-dev/VPR_orfcalling_20240307222241_Caco-2_LM_rep1/output/VPR_orfcalling_20240307222241_Caco-2_LM_rep1_found_by_any_caller.csv to data/VPR_orfcalling_20240307222241_Caco-2_LM_rep1_found_by_any_caller.csv\n"
     ]
    },
    {
     "name": "stderr",
     "output_type": "stream",
     "text": [
      "/tmp/ipykernel_62869/1228207664.py:16: DtypeWarning: Columns (14) have mixed types. Specify dtype option on import or set low_memory=False.\n",
      "  for index, row in pd.read_csv(data_path, sep='\\t').iterrows():\n"
     ]
    },
    {
     "name": "stdout",
     "output_type": "stream",
     "text": [
      "aws s3 cp s3://velia-piperuns-dev/VPR_orfcalling_20240307222241_Caco-2_LM_rep2/output/VPR_orfcalling_20240307222241_Caco-2_LM_rep2_found_by_any_caller.csv ./data/VPR_orfcalling_20240307222241_Caco-2_LM_rep2_found_by_any_caller.csv\n",
      "download: s3://velia-piperuns-dev/VPR_orfcalling_20240307222241_Caco-2_LM_rep2/output/VPR_orfcalling_20240307222241_Caco-2_LM_rep2_found_by_any_caller.csv to data/VPR_orfcalling_20240307222241_Caco-2_LM_rep2_found_by_any_caller.csv\n"
     ]
    },
    {
     "name": "stderr",
     "output_type": "stream",
     "text": [
      "/tmp/ipykernel_62869/1228207664.py:16: DtypeWarning: Columns (10,14) have mixed types. Specify dtype option on import or set low_memory=False.\n",
      "  for index, row in pd.read_csv(data_path, sep='\\t').iterrows():\n"
     ]
    },
    {
     "name": "stdout",
     "output_type": "stream",
     "text": [
      "aws s3 cp s3://velia-piperuns-dev/VPR_orfcalling_20240307222241_Caco-2_MWOLip_rep1/output/VPR_orfcalling_20240307222241_Caco-2_MWOLip_rep1_found_by_any_caller.csv ./data/VPR_orfcalling_20240307222241_Caco-2_MWOLip_rep1_found_by_any_caller.csv\n",
      "download: s3://velia-piperuns-dev/VPR_orfcalling_20240307222241_Caco-2_MWOLip_rep1/output/VPR_orfcalling_20240307222241_Caco-2_MWOLip_rep1_found_by_any_caller.csv to data/VPR_orfcalling_20240307222241_Caco-2_MWOLip_rep1_found_by_any_caller.csv\n"
     ]
    },
    {
     "name": "stderr",
     "output_type": "stream",
     "text": [
      "/tmp/ipykernel_62869/1228207664.py:16: DtypeWarning: Columns (14) have mixed types. Specify dtype option on import or set low_memory=False.\n",
      "  for index, row in pd.read_csv(data_path, sep='\\t').iterrows():\n"
     ]
    },
    {
     "name": "stdout",
     "output_type": "stream",
     "text": [
      "aws s3 cp s3://velia-piperuns-dev/VPR_orfcalling_20240307222241_Caco-2_MWOLip_rep2/output/VPR_orfcalling_20240307222241_Caco-2_MWOLip_rep2_found_by_any_caller.csv ./data/VPR_orfcalling_20240307222241_Caco-2_MWOLip_rep2_found_by_any_caller.csv\n",
      "download: s3://velia-piperuns-dev/VPR_orfcalling_20240307222241_Caco-2_MWOLip_rep2/output/VPR_orfcalling_20240307222241_Caco-2_MWOLip_rep2_found_by_any_caller.csv to data/VPR_orfcalling_20240307222241_Caco-2_MWOLip_rep2_found_by_any_caller.csv\n"
     ]
    },
    {
     "name": "stderr",
     "output_type": "stream",
     "text": [
      "/tmp/ipykernel_62869/1228207664.py:16: DtypeWarning: Columns (14) have mixed types. Specify dtype option on import or set low_memory=False.\n",
      "  for index, row in pd.read_csv(data_path, sep='\\t').iterrows():\n"
     ]
    },
    {
     "name": "stdout",
     "output_type": "stream",
     "text": [
      "aws s3 cp s3://velia-piperuns-dev/VPR_orfcalling_20240307222241_Caco-2_control_rep1/output/VPR_orfcalling_20240307222241_Caco-2_control_rep1_found_by_any_caller.csv ./data/VPR_orfcalling_20240307222241_Caco-2_control_rep1_found_by_any_caller.csv\n",
      "download: s3://velia-piperuns-dev/VPR_orfcalling_20240307222241_Caco-2_control_rep1/output/VPR_orfcalling_20240307222241_Caco-2_control_rep1_found_by_any_caller.csv to data/VPR_orfcalling_20240307222241_Caco-2_control_rep1_found_by_any_caller.csv\n"
     ]
    },
    {
     "name": "stderr",
     "output_type": "stream",
     "text": [
      "/tmp/ipykernel_62869/1228207664.py:16: DtypeWarning: Columns (14) have mixed types. Specify dtype option on import or set low_memory=False.\n",
      "  for index, row in pd.read_csv(data_path, sep='\\t').iterrows():\n"
     ]
    },
    {
     "name": "stdout",
     "output_type": "stream",
     "text": [
      "aws s3 cp s3://velia-piperuns-dev/VPR_orfcalling_20240307222241_Caco-2_control_rep2/output/VPR_orfcalling_20240307222241_Caco-2_control_rep2_found_by_any_caller.csv ./data/VPR_orfcalling_20240307222241_Caco-2_control_rep2_found_by_any_caller.csv\n",
      "download: s3://velia-piperuns-dev/VPR_orfcalling_20240307222241_Caco-2_control_rep2/output/VPR_orfcalling_20240307222241_Caco-2_control_rep2_found_by_any_caller.csv to data/VPR_orfcalling_20240307222241_Caco-2_control_rep2_found_by_any_caller.csv\n"
     ]
    },
    {
     "name": "stderr",
     "output_type": "stream",
     "text": [
      "/tmp/ipykernel_62869/1228207664.py:16: DtypeWarning: Columns (14) have mixed types. Specify dtype option on import or set low_memory=False.\n",
      "  for index, row in pd.read_csv(data_path, sep='\\t').iterrows():\n"
     ]
    },
    {
     "name": "stdout",
     "output_type": "stream",
     "text": [
      "aws s3 cp s3://velia-piperuns-dev/VPR_orfcalling_20240307222241_Caco-2_undiff_rep1/output/VPR_orfcalling_20240307222241_Caco-2_undiff_rep1_found_by_any_caller.csv ./data/VPR_orfcalling_20240307222241_Caco-2_undiff_rep1_found_by_any_caller.csv\n",
      "download: s3://velia-piperuns-dev/VPR_orfcalling_20240307222241_Caco-2_undiff_rep1/output/VPR_orfcalling_20240307222241_Caco-2_undiff_rep1_found_by_any_caller.csv to data/VPR_orfcalling_20240307222241_Caco-2_undiff_rep1_found_by_any_caller.csv\n"
     ]
    },
    {
     "name": "stderr",
     "output_type": "stream",
     "text": [
      "/tmp/ipykernel_62869/1228207664.py:16: DtypeWarning: Columns (14) have mixed types. Specify dtype option on import or set low_memory=False.\n",
      "  for index, row in pd.read_csv(data_path, sep='\\t').iterrows():\n"
     ]
    },
    {
     "name": "stdout",
     "output_type": "stream",
     "text": [
      "aws s3 cp s3://velia-piperuns-dev/VPR_orfcalling_20240307222241_Caco-2_undiff_rep2/output/VPR_orfcalling_20240307222241_Caco-2_undiff_rep2_found_by_any_caller.csv ./data/VPR_orfcalling_20240307222241_Caco-2_undiff_rep2_found_by_any_caller.csv\n",
      "download: s3://velia-piperuns-dev/VPR_orfcalling_20240307222241_Caco-2_undiff_rep2/output/VPR_orfcalling_20240307222241_Caco-2_undiff_rep2_found_by_any_caller.csv to data/VPR_orfcalling_20240307222241_Caco-2_undiff_rep2_found_by_any_caller.csv\n"
     ]
    },
    {
     "name": "stderr",
     "output_type": "stream",
     "text": [
      "/tmp/ipykernel_62869/1228207664.py:16: DtypeWarning: Columns (14) have mixed types. Specify dtype option on import or set low_memory=False.\n",
      "  for index, row in pd.read_csv(data_path, sep='\\t').iterrows():\n"
     ]
    },
    {
     "name": "stdout",
     "output_type": "stream",
     "text": [
      "aws s3 cp s3://velia-piperuns-dev/VPR_orfcalling_20240307222241_HCC1954_RPF_1/output/VPR_orfcalling_20240307222241_HCC1954_RPF_1_found_by_any_caller.csv ./data/VPR_orfcalling_20240307222241_HCC1954_RPF_1_found_by_any_caller.csv\n"
     ]
    },
    {
     "name": "stderr",
     "output_type": "stream",
     "text": [
      "fatal error: An error occurred (404) when calling the HeadObject operation: Key \"VPR_orfcalling_20240307222241_HCC1954_RPF_1/output/VPR_orfcalling_20240307222241_HCC1954_RPF_1_found_by_any_caller.csv\" does not exist\n"
     ]
    },
    {
     "name": "stdout",
     "output_type": "stream",
     "text": [
      "aws s3 cp s3://velia-piperuns-dev/VPR_orfcalling_20240307222241_HCC1954_rep2/output/VPR_orfcalling_20240307222241_HCC1954_rep2_found_by_any_caller.csv ./data/VPR_orfcalling_20240307222241_HCC1954_rep2_found_by_any_caller.csv\n",
      "download: s3://velia-piperuns-dev/VPR_orfcalling_20240307222241_HCC1954_rep2/output/VPR_orfcalling_20240307222241_HCC1954_rep2_found_by_any_caller.csv to data/VPR_orfcalling_20240307222241_HCC1954_rep2_found_by_any_caller.csv\n"
     ]
    },
    {
     "name": "stderr",
     "output_type": "stream",
     "text": [
      "/tmp/ipykernel_62869/1228207664.py:16: DtypeWarning: Columns (10,14) have mixed types. Specify dtype option on import or set low_memory=False.\n",
      "  for index, row in pd.read_csv(data_path, sep='\\t').iterrows():\n"
     ]
    },
    {
     "name": "stdout",
     "output_type": "stream",
     "text": [
      "aws s3 cp s3://velia-piperuns-dev/VPR_orfcalling_20240307222241_HCC1954_rep3/output/VPR_orfcalling_20240307222241_HCC1954_rep3_found_by_any_caller.csv ./data/VPR_orfcalling_20240307222241_HCC1954_rep3_found_by_any_caller.csv\n",
      "download: s3://velia-piperuns-dev/VPR_orfcalling_20240307222241_HCC1954_rep3/output/VPR_orfcalling_20240307222241_HCC1954_rep3_found_by_any_caller.csv to data/VPR_orfcalling_20240307222241_HCC1954_rep3_found_by_any_caller.csv\n"
     ]
    },
    {
     "name": "stderr",
     "output_type": "stream",
     "text": [
      "/tmp/ipykernel_62869/1228207664.py:16: DtypeWarning: Columns (14) have mixed types. Specify dtype option on import or set low_memory=False.\n",
      "  for index, row in pd.read_csv(data_path, sep='\\t').iterrows():\n"
     ]
    },
    {
     "name": "stdout",
     "output_type": "stream",
     "text": [
      "aws s3 cp s3://velia-piperuns-dev/VPR_orfcalling_20240307222241_HEK293T-DMSO-rep1_SRR8449569/output/VPR_orfcalling_20240307222241_HEK293T-DMSO-rep1_SRR8449569_found_by_any_caller.csv ./data/VPR_orfcalling_20240307222241_HEK293T-DMSO-rep1_SRR8449569_found_by_any_caller.csv\n",
      "download: s3://velia-piperuns-dev/VPR_orfcalling_20240307222241_HEK293T-DMSO-rep1_SRR8449569/output/VPR_orfcalling_20240307222241_HEK293T-DMSO-rep1_SRR8449569_found_by_any_caller.csv to data/VPR_orfcalling_20240307222241_HEK293T-DMSO-rep1_SRR8449569_found_by_any_caller.csv\n"
     ]
    },
    {
     "name": "stderr",
     "output_type": "stream",
     "text": [
      "/tmp/ipykernel_62869/1228207664.py:16: DtypeWarning: Columns (14) have mixed types. Specify dtype option on import or set low_memory=False.\n",
      "  for index, row in pd.read_csv(data_path, sep='\\t').iterrows():\n"
     ]
    },
    {
     "name": "stdout",
     "output_type": "stream",
     "text": [
      "aws s3 cp s3://velia-piperuns-dev/VPR_orfcalling_20240307222241_HEK293T-DMSO-rep2_SRR8449570/output/VPR_orfcalling_20240307222241_HEK293T-DMSO-rep2_SRR8449570_found_by_any_caller.csv ./data/VPR_orfcalling_20240307222241_HEK293T-DMSO-rep2_SRR8449570_found_by_any_caller.csv\n",
      "download: s3://velia-piperuns-dev/VPR_orfcalling_20240307222241_HEK293T-DMSO-rep2_SRR8449570/output/VPR_orfcalling_20240307222241_HEK293T-DMSO-rep2_SRR8449570_found_by_any_caller.csv to data/VPR_orfcalling_20240307222241_HEK293T-DMSO-rep2_SRR8449570_found_by_any_caller.csv\n"
     ]
    },
    {
     "name": "stderr",
     "output_type": "stream",
     "text": [
      "/tmp/ipykernel_62869/1228207664.py:16: DtypeWarning: Columns (14) have mixed types. Specify dtype option on import or set low_memory=False.\n",
      "  for index, row in pd.read_csv(data_path, sep='\\t').iterrows():\n"
     ]
    },
    {
     "name": "stdout",
     "output_type": "stream",
     "text": [
      "aws s3 cp s3://velia-piperuns-dev/VPR_orfcalling_20240307222241_HEK293T-HiRes_SRR8449568/output/VPR_orfcalling_20240307222241_HEK293T-HiRes_SRR8449568_found_by_any_caller.csv ./data/VPR_orfcalling_20240307222241_HEK293T-HiRes_SRR8449568_found_by_any_caller.csv\n",
      "download: s3://velia-piperuns-dev/VPR_orfcalling_20240307222241_HEK293T-HiRes_SRR8449568/output/VPR_orfcalling_20240307222241_HEK293T-HiRes_SRR8449568_found_by_any_caller.csv to data/VPR_orfcalling_20240307222241_HEK293T-HiRes_SRR8449568_found_by_any_caller.csv\n"
     ]
    },
    {
     "name": "stderr",
     "output_type": "stream",
     "text": [
      "/tmp/ipykernel_62869/1228207664.py:16: DtypeWarning: Columns (14) have mixed types. Specify dtype option on import or set low_memory=False.\n",
      "  for index, row in pd.read_csv(data_path, sep='\\t').iterrows():\n"
     ]
    },
    {
     "name": "stdout",
     "output_type": "stream",
     "text": [
      "aws s3 cp s3://velia-piperuns-dev/VPR_orfcalling_20240307222241_HEK293T-LoRes_SRR8449566/output/VPR_orfcalling_20240307222241_HEK293T-LoRes_SRR8449566_found_by_any_caller.csv ./data/VPR_orfcalling_20240307222241_HEK293T-LoRes_SRR8449566_found_by_any_caller.csv\n"
     ]
    },
    {
     "name": "stderr",
     "output_type": "stream",
     "text": [
      "fatal error: An error occurred (404) when calling the HeadObject operation: Key \"VPR_orfcalling_20240307222241_HEK293T-LoRes_SRR8449566/output/VPR_orfcalling_20240307222241_HEK293T-LoRes_SRR8449566_found_by_any_caller.csv\" does not exist\n"
     ]
    },
    {
     "name": "stdout",
     "output_type": "stream",
     "text": [
      "aws s3 cp s3://velia-piperuns-dev/VPR_orfcalling_20240307222241_HEK293T-MedRes_SRR8449567/output/VPR_orfcalling_20240307222241_HEK293T-MedRes_SRR8449567_found_by_any_caller.csv ./data/VPR_orfcalling_20240307222241_HEK293T-MedRes_SRR8449567_found_by_any_caller.csv\n",
      "download: s3://velia-piperuns-dev/VPR_orfcalling_20240307222241_HEK293T-MedRes_SRR8449567/output/VPR_orfcalling_20240307222241_HEK293T-MedRes_SRR8449567_found_by_any_caller.csv to data/VPR_orfcalling_20240307222241_HEK293T-MedRes_SRR8449567_found_by_any_caller.csv\n"
     ]
    },
    {
     "name": "stderr",
     "output_type": "stream",
     "text": [
      "/tmp/ipykernel_62869/1228207664.py:16: DtypeWarning: Columns (14) have mixed types. Specify dtype option on import or set low_memory=False.\n",
      "  for index, row in pd.read_csv(data_path, sep='\\t').iterrows():\n"
     ]
    },
    {
     "name": "stdout",
     "output_type": "stream",
     "text": [
      "aws s3 cp s3://velia-piperuns-dev/VPR_orfcalling_20240307222241_HEK293T-TG-rep1_SRR8449573/output/VPR_orfcalling_20240307222241_HEK293T-TG-rep1_SRR8449573_found_by_any_caller.csv ./data/VPR_orfcalling_20240307222241_HEK293T-TG-rep1_SRR8449573_found_by_any_caller.csv\n",
      "download: s3://velia-piperuns-dev/VPR_orfcalling_20240307222241_HEK293T-TG-rep1_SRR8449573/output/VPR_orfcalling_20240307222241_HEK293T-TG-rep1_SRR8449573_found_by_any_caller.csv to data/VPR_orfcalling_20240307222241_HEK293T-TG-rep1_SRR8449573_found_by_any_caller.csv\n"
     ]
    },
    {
     "name": "stderr",
     "output_type": "stream",
     "text": [
      "/tmp/ipykernel_62869/1228207664.py:16: DtypeWarning: Columns (14) have mixed types. Specify dtype option on import or set low_memory=False.\n",
      "  for index, row in pd.read_csv(data_path, sep='\\t').iterrows():\n"
     ]
    },
    {
     "name": "stdout",
     "output_type": "stream",
     "text": [
      "aws s3 cp s3://velia-piperuns-dev/VPR_orfcalling_20240307222241_HEK293T-TG-rep2_SRR8449574/output/VPR_orfcalling_20240307222241_HEK293T-TG-rep2_SRR8449574_found_by_any_caller.csv ./data/VPR_orfcalling_20240307222241_HEK293T-TG-rep2_SRR8449574_found_by_any_caller.csv\n",
      "download: s3://velia-piperuns-dev/VPR_orfcalling_20240307222241_HEK293T-TG-rep2_SRR8449574/output/VPR_orfcalling_20240307222241_HEK293T-TG-rep2_SRR8449574_found_by_any_caller.csv to data/VPR_orfcalling_20240307222241_HEK293T-TG-rep2_SRR8449574_found_by_any_caller.csv\n"
     ]
    },
    {
     "name": "stderr",
     "output_type": "stream",
     "text": [
      "/tmp/ipykernel_62869/1228207664.py:16: DtypeWarning: Columns (14) have mixed types. Specify dtype option on import or set low_memory=False.\n",
      "  for index, row in pd.read_csv(data_path, sep='\\t').iterrows():\n"
     ]
    },
    {
     "name": "stdout",
     "output_type": "stream",
     "text": [
      "aws s3 cp s3://velia-piperuns-dev/VPR_orfcalling_20240307222241_HEK293T-TM-rep1_SRR8449571/output/VPR_orfcalling_20240307222241_HEK293T-TM-rep1_SRR8449571_found_by_any_caller.csv ./data/VPR_orfcalling_20240307222241_HEK293T-TM-rep1_SRR8449571_found_by_any_caller.csv\n",
      "download: s3://velia-piperuns-dev/VPR_orfcalling_20240307222241_HEK293T-TM-rep1_SRR8449571/output/VPR_orfcalling_20240307222241_HEK293T-TM-rep1_SRR8449571_found_by_any_caller.csv to data/VPR_orfcalling_20240307222241_HEK293T-TM-rep1_SRR8449571_found_by_any_caller.csv\n"
     ]
    },
    {
     "name": "stderr",
     "output_type": "stream",
     "text": [
      "/tmp/ipykernel_62869/1228207664.py:16: DtypeWarning: Columns (14) have mixed types. Specify dtype option on import or set low_memory=False.\n",
      "  for index, row in pd.read_csv(data_path, sep='\\t').iterrows():\n"
     ]
    },
    {
     "name": "stdout",
     "output_type": "stream",
     "text": [
      "aws s3 cp s3://velia-piperuns-dev/VPR_orfcalling_20240307222241_HEK293T-TM-rep2_SRR8449572/output/VPR_orfcalling_20240307222241_HEK293T-TM-rep2_SRR8449572_found_by_any_caller.csv ./data/VPR_orfcalling_20240307222241_HEK293T-TM-rep2_SRR8449572_found_by_any_caller.csv\n"
     ]
    },
    {
     "name": "stderr",
     "output_type": "stream",
     "text": [
      "fatal error: An error occurred (404) when calling the HeadObject operation: Key \"VPR_orfcalling_20240307222241_HEK293T-TM-rep2_SRR8449572/output/VPR_orfcalling_20240307222241_HEK293T-TM-rep2_SRR8449572_found_by_any_caller.csv\" does not exist\n"
     ]
    },
    {
     "name": "stdout",
     "output_type": "stream",
     "text": [
      "aws s3 cp s3://velia-piperuns-dev/VPR_orfcalling_20240307222241_HeLaS3-HiRes-rep1_SRR8449577/output/VPR_orfcalling_20240307222241_HeLaS3-HiRes-rep1_SRR8449577_found_by_any_caller.csv ./data/VPR_orfcalling_20240307222241_HeLaS3-HiRes-rep1_SRR8449577_found_by_any_caller.csv\n",
      "download: s3://velia-piperuns-dev/VPR_orfcalling_20240307222241_HeLaS3-HiRes-rep1_SRR8449577/output/VPR_orfcalling_20240307222241_HeLaS3-HiRes-rep1_SRR8449577_found_by_any_caller.csv to data/VPR_orfcalling_20240307222241_HeLaS3-HiRes-rep1_SRR8449577_found_by_any_caller.csv\n"
     ]
    },
    {
     "name": "stderr",
     "output_type": "stream",
     "text": [
      "/tmp/ipykernel_62869/1228207664.py:16: DtypeWarning: Columns (14) have mixed types. Specify dtype option on import or set low_memory=False.\n",
      "  for index, row in pd.read_csv(data_path, sep='\\t').iterrows():\n"
     ]
    },
    {
     "name": "stdout",
     "output_type": "stream",
     "text": [
      "aws s3 cp s3://velia-piperuns-dev/VPR_orfcalling_20240307222241_HeLaS3-HiRes-rep2_SRR8449578/output/VPR_orfcalling_20240307222241_HeLaS3-HiRes-rep2_SRR8449578_found_by_any_caller.csv ./data/VPR_orfcalling_20240307222241_HeLaS3-HiRes-rep2_SRR8449578_found_by_any_caller.csv\n",
      "download: s3://velia-piperuns-dev/VPR_orfcalling_20240307222241_HeLaS3-HiRes-rep2_SRR8449578/output/VPR_orfcalling_20240307222241_HeLaS3-HiRes-rep2_SRR8449578_found_by_any_caller.csv to data/VPR_orfcalling_20240307222241_HeLaS3-HiRes-rep2_SRR8449578_found_by_any_caller.csv\n"
     ]
    },
    {
     "name": "stderr",
     "output_type": "stream",
     "text": [
      "/tmp/ipykernel_62869/1228207664.py:16: DtypeWarning: Columns (10,14) have mixed types. Specify dtype option on import or set low_memory=False.\n",
      "  for index, row in pd.read_csv(data_path, sep='\\t').iterrows():\n"
     ]
    },
    {
     "name": "stdout",
     "output_type": "stream",
     "text": [
      "aws s3 cp s3://velia-piperuns-dev/VPR_orfcalling_20240307222241_HeLaS3-LoRes-rep1_SRR8449575/output/VPR_orfcalling_20240307222241_HeLaS3-LoRes-rep1_SRR8449575_found_by_any_caller.csv ./data/VPR_orfcalling_20240307222241_HeLaS3-LoRes-rep1_SRR8449575_found_by_any_caller.csv\n"
     ]
    },
    {
     "name": "stderr",
     "output_type": "stream",
     "text": [
      "fatal error: An error occurred (404) when calling the HeadObject operation: Key \"VPR_orfcalling_20240307222241_HeLaS3-LoRes-rep1_SRR8449575/output/VPR_orfcalling_20240307222241_HeLaS3-LoRes-rep1_SRR8449575_found_by_any_caller.csv\" does not exist\n"
     ]
    },
    {
     "name": "stdout",
     "output_type": "stream",
     "text": [
      "aws s3 cp s3://velia-piperuns-dev/VPR_orfcalling_20240307222241_HeLaS3-LoRes-rep2_SRR8449576/output/VPR_orfcalling_20240307222241_HeLaS3-LoRes-rep2_SRR8449576_found_by_any_caller.csv ./data/VPR_orfcalling_20240307222241_HeLaS3-LoRes-rep2_SRR8449576_found_by_any_caller.csv\n",
      "download: s3://velia-piperuns-dev/VPR_orfcalling_20240307222241_HeLaS3-LoRes-rep2_SRR8449576/output/VPR_orfcalling_20240307222241_HeLaS3-LoRes-rep2_SRR8449576_found_by_any_caller.csv to data/VPR_orfcalling_20240307222241_HeLaS3-LoRes-rep2_SRR8449576_found_by_any_caller.csv\n",
      "aws s3 cp s3://velia-piperuns-dev/VPR_orfcalling_20240307222241_HepG2_chol-oleic_rep1/output/VPR_orfcalling_20240307222241_HepG2_chol-oleic_rep1_found_by_any_caller.csv ./data/VPR_orfcalling_20240307222241_HepG2_chol-oleic_rep1_found_by_any_caller.csv\n",
      "download: s3://velia-piperuns-dev/VPR_orfcalling_20240307222241_HepG2_chol-oleic_rep1/output/VPR_orfcalling_20240307222241_HepG2_chol-oleic_rep1_found_by_any_caller.csv to data/VPR_orfcalling_20240307222241_HepG2_chol-oleic_rep1_found_by_any_caller.csv\n"
     ]
    },
    {
     "name": "stderr",
     "output_type": "stream",
     "text": [
      "/tmp/ipykernel_62869/1228207664.py:16: DtypeWarning: Columns (14) have mixed types. Specify dtype option on import or set low_memory=False.\n",
      "  for index, row in pd.read_csv(data_path, sep='\\t').iterrows():\n"
     ]
    },
    {
     "name": "stdout",
     "output_type": "stream",
     "text": [
      "aws s3 cp s3://velia-piperuns-dev/VPR_orfcalling_20240307222241_HepG2_chol-oleic_rep2/output/VPR_orfcalling_20240307222241_HepG2_chol-oleic_rep2_found_by_any_caller.csv ./data/VPR_orfcalling_20240307222241_HepG2_chol-oleic_rep2_found_by_any_caller.csv\n",
      "download: s3://velia-piperuns-dev/VPR_orfcalling_20240307222241_HepG2_chol-oleic_rep2/output/VPR_orfcalling_20240307222241_HepG2_chol-oleic_rep2_found_by_any_caller.csv to data/VPR_orfcalling_20240307222241_HepG2_chol-oleic_rep2_found_by_any_caller.csv\n"
     ]
    },
    {
     "name": "stderr",
     "output_type": "stream",
     "text": [
      "/tmp/ipykernel_62869/1228207664.py:16: DtypeWarning: Columns (14) have mixed types. Specify dtype option on import or set low_memory=False.\n",
      "  for index, row in pd.read_csv(data_path, sep='\\t').iterrows():\n"
     ]
    },
    {
     "name": "stdout",
     "output_type": "stream",
     "text": [
      "aws s3 cp s3://velia-piperuns-dev/VPR_orfcalling_20240307222241_HepG2_control_rep1/output/VPR_orfcalling_20240307222241_HepG2_control_rep1_found_by_any_caller.csv ./data/VPR_orfcalling_20240307222241_HepG2_control_rep1_found_by_any_caller.csv\n",
      "download: s3://velia-piperuns-dev/VPR_orfcalling_20240307222241_HepG2_control_rep1/output/VPR_orfcalling_20240307222241_HepG2_control_rep1_found_by_any_caller.csv to data/VPR_orfcalling_20240307222241_HepG2_control_rep1_found_by_any_caller.csv\n"
     ]
    },
    {
     "name": "stderr",
     "output_type": "stream",
     "text": [
      "/tmp/ipykernel_62869/1228207664.py:16: DtypeWarning: Columns (14) have mixed types. Specify dtype option on import or set low_memory=False.\n",
      "  for index, row in pd.read_csv(data_path, sep='\\t').iterrows():\n"
     ]
    },
    {
     "name": "stdout",
     "output_type": "stream",
     "text": [
      "aws s3 cp s3://velia-piperuns-dev/VPR_orfcalling_20240307222241_HepG2_control_rep2/output/VPR_orfcalling_20240307222241_HepG2_control_rep2_found_by_any_caller.csv ./data/VPR_orfcalling_20240307222241_HepG2_control_rep2_found_by_any_caller.csv\n",
      "download: s3://velia-piperuns-dev/VPR_orfcalling_20240307222241_HepG2_control_rep2/output/VPR_orfcalling_20240307222241_HepG2_control_rep2_found_by_any_caller.csv to data/VPR_orfcalling_20240307222241_HepG2_control_rep2_found_by_any_caller.csv\n"
     ]
    },
    {
     "name": "stderr",
     "output_type": "stream",
     "text": [
      "/tmp/ipykernel_62869/1228207664.py:16: DtypeWarning: Columns (14) have mixed types. Specify dtype option on import or set low_memory=False.\n",
      "  for index, row in pd.read_csv(data_path, sep='\\t').iterrows():\n"
     ]
    },
    {
     "name": "stdout",
     "output_type": "stream",
     "text": [
      "aws s3 cp s3://velia-piperuns-dev/VPR_orfcalling_20240307222241_K562-HiRes-rep1_SRR8449579/output/VPR_orfcalling_20240307222241_K562-HiRes-rep1_SRR8449579_found_by_any_caller.csv ./data/VPR_orfcalling_20240307222241_K562-HiRes-rep1_SRR8449579_found_by_any_caller.csv\n",
      "download: s3://velia-piperuns-dev/VPR_orfcalling_20240307222241_K562-HiRes-rep1_SRR8449579/output/VPR_orfcalling_20240307222241_K562-HiRes-rep1_SRR8449579_found_by_any_caller.csv to data/VPR_orfcalling_20240307222241_K562-HiRes-rep1_SRR8449579_found_by_any_caller.csv\n"
     ]
    },
    {
     "name": "stderr",
     "output_type": "stream",
     "text": [
      "/tmp/ipykernel_62869/1228207664.py:16: DtypeWarning: Columns (14) have mixed types. Specify dtype option on import or set low_memory=False.\n",
      "  for index, row in pd.read_csv(data_path, sep='\\t').iterrows():\n"
     ]
    },
    {
     "name": "stdout",
     "output_type": "stream",
     "text": [
      "aws s3 cp s3://velia-piperuns-dev/VPR_orfcalling_20240307222241_K562-HiRes-rep2_SRR8449580/output/VPR_orfcalling_20240307222241_K562-HiRes-rep2_SRR8449580_found_by_any_caller.csv ./data/VPR_orfcalling_20240307222241_K562-HiRes-rep2_SRR8449580_found_by_any_caller.csv\n",
      "download: s3://velia-piperuns-dev/VPR_orfcalling_20240307222241_K562-HiRes-rep2_SRR8449580/output/VPR_orfcalling_20240307222241_K562-HiRes-rep2_SRR8449580_found_by_any_caller.csv to data/VPR_orfcalling_20240307222241_K562-HiRes-rep2_SRR8449580_found_by_any_caller.csv\n"
     ]
    },
    {
     "name": "stderr",
     "output_type": "stream",
     "text": [
      "/tmp/ipykernel_62869/1228207664.py:16: DtypeWarning: Columns (14) have mixed types. Specify dtype option on import or set low_memory=False.\n",
      "  for index, row in pd.read_csv(data_path, sep='\\t').iterrows():\n"
     ]
    },
    {
     "name": "stdout",
     "output_type": "stream",
     "text": [
      "aws s3 cp s3://velia-piperuns-dev/VPR_orfcalling_20240307222241_K562-HiRes-rep3_SRR8449581/output/VPR_orfcalling_20240307222241_K562-HiRes-rep3_SRR8449581_found_by_any_caller.csv ./data/VPR_orfcalling_20240307222241_K562-HiRes-rep3_SRR8449581_found_by_any_caller.csv\n",
      "download: s3://velia-piperuns-dev/VPR_orfcalling_20240307222241_K562-HiRes-rep3_SRR8449581/output/VPR_orfcalling_20240307222241_K562-HiRes-rep3_SRR8449581_found_by_any_caller.csv to data/VPR_orfcalling_20240307222241_K562-HiRes-rep3_SRR8449581_found_by_any_caller.csv\n"
     ]
    },
    {
     "name": "stderr",
     "output_type": "stream",
     "text": [
      "/tmp/ipykernel_62869/1228207664.py:16: DtypeWarning: Columns (14) have mixed types. Specify dtype option on import or set low_memory=False.\n",
      "  for index, row in pd.read_csv(data_path, sep='\\t').iterrows():\n"
     ]
    },
    {
     "name": "stdout",
     "output_type": "stream",
     "text": [
      "aws s3 cp s3://velia-piperuns-dev/VPR_orfcalling_20240307222241_MCF-7_RPF_2/output/VPR_orfcalling_20240307222241_MCF-7_RPF_2_found_by_any_caller.csv ./data/VPR_orfcalling_20240307222241_MCF-7_RPF_2_found_by_any_caller.csv\n"
     ]
    },
    {
     "name": "stderr",
     "output_type": "stream",
     "text": [
      "fatal error: An error occurred (404) when calling the HeadObject operation: Key \"VPR_orfcalling_20240307222241_MCF-7_RPF_2/output/VPR_orfcalling_20240307222241_MCF-7_RPF_2_found_by_any_caller.csv\" does not exist\n"
     ]
    },
    {
     "name": "stdout",
     "output_type": "stream",
     "text": [
      "aws s3 cp s3://velia-piperuns-dev/VPR_orfcalling_20240307222241_MCF-7_RPF_3/output/VPR_orfcalling_20240307222241_MCF-7_RPF_3_found_by_any_caller.csv ./data/VPR_orfcalling_20240307222241_MCF-7_RPF_3_found_by_any_caller.csv\n",
      "download: s3://velia-piperuns-dev/VPR_orfcalling_20240307222241_MCF-7_RPF_3/output/VPR_orfcalling_20240307222241_MCF-7_RPF_3_found_by_any_caller.csv to data/VPR_orfcalling_20240307222241_MCF-7_RPF_3_found_by_any_caller.csv\n"
     ]
    },
    {
     "name": "stderr",
     "output_type": "stream",
     "text": [
      "/tmp/ipykernel_62869/1228207664.py:16: DtypeWarning: Columns (14) have mixed types. Specify dtype option on import or set low_memory=False.\n",
      "  for index, row in pd.read_csv(data_path, sep='\\t').iterrows():\n"
     ]
    },
    {
     "name": "stdout",
     "output_type": "stream",
     "text": [
      "aws s3 cp s3://velia-piperuns-dev/VPR_orfcalling_20240307222241_MCF-7_RPF_4/output/VPR_orfcalling_20240307222241_MCF-7_RPF_4_found_by_any_caller.csv ./data/VPR_orfcalling_20240307222241_MCF-7_RPF_4_found_by_any_caller.csv\n",
      "download: s3://velia-piperuns-dev/VPR_orfcalling_20240307222241_MCF-7_RPF_4/output/VPR_orfcalling_20240307222241_MCF-7_RPF_4_found_by_any_caller.csv to data/VPR_orfcalling_20240307222241_MCF-7_RPF_4_found_by_any_caller.csv\n"
     ]
    },
    {
     "name": "stderr",
     "output_type": "stream",
     "text": [
      "/tmp/ipykernel_62869/1228207664.py:16: DtypeWarning: Columns (14) have mixed types. Specify dtype option on import or set low_memory=False.\n",
      "  for index, row in pd.read_csv(data_path, sep='\\t').iterrows():\n"
     ]
    },
    {
     "name": "stdout",
     "output_type": "stream",
     "text": [
      "aws s3 cp s3://velia-piperuns-dev/VPR_orfcalling_20240307222241_MCF-7_RPF_5/output/VPR_orfcalling_20240307222241_MCF-7_RPF_5_found_by_any_caller.csv ./data/VPR_orfcalling_20240307222241_MCF-7_RPF_5_found_by_any_caller.csv\n",
      "download: s3://velia-piperuns-dev/VPR_orfcalling_20240307222241_MCF-7_RPF_5/output/VPR_orfcalling_20240307222241_MCF-7_RPF_5_found_by_any_caller.csv to data/VPR_orfcalling_20240307222241_MCF-7_RPF_5_found_by_any_caller.csv\n"
     ]
    },
    {
     "name": "stderr",
     "output_type": "stream",
     "text": [
      "/tmp/ipykernel_62869/1228207664.py:16: DtypeWarning: Columns (14) have mixed types. Specify dtype option on import or set low_memory=False.\n",
      "  for index, row in pd.read_csv(data_path, sep='\\t').iterrows():\n"
     ]
    },
    {
     "name": "stdout",
     "output_type": "stream",
     "text": [
      "aws s3 cp s3://velia-piperuns-dev/VPR_orfcalling_20240307222241_MCF-7_rep6/output/VPR_orfcalling_20240307222241_MCF-7_rep6_found_by_any_caller.csv ./data/VPR_orfcalling_20240307222241_MCF-7_rep6_found_by_any_caller.csv\n",
      "download: s3://velia-piperuns-dev/VPR_orfcalling_20240307222241_MCF-7_rep6/output/VPR_orfcalling_20240307222241_MCF-7_rep6_found_by_any_caller.csv to data/VPR_orfcalling_20240307222241_MCF-7_rep6_found_by_any_caller.csv\n"
     ]
    },
    {
     "name": "stderr",
     "output_type": "stream",
     "text": [
      "/tmp/ipykernel_62869/1228207664.py:16: DtypeWarning: Columns (10,14) have mixed types. Specify dtype option on import or set low_memory=False.\n",
      "  for index, row in pd.read_csv(data_path, sep='\\t').iterrows():\n"
     ]
    },
    {
     "name": "stdout",
     "output_type": "stream",
     "text": [
      "aws s3 cp s3://velia-piperuns-dev/VPR_orfcalling_20240307222241_MCF-7_rep7/output/VPR_orfcalling_20240307222241_MCF-7_rep7_found_by_any_caller.csv ./data/VPR_orfcalling_20240307222241_MCF-7_rep7_found_by_any_caller.csv\n",
      "download: s3://velia-piperuns-dev/VPR_orfcalling_20240307222241_MCF-7_rep7/output/VPR_orfcalling_20240307222241_MCF-7_rep7_found_by_any_caller.csv to data/VPR_orfcalling_20240307222241_MCF-7_rep7_found_by_any_caller.csv\n"
     ]
    },
    {
     "name": "stderr",
     "output_type": "stream",
     "text": [
      "/tmp/ipykernel_62869/1228207664.py:16: DtypeWarning: Columns (10,14) have mixed types. Specify dtype option on import or set low_memory=False.\n",
      "  for index, row in pd.read_csv(data_path, sep='\\t').iterrows():\n"
     ]
    },
    {
     "name": "stdout",
     "output_type": "stream",
     "text": [
      "aws s3 cp s3://velia-piperuns-dev/VPR_orfcalling_20240307222241_MDA-MB-231_RPF_1/output/VPR_orfcalling_20240307222241_MDA-MB-231_RPF_1_found_by_any_caller.csv ./data/VPR_orfcalling_20240307222241_MDA-MB-231_RPF_1_found_by_any_caller.csv\n"
     ]
    },
    {
     "name": "stderr",
     "output_type": "stream",
     "text": [
      "fatal error: An error occurred (404) when calling the HeadObject operation: Key \"VPR_orfcalling_20240307222241_MDA-MB-231_RPF_1/output/VPR_orfcalling_20240307222241_MDA-MB-231_RPF_1_found_by_any_caller.csv\" does not exist\n"
     ]
    },
    {
     "name": "stdout",
     "output_type": "stream",
     "text": [
      "aws s3 cp s3://velia-piperuns-dev/VPR_orfcalling_20240307222241_MDA-MB-231_rep2/output/VPR_orfcalling_20240307222241_MDA-MB-231_rep2_found_by_any_caller.csv ./data/VPR_orfcalling_20240307222241_MDA-MB-231_rep2_found_by_any_caller.csv\n",
      "download: s3://velia-piperuns-dev/VPR_orfcalling_20240307222241_MDA-MB-231_rep2/output/VPR_orfcalling_20240307222241_MDA-MB-231_rep2_found_by_any_caller.csv to data/VPR_orfcalling_20240307222241_MDA-MB-231_rep2_found_by_any_caller.csv\n"
     ]
    },
    {
     "name": "stderr",
     "output_type": "stream",
     "text": [
      "/tmp/ipykernel_62869/1228207664.py:16: DtypeWarning: Columns (10,14) have mixed types. Specify dtype option on import or set low_memory=False.\n",
      "  for index, row in pd.read_csv(data_path, sep='\\t').iterrows():\n"
     ]
    },
    {
     "name": "stdout",
     "output_type": "stream",
     "text": [
      "aws s3 cp s3://velia-piperuns-dev/VPR_orfcalling_20240307222241_MDA-MB-231_rep3/output/VPR_orfcalling_20240307222241_MDA-MB-231_rep3_found_by_any_caller.csv ./data/VPR_orfcalling_20240307222241_MDA-MB-231_rep3_found_by_any_caller.csv\n",
      "download: s3://velia-piperuns-dev/VPR_orfcalling_20240307222241_MDA-MB-231_rep3/output/VPR_orfcalling_20240307222241_MDA-MB-231_rep3_found_by_any_caller.csv to data/VPR_orfcalling_20240307222241_MDA-MB-231_rep3_found_by_any_caller.csv\n"
     ]
    },
    {
     "name": "stderr",
     "output_type": "stream",
     "text": [
      "/tmp/ipykernel_62869/1228207664.py:16: DtypeWarning: Columns (10,14) have mixed types. Specify dtype option on import or set low_memory=False.\n",
      "  for index, row in pd.read_csv(data_path, sep='\\t').iterrows():\n"
     ]
    },
    {
     "name": "stdout",
     "output_type": "stream",
     "text": [
      "aws s3 cp s3://velia-piperuns-dev/VPR_orfcalling_20240307222241_cardiomyocyte-rep1_SRR9113067/output/VPR_orfcalling_20240307222241_cardiomyocyte-rep1_SRR9113067_found_by_any_caller.csv ./data/VPR_orfcalling_20240307222241_cardiomyocyte-rep1_SRR9113067_found_by_any_caller.csv\n",
      "download: s3://velia-piperuns-dev/VPR_orfcalling_20240307222241_cardiomyocyte-rep1_SRR9113067/output/VPR_orfcalling_20240307222241_cardiomyocyte-rep1_SRR9113067_found_by_any_caller.csv to data/VPR_orfcalling_20240307222241_cardiomyocyte-rep1_SRR9113067_found_by_any_caller.csv\n"
     ]
    },
    {
     "name": "stderr",
     "output_type": "stream",
     "text": [
      "/tmp/ipykernel_62869/1228207664.py:16: DtypeWarning: Columns (14) have mixed types. Specify dtype option on import or set low_memory=False.\n",
      "  for index, row in pd.read_csv(data_path, sep='\\t').iterrows():\n"
     ]
    },
    {
     "name": "stdout",
     "output_type": "stream",
     "text": [
      "aws s3 cp s3://velia-piperuns-dev/VPR_orfcalling_20240307222241_cardiomyocyte-rep2_SRR9113068/output/VPR_orfcalling_20240307222241_cardiomyocyte-rep2_SRR9113068_found_by_any_caller.csv ./data/VPR_orfcalling_20240307222241_cardiomyocyte-rep2_SRR9113068_found_by_any_caller.csv\n",
      "download: s3://velia-piperuns-dev/VPR_orfcalling_20240307222241_cardiomyocyte-rep2_SRR9113068/output/VPR_orfcalling_20240307222241_cardiomyocyte-rep2_SRR9113068_found_by_any_caller.csv to data/VPR_orfcalling_20240307222241_cardiomyocyte-rep2_SRR9113068_found_by_any_caller.csv\n"
     ]
    },
    {
     "name": "stderr",
     "output_type": "stream",
     "text": [
      "/tmp/ipykernel_62869/1228207664.py:16: DtypeWarning: Columns (14) have mixed types. Specify dtype option on import or set low_memory=False.\n",
      "  for index, row in pd.read_csv(data_path, sep='\\t').iterrows():\n"
     ]
    },
    {
     "name": "stdout",
     "output_type": "stream",
     "text": [
      "aws s3 cp s3://velia-piperuns-dev/VPR_orfcalling_20240307222241_cardiomyocyte-rep3_SRR9113069/output/VPR_orfcalling_20240307222241_cardiomyocyte-rep3_SRR9113069_found_by_any_caller.csv ./data/VPR_orfcalling_20240307222241_cardiomyocyte-rep3_SRR9113069_found_by_any_caller.csv\n",
      "download: s3://velia-piperuns-dev/VPR_orfcalling_20240307222241_cardiomyocyte-rep3_SRR9113069/output/VPR_orfcalling_20240307222241_cardiomyocyte-rep3_SRR9113069_found_by_any_caller.csv to data/VPR_orfcalling_20240307222241_cardiomyocyte-rep3_SRR9113069_found_by_any_caller.csv\n"
     ]
    },
    {
     "name": "stderr",
     "output_type": "stream",
     "text": [
      "/tmp/ipykernel_62869/1228207664.py:16: DtypeWarning: Columns (14) have mixed types. Specify dtype option on import or set low_memory=False.\n",
      "  for index, row in pd.read_csv(data_path, sep='\\t').iterrows():\n"
     ]
    },
    {
     "name": "stdout",
     "output_type": "stream",
     "text": [
      "aws s3 cp s3://velia-piperuns-dev/VPR_orfcalling_20240307222241_iPSC-rep1_SRR9113064/output/VPR_orfcalling_20240307222241_iPSC-rep1_SRR9113064_found_by_any_caller.csv ./data/VPR_orfcalling_20240307222241_iPSC-rep1_SRR9113064_found_by_any_caller.csv\n",
      "download: s3://velia-piperuns-dev/VPR_orfcalling_20240307222241_iPSC-rep1_SRR9113064/output/VPR_orfcalling_20240307222241_iPSC-rep1_SRR9113064_found_by_any_caller.csv to data/VPR_orfcalling_20240307222241_iPSC-rep1_SRR9113064_found_by_any_caller.csv\n"
     ]
    },
    {
     "name": "stderr",
     "output_type": "stream",
     "text": [
      "/tmp/ipykernel_62869/1228207664.py:16: DtypeWarning: Columns (10,14) have mixed types. Specify dtype option on import or set low_memory=False.\n",
      "  for index, row in pd.read_csv(data_path, sep='\\t').iterrows():\n"
     ]
    },
    {
     "name": "stdout",
     "output_type": "stream",
     "text": [
      "aws s3 cp s3://velia-piperuns-dev/VPR_orfcalling_20240307222241_iPSC-rep2_SRR9113065/output/VPR_orfcalling_20240307222241_iPSC-rep2_SRR9113065_found_by_any_caller.csv ./data/VPR_orfcalling_20240307222241_iPSC-rep2_SRR9113065_found_by_any_caller.csv\n",
      "download: s3://velia-piperuns-dev/VPR_orfcalling_20240307222241_iPSC-rep2_SRR9113065/output/VPR_orfcalling_20240307222241_iPSC-rep2_SRR9113065_found_by_any_caller.csv to data/VPR_orfcalling_20240307222241_iPSC-rep2_SRR9113065_found_by_any_caller.csv\n"
     ]
    },
    {
     "name": "stderr",
     "output_type": "stream",
     "text": [
      "/tmp/ipykernel_62869/1228207664.py:16: DtypeWarning: Columns (10,14) have mixed types. Specify dtype option on import or set low_memory=False.\n",
      "  for index, row in pd.read_csv(data_path, sep='\\t').iterrows():\n"
     ]
    },
    {
     "name": "stdout",
     "output_type": "stream",
     "text": [
      "aws s3 cp s3://velia-piperuns-dev/VPR_orfcalling_20240307222241_iPSC-rep3_SRR9113066/output/VPR_orfcalling_20240307222241_iPSC-rep3_SRR9113066_found_by_any_caller.csv ./data/VPR_orfcalling_20240307222241_iPSC-rep3_SRR9113066_found_by_any_caller.csv\n",
      "download: s3://velia-piperuns-dev/VPR_orfcalling_20240307222241_iPSC-rep3_SRR9113066/output/VPR_orfcalling_20240307222241_iPSC-rep3_SRR9113066_found_by_any_caller.csv to data/VPR_orfcalling_20240307222241_iPSC-rep3_SRR9113066_found_by_any_caller.csv\n"
     ]
    },
    {
     "name": "stderr",
     "output_type": "stream",
     "text": [
      "/tmp/ipykernel_62869/1228207664.py:16: DtypeWarning: Columns (10,14) have mixed types. Specify dtype option on import or set low_memory=False.\n",
      "  for index, row in pd.read_csv(data_path, sep='\\t').iterrows():\n"
     ]
    },
    {
     "name": "stdout",
     "output_type": "stream",
     "text": [
      "aws s3 cp s3://velia-piperuns-dev/VPR_orfcalling_20240308012528_SRX1059898/output/VPR_orfcalling_20240308012528_SRX1059898_found_by_any_caller.csv ./data/VPR_orfcalling_20240308012528_SRX1059898_found_by_any_caller.csv\n"
     ]
    },
    {
     "name": "stderr",
     "output_type": "stream",
     "text": [
      "fatal error: An error occurred (404) when calling the HeadObject operation: Key \"VPR_orfcalling_20240308012528_SRX1059898/output/VPR_orfcalling_20240308012528_SRX1059898_found_by_any_caller.csv\" does not exist\n"
     ]
    },
    {
     "name": "stdout",
     "output_type": "stream",
     "text": [
      "aws s3 cp s3://velia-piperuns-dev/VPR_orfcalling_20240308012528_SRX1059899/output/VPR_orfcalling_20240308012528_SRX1059899_found_by_any_caller.csv ./data/VPR_orfcalling_20240308012528_SRX1059899_found_by_any_caller.csv\n"
     ]
    },
    {
     "name": "stderr",
     "output_type": "stream",
     "text": [
      "fatal error: An error occurred (404) when calling the HeadObject operation: Key \"VPR_orfcalling_20240308012528_SRX1059899/output/VPR_orfcalling_20240308012528_SRX1059899_found_by_any_caller.csv\" does not exist\n"
     ]
    },
    {
     "name": "stdout",
     "output_type": "stream",
     "text": [
      "aws s3 cp s3://velia-piperuns-dev/VPR_orfcalling_20240308012528_SRX1059900/output/VPR_orfcalling_20240308012528_SRX1059900_found_by_any_caller.csv ./data/VPR_orfcalling_20240308012528_SRX1059900_found_by_any_caller.csv\n"
     ]
    },
    {
     "name": "stderr",
     "output_type": "stream",
     "text": [
      "fatal error: An error occurred (404) when calling the HeadObject operation: Key \"VPR_orfcalling_20240308012528_SRX1059900/output/VPR_orfcalling_20240308012528_SRX1059900_found_by_any_caller.csv\" does not exist\n"
     ]
    },
    {
     "name": "stdout",
     "output_type": "stream",
     "text": [
      "aws s3 cp s3://velia-piperuns-dev/VPR_orfcalling_20240308012528_SRX1059901/output/VPR_orfcalling_20240308012528_SRX1059901_found_by_any_caller.csv ./data/VPR_orfcalling_20240308012528_SRX1059901_found_by_any_caller.csv\n"
     ]
    },
    {
     "name": "stderr",
     "output_type": "stream",
     "text": [
      "fatal error: An error occurred (404) when calling the HeadObject operation: Key \"VPR_orfcalling_20240308012528_SRX1059901/output/VPR_orfcalling_20240308012528_SRX1059901_found_by_any_caller.csv\" does not exist\n"
     ]
    },
    {
     "name": "stdout",
     "output_type": "stream",
     "text": [
      "aws s3 cp s3://velia-piperuns-dev/VPR_orfcalling_20240308012528_SRX1059902/output/VPR_orfcalling_20240308012528_SRX1059902_found_by_any_caller.csv ./data/VPR_orfcalling_20240308012528_SRX1059902_found_by_any_caller.csv\n"
     ]
    },
    {
     "name": "stderr",
     "output_type": "stream",
     "text": [
      "fatal error: An error occurred (404) when calling the HeadObject operation: Key \"VPR_orfcalling_20240308012528_SRX1059902/output/VPR_orfcalling_20240308012528_SRX1059902_found_by_any_caller.csv\" does not exist\n"
     ]
    },
    {
     "name": "stdout",
     "output_type": "stream",
     "text": [
      "aws s3 cp s3://velia-piperuns-dev/VPR_orfcalling_20240308012528_SRX1059903/output/VPR_orfcalling_20240308012528_SRX1059903_found_by_any_caller.csv ./data/VPR_orfcalling_20240308012528_SRX1059903_found_by_any_caller.csv\n"
     ]
    },
    {
     "name": "stderr",
     "output_type": "stream",
     "text": [
      "fatal error: An error occurred (404) when calling the HeadObject operation: Key \"VPR_orfcalling_20240308012528_SRX1059903/output/VPR_orfcalling_20240308012528_SRX1059903_found_by_any_caller.csv\" does not exist\n"
     ]
    },
    {
     "name": "stdout",
     "output_type": "stream",
     "text": [
      "aws s3 cp s3://velia-piperuns-dev/VPR_orfcalling_20240308012528_SRX10921846/output/VPR_orfcalling_20240308012528_SRX10921846_found_by_any_caller.csv ./data/VPR_orfcalling_20240308012528_SRX10921846_found_by_any_caller.csv\n",
      "download: s3://velia-piperuns-dev/VPR_orfcalling_20240308012528_SRX10921846/output/VPR_orfcalling_20240308012528_SRX10921846_found_by_any_caller.csv to data/VPR_orfcalling_20240308012528_SRX10921846_found_by_any_caller.csv\n"
     ]
    },
    {
     "name": "stderr",
     "output_type": "stream",
     "text": [
      "/tmp/ipykernel_62869/1228207664.py:16: DtypeWarning: Columns (14) have mixed types. Specify dtype option on import or set low_memory=False.\n",
      "  for index, row in pd.read_csv(data_path, sep='\\t').iterrows():\n"
     ]
    },
    {
     "name": "stdout",
     "output_type": "stream",
     "text": [
      "aws s3 cp s3://velia-piperuns-dev/VPR_orfcalling_20240308012528_SRX10921847/output/VPR_orfcalling_20240308012528_SRX10921847_found_by_any_caller.csv ./data/VPR_orfcalling_20240308012528_SRX10921847_found_by_any_caller.csv\n",
      "download: s3://velia-piperuns-dev/VPR_orfcalling_20240308012528_SRX10921847/output/VPR_orfcalling_20240308012528_SRX10921847_found_by_any_caller.csv to data/VPR_orfcalling_20240308012528_SRX10921847_found_by_any_caller.csv\n"
     ]
    },
    {
     "name": "stderr",
     "output_type": "stream",
     "text": [
      "/tmp/ipykernel_62869/1228207664.py:16: DtypeWarning: Columns (14) have mixed types. Specify dtype option on import or set low_memory=False.\n",
      "  for index, row in pd.read_csv(data_path, sep='\\t').iterrows():\n"
     ]
    },
    {
     "name": "stdout",
     "output_type": "stream",
     "text": [
      "aws s3 cp s3://velia-piperuns-dev/VPR_orfcalling_20240308012528_SRX11811942/output/VPR_orfcalling_20240308012528_SRX11811942_found_by_any_caller.csv ./data/VPR_orfcalling_20240308012528_SRX11811942_found_by_any_caller.csv\n"
     ]
    },
    {
     "name": "stderr",
     "output_type": "stream",
     "text": [
      "fatal error: An error occurred (404) when calling the HeadObject operation: Key \"VPR_orfcalling_20240308012528_SRX11811942/output/VPR_orfcalling_20240308012528_SRX11811942_found_by_any_caller.csv\" does not exist\n"
     ]
    },
    {
     "name": "stdout",
     "output_type": "stream",
     "text": [
      "aws s3 cp s3://velia-piperuns-dev/VPR_orfcalling_20240308012528_SRX11811943/output/VPR_orfcalling_20240308012528_SRX11811943_found_by_any_caller.csv ./data/VPR_orfcalling_20240308012528_SRX11811943_found_by_any_caller.csv\n"
     ]
    },
    {
     "name": "stderr",
     "output_type": "stream",
     "text": [
      "fatal error: An error occurred (404) when calling the HeadObject operation: Key \"VPR_orfcalling_20240308012528_SRX11811943/output/VPR_orfcalling_20240308012528_SRX11811943_found_by_any_caller.csv\" does not exist\n"
     ]
    },
    {
     "name": "stdout",
     "output_type": "stream",
     "text": [
      "aws s3 cp s3://velia-piperuns-dev/VPR_orfcalling_20240308012528_SRX11811944/output/VPR_orfcalling_20240308012528_SRX11811944_found_by_any_caller.csv ./data/VPR_orfcalling_20240308012528_SRX11811944_found_by_any_caller.csv\n"
     ]
    },
    {
     "name": "stderr",
     "output_type": "stream",
     "text": [
      "fatal error: An error occurred (404) when calling the HeadObject operation: Key \"VPR_orfcalling_20240308012528_SRX11811944/output/VPR_orfcalling_20240308012528_SRX11811944_found_by_any_caller.csv\" does not exist\n"
     ]
    },
    {
     "name": "stdout",
     "output_type": "stream",
     "text": [
      "aws s3 cp s3://velia-piperuns-dev/VPR_orfcalling_20240308012528_SRX11811945/output/VPR_orfcalling_20240308012528_SRX11811945_found_by_any_caller.csv ./data/VPR_orfcalling_20240308012528_SRX11811945_found_by_any_caller.csv\n"
     ]
    },
    {
     "name": "stderr",
     "output_type": "stream",
     "text": [
      "fatal error: An error occurred (404) when calling the HeadObject operation: Key \"VPR_orfcalling_20240308012528_SRX11811945/output/VPR_orfcalling_20240308012528_SRX11811945_found_by_any_caller.csv\" does not exist\n"
     ]
    },
    {
     "name": "stdout",
     "output_type": "stream",
     "text": [
      "aws s3 cp s3://velia-piperuns-dev/VPR_orfcalling_20240308012528_SRX11811946/output/VPR_orfcalling_20240308012528_SRX11811946_found_by_any_caller.csv ./data/VPR_orfcalling_20240308012528_SRX11811946_found_by_any_caller.csv\n"
     ]
    },
    {
     "name": "stderr",
     "output_type": "stream",
     "text": [
      "fatal error: An error occurred (404) when calling the HeadObject operation: Key \"VPR_orfcalling_20240308012528_SRX11811946/output/VPR_orfcalling_20240308012528_SRX11811946_found_by_any_caller.csv\" does not exist\n"
     ]
    },
    {
     "name": "stdout",
     "output_type": "stream",
     "text": [
      "aws s3 cp s3://velia-piperuns-dev/VPR_orfcalling_20240308012528_SRX11811947/output/VPR_orfcalling_20240308012528_SRX11811947_found_by_any_caller.csv ./data/VPR_orfcalling_20240308012528_SRX11811947_found_by_any_caller.csv\n"
     ]
    },
    {
     "name": "stderr",
     "output_type": "stream",
     "text": [
      "fatal error: An error occurred (404) when calling the HeadObject operation: Key \"VPR_orfcalling_20240308012528_SRX11811947/output/VPR_orfcalling_20240308012528_SRX11811947_found_by_any_caller.csv\" does not exist\n"
     ]
    },
    {
     "name": "stdout",
     "output_type": "stream",
     "text": [
      "aws s3 cp s3://velia-piperuns-dev/VPR_orfcalling_20240308012528_SRX11811948/output/VPR_orfcalling_20240308012528_SRX11811948_found_by_any_caller.csv ./data/VPR_orfcalling_20240308012528_SRX11811948_found_by_any_caller.csv\n"
     ]
    },
    {
     "name": "stderr",
     "output_type": "stream",
     "text": [
      "fatal error: An error occurred (404) when calling the HeadObject operation: Key \"VPR_orfcalling_20240308012528_SRX11811948/output/VPR_orfcalling_20240308012528_SRX11811948_found_by_any_caller.csv\" does not exist\n"
     ]
    },
    {
     "name": "stdout",
     "output_type": "stream",
     "text": [
      "aws s3 cp s3://velia-piperuns-dev/VPR_orfcalling_20240308012528_SRX11811949/output/VPR_orfcalling_20240308012528_SRX11811949_found_by_any_caller.csv ./data/VPR_orfcalling_20240308012528_SRX11811949_found_by_any_caller.csv\n"
     ]
    },
    {
     "name": "stderr",
     "output_type": "stream",
     "text": [
      "fatal error: An error occurred (404) when calling the HeadObject operation: Key \"VPR_orfcalling_20240308012528_SRX11811949/output/VPR_orfcalling_20240308012528_SRX11811949_found_by_any_caller.csv\" does not exist\n"
     ]
    },
    {
     "name": "stdout",
     "output_type": "stream",
     "text": [
      "aws s3 cp s3://velia-piperuns-dev/VPR_orfcalling_20240308012528_SRX11811950/output/VPR_orfcalling_20240308012528_SRX11811950_found_by_any_caller.csv ./data/VPR_orfcalling_20240308012528_SRX11811950_found_by_any_caller.csv\n"
     ]
    },
    {
     "name": "stderr",
     "output_type": "stream",
     "text": [
      "fatal error: An error occurred (404) when calling the HeadObject operation: Key \"VPR_orfcalling_20240308012528_SRX11811950/output/VPR_orfcalling_20240308012528_SRX11811950_found_by_any_caller.csv\" does not exist\n"
     ]
    },
    {
     "name": "stdout",
     "output_type": "stream",
     "text": [
      "aws s3 cp s3://velia-piperuns-dev/VPR_orfcalling_20240308012528_SRX11811951/output/VPR_orfcalling_20240308012528_SRX11811951_found_by_any_caller.csv ./data/VPR_orfcalling_20240308012528_SRX11811951_found_by_any_caller.csv\n"
     ]
    },
    {
     "name": "stderr",
     "output_type": "stream",
     "text": [
      "fatal error: An error occurred (404) when calling the HeadObject operation: Key \"VPR_orfcalling_20240308012528_SRX11811951/output/VPR_orfcalling_20240308012528_SRX11811951_found_by_any_caller.csv\" does not exist\n"
     ]
    },
    {
     "name": "stdout",
     "output_type": "stream",
     "text": [
      "aws s3 cp s3://velia-piperuns-dev/VPR_orfcalling_20240308012528_SRX11811952/output/VPR_orfcalling_20240308012528_SRX11811952_found_by_any_caller.csv ./data/VPR_orfcalling_20240308012528_SRX11811952_found_by_any_caller.csv\n"
     ]
    },
    {
     "name": "stderr",
     "output_type": "stream",
     "text": [
      "fatal error: An error occurred (404) when calling the HeadObject operation: Key \"VPR_orfcalling_20240308012528_SRX11811952/output/VPR_orfcalling_20240308012528_SRX11811952_found_by_any_caller.csv\" does not exist\n"
     ]
    },
    {
     "name": "stdout",
     "output_type": "stream",
     "text": [
      "aws s3 cp s3://velia-piperuns-dev/VPR_orfcalling_20240308012528_SRX11811953/output/VPR_orfcalling_20240308012528_SRX11811953_found_by_any_caller.csv ./data/VPR_orfcalling_20240308012528_SRX11811953_found_by_any_caller.csv\n"
     ]
    },
    {
     "name": "stderr",
     "output_type": "stream",
     "text": [
      "fatal error: An error occurred (404) when calling the HeadObject operation: Key \"VPR_orfcalling_20240308012528_SRX11811953/output/VPR_orfcalling_20240308012528_SRX11811953_found_by_any_caller.csv\" does not exist\n"
     ]
    },
    {
     "name": "stdout",
     "output_type": "stream",
     "text": [
      "aws s3 cp s3://velia-piperuns-dev/VPR_orfcalling_20240308012528_SRX11811954/output/VPR_orfcalling_20240308012528_SRX11811954_found_by_any_caller.csv ./data/VPR_orfcalling_20240308012528_SRX11811954_found_by_any_caller.csv\n"
     ]
    },
    {
     "name": "stderr",
     "output_type": "stream",
     "text": [
      "fatal error: An error occurred (404) when calling the HeadObject operation: Key \"VPR_orfcalling_20240308012528_SRX11811954/output/VPR_orfcalling_20240308012528_SRX11811954_found_by_any_caller.csv\" does not exist\n"
     ]
    },
    {
     "name": "stdout",
     "output_type": "stream",
     "text": [
      "aws s3 cp s3://velia-piperuns-dev/VPR_orfcalling_20240308012528_SRX11811955/output/VPR_orfcalling_20240308012528_SRX11811955_found_by_any_caller.csv ./data/VPR_orfcalling_20240308012528_SRX11811955_found_by_any_caller.csv\n"
     ]
    },
    {
     "name": "stderr",
     "output_type": "stream",
     "text": [
      "fatal error: An error occurred (404) when calling the HeadObject operation: Key \"VPR_orfcalling_20240308012528_SRX11811955/output/VPR_orfcalling_20240308012528_SRX11811955_found_by_any_caller.csv\" does not exist\n"
     ]
    },
    {
     "name": "stdout",
     "output_type": "stream",
     "text": [
      "aws s3 cp s3://velia-piperuns-dev/VPR_orfcalling_20240308012528_SRX11811956/output/VPR_orfcalling_20240308012528_SRX11811956_found_by_any_caller.csv ./data/VPR_orfcalling_20240308012528_SRX11811956_found_by_any_caller.csv\n"
     ]
    },
    {
     "name": "stderr",
     "output_type": "stream",
     "text": [
      "fatal error: An error occurred (404) when calling the HeadObject operation: Key \"VPR_orfcalling_20240308012528_SRX11811956/output/VPR_orfcalling_20240308012528_SRX11811956_found_by_any_caller.csv\" does not exist\n"
     ]
    },
    {
     "name": "stdout",
     "output_type": "stream",
     "text": [
      "aws s3 cp s3://velia-piperuns-dev/VPR_orfcalling_20240308012528_SRX11811957/output/VPR_orfcalling_20240308012528_SRX11811957_found_by_any_caller.csv ./data/VPR_orfcalling_20240308012528_SRX11811957_found_by_any_caller.csv\n"
     ]
    },
    {
     "name": "stderr",
     "output_type": "stream",
     "text": [
      "fatal error: An error occurred (404) when calling the HeadObject operation: Key \"VPR_orfcalling_20240308012528_SRX11811957/output/VPR_orfcalling_20240308012528_SRX11811957_found_by_any_caller.csv\" does not exist\n"
     ]
    },
    {
     "name": "stdout",
     "output_type": "stream",
     "text": [
      "aws s3 cp s3://velia-piperuns-dev/VPR_orfcalling_20240308012528_SRX11811958/output/VPR_orfcalling_20240308012528_SRX11811958_found_by_any_caller.csv ./data/VPR_orfcalling_20240308012528_SRX11811958_found_by_any_caller.csv\n"
     ]
    },
    {
     "name": "stderr",
     "output_type": "stream",
     "text": [
      "fatal error: An error occurred (404) when calling the HeadObject operation: Key \"VPR_orfcalling_20240308012528_SRX11811958/output/VPR_orfcalling_20240308012528_SRX11811958_found_by_any_caller.csv\" does not exist\n"
     ]
    },
    {
     "name": "stdout",
     "output_type": "stream",
     "text": [
      "aws s3 cp s3://velia-piperuns-dev/VPR_orfcalling_20240308012528_SRX11811959/output/VPR_orfcalling_20240308012528_SRX11811959_found_by_any_caller.csv ./data/VPR_orfcalling_20240308012528_SRX11811959_found_by_any_caller.csv\n",
      "download: s3://velia-piperuns-dev/VPR_orfcalling_20240308012528_SRX11811959/output/VPR_orfcalling_20240308012528_SRX11811959_found_by_any_caller.csv to data/VPR_orfcalling_20240308012528_SRX11811959_found_by_any_caller.csv\n"
     ]
    },
    {
     "name": "stderr",
     "output_type": "stream",
     "text": [
      "/tmp/ipykernel_62869/1228207664.py:16: DtypeWarning: Columns (14) have mixed types. Specify dtype option on import or set low_memory=False.\n",
      "  for index, row in pd.read_csv(data_path, sep='\\t').iterrows():\n"
     ]
    },
    {
     "name": "stdout",
     "output_type": "stream",
     "text": [
      "aws s3 cp s3://velia-piperuns-dev/VPR_orfcalling_20240308012528_SRX11811960/output/VPR_orfcalling_20240308012528_SRX11811960_found_by_any_caller.csv ./data/VPR_orfcalling_20240308012528_SRX11811960_found_by_any_caller.csv\n",
      "download: s3://velia-piperuns-dev/VPR_orfcalling_20240308012528_SRX11811960/output/VPR_orfcalling_20240308012528_SRX11811960_found_by_any_caller.csv to data/VPR_orfcalling_20240308012528_SRX11811960_found_by_any_caller.csv\n"
     ]
    },
    {
     "name": "stderr",
     "output_type": "stream",
     "text": [
      "/tmp/ipykernel_62869/1228207664.py:16: DtypeWarning: Columns (14) have mixed types. Specify dtype option on import or set low_memory=False.\n",
      "  for index, row in pd.read_csv(data_path, sep='\\t').iterrows():\n"
     ]
    },
    {
     "name": "stdout",
     "output_type": "stream",
     "text": [
      "aws s3 cp s3://velia-piperuns-dev/VPR_orfcalling_20240308012528_SRX11811961/output/VPR_orfcalling_20240308012528_SRX11811961_found_by_any_caller.csv ./data/VPR_orfcalling_20240308012528_SRX11811961_found_by_any_caller.csv\n",
      "download: s3://velia-piperuns-dev/VPR_orfcalling_20240308012528_SRX11811961/output/VPR_orfcalling_20240308012528_SRX11811961_found_by_any_caller.csv to data/VPR_orfcalling_20240308012528_SRX11811961_found_by_any_caller.csv\n"
     ]
    },
    {
     "name": "stderr",
     "output_type": "stream",
     "text": [
      "/tmp/ipykernel_62869/1228207664.py:16: DtypeWarning: Columns (14) have mixed types. Specify dtype option on import or set low_memory=False.\n",
      "  for index, row in pd.read_csv(data_path, sep='\\t').iterrows():\n"
     ]
    },
    {
     "name": "stdout",
     "output_type": "stream",
     "text": [
      "aws s3 cp s3://velia-piperuns-dev/VPR_orfcalling_20240308012528_SRX11811962/output/VPR_orfcalling_20240308012528_SRX11811962_found_by_any_caller.csv ./data/VPR_orfcalling_20240308012528_SRX11811962_found_by_any_caller.csv\n",
      "download: s3://velia-piperuns-dev/VPR_orfcalling_20240308012528_SRX11811962/output/VPR_orfcalling_20240308012528_SRX11811962_found_by_any_caller.csv to data/VPR_orfcalling_20240308012528_SRX11811962_found_by_any_caller.csv\n"
     ]
    },
    {
     "name": "stderr",
     "output_type": "stream",
     "text": [
      "/tmp/ipykernel_62869/1228207664.py:16: DtypeWarning: Columns (14) have mixed types. Specify dtype option on import or set low_memory=False.\n",
      "  for index, row in pd.read_csv(data_path, sep='\\t').iterrows():\n"
     ]
    },
    {
     "name": "stdout",
     "output_type": "stream",
     "text": [
      "aws s3 cp s3://velia-piperuns-dev/VPR_orfcalling_20240308012528_SRX11811963/output/VPR_orfcalling_20240308012528_SRX11811963_found_by_any_caller.csv ./data/VPR_orfcalling_20240308012528_SRX11811963_found_by_any_caller.csv\n",
      "download: s3://velia-piperuns-dev/VPR_orfcalling_20240308012528_SRX11811963/output/VPR_orfcalling_20240308012528_SRX11811963_found_by_any_caller.csv to data/VPR_orfcalling_20240308012528_SRX11811963_found_by_any_caller.csv\n"
     ]
    },
    {
     "name": "stderr",
     "output_type": "stream",
     "text": [
      "/tmp/ipykernel_62869/1228207664.py:16: DtypeWarning: Columns (14) have mixed types. Specify dtype option on import or set low_memory=False.\n",
      "  for index, row in pd.read_csv(data_path, sep='\\t').iterrows():\n"
     ]
    },
    {
     "name": "stdout",
     "output_type": "stream",
     "text": [
      "aws s3 cp s3://velia-piperuns-dev/VPR_orfcalling_20240308012528_SRX11811964/output/VPR_orfcalling_20240308012528_SRX11811964_found_by_any_caller.csv ./data/VPR_orfcalling_20240308012528_SRX11811964_found_by_any_caller.csv\n"
     ]
    },
    {
     "name": "stderr",
     "output_type": "stream",
     "text": [
      "fatal error: An error occurred (404) when calling the HeadObject operation: Key \"VPR_orfcalling_20240308012528_SRX11811964/output/VPR_orfcalling_20240308012528_SRX11811964_found_by_any_caller.csv\" does not exist\n"
     ]
    },
    {
     "name": "stdout",
     "output_type": "stream",
     "text": [
      "aws s3 cp s3://velia-piperuns-dev/VPR_orfcalling_20240308012528_SRX11811965/output/VPR_orfcalling_20240308012528_SRX11811965_found_by_any_caller.csv ./data/VPR_orfcalling_20240308012528_SRX11811965_found_by_any_caller.csv\n"
     ]
    },
    {
     "name": "stderr",
     "output_type": "stream",
     "text": [
      "fatal error: An error occurred (404) when calling the HeadObject operation: Key \"VPR_orfcalling_20240308012528_SRX11811965/output/VPR_orfcalling_20240308012528_SRX11811965_found_by_any_caller.csv\" does not exist\n"
     ]
    },
    {
     "name": "stdout",
     "output_type": "stream",
     "text": [
      "aws s3 cp s3://velia-piperuns-dev/VPR_orfcalling_20240308012528_SRX11811966/output/VPR_orfcalling_20240308012528_SRX11811966_found_by_any_caller.csv ./data/VPR_orfcalling_20240308012528_SRX11811966_found_by_any_caller.csv\n"
     ]
    },
    {
     "name": "stderr",
     "output_type": "stream",
     "text": [
      "fatal error: An error occurred (404) when calling the HeadObject operation: Key \"VPR_orfcalling_20240308012528_SRX11811966/output/VPR_orfcalling_20240308012528_SRX11811966_found_by_any_caller.csv\" does not exist\n"
     ]
    },
    {
     "name": "stdout",
     "output_type": "stream",
     "text": [
      "aws s3 cp s3://velia-piperuns-dev/VPR_orfcalling_20240308012528_SRX11811967/output/VPR_orfcalling_20240308012528_SRX11811967_found_by_any_caller.csv ./data/VPR_orfcalling_20240308012528_SRX11811967_found_by_any_caller.csv\n"
     ]
    },
    {
     "name": "stderr",
     "output_type": "stream",
     "text": [
      "fatal error: An error occurred (404) when calling the HeadObject operation: Key \"VPR_orfcalling_20240308012528_SRX11811967/output/VPR_orfcalling_20240308012528_SRX11811967_found_by_any_caller.csv\" does not exist\n"
     ]
    },
    {
     "name": "stdout",
     "output_type": "stream",
     "text": [
      "aws s3 cp s3://velia-piperuns-dev/VPR_orfcalling_20240308012528_SRX11811968/output/VPR_orfcalling_20240308012528_SRX11811968_found_by_any_caller.csv ./data/VPR_orfcalling_20240308012528_SRX11811968_found_by_any_caller.csv\n",
      "download: s3://velia-piperuns-dev/VPR_orfcalling_20240308012528_SRX11811968/output/VPR_orfcalling_20240308012528_SRX11811968_found_by_any_caller.csv to data/VPR_orfcalling_20240308012528_SRX11811968_found_by_any_caller.csv\n"
     ]
    },
    {
     "name": "stderr",
     "output_type": "stream",
     "text": [
      "/tmp/ipykernel_62869/1228207664.py:16: DtypeWarning: Columns (14) have mixed types. Specify dtype option on import or set low_memory=False.\n",
      "  for index, row in pd.read_csv(data_path, sep='\\t').iterrows():\n"
     ]
    },
    {
     "name": "stdout",
     "output_type": "stream",
     "text": [
      "aws s3 cp s3://velia-piperuns-dev/VPR_orfcalling_20240308012528_SRX11811969/output/VPR_orfcalling_20240308012528_SRX11811969_found_by_any_caller.csv ./data/VPR_orfcalling_20240308012528_SRX11811969_found_by_any_caller.csv\n",
      "download: s3://velia-piperuns-dev/VPR_orfcalling_20240308012528_SRX11811969/output/VPR_orfcalling_20240308012528_SRX11811969_found_by_any_caller.csv to data/VPR_orfcalling_20240308012528_SRX11811969_found_by_any_caller.csv\n"
     ]
    },
    {
     "name": "stderr",
     "output_type": "stream",
     "text": [
      "/tmp/ipykernel_62869/1228207664.py:16: DtypeWarning: Columns (14) have mixed types. Specify dtype option on import or set low_memory=False.\n",
      "  for index, row in pd.read_csv(data_path, sep='\\t').iterrows():\n"
     ]
    },
    {
     "name": "stdout",
     "output_type": "stream",
     "text": [
      "aws s3 cp s3://velia-piperuns-dev/VPR_orfcalling_20240308012528_SRX11811970/output/VPR_orfcalling_20240308012528_SRX11811970_found_by_any_caller.csv ./data/VPR_orfcalling_20240308012528_SRX11811970_found_by_any_caller.csv\n",
      "download: s3://velia-piperuns-dev/VPR_orfcalling_20240308012528_SRX11811970/output/VPR_orfcalling_20240308012528_SRX11811970_found_by_any_caller.csv to data/VPR_orfcalling_20240308012528_SRX11811970_found_by_any_caller.csv\n"
     ]
    },
    {
     "name": "stderr",
     "output_type": "stream",
     "text": [
      "/tmp/ipykernel_62869/1228207664.py:16: DtypeWarning: Columns (14) have mixed types. Specify dtype option on import or set low_memory=False.\n",
      "  for index, row in pd.read_csv(data_path, sep='\\t').iterrows():\n"
     ]
    },
    {
     "name": "stdout",
     "output_type": "stream",
     "text": [
      "aws s3 cp s3://velia-piperuns-dev/VPR_orfcalling_20240308012528_SRX11811971/output/VPR_orfcalling_20240308012528_SRX11811971_found_by_any_caller.csv ./data/VPR_orfcalling_20240308012528_SRX11811971_found_by_any_caller.csv\n",
      "download: s3://velia-piperuns-dev/VPR_orfcalling_20240308012528_SRX11811971/output/VPR_orfcalling_20240308012528_SRX11811971_found_by_any_caller.csv to data/VPR_orfcalling_20240308012528_SRX11811971_found_by_any_caller.csv\n"
     ]
    },
    {
     "name": "stderr",
     "output_type": "stream",
     "text": [
      "/tmp/ipykernel_62869/1228207664.py:16: DtypeWarning: Columns (14) have mixed types. Specify dtype option on import or set low_memory=False.\n",
      "  for index, row in pd.read_csv(data_path, sep='\\t').iterrows():\n"
     ]
    },
    {
     "name": "stdout",
     "output_type": "stream",
     "text": [
      "aws s3 cp s3://velia-piperuns-dev/VPR_orfcalling_20240308012528_SRX11811972/output/VPR_orfcalling_20240308012528_SRX11811972_found_by_any_caller.csv ./data/VPR_orfcalling_20240308012528_SRX11811972_found_by_any_caller.csv\n",
      "download: s3://velia-piperuns-dev/VPR_orfcalling_20240308012528_SRX11811972/output/VPR_orfcalling_20240308012528_SRX11811972_found_by_any_caller.csv to data/VPR_orfcalling_20240308012528_SRX11811972_found_by_any_caller.csv\n"
     ]
    },
    {
     "name": "stderr",
     "output_type": "stream",
     "text": [
      "/tmp/ipykernel_62869/1228207664.py:16: DtypeWarning: Columns (14) have mixed types. Specify dtype option on import or set low_memory=False.\n",
      "  for index, row in pd.read_csv(data_path, sep='\\t').iterrows():\n"
     ]
    },
    {
     "name": "stdout",
     "output_type": "stream",
     "text": [
      "aws s3 cp s3://velia-piperuns-dev/VPR_orfcalling_20240308012528_SRX11811973/output/VPR_orfcalling_20240308012528_SRX11811973_found_by_any_caller.csv ./data/VPR_orfcalling_20240308012528_SRX11811973_found_by_any_caller.csv\n",
      "download: s3://velia-piperuns-dev/VPR_orfcalling_20240308012528_SRX11811973/output/VPR_orfcalling_20240308012528_SRX11811973_found_by_any_caller.csv to data/VPR_orfcalling_20240308012528_SRX11811973_found_by_any_caller.csv\n"
     ]
    },
    {
     "name": "stderr",
     "output_type": "stream",
     "text": [
      "/tmp/ipykernel_62869/1228207664.py:16: DtypeWarning: Columns (14) have mixed types. Specify dtype option on import or set low_memory=False.\n",
      "  for index, row in pd.read_csv(data_path, sep='\\t').iterrows():\n"
     ]
    },
    {
     "name": "stdout",
     "output_type": "stream",
     "text": [
      "aws s3 cp s3://velia-piperuns-dev/VPR_orfcalling_20240308012528_SRX11811974/output/VPR_orfcalling_20240308012528_SRX11811974_found_by_any_caller.csv ./data/VPR_orfcalling_20240308012528_SRX11811974_found_by_any_caller.csv\n"
     ]
    },
    {
     "name": "stderr",
     "output_type": "stream",
     "text": [
      "fatal error: An error occurred (404) when calling the HeadObject operation: Key \"VPR_orfcalling_20240308012528_SRX11811974/output/VPR_orfcalling_20240308012528_SRX11811974_found_by_any_caller.csv\" does not exist\n"
     ]
    },
    {
     "name": "stdout",
     "output_type": "stream",
     "text": [
      "aws s3 cp s3://velia-piperuns-dev/VPR_orfcalling_20240308012528_SRX11811975/output/VPR_orfcalling_20240308012528_SRX11811975_found_by_any_caller.csv ./data/VPR_orfcalling_20240308012528_SRX11811975_found_by_any_caller.csv\n",
      "download: s3://velia-piperuns-dev/VPR_orfcalling_20240308012528_SRX11811975/output/VPR_orfcalling_20240308012528_SRX11811975_found_by_any_caller.csv to data/VPR_orfcalling_20240308012528_SRX11811975_found_by_any_caller.csv\n"
     ]
    },
    {
     "name": "stderr",
     "output_type": "stream",
     "text": [
      "/tmp/ipykernel_62869/1228207664.py:16: DtypeWarning: Columns (14) have mixed types. Specify dtype option on import or set low_memory=False.\n",
      "  for index, row in pd.read_csv(data_path, sep='\\t').iterrows():\n"
     ]
    },
    {
     "name": "stdout",
     "output_type": "stream",
     "text": [
      "aws s3 cp s3://velia-piperuns-dev/VPR_orfcalling_20240308012528_SRX11811976/output/VPR_orfcalling_20240308012528_SRX11811976_found_by_any_caller.csv ./data/VPR_orfcalling_20240308012528_SRX11811976_found_by_any_caller.csv\n"
     ]
    },
    {
     "name": "stderr",
     "output_type": "stream",
     "text": [
      "fatal error: An error occurred (404) when calling the HeadObject operation: Key \"VPR_orfcalling_20240308012528_SRX11811976/output/VPR_orfcalling_20240308012528_SRX11811976_found_by_any_caller.csv\" does not exist\n"
     ]
    },
    {
     "name": "stdout",
     "output_type": "stream",
     "text": [
      "aws s3 cp s3://velia-piperuns-dev/VPR_orfcalling_20240308012528_SRX11811977/output/VPR_orfcalling_20240308012528_SRX11811977_found_by_any_caller.csv ./data/VPR_orfcalling_20240308012528_SRX11811977_found_by_any_caller.csv\n",
      "download: s3://velia-piperuns-dev/VPR_orfcalling_20240308012528_SRX11811977/output/VPR_orfcalling_20240308012528_SRX11811977_found_by_any_caller.csv to data/VPR_orfcalling_20240308012528_SRX11811977_found_by_any_caller.csv\n"
     ]
    },
    {
     "name": "stderr",
     "output_type": "stream",
     "text": [
      "/tmp/ipykernel_62869/1228207664.py:16: DtypeWarning: Columns (14) have mixed types. Specify dtype option on import or set low_memory=False.\n",
      "  for index, row in pd.read_csv(data_path, sep='\\t').iterrows():\n"
     ]
    },
    {
     "name": "stdout",
     "output_type": "stream",
     "text": [
      "aws s3 cp s3://velia-piperuns-dev/VPR_orfcalling_20240308012528_SRX11811978/output/VPR_orfcalling_20240308012528_SRX11811978_found_by_any_caller.csv ./data/VPR_orfcalling_20240308012528_SRX11811978_found_by_any_caller.csv\n",
      "download: s3://velia-piperuns-dev/VPR_orfcalling_20240308012528_SRX11811978/output/VPR_orfcalling_20240308012528_SRX11811978_found_by_any_caller.csv to data/VPR_orfcalling_20240308012528_SRX11811978_found_by_any_caller.csv\n"
     ]
    },
    {
     "name": "stderr",
     "output_type": "stream",
     "text": [
      "/tmp/ipykernel_62869/1228207664.py:16: DtypeWarning: Columns (14) have mixed types. Specify dtype option on import or set low_memory=False.\n",
      "  for index, row in pd.read_csv(data_path, sep='\\t').iterrows():\n"
     ]
    },
    {
     "name": "stdout",
     "output_type": "stream",
     "text": [
      "aws s3 cp s3://velia-piperuns-dev/VPR_orfcalling_20240308012528_SRX11811979/output/VPR_orfcalling_20240308012528_SRX11811979_found_by_any_caller.csv ./data/VPR_orfcalling_20240308012528_SRX11811979_found_by_any_caller.csv\n",
      "download: s3://velia-piperuns-dev/VPR_orfcalling_20240308012528_SRX11811979/output/VPR_orfcalling_20240308012528_SRX11811979_found_by_any_caller.csv to data/VPR_orfcalling_20240308012528_SRX11811979_found_by_any_caller.csv\n"
     ]
    },
    {
     "name": "stderr",
     "output_type": "stream",
     "text": [
      "/tmp/ipykernel_62869/1228207664.py:16: DtypeWarning: Columns (14) have mixed types. Specify dtype option on import or set low_memory=False.\n",
      "  for index, row in pd.read_csv(data_path, sep='\\t').iterrows():\n"
     ]
    },
    {
     "name": "stdout",
     "output_type": "stream",
     "text": [
      "aws s3 cp s3://velia-piperuns-dev/VPR_orfcalling_20240308012528_SRX11811980/output/VPR_orfcalling_20240308012528_SRX11811980_found_by_any_caller.csv ./data/VPR_orfcalling_20240308012528_SRX11811980_found_by_any_caller.csv\n",
      "download: s3://velia-piperuns-dev/VPR_orfcalling_20240308012528_SRX11811980/output/VPR_orfcalling_20240308012528_SRX11811980_found_by_any_caller.csv to data/VPR_orfcalling_20240308012528_SRX11811980_found_by_any_caller.csv\n"
     ]
    },
    {
     "name": "stderr",
     "output_type": "stream",
     "text": [
      "/tmp/ipykernel_62869/1228207664.py:16: DtypeWarning: Columns (14) have mixed types. Specify dtype option on import or set low_memory=False.\n",
      "  for index, row in pd.read_csv(data_path, sep='\\t').iterrows():\n"
     ]
    },
    {
     "name": "stdout",
     "output_type": "stream",
     "text": [
      "aws s3 cp s3://velia-piperuns-dev/VPR_orfcalling_20240308012528_SRX11811981/output/VPR_orfcalling_20240308012528_SRX11811981_found_by_any_caller.csv ./data/VPR_orfcalling_20240308012528_SRX11811981_found_by_any_caller.csv\n",
      "download: s3://velia-piperuns-dev/VPR_orfcalling_20240308012528_SRX11811981/output/VPR_orfcalling_20240308012528_SRX11811981_found_by_any_caller.csv to data/VPR_orfcalling_20240308012528_SRX11811981_found_by_any_caller.csv\n"
     ]
    },
    {
     "name": "stderr",
     "output_type": "stream",
     "text": [
      "/tmp/ipykernel_62869/1228207664.py:16: DtypeWarning: Columns (14) have mixed types. Specify dtype option on import or set low_memory=False.\n",
      "  for index, row in pd.read_csv(data_path, sep='\\t').iterrows():\n"
     ]
    },
    {
     "name": "stdout",
     "output_type": "stream",
     "text": [
      "aws s3 cp s3://velia-piperuns-dev/VPR_orfcalling_20240308012528_SRX11811982/output/VPR_orfcalling_20240308012528_SRX11811982_found_by_any_caller.csv ./data/VPR_orfcalling_20240308012528_SRX11811982_found_by_any_caller.csv\n",
      "download: s3://velia-piperuns-dev/VPR_orfcalling_20240308012528_SRX11811982/output/VPR_orfcalling_20240308012528_SRX11811982_found_by_any_caller.csv to data/VPR_orfcalling_20240308012528_SRX11811982_found_by_any_caller.csv\n"
     ]
    },
    {
     "name": "stderr",
     "output_type": "stream",
     "text": [
      "/tmp/ipykernel_62869/1228207664.py:16: DtypeWarning: Columns (14) have mixed types. Specify dtype option on import or set low_memory=False.\n",
      "  for index, row in pd.read_csv(data_path, sep='\\t').iterrows():\n"
     ]
    },
    {
     "name": "stdout",
     "output_type": "stream",
     "text": [
      "aws s3 cp s3://velia-piperuns-dev/VPR_orfcalling_20240308012528_SRX11811983/output/VPR_orfcalling_20240308012528_SRX11811983_found_by_any_caller.csv ./data/VPR_orfcalling_20240308012528_SRX11811983_found_by_any_caller.csv\n",
      "download: s3://velia-piperuns-dev/VPR_orfcalling_20240308012528_SRX11811983/output/VPR_orfcalling_20240308012528_SRX11811983_found_by_any_caller.csv to data/VPR_orfcalling_20240308012528_SRX11811983_found_by_any_caller.csv\n"
     ]
    },
    {
     "name": "stderr",
     "output_type": "stream",
     "text": [
      "/tmp/ipykernel_62869/1228207664.py:16: DtypeWarning: Columns (14) have mixed types. Specify dtype option on import or set low_memory=False.\n",
      "  for index, row in pd.read_csv(data_path, sep='\\t').iterrows():\n"
     ]
    },
    {
     "name": "stdout",
     "output_type": "stream",
     "text": [
      "aws s3 cp s3://velia-piperuns-dev/VPR_orfcalling_20240308012528_SRX11811984/output/VPR_orfcalling_20240308012528_SRX11811984_found_by_any_caller.csv ./data/VPR_orfcalling_20240308012528_SRX11811984_found_by_any_caller.csv\n",
      "download: s3://velia-piperuns-dev/VPR_orfcalling_20240308012528_SRX11811984/output/VPR_orfcalling_20240308012528_SRX11811984_found_by_any_caller.csv to data/VPR_orfcalling_20240308012528_SRX11811984_found_by_any_caller.csv\n"
     ]
    },
    {
     "name": "stderr",
     "output_type": "stream",
     "text": [
      "/tmp/ipykernel_62869/1228207664.py:16: DtypeWarning: Columns (14) have mixed types. Specify dtype option on import or set low_memory=False.\n",
      "  for index, row in pd.read_csv(data_path, sep='\\t').iterrows():\n"
     ]
    },
    {
     "name": "stdout",
     "output_type": "stream",
     "text": [
      "aws s3 cp s3://velia-piperuns-dev/VPR_orfcalling_20240308012528_SRX11811985/output/VPR_orfcalling_20240308012528_SRX11811985_found_by_any_caller.csv ./data/VPR_orfcalling_20240308012528_SRX11811985_found_by_any_caller.csv\n"
     ]
    },
    {
     "name": "stderr",
     "output_type": "stream",
     "text": [
      "fatal error: An error occurred (404) when calling the HeadObject operation: Key \"VPR_orfcalling_20240308012528_SRX11811985/output/VPR_orfcalling_20240308012528_SRX11811985_found_by_any_caller.csv\" does not exist\n"
     ]
    },
    {
     "name": "stdout",
     "output_type": "stream",
     "text": [
      "aws s3 cp s3://velia-piperuns-dev/VPR_orfcalling_20240308012528_SRX11811986/output/VPR_orfcalling_20240308012528_SRX11811986_found_by_any_caller.csv ./data/VPR_orfcalling_20240308012528_SRX11811986_found_by_any_caller.csv\n"
     ]
    },
    {
     "name": "stderr",
     "output_type": "stream",
     "text": [
      "fatal error: An error occurred (404) when calling the HeadObject operation: Key \"VPR_orfcalling_20240308012528_SRX11811986/output/VPR_orfcalling_20240308012528_SRX11811986_found_by_any_caller.csv\" does not exist\n"
     ]
    },
    {
     "name": "stdout",
     "output_type": "stream",
     "text": [
      "aws s3 cp s3://velia-piperuns-dev/VPR_orfcalling_20240308012528_SRX11811987/output/VPR_orfcalling_20240308012528_SRX11811987_found_by_any_caller.csv ./data/VPR_orfcalling_20240308012528_SRX11811987_found_by_any_caller.csv\n"
     ]
    },
    {
     "name": "stderr",
     "output_type": "stream",
     "text": [
      "fatal error: An error occurred (404) when calling the HeadObject operation: Key \"VPR_orfcalling_20240308012528_SRX11811987/output/VPR_orfcalling_20240308012528_SRX11811987_found_by_any_caller.csv\" does not exist\n"
     ]
    },
    {
     "name": "stdout",
     "output_type": "stream",
     "text": [
      "aws s3 cp s3://velia-piperuns-dev/VPR_orfcalling_20240308012528_SRX11811988/output/VPR_orfcalling_20240308012528_SRX11811988_found_by_any_caller.csv ./data/VPR_orfcalling_20240308012528_SRX11811988_found_by_any_caller.csv\n"
     ]
    },
    {
     "name": "stderr",
     "output_type": "stream",
     "text": [
      "fatal error: An error occurred (404) when calling the HeadObject operation: Key \"VPR_orfcalling_20240308012528_SRX11811988/output/VPR_orfcalling_20240308012528_SRX11811988_found_by_any_caller.csv\" does not exist\n"
     ]
    },
    {
     "name": "stdout",
     "output_type": "stream",
     "text": [
      "aws s3 cp s3://velia-piperuns-dev/VPR_orfcalling_20240308012528_SRX11811989/output/VPR_orfcalling_20240308012528_SRX11811989_found_by_any_caller.csv ./data/VPR_orfcalling_20240308012528_SRX11811989_found_by_any_caller.csv\n"
     ]
    },
    {
     "name": "stderr",
     "output_type": "stream",
     "text": [
      "fatal error: An error occurred (404) when calling the HeadObject operation: Key \"VPR_orfcalling_20240308012528_SRX11811989/output/VPR_orfcalling_20240308012528_SRX11811989_found_by_any_caller.csv\" does not exist\n"
     ]
    },
    {
     "name": "stdout",
     "output_type": "stream",
     "text": [
      "aws s3 cp s3://velia-piperuns-dev/VPR_orfcalling_20240308012528_SRX11811990/output/VPR_orfcalling_20240308012528_SRX11811990_found_by_any_caller.csv ./data/VPR_orfcalling_20240308012528_SRX11811990_found_by_any_caller.csv\n"
     ]
    },
    {
     "name": "stderr",
     "output_type": "stream",
     "text": [
      "fatal error: An error occurred (404) when calling the HeadObject operation: Key \"VPR_orfcalling_20240308012528_SRX11811990/output/VPR_orfcalling_20240308012528_SRX11811990_found_by_any_caller.csv\" does not exist\n"
     ]
    },
    {
     "name": "stdout",
     "output_type": "stream",
     "text": [
      "aws s3 cp s3://velia-piperuns-dev/VPR_orfcalling_20240308012528_SRX11811991/output/VPR_orfcalling_20240308012528_SRX11811991_found_by_any_caller.csv ./data/VPR_orfcalling_20240308012528_SRX11811991_found_by_any_caller.csv\n"
     ]
    },
    {
     "name": "stderr",
     "output_type": "stream",
     "text": [
      "fatal error: An error occurred (404) when calling the HeadObject operation: Key \"VPR_orfcalling_20240308012528_SRX11811991/output/VPR_orfcalling_20240308012528_SRX11811991_found_by_any_caller.csv\" does not exist\n"
     ]
    },
    {
     "name": "stdout",
     "output_type": "stream",
     "text": [
      "aws s3 cp s3://velia-piperuns-dev/VPR_orfcalling_20240308012528_SRX11811992/output/VPR_orfcalling_20240308012528_SRX11811992_found_by_any_caller.csv ./data/VPR_orfcalling_20240308012528_SRX11811992_found_by_any_caller.csv\n"
     ]
    },
    {
     "name": "stderr",
     "output_type": "stream",
     "text": [
      "fatal error: An error occurred (404) when calling the HeadObject operation: Key \"VPR_orfcalling_20240308012528_SRX11811992/output/VPR_orfcalling_20240308012528_SRX11811992_found_by_any_caller.csv\" does not exist\n"
     ]
    },
    {
     "name": "stdout",
     "output_type": "stream",
     "text": [
      "aws s3 cp s3://velia-piperuns-dev/VPR_orfcalling_20240308012528_SRX11811993/output/VPR_orfcalling_20240308012528_SRX11811993_found_by_any_caller.csv ./data/VPR_orfcalling_20240308012528_SRX11811993_found_by_any_caller.csv\n"
     ]
    },
    {
     "name": "stderr",
     "output_type": "stream",
     "text": [
      "fatal error: An error occurred (404) when calling the HeadObject operation: Key \"VPR_orfcalling_20240308012528_SRX11811993/output/VPR_orfcalling_20240308012528_SRX11811993_found_by_any_caller.csv\" does not exist\n"
     ]
    },
    {
     "name": "stdout",
     "output_type": "stream",
     "text": [
      "aws s3 cp s3://velia-piperuns-dev/VPR_orfcalling_20240308012528_SRX11811994/output/VPR_orfcalling_20240308012528_SRX11811994_found_by_any_caller.csv ./data/VPR_orfcalling_20240308012528_SRX11811994_found_by_any_caller.csv\n"
     ]
    },
    {
     "name": "stderr",
     "output_type": "stream",
     "text": [
      "fatal error: An error occurred (404) when calling the HeadObject operation: Key \"VPR_orfcalling_20240308012528_SRX11811994/output/VPR_orfcalling_20240308012528_SRX11811994_found_by_any_caller.csv\" does not exist\n"
     ]
    },
    {
     "name": "stdout",
     "output_type": "stream",
     "text": [
      "aws s3 cp s3://velia-piperuns-dev/VPR_orfcalling_20240308012528_SRX11811995/output/VPR_orfcalling_20240308012528_SRX11811995_found_by_any_caller.csv ./data/VPR_orfcalling_20240308012528_SRX11811995_found_by_any_caller.csv\n"
     ]
    },
    {
     "name": "stderr",
     "output_type": "stream",
     "text": [
      "fatal error: An error occurred (404) when calling the HeadObject operation: Key \"VPR_orfcalling_20240308012528_SRX11811995/output/VPR_orfcalling_20240308012528_SRX11811995_found_by_any_caller.csv\" does not exist\n"
     ]
    },
    {
     "name": "stdout",
     "output_type": "stream",
     "text": [
      "aws s3 cp s3://velia-piperuns-dev/VPR_orfcalling_20240308012528_SRX11811996/output/VPR_orfcalling_20240308012528_SRX11811996_found_by_any_caller.csv ./data/VPR_orfcalling_20240308012528_SRX11811996_found_by_any_caller.csv\n"
     ]
    },
    {
     "name": "stderr",
     "output_type": "stream",
     "text": [
      "fatal error: An error occurred (404) when calling the HeadObject operation: Key \"VPR_orfcalling_20240308012528_SRX11811996/output/VPR_orfcalling_20240308012528_SRX11811996_found_by_any_caller.csv\" does not exist\n"
     ]
    },
    {
     "name": "stdout",
     "output_type": "stream",
     "text": [
      "aws s3 cp s3://velia-piperuns-dev/VPR_orfcalling_20240308012528_SRX11811997/output/VPR_orfcalling_20240308012528_SRX11811997_found_by_any_caller.csv ./data/VPR_orfcalling_20240308012528_SRX11811997_found_by_any_caller.csv\n"
     ]
    },
    {
     "name": "stderr",
     "output_type": "stream",
     "text": [
      "fatal error: An error occurred (404) when calling the HeadObject operation: Key \"VPR_orfcalling_20240308012528_SRX11811997/output/VPR_orfcalling_20240308012528_SRX11811997_found_by_any_caller.csv\" does not exist\n"
     ]
    },
    {
     "name": "stdout",
     "output_type": "stream",
     "text": [
      "aws s3 cp s3://velia-piperuns-dev/VPR_orfcalling_20240308012528_SRX11811998/output/VPR_orfcalling_20240308012528_SRX11811998_found_by_any_caller.csv ./data/VPR_orfcalling_20240308012528_SRX11811998_found_by_any_caller.csv\n"
     ]
    },
    {
     "name": "stderr",
     "output_type": "stream",
     "text": [
      "fatal error: An error occurred (404) when calling the HeadObject operation: Key \"VPR_orfcalling_20240308012528_SRX11811998/output/VPR_orfcalling_20240308012528_SRX11811998_found_by_any_caller.csv\" does not exist\n"
     ]
    },
    {
     "name": "stdout",
     "output_type": "stream",
     "text": [
      "aws s3 cp s3://velia-piperuns-dev/VPR_orfcalling_20240308012528_SRX11811999/output/VPR_orfcalling_20240308012528_SRX11811999_found_by_any_caller.csv ./data/VPR_orfcalling_20240308012528_SRX11811999_found_by_any_caller.csv\n"
     ]
    },
    {
     "name": "stderr",
     "output_type": "stream",
     "text": [
      "fatal error: An error occurred (404) when calling the HeadObject operation: Key \"VPR_orfcalling_20240308012528_SRX11811999/output/VPR_orfcalling_20240308012528_SRX11811999_found_by_any_caller.csv\" does not exist\n"
     ]
    },
    {
     "name": "stdout",
     "output_type": "stream",
     "text": [
      "aws s3 cp s3://velia-piperuns-dev/VPR_orfcalling_20240308012528_SRX11812000/output/VPR_orfcalling_20240308012528_SRX11812000_found_by_any_caller.csv ./data/VPR_orfcalling_20240308012528_SRX11812000_found_by_any_caller.csv\n"
     ]
    },
    {
     "name": "stderr",
     "output_type": "stream",
     "text": [
      "fatal error: An error occurred (404) when calling the HeadObject operation: Key \"VPR_orfcalling_20240308012528_SRX11812000/output/VPR_orfcalling_20240308012528_SRX11812000_found_by_any_caller.csv\" does not exist\n"
     ]
    },
    {
     "name": "stdout",
     "output_type": "stream",
     "text": [
      "aws s3 cp s3://velia-piperuns-dev/VPR_orfcalling_20240308012528_SRX11812001/output/VPR_orfcalling_20240308012528_SRX11812001_found_by_any_caller.csv ./data/VPR_orfcalling_20240308012528_SRX11812001_found_by_any_caller.csv\n"
     ]
    },
    {
     "name": "stderr",
     "output_type": "stream",
     "text": [
      "fatal error: An error occurred (404) when calling the HeadObject operation: Key \"VPR_orfcalling_20240308012528_SRX11812001/output/VPR_orfcalling_20240308012528_SRX11812001_found_by_any_caller.csv\" does not exist\n"
     ]
    },
    {
     "name": "stdout",
     "output_type": "stream",
     "text": [
      "aws s3 cp s3://velia-piperuns-dev/VPR_orfcalling_20240308012528_SRX11812002/output/VPR_orfcalling_20240308012528_SRX11812002_found_by_any_caller.csv ./data/VPR_orfcalling_20240308012528_SRX11812002_found_by_any_caller.csv\n"
     ]
    },
    {
     "name": "stderr",
     "output_type": "stream",
     "text": [
      "fatal error: An error occurred (404) when calling the HeadObject operation: Key \"VPR_orfcalling_20240308012528_SRX11812002/output/VPR_orfcalling_20240308012528_SRX11812002_found_by_any_caller.csv\" does not exist\n"
     ]
    },
    {
     "name": "stdout",
     "output_type": "stream",
     "text": [
      "aws s3 cp s3://velia-piperuns-dev/VPR_orfcalling_20240308012528_SRX11812003/output/VPR_orfcalling_20240308012528_SRX11812003_found_by_any_caller.csv ./data/VPR_orfcalling_20240308012528_SRX11812003_found_by_any_caller.csv\n"
     ]
    },
    {
     "name": "stderr",
     "output_type": "stream",
     "text": [
      "fatal error: An error occurred (404) when calling the HeadObject operation: Key \"VPR_orfcalling_20240308012528_SRX11812003/output/VPR_orfcalling_20240308012528_SRX11812003_found_by_any_caller.csv\" does not exist\n"
     ]
    },
    {
     "name": "stdout",
     "output_type": "stream",
     "text": [
      "aws s3 cp s3://velia-piperuns-dev/VPR_orfcalling_20240308012528_SRX11812004/output/VPR_orfcalling_20240308012528_SRX11812004_found_by_any_caller.csv ./data/VPR_orfcalling_20240308012528_SRX11812004_found_by_any_caller.csv\n"
     ]
    },
    {
     "name": "stderr",
     "output_type": "stream",
     "text": [
      "fatal error: An error occurred (404) when calling the HeadObject operation: Key \"VPR_orfcalling_20240308012528_SRX11812004/output/VPR_orfcalling_20240308012528_SRX11812004_found_by_any_caller.csv\" does not exist\n"
     ]
    },
    {
     "name": "stdout",
     "output_type": "stream",
     "text": [
      "aws s3 cp s3://velia-piperuns-dev/VPR_orfcalling_20240308012528_SRX11812005/output/VPR_orfcalling_20240308012528_SRX11812005_found_by_any_caller.csv ./data/VPR_orfcalling_20240308012528_SRX11812005_found_by_any_caller.csv\n"
     ]
    },
    {
     "name": "stderr",
     "output_type": "stream",
     "text": [
      "fatal error: An error occurred (404) when calling the HeadObject operation: Key \"VPR_orfcalling_20240308012528_SRX11812005/output/VPR_orfcalling_20240308012528_SRX11812005_found_by_any_caller.csv\" does not exist\n"
     ]
    },
    {
     "name": "stdout",
     "output_type": "stream",
     "text": [
      "aws s3 cp s3://velia-piperuns-dev/VPR_orfcalling_20240308012528_SRX11812006/output/VPR_orfcalling_20240308012528_SRX11812006_found_by_any_caller.csv ./data/VPR_orfcalling_20240308012528_SRX11812006_found_by_any_caller.csv\n",
      "download: s3://velia-piperuns-dev/VPR_orfcalling_20240308012528_SRX11812006/output/VPR_orfcalling_20240308012528_SRX11812006_found_by_any_caller.csv to data/VPR_orfcalling_20240308012528_SRX11812006_found_by_any_caller.csv\n"
     ]
    },
    {
     "name": "stderr",
     "output_type": "stream",
     "text": [
      "/tmp/ipykernel_62869/1228207664.py:16: DtypeWarning: Columns (10,14) have mixed types. Specify dtype option on import or set low_memory=False.\n",
      "  for index, row in pd.read_csv(data_path, sep='\\t').iterrows():\n"
     ]
    },
    {
     "name": "stdout",
     "output_type": "stream",
     "text": [
      "aws s3 cp s3://velia-piperuns-dev/VPR_orfcalling_20240308012528_SRX11812007/output/VPR_orfcalling_20240308012528_SRX11812007_found_by_any_caller.csv ./data/VPR_orfcalling_20240308012528_SRX11812007_found_by_any_caller.csv\n"
     ]
    },
    {
     "name": "stderr",
     "output_type": "stream",
     "text": [
      "fatal error: An error occurred (404) when calling the HeadObject operation: Key \"VPR_orfcalling_20240308012528_SRX11812007/output/VPR_orfcalling_20240308012528_SRX11812007_found_by_any_caller.csv\" does not exist\n"
     ]
    },
    {
     "name": "stdout",
     "output_type": "stream",
     "text": [
      "aws s3 cp s3://velia-piperuns-dev/VPR_orfcalling_20240308012528_SRX11812008/output/VPR_orfcalling_20240308012528_SRX11812008_found_by_any_caller.csv ./data/VPR_orfcalling_20240308012528_SRX11812008_found_by_any_caller.csv\n"
     ]
    },
    {
     "name": "stderr",
     "output_type": "stream",
     "text": [
      "fatal error: An error occurred (404) when calling the HeadObject operation: Key \"VPR_orfcalling_20240308012528_SRX11812008/output/VPR_orfcalling_20240308012528_SRX11812008_found_by_any_caller.csv\" does not exist\n"
     ]
    },
    {
     "name": "stdout",
     "output_type": "stream",
     "text": [
      "aws s3 cp s3://velia-piperuns-dev/VPR_orfcalling_20240308012528_SRX11812009/output/VPR_orfcalling_20240308012528_SRX11812009_found_by_any_caller.csv ./data/VPR_orfcalling_20240308012528_SRX11812009_found_by_any_caller.csv\n"
     ]
    },
    {
     "name": "stderr",
     "output_type": "stream",
     "text": [
      "fatal error: An error occurred (404) when calling the HeadObject operation: Key \"VPR_orfcalling_20240308012528_SRX11812009/output/VPR_orfcalling_20240308012528_SRX11812009_found_by_any_caller.csv\" does not exist\n"
     ]
    },
    {
     "name": "stdout",
     "output_type": "stream",
     "text": [
      "aws s3 cp s3://velia-piperuns-dev/VPR_orfcalling_20240308012528_SRX11812010/output/VPR_orfcalling_20240308012528_SRX11812010_found_by_any_caller.csv ./data/VPR_orfcalling_20240308012528_SRX11812010_found_by_any_caller.csv\n"
     ]
    },
    {
     "name": "stderr",
     "output_type": "stream",
     "text": [
      "fatal error: An error occurred (404) when calling the HeadObject operation: Key \"VPR_orfcalling_20240308012528_SRX11812010/output/VPR_orfcalling_20240308012528_SRX11812010_found_by_any_caller.csv\" does not exist\n"
     ]
    },
    {
     "name": "stdout",
     "output_type": "stream",
     "text": [
      "aws s3 cp s3://velia-piperuns-dev/VPR_orfcalling_20240308012528_SRX11812011/output/VPR_orfcalling_20240308012528_SRX11812011_found_by_any_caller.csv ./data/VPR_orfcalling_20240308012528_SRX11812011_found_by_any_caller.csv\n"
     ]
    },
    {
     "name": "stderr",
     "output_type": "stream",
     "text": [
      "fatal error: An error occurred (404) when calling the HeadObject operation: Key \"VPR_orfcalling_20240308012528_SRX11812011/output/VPR_orfcalling_20240308012528_SRX11812011_found_by_any_caller.csv\" does not exist\n"
     ]
    },
    {
     "name": "stdout",
     "output_type": "stream",
     "text": [
      "aws s3 cp s3://velia-piperuns-dev/VPR_orfcalling_20240308012528_SRX11812012/output/VPR_orfcalling_20240308012528_SRX11812012_found_by_any_caller.csv ./data/VPR_orfcalling_20240308012528_SRX11812012_found_by_any_caller.csv\n"
     ]
    },
    {
     "name": "stderr",
     "output_type": "stream",
     "text": [
      "fatal error: An error occurred (404) when calling the HeadObject operation: Key \"VPR_orfcalling_20240308012528_SRX11812012/output/VPR_orfcalling_20240308012528_SRX11812012_found_by_any_caller.csv\" does not exist\n"
     ]
    },
    {
     "name": "stdout",
     "output_type": "stream",
     "text": [
      "aws s3 cp s3://velia-piperuns-dev/VPR_orfcalling_20240308012528_SRX11812013/output/VPR_orfcalling_20240308012528_SRX11812013_found_by_any_caller.csv ./data/VPR_orfcalling_20240308012528_SRX11812013_found_by_any_caller.csv\n"
     ]
    },
    {
     "name": "stderr",
     "output_type": "stream",
     "text": [
      "fatal error: An error occurred (404) when calling the HeadObject operation: Key \"VPR_orfcalling_20240308012528_SRX11812013/output/VPR_orfcalling_20240308012528_SRX11812013_found_by_any_caller.csv\" does not exist\n"
     ]
    },
    {
     "name": "stdout",
     "output_type": "stream",
     "text": [
      "aws s3 cp s3://velia-piperuns-dev/VPR_orfcalling_20240308012528_SRX11812014/output/VPR_orfcalling_20240308012528_SRX11812014_found_by_any_caller.csv ./data/VPR_orfcalling_20240308012528_SRX11812014_found_by_any_caller.csv\n"
     ]
    },
    {
     "name": "stderr",
     "output_type": "stream",
     "text": [
      "fatal error: An error occurred (404) when calling the HeadObject operation: Key \"VPR_orfcalling_20240308012528_SRX11812014/output/VPR_orfcalling_20240308012528_SRX11812014_found_by_any_caller.csv\" does not exist\n"
     ]
    },
    {
     "name": "stdout",
     "output_type": "stream",
     "text": [
      "aws s3 cp s3://velia-piperuns-dev/VPR_orfcalling_20240308012528_SRX11812015/output/VPR_orfcalling_20240308012528_SRX11812015_found_by_any_caller.csv ./data/VPR_orfcalling_20240308012528_SRX11812015_found_by_any_caller.csv\n"
     ]
    },
    {
     "name": "stderr",
     "output_type": "stream",
     "text": [
      "fatal error: An error occurred (404) when calling the HeadObject operation: Key \"VPR_orfcalling_20240308012528_SRX11812015/output/VPR_orfcalling_20240308012528_SRX11812015_found_by_any_caller.csv\" does not exist\n"
     ]
    },
    {
     "name": "stdout",
     "output_type": "stream",
     "text": [
      "aws s3 cp s3://velia-piperuns-dev/VPR_orfcalling_20240308012528_SRX11812016/output/VPR_orfcalling_20240308012528_SRX11812016_found_by_any_caller.csv ./data/VPR_orfcalling_20240308012528_SRX11812016_found_by_any_caller.csv\n"
     ]
    },
    {
     "name": "stderr",
     "output_type": "stream",
     "text": [
      "fatal error: An error occurred (404) when calling the HeadObject operation: Key \"VPR_orfcalling_20240308012528_SRX11812016/output/VPR_orfcalling_20240308012528_SRX11812016_found_by_any_caller.csv\" does not exist\n"
     ]
    },
    {
     "name": "stdout",
     "output_type": "stream",
     "text": [
      "aws s3 cp s3://velia-piperuns-dev/VPR_orfcalling_20240308012528_SRX11812017/output/VPR_orfcalling_20240308012528_SRX11812017_found_by_any_caller.csv ./data/VPR_orfcalling_20240308012528_SRX11812017_found_by_any_caller.csv\n"
     ]
    },
    {
     "name": "stderr",
     "output_type": "stream",
     "text": [
      "fatal error: An error occurred (404) when calling the HeadObject operation: Key \"VPR_orfcalling_20240308012528_SRX11812017/output/VPR_orfcalling_20240308012528_SRX11812017_found_by_any_caller.csv\" does not exist\n"
     ]
    },
    {
     "name": "stdout",
     "output_type": "stream",
     "text": [
      "aws s3 cp s3://velia-piperuns-dev/VPR_orfcalling_20240308012528_SRX11812018/output/VPR_orfcalling_20240308012528_SRX11812018_found_by_any_caller.csv ./data/VPR_orfcalling_20240308012528_SRX11812018_found_by_any_caller.csv\n"
     ]
    },
    {
     "name": "stderr",
     "output_type": "stream",
     "text": [
      "fatal error: An error occurred (404) when calling the HeadObject operation: Key \"VPR_orfcalling_20240308012528_SRX11812018/output/VPR_orfcalling_20240308012528_SRX11812018_found_by_any_caller.csv\" does not exist\n"
     ]
    },
    {
     "name": "stdout",
     "output_type": "stream",
     "text": [
      "aws s3 cp s3://velia-piperuns-dev/VPR_orfcalling_20240308012528_SRX11812019/output/VPR_orfcalling_20240308012528_SRX11812019_found_by_any_caller.csv ./data/VPR_orfcalling_20240308012528_SRX11812019_found_by_any_caller.csv\n"
     ]
    },
    {
     "name": "stderr",
     "output_type": "stream",
     "text": [
      "fatal error: An error occurred (404) when calling the HeadObject operation: Key \"VPR_orfcalling_20240308012528_SRX11812019/output/VPR_orfcalling_20240308012528_SRX11812019_found_by_any_caller.csv\" does not exist\n"
     ]
    },
    {
     "name": "stdout",
     "output_type": "stream",
     "text": [
      "aws s3 cp s3://velia-piperuns-dev/VPR_orfcalling_20240308012528_SRX11812020/output/VPR_orfcalling_20240308012528_SRX11812020_found_by_any_caller.csv ./data/VPR_orfcalling_20240308012528_SRX11812020_found_by_any_caller.csv\n"
     ]
    },
    {
     "name": "stderr",
     "output_type": "stream",
     "text": [
      "fatal error: An error occurred (404) when calling the HeadObject operation: Key \"VPR_orfcalling_20240308012528_SRX11812020/output/VPR_orfcalling_20240308012528_SRX11812020_found_by_any_caller.csv\" does not exist\n"
     ]
    },
    {
     "name": "stdout",
     "output_type": "stream",
     "text": [
      "aws s3 cp s3://velia-piperuns-dev/VPR_orfcalling_20240308012528_SRX1402454/output/VPR_orfcalling_20240308012528_SRX1402454_found_by_any_caller.csv ./data/VPR_orfcalling_20240308012528_SRX1402454_found_by_any_caller.csv\n"
     ]
    },
    {
     "name": "stderr",
     "output_type": "stream",
     "text": [
      "fatal error: An error occurred (404) when calling the HeadObject operation: Key \"VPR_orfcalling_20240308012528_SRX1402454/output/VPR_orfcalling_20240308012528_SRX1402454_found_by_any_caller.csv\" does not exist\n"
     ]
    },
    {
     "name": "stdout",
     "output_type": "stream",
     "text": [
      "aws s3 cp s3://velia-piperuns-dev/VPR_orfcalling_20240308012528_SRX1402455/output/VPR_orfcalling_20240308012528_SRX1402455_found_by_any_caller.csv ./data/VPR_orfcalling_20240308012528_SRX1402455_found_by_any_caller.csv\n"
     ]
    },
    {
     "name": "stderr",
     "output_type": "stream",
     "text": [
      "fatal error: An error occurred (404) when calling the HeadObject operation: Key \"VPR_orfcalling_20240308012528_SRX1402455/output/VPR_orfcalling_20240308012528_SRX1402455_found_by_any_caller.csv\" does not exist\n"
     ]
    },
    {
     "name": "stdout",
     "output_type": "stream",
     "text": [
      "aws s3 cp s3://velia-piperuns-dev/VPR_orfcalling_20240308012528_SRX1402457/output/VPR_orfcalling_20240308012528_SRX1402457_found_by_any_caller.csv ./data/VPR_orfcalling_20240308012528_SRX1402457_found_by_any_caller.csv\n"
     ]
    },
    {
     "name": "stderr",
     "output_type": "stream",
     "text": [
      "fatal error: An error occurred (404) when calling the HeadObject operation: Key \"VPR_orfcalling_20240308012528_SRX1402457/output/VPR_orfcalling_20240308012528_SRX1402457_found_by_any_caller.csv\" does not exist\n"
     ]
    },
    {
     "name": "stdout",
     "output_type": "stream",
     "text": [
      "aws s3 cp s3://velia-piperuns-dev/VPR_orfcalling_20240308012528_SRX1402458/output/VPR_orfcalling_20240308012528_SRX1402458_found_by_any_caller.csv ./data/VPR_orfcalling_20240308012528_SRX1402458_found_by_any_caller.csv\n"
     ]
    },
    {
     "name": "stderr",
     "output_type": "stream",
     "text": [
      "fatal error: An error occurred (404) when calling the HeadObject operation: Key \"VPR_orfcalling_20240308012528_SRX1402458/output/VPR_orfcalling_20240308012528_SRX1402458_found_by_any_caller.csv\" does not exist\n"
     ]
    },
    {
     "name": "stdout",
     "output_type": "stream",
     "text": [
      "aws s3 cp s3://velia-piperuns-dev/VPR_orfcalling_20240308012528_SRX3884275/output/VPR_orfcalling_20240308012528_SRX3884275_found_by_any_caller.csv ./data/VPR_orfcalling_20240308012528_SRX3884275_found_by_any_caller.csv\n",
      "download: s3://velia-piperuns-dev/VPR_orfcalling_20240308012528_SRX3884275/output/VPR_orfcalling_20240308012528_SRX3884275_found_by_any_caller.csv to data/VPR_orfcalling_20240308012528_SRX3884275_found_by_any_caller.csv\n"
     ]
    },
    {
     "name": "stderr",
     "output_type": "stream",
     "text": [
      "/tmp/ipykernel_62869/1228207664.py:16: DtypeWarning: Columns (14) have mixed types. Specify dtype option on import or set low_memory=False.\n",
      "  for index, row in pd.read_csv(data_path, sep='\\t').iterrows():\n"
     ]
    },
    {
     "name": "stdout",
     "output_type": "stream",
     "text": [
      "aws s3 cp s3://velia-piperuns-dev/VPR_orfcalling_20240308012528_SRX3884277/output/VPR_orfcalling_20240308012528_SRX3884277_found_by_any_caller.csv ./data/VPR_orfcalling_20240308012528_SRX3884277_found_by_any_caller.csv\n",
      "download: s3://velia-piperuns-dev/VPR_orfcalling_20240308012528_SRX3884277/output/VPR_orfcalling_20240308012528_SRX3884277_found_by_any_caller.csv to data/VPR_orfcalling_20240308012528_SRX3884277_found_by_any_caller.csv\n",
      "aws s3 cp s3://velia-piperuns-dev/VPR_orfcalling_20240308012528_SRX3884280/output/VPR_orfcalling_20240308012528_SRX3884280_found_by_any_caller.csv ./data/VPR_orfcalling_20240308012528_SRX3884280_found_by_any_caller.csv\n"
     ]
    },
    {
     "name": "stderr",
     "output_type": "stream",
     "text": [
      "fatal error: An error occurred (404) when calling the HeadObject operation: Key \"VPR_orfcalling_20240308012528_SRX3884280/output/VPR_orfcalling_20240308012528_SRX3884280_found_by_any_caller.csv\" does not exist\n"
     ]
    },
    {
     "name": "stdout",
     "output_type": "stream",
     "text": [
      "aws s3 cp s3://velia-piperuns-dev/VPR_orfcalling_20240308012528_SRX3884282/output/VPR_orfcalling_20240308012528_SRX3884282_found_by_any_caller.csv ./data/VPR_orfcalling_20240308012528_SRX3884282_found_by_any_caller.csv\n",
      "download: s3://velia-piperuns-dev/VPR_orfcalling_20240308012528_SRX3884282/output/VPR_orfcalling_20240308012528_SRX3884282_found_by_any_caller.csv to data/VPR_orfcalling_20240308012528_SRX3884282_found_by_any_caller.csv\n"
     ]
    },
    {
     "name": "stderr",
     "output_type": "stream",
     "text": [
      "/tmp/ipykernel_62869/1228207664.py:16: DtypeWarning: Columns (14) have mixed types. Specify dtype option on import or set low_memory=False.\n",
      "  for index, row in pd.read_csv(data_path, sep='\\t').iterrows():\n"
     ]
    },
    {
     "name": "stdout",
     "output_type": "stream",
     "text": [
      "aws s3 cp s3://velia-piperuns-dev/VPR_orfcalling_20240308012528_SRX3884284/output/VPR_orfcalling_20240308012528_SRX3884284_found_by_any_caller.csv ./data/VPR_orfcalling_20240308012528_SRX3884284_found_by_any_caller.csv\n",
      "download: s3://velia-piperuns-dev/VPR_orfcalling_20240308012528_SRX3884284/output/VPR_orfcalling_20240308012528_SRX3884284_found_by_any_caller.csv to data/VPR_orfcalling_20240308012528_SRX3884284_found_by_any_caller.csv\n",
      "aws s3 cp s3://velia-piperuns-dev/VPR_orfcalling_20240308012528_SRX3884286/output/VPR_orfcalling_20240308012528_SRX3884286_found_by_any_caller.csv ./data/VPR_orfcalling_20240308012528_SRX3884286_found_by_any_caller.csv\n"
     ]
    },
    {
     "name": "stderr",
     "output_type": "stream",
     "text": [
      "fatal error: An error occurred (404) when calling the HeadObject operation: Key \"VPR_orfcalling_20240308012528_SRX3884286/output/VPR_orfcalling_20240308012528_SRX3884286_found_by_any_caller.csv\" does not exist\n"
     ]
    },
    {
     "name": "stdout",
     "output_type": "stream",
     "text": [
      "aws s3 cp s3://velia-piperuns-dev/VPR_orfcalling_20240308012528_SRX3884288/output/VPR_orfcalling_20240308012528_SRX3884288_found_by_any_caller.csv ./data/VPR_orfcalling_20240308012528_SRX3884288_found_by_any_caller.csv\n",
      "download: s3://velia-piperuns-dev/VPR_orfcalling_20240308012528_SRX3884288/output/VPR_orfcalling_20240308012528_SRX3884288_found_by_any_caller.csv to data/VPR_orfcalling_20240308012528_SRX3884288_found_by_any_caller.csv\n",
      "aws s3 cp s3://velia-piperuns-dev/VPR_orfcalling_20240308012528_SRX3884290/output/VPR_orfcalling_20240308012528_SRX3884290_found_by_any_caller.csv ./data/VPR_orfcalling_20240308012528_SRX3884290_found_by_any_caller.csv\n",
      "download: s3://velia-piperuns-dev/VPR_orfcalling_20240308012528_SRX3884290/output/VPR_orfcalling_20240308012528_SRX3884290_found_by_any_caller.csv to data/VPR_orfcalling_20240308012528_SRX3884290_found_by_any_caller.csv\n",
      "aws s3 cp s3://velia-piperuns-dev/VPR_orfcalling_20240308012528_SRX3884292/output/VPR_orfcalling_20240308012528_SRX3884292_found_by_any_caller.csv ./data/VPR_orfcalling_20240308012528_SRX3884292_found_by_any_caller.csv\n",
      "download: s3://velia-piperuns-dev/VPR_orfcalling_20240308012528_SRX3884292/output/VPR_orfcalling_20240308012528_SRX3884292_found_by_any_caller.csv to data/VPR_orfcalling_20240308012528_SRX3884292_found_by_any_caller.csv\n",
      "aws s3 cp s3://velia-piperuns-dev/VPR_orfcalling_20240308012528_SRX3884294/output/VPR_orfcalling_20240308012528_SRX3884294_found_by_any_caller.csv ./data/VPR_orfcalling_20240308012528_SRX3884294_found_by_any_caller.csv\n",
      "download: s3://velia-piperuns-dev/VPR_orfcalling_20240308012528_SRX3884294/output/VPR_orfcalling_20240308012528_SRX3884294_found_by_any_caller.csv to data/VPR_orfcalling_20240308012528_SRX3884294_found_by_any_caller.csv\n"
     ]
    },
    {
     "name": "stderr",
     "output_type": "stream",
     "text": [
      "/tmp/ipykernel_62869/1228207664.py:16: DtypeWarning: Columns (14) have mixed types. Specify dtype option on import or set low_memory=False.\n",
      "  for index, row in pd.read_csv(data_path, sep='\\t').iterrows():\n"
     ]
    },
    {
     "name": "stdout",
     "output_type": "stream",
     "text": [
      "aws s3 cp s3://velia-piperuns-dev/VPR_orfcalling_20240308012528_SRX3884296/output/VPR_orfcalling_20240308012528_SRX3884296_found_by_any_caller.csv ./data/VPR_orfcalling_20240308012528_SRX3884296_found_by_any_caller.csv\n",
      "download: s3://velia-piperuns-dev/VPR_orfcalling_20240308012528_SRX3884296/output/VPR_orfcalling_20240308012528_SRX3884296_found_by_any_caller.csv to data/VPR_orfcalling_20240308012528_SRX3884296_found_by_any_caller.csv\n",
      "aws s3 cp s3://velia-piperuns-dev/VPR_orfcalling_20240308012528_SRX3884298/output/VPR_orfcalling_20240308012528_SRX3884298_found_by_any_caller.csv ./data/VPR_orfcalling_20240308012528_SRX3884298_found_by_any_caller.csv\n",
      "download: s3://velia-piperuns-dev/VPR_orfcalling_20240308012528_SRX3884298/output/VPR_orfcalling_20240308012528_SRX3884298_found_by_any_caller.csv to data/VPR_orfcalling_20240308012528_SRX3884298_found_by_any_caller.csv\n"
     ]
    },
    {
     "name": "stderr",
     "output_type": "stream",
     "text": [
      "/tmp/ipykernel_62869/1228207664.py:16: DtypeWarning: Columns (14) have mixed types. Specify dtype option on import or set low_memory=False.\n",
      "  for index, row in pd.read_csv(data_path, sep='\\t').iterrows():\n"
     ]
    },
    {
     "name": "stdout",
     "output_type": "stream",
     "text": [
      "aws s3 cp s3://velia-piperuns-dev/VPR_orfcalling_20240308012528_SRX3884300/output/VPR_orfcalling_20240308012528_SRX3884300_found_by_any_caller.csv ./data/VPR_orfcalling_20240308012528_SRX3884300_found_by_any_caller.csv\n"
     ]
    },
    {
     "name": "stderr",
     "output_type": "stream",
     "text": [
      "fatal error: An error occurred (404) when calling the HeadObject operation: Key \"VPR_orfcalling_20240308012528_SRX3884300/output/VPR_orfcalling_20240308012528_SRX3884300_found_by_any_caller.csv\" does not exist\n"
     ]
    },
    {
     "name": "stdout",
     "output_type": "stream",
     "text": [
      "aws s3 cp s3://velia-piperuns-dev/VPR_orfcalling_20240308012528_SRX3884302/output/VPR_orfcalling_20240308012528_SRX3884302_found_by_any_caller.csv ./data/VPR_orfcalling_20240308012528_SRX3884302_found_by_any_caller.csv\n"
     ]
    },
    {
     "name": "stderr",
     "output_type": "stream",
     "text": [
      "fatal error: An error occurred (404) when calling the HeadObject operation: Key \"VPR_orfcalling_20240308012528_SRX3884302/output/VPR_orfcalling_20240308012528_SRX3884302_found_by_any_caller.csv\" does not exist\n"
     ]
    },
    {
     "name": "stdout",
     "output_type": "stream",
     "text": [
      "aws s3 cp s3://velia-piperuns-dev/VPR_orfcalling_20240308012528_SRX3884304/output/VPR_orfcalling_20240308012528_SRX3884304_found_by_any_caller.csv ./data/VPR_orfcalling_20240308012528_SRX3884304_found_by_any_caller.csv\n",
      "download: s3://velia-piperuns-dev/VPR_orfcalling_20240308012528_SRX3884304/output/VPR_orfcalling_20240308012528_SRX3884304_found_by_any_caller.csv to data/VPR_orfcalling_20240308012528_SRX3884304_found_by_any_caller.csv\n",
      "aws s3 cp s3://velia-piperuns-dev/VPR_orfcalling_20240308012528_SRX3884306/output/VPR_orfcalling_20240308012528_SRX3884306_found_by_any_caller.csv ./data/VPR_orfcalling_20240308012528_SRX3884306_found_by_any_caller.csv\n"
     ]
    },
    {
     "name": "stderr",
     "output_type": "stream",
     "text": [
      "fatal error: An error occurred (404) when calling the HeadObject operation: Key \"VPR_orfcalling_20240308012528_SRX3884306/output/VPR_orfcalling_20240308012528_SRX3884306_found_by_any_caller.csv\" does not exist\n"
     ]
    },
    {
     "name": "stdout",
     "output_type": "stream",
     "text": [
      "aws s3 cp s3://velia-piperuns-dev/VPR_orfcalling_20240308012528_SRX3884308/output/VPR_orfcalling_20240308012528_SRX3884308_found_by_any_caller.csv ./data/VPR_orfcalling_20240308012528_SRX3884308_found_by_any_caller.csv\n",
      "download: s3://velia-piperuns-dev/VPR_orfcalling_20240308012528_SRX3884308/output/VPR_orfcalling_20240308012528_SRX3884308_found_by_any_caller.csv to data/VPR_orfcalling_20240308012528_SRX3884308_found_by_any_caller.csv\n",
      "aws s3 cp s3://velia-piperuns-dev/VPR_orfcalling_20240308012528_SRX3884310/output/VPR_orfcalling_20240308012528_SRX3884310_found_by_any_caller.csv ./data/VPR_orfcalling_20240308012528_SRX3884310_found_by_any_caller.csv\n"
     ]
    },
    {
     "name": "stderr",
     "output_type": "stream",
     "text": [
      "fatal error: An error occurred (404) when calling the HeadObject operation: Key \"VPR_orfcalling_20240308012528_SRX3884310/output/VPR_orfcalling_20240308012528_SRX3884310_found_by_any_caller.csv\" does not exist\n"
     ]
    },
    {
     "name": "stdout",
     "output_type": "stream",
     "text": [
      "aws s3 cp s3://velia-piperuns-dev/VPR_orfcalling_20240308012528_SRX3884312/output/VPR_orfcalling_20240308012528_SRX3884312_found_by_any_caller.csv ./data/VPR_orfcalling_20240308012528_SRX3884312_found_by_any_caller.csv\n",
      "download: s3://velia-piperuns-dev/VPR_orfcalling_20240308012528_SRX3884312/output/VPR_orfcalling_20240308012528_SRX3884312_found_by_any_caller.csv to data/VPR_orfcalling_20240308012528_SRX3884312_found_by_any_caller.csv\n",
      "aws s3 cp s3://velia-piperuns-dev/VPR_orfcalling_20240308012528_SRX3884314/output/VPR_orfcalling_20240308012528_SRX3884314_found_by_any_caller.csv ./data/VPR_orfcalling_20240308012528_SRX3884314_found_by_any_caller.csv\n",
      "download: s3://velia-piperuns-dev/VPR_orfcalling_20240308012528_SRX3884314/output/VPR_orfcalling_20240308012528_SRX3884314_found_by_any_caller.csv to data/VPR_orfcalling_20240308012528_SRX3884314_found_by_any_caller.csv\n",
      "aws s3 cp s3://velia-piperuns-dev/VPR_orfcalling_20240308012528_SRX5766767/output/VPR_orfcalling_20240308012528_SRX5766767_found_by_any_caller.csv ./data/VPR_orfcalling_20240308012528_SRX5766767_found_by_any_caller.csv\n",
      "download: s3://velia-piperuns-dev/VPR_orfcalling_20240308012528_SRX5766767/output/VPR_orfcalling_20240308012528_SRX5766767_found_by_any_caller.csv to data/VPR_orfcalling_20240308012528_SRX5766767_found_by_any_caller.csv\n"
     ]
    },
    {
     "name": "stderr",
     "output_type": "stream",
     "text": [
      "/tmp/ipykernel_62869/1228207664.py:16: DtypeWarning: Columns (14) have mixed types. Specify dtype option on import or set low_memory=False.\n",
      "  for index, row in pd.read_csv(data_path, sep='\\t').iterrows():\n"
     ]
    },
    {
     "name": "stdout",
     "output_type": "stream",
     "text": [
      "aws s3 cp s3://velia-piperuns-dev/VPR_orfcalling_20240308012528_SRX5766768/output/VPR_orfcalling_20240308012528_SRX5766768_found_by_any_caller.csv ./data/VPR_orfcalling_20240308012528_SRX5766768_found_by_any_caller.csv\n",
      "download: s3://velia-piperuns-dev/VPR_orfcalling_20240308012528_SRX5766768/output/VPR_orfcalling_20240308012528_SRX5766768_found_by_any_caller.csv to data/VPR_orfcalling_20240308012528_SRX5766768_found_by_any_caller.csv\n"
     ]
    },
    {
     "name": "stderr",
     "output_type": "stream",
     "text": [
      "/tmp/ipykernel_62869/1228207664.py:16: DtypeWarning: Columns (10,14) have mixed types. Specify dtype option on import or set low_memory=False.\n",
      "  for index, row in pd.read_csv(data_path, sep='\\t').iterrows():\n"
     ]
    },
    {
     "name": "stdout",
     "output_type": "stream",
     "text": [
      "aws s3 cp s3://velia-piperuns-dev/VPR_orfcalling_20240308012528_SRX5766769/output/VPR_orfcalling_20240308012528_SRX5766769_found_by_any_caller.csv ./data/VPR_orfcalling_20240308012528_SRX5766769_found_by_any_caller.csv\n",
      "download: s3://velia-piperuns-dev/VPR_orfcalling_20240308012528_SRX5766769/output/VPR_orfcalling_20240308012528_SRX5766769_found_by_any_caller.csv to data/VPR_orfcalling_20240308012528_SRX5766769_found_by_any_caller.csv\n"
     ]
    },
    {
     "name": "stderr",
     "output_type": "stream",
     "text": [
      "/tmp/ipykernel_62869/1228207664.py:16: DtypeWarning: Columns (14) have mixed types. Specify dtype option on import or set low_memory=False.\n",
      "  for index, row in pd.read_csv(data_path, sep='\\t').iterrows():\n"
     ]
    },
    {
     "name": "stdout",
     "output_type": "stream",
     "text": [
      "aws s3 cp s3://velia-piperuns-dev/VPR_orfcalling_20240308012528_SRX5766770/output/VPR_orfcalling_20240308012528_SRX5766770_found_by_any_caller.csv ./data/VPR_orfcalling_20240308012528_SRX5766770_found_by_any_caller.csv\n",
      "download: s3://velia-piperuns-dev/VPR_orfcalling_20240308012528_SRX5766770/output/VPR_orfcalling_20240308012528_SRX5766770_found_by_any_caller.csv to data/VPR_orfcalling_20240308012528_SRX5766770_found_by_any_caller.csv\n"
     ]
    },
    {
     "name": "stderr",
     "output_type": "stream",
     "text": [
      "/tmp/ipykernel_62869/1228207664.py:16: DtypeWarning: Columns (10,14) have mixed types. Specify dtype option on import or set low_memory=False.\n",
      "  for index, row in pd.read_csv(data_path, sep='\\t').iterrows():\n"
     ]
    },
    {
     "name": "stdout",
     "output_type": "stream",
     "text": [
      "aws s3 cp s3://velia-piperuns-dev/VPR_orfcalling_20240308012528_SRX5766771/output/VPR_orfcalling_20240308012528_SRX5766771_found_by_any_caller.csv ./data/VPR_orfcalling_20240308012528_SRX5766771_found_by_any_caller.csv\n"
     ]
    },
    {
     "name": "stderr",
     "output_type": "stream",
     "text": [
      "fatal error: An error occurred (404) when calling the HeadObject operation: Key \"VPR_orfcalling_20240308012528_SRX5766771/output/VPR_orfcalling_20240308012528_SRX5766771_found_by_any_caller.csv\" does not exist\n"
     ]
    },
    {
     "name": "stdout",
     "output_type": "stream",
     "text": [
      "aws s3 cp s3://velia-piperuns-dev/VPR_orfcalling_20240308012528_SRX663295/output/VPR_orfcalling_20240308012528_SRX663295_found_by_any_caller.csv ./data/VPR_orfcalling_20240308012528_SRX663295_found_by_any_caller.csv\n"
     ]
    },
    {
     "name": "stderr",
     "output_type": "stream",
     "text": [
      "fatal error: An error occurred (404) when calling the HeadObject operation: Key \"VPR_orfcalling_20240308012528_SRX663295/output/VPR_orfcalling_20240308012528_SRX663295_found_by_any_caller.csv\" does not exist\n"
     ]
    },
    {
     "name": "stdout",
     "output_type": "stream",
     "text": [
      "aws s3 cp s3://velia-piperuns-dev/VPR_orfcalling_20240308012528_SRX663296/output/VPR_orfcalling_20240308012528_SRX663296_found_by_any_caller.csv ./data/VPR_orfcalling_20240308012528_SRX663296_found_by_any_caller.csv\n"
     ]
    },
    {
     "name": "stderr",
     "output_type": "stream",
     "text": [
      "fatal error: An error occurred (404) when calling the HeadObject operation: Key \"VPR_orfcalling_20240308012528_SRX663296/output/VPR_orfcalling_20240308012528_SRX663296_found_by_any_caller.csv\" does not exist\n"
     ]
    },
    {
     "name": "stdout",
     "output_type": "stream",
     "text": [
      "aws s3 cp s3://velia-piperuns-dev/VPR_orfcalling_20240308012528_SRX663297/output/VPR_orfcalling_20240308012528_SRX663297_found_by_any_caller.csv ./data/VPR_orfcalling_20240308012528_SRX663297_found_by_any_caller.csv\n"
     ]
    },
    {
     "name": "stderr",
     "output_type": "stream",
     "text": [
      "fatal error: An error occurred (404) when calling the HeadObject operation: Key \"VPR_orfcalling_20240308012528_SRX663297/output/VPR_orfcalling_20240308012528_SRX663297_found_by_any_caller.csv\" does not exist\n"
     ]
    },
    {
     "name": "stdout",
     "output_type": "stream",
     "text": [
      "aws s3 cp s3://velia-piperuns-dev/VPR_orfcalling_20240308012528_SRX663298/output/VPR_orfcalling_20240308012528_SRX663298_found_by_any_caller.csv ./data/VPR_orfcalling_20240308012528_SRX663298_found_by_any_caller.csv\n"
     ]
    },
    {
     "name": "stderr",
     "output_type": "stream",
     "text": [
      "fatal error: An error occurred (404) when calling the HeadObject operation: Key \"VPR_orfcalling_20240308012528_SRX663298/output/VPR_orfcalling_20240308012528_SRX663298_found_by_any_caller.csv\" does not exist\n"
     ]
    },
    {
     "name": "stdout",
     "output_type": "stream",
     "text": [
      "aws s3 cp s3://velia-piperuns-dev/VPR_orfcalling_20240308012528_SRX663299/output/VPR_orfcalling_20240308012528_SRX663299_found_by_any_caller.csv ./data/VPR_orfcalling_20240308012528_SRX663299_found_by_any_caller.csv\n"
     ]
    },
    {
     "name": "stderr",
     "output_type": "stream",
     "text": [
      "fatal error: An error occurred (404) when calling the HeadObject operation: Key \"VPR_orfcalling_20240308012528_SRX663299/output/VPR_orfcalling_20240308012528_SRX663299_found_by_any_caller.csv\" does not exist\n"
     ]
    },
    {
     "name": "stdout",
     "output_type": "stream",
     "text": [
      "aws s3 cp s3://velia-piperuns-dev/VPR_orfcalling_20240308012528_SRX663300/output/VPR_orfcalling_20240308012528_SRX663300_found_by_any_caller.csv ./data/VPR_orfcalling_20240308012528_SRX663300_found_by_any_caller.csv\n"
     ]
    },
    {
     "name": "stderr",
     "output_type": "stream",
     "text": [
      "fatal error: An error occurred (404) when calling the HeadObject operation: Key \"VPR_orfcalling_20240308012528_SRX663300/output/VPR_orfcalling_20240308012528_SRX663300_found_by_any_caller.csv\" does not exist\n"
     ]
    },
    {
     "name": "stdout",
     "output_type": "stream",
     "text": [
      "aws s3 cp s3://velia-piperuns-dev/VPR_orfcalling_20240308012528_SRX8190759/output/VPR_orfcalling_20240308012528_SRX8190759_found_by_any_caller.csv ./data/VPR_orfcalling_20240308012528_SRX8190759_found_by_any_caller.csv\n",
      "download: s3://velia-piperuns-dev/VPR_orfcalling_20240308012528_SRX8190759/output/VPR_orfcalling_20240308012528_SRX8190759_found_by_any_caller.csv to data/VPR_orfcalling_20240308012528_SRX8190759_found_by_any_caller.csv\n"
     ]
    },
    {
     "name": "stderr",
     "output_type": "stream",
     "text": [
      "/tmp/ipykernel_62869/1228207664.py:16: DtypeWarning: Columns (14) have mixed types. Specify dtype option on import or set low_memory=False.\n",
      "  for index, row in pd.read_csv(data_path, sep='\\t').iterrows():\n"
     ]
    },
    {
     "name": "stdout",
     "output_type": "stream",
     "text": [
      "aws s3 cp s3://velia-piperuns-dev/VPR_orfcalling_20240308012528_SRX8190760/output/VPR_orfcalling_20240308012528_SRX8190760_found_by_any_caller.csv ./data/VPR_orfcalling_20240308012528_SRX8190760_found_by_any_caller.csv\n",
      "download: s3://velia-piperuns-dev/VPR_orfcalling_20240308012528_SRX8190760/output/VPR_orfcalling_20240308012528_SRX8190760_found_by_any_caller.csv to data/VPR_orfcalling_20240308012528_SRX8190760_found_by_any_caller.csv\n"
     ]
    },
    {
     "name": "stderr",
     "output_type": "stream",
     "text": [
      "/tmp/ipykernel_62869/1228207664.py:16: DtypeWarning: Columns (10,14) have mixed types. Specify dtype option on import or set low_memory=False.\n",
      "  for index, row in pd.read_csv(data_path, sep='\\t').iterrows():\n"
     ]
    },
    {
     "name": "stdout",
     "output_type": "stream",
     "text": [
      "aws s3 cp s3://velia-piperuns-dev/VPR_orfcalling_20240308012528_SRX8190763/output/VPR_orfcalling_20240308012528_SRX8190763_found_by_any_caller.csv ./data/VPR_orfcalling_20240308012528_SRX8190763_found_by_any_caller.csv\n",
      "download: s3://velia-piperuns-dev/VPR_orfcalling_20240308012528_SRX8190763/output/VPR_orfcalling_20240308012528_SRX8190763_found_by_any_caller.csv to data/VPR_orfcalling_20240308012528_SRX8190763_found_by_any_caller.csv\n"
     ]
    },
    {
     "name": "stderr",
     "output_type": "stream",
     "text": [
      "/tmp/ipykernel_62869/1228207664.py:16: DtypeWarning: Columns (14) have mixed types. Specify dtype option on import or set low_memory=False.\n",
      "  for index, row in pd.read_csv(data_path, sep='\\t').iterrows():\n"
     ]
    },
    {
     "name": "stdout",
     "output_type": "stream",
     "text": [
      "aws s3 cp s3://velia-piperuns-dev/VPR_orfcalling_20240308012528_SRX8190764/output/VPR_orfcalling_20240308012528_SRX8190764_found_by_any_caller.csv ./data/VPR_orfcalling_20240308012528_SRX8190764_found_by_any_caller.csv\n",
      "download: s3://velia-piperuns-dev/VPR_orfcalling_20240308012528_SRX8190764/output/VPR_orfcalling_20240308012528_SRX8190764_found_by_any_caller.csv to data/VPR_orfcalling_20240308012528_SRX8190764_found_by_any_caller.csv\n"
     ]
    },
    {
     "name": "stderr",
     "output_type": "stream",
     "text": [
      "/tmp/ipykernel_62869/1228207664.py:16: DtypeWarning: Columns (10,14) have mixed types. Specify dtype option on import or set low_memory=False.\n",
      "  for index, row in pd.read_csv(data_path, sep='\\t').iterrows():\n"
     ]
    },
    {
     "name": "stdout",
     "output_type": "stream",
     "text": [
      "aws s3 cp s3://velia-piperuns-dev/VPR_orfcalling_20240308012528_SRX8190767/output/VPR_orfcalling_20240308012528_SRX8190767_found_by_any_caller.csv ./data/VPR_orfcalling_20240308012528_SRX8190767_found_by_any_caller.csv\n"
     ]
    },
    {
     "name": "stderr",
     "output_type": "stream",
     "text": [
      "fatal error: An error occurred (404) when calling the HeadObject operation: Key \"VPR_orfcalling_20240308012528_SRX8190767/output/VPR_orfcalling_20240308012528_SRX8190767_found_by_any_caller.csv\" does not exist\n"
     ]
    },
    {
     "name": "stdout",
     "output_type": "stream",
     "text": [
      "aws s3 cp s3://velia-piperuns-dev/VPR_orfcalling_20240308012528_SRX8190768/output/VPR_orfcalling_20240308012528_SRX8190768_found_by_any_caller.csv ./data/VPR_orfcalling_20240308012528_SRX8190768_found_by_any_caller.csv\n",
      "download: s3://velia-piperuns-dev/VPR_orfcalling_20240308012528_SRX8190768/output/VPR_orfcalling_20240308012528_SRX8190768_found_by_any_caller.csv to data/VPR_orfcalling_20240308012528_SRX8190768_found_by_any_caller.csv\n"
     ]
    },
    {
     "name": "stderr",
     "output_type": "stream",
     "text": [
      "/tmp/ipykernel_62869/1228207664.py:16: DtypeWarning: Columns (14) have mixed types. Specify dtype option on import or set low_memory=False.\n",
      "  for index, row in pd.read_csv(data_path, sep='\\t').iterrows():\n"
     ]
    },
    {
     "name": "stdout",
     "output_type": "stream",
     "text": [
      "aws s3 cp s3://velia-piperuns-dev/VPR_orfcalling_20240308012528_SRX8190771/output/VPR_orfcalling_20240308012528_SRX8190771_found_by_any_caller.csv ./data/VPR_orfcalling_20240308012528_SRX8190771_found_by_any_caller.csv\n",
      "download: s3://velia-piperuns-dev/VPR_orfcalling_20240308012528_SRX8190771/output/VPR_orfcalling_20240308012528_SRX8190771_found_by_any_caller.csv to data/VPR_orfcalling_20240308012528_SRX8190771_found_by_any_caller.csv\n"
     ]
    },
    {
     "name": "stderr",
     "output_type": "stream",
     "text": [
      "/tmp/ipykernel_62869/1228207664.py:16: DtypeWarning: Columns (10,14) have mixed types. Specify dtype option on import or set low_memory=False.\n",
      "  for index, row in pd.read_csv(data_path, sep='\\t').iterrows():\n"
     ]
    },
    {
     "name": "stdout",
     "output_type": "stream",
     "text": [
      "aws s3 cp s3://velia-piperuns-dev/VPR_orfcalling_20240308012528_SRX8190772/output/VPR_orfcalling_20240308012528_SRX8190772_found_by_any_caller.csv ./data/VPR_orfcalling_20240308012528_SRX8190772_found_by_any_caller.csv\n",
      "download: s3://velia-piperuns-dev/VPR_orfcalling_20240308012528_SRX8190772/output/VPR_orfcalling_20240308012528_SRX8190772_found_by_any_caller.csv to data/VPR_orfcalling_20240308012528_SRX8190772_found_by_any_caller.csv\n"
     ]
    },
    {
     "name": "stderr",
     "output_type": "stream",
     "text": [
      "/tmp/ipykernel_62869/1228207664.py:16: DtypeWarning: Columns (14) have mixed types. Specify dtype option on import or set low_memory=False.\n",
      "  for index, row in pd.read_csv(data_path, sep='\\t').iterrows():\n"
     ]
    },
    {
     "name": "stdout",
     "output_type": "stream",
     "text": [
      "aws s3 cp s3://velia-piperuns-dev/VPR_orfcalling_20240308012804_SRX663267/output/VPR_orfcalling_20240308012804_SRX663267_found_by_any_caller.csv ./data/VPR_orfcalling_20240308012804_SRX663267_found_by_any_caller.csv\n",
      "download: s3://velia-piperuns-dev/VPR_orfcalling_20240308012804_SRX663267/output/VPR_orfcalling_20240308012804_SRX663267_found_by_any_caller.csv to data/VPR_orfcalling_20240308012804_SRX663267_found_by_any_caller.csv\n"
     ]
    },
    {
     "name": "stderr",
     "output_type": "stream",
     "text": [
      "/tmp/ipykernel_62869/1228207664.py:16: DtypeWarning: Columns (14) have mixed types. Specify dtype option on import or set low_memory=False.\n",
      "  for index, row in pd.read_csv(data_path, sep='\\t').iterrows():\n"
     ]
    },
    {
     "name": "stdout",
     "output_type": "stream",
     "text": [
      "aws s3 cp s3://velia-piperuns-dev/VPR_orfcalling_20240308012804_SRX663268/output/VPR_orfcalling_20240308012804_SRX663268_found_by_any_caller.csv ./data/VPR_orfcalling_20240308012804_SRX663268_found_by_any_caller.csv\n",
      "download: s3://velia-piperuns-dev/VPR_orfcalling_20240308012804_SRX663268/output/VPR_orfcalling_20240308012804_SRX663268_found_by_any_caller.csv to data/VPR_orfcalling_20240308012804_SRX663268_found_by_any_caller.csv\n"
     ]
    },
    {
     "name": "stderr",
     "output_type": "stream",
     "text": [
      "/tmp/ipykernel_62869/1228207664.py:16: DtypeWarning: Columns (14) have mixed types. Specify dtype option on import or set low_memory=False.\n",
      "  for index, row in pd.read_csv(data_path, sep='\\t').iterrows():\n"
     ]
    },
    {
     "name": "stdout",
     "output_type": "stream",
     "text": [
      "aws s3 cp s3://velia-piperuns-dev/VPR_orfcalling_20240308012804_SRX663271/output/VPR_orfcalling_20240308012804_SRX663271_found_by_any_caller.csv ./data/VPR_orfcalling_20240308012804_SRX663271_found_by_any_caller.csv\n",
      "download: s3://velia-piperuns-dev/VPR_orfcalling_20240308012804_SRX663271/output/VPR_orfcalling_20240308012804_SRX663271_found_by_any_caller.csv to data/VPR_orfcalling_20240308012804_SRX663271_found_by_any_caller.csv\n"
     ]
    },
    {
     "name": "stderr",
     "output_type": "stream",
     "text": [
      "/tmp/ipykernel_62869/1228207664.py:16: DtypeWarning: Columns (14) have mixed types. Specify dtype option on import or set low_memory=False.\n",
      "  for index, row in pd.read_csv(data_path, sep='\\t').iterrows():\n"
     ]
    },
    {
     "name": "stdout",
     "output_type": "stream",
     "text": [
      "aws s3 cp s3://velia-piperuns-dev/VPR_orfcalling_20240308012804_SRX663272/output/VPR_orfcalling_20240308012804_SRX663272_found_by_any_caller.csv ./data/VPR_orfcalling_20240308012804_SRX663272_found_by_any_caller.csv\n",
      "download: s3://velia-piperuns-dev/VPR_orfcalling_20240308012804_SRX663272/output/VPR_orfcalling_20240308012804_SRX663272_found_by_any_caller.csv to data/VPR_orfcalling_20240308012804_SRX663272_found_by_any_caller.csv\n"
     ]
    },
    {
     "name": "stderr",
     "output_type": "stream",
     "text": [
      "/tmp/ipykernel_62869/1228207664.py:16: DtypeWarning: Columns (14) have mixed types. Specify dtype option on import or set low_memory=False.\n",
      "  for index, row in pd.read_csv(data_path, sep='\\t').iterrows():\n"
     ]
    },
    {
     "name": "stdout",
     "output_type": "stream",
     "text": [
      "aws s3 cp s3://velia-piperuns-dev/VPR_orfcalling_20240308012804_SRX663273/output/VPR_orfcalling_20240308012804_SRX663273_found_by_any_caller.csv ./data/VPR_orfcalling_20240308012804_SRX663273_found_by_any_caller.csv\n"
     ]
    },
    {
     "name": "stderr",
     "output_type": "stream",
     "text": [
      "fatal error: An error occurred (404) when calling the HeadObject operation: Key \"VPR_orfcalling_20240308012804_SRX663273/output/VPR_orfcalling_20240308012804_SRX663273_found_by_any_caller.csv\" does not exist\n"
     ]
    },
    {
     "name": "stdout",
     "output_type": "stream",
     "text": [
      "aws s3 cp s3://velia-piperuns-dev/VPR_orfcalling_20240308012804_SRX663274/output/VPR_orfcalling_20240308012804_SRX663274_found_by_any_caller.csv ./data/VPR_orfcalling_20240308012804_SRX663274_found_by_any_caller.csv\n"
     ]
    },
    {
     "name": "stderr",
     "output_type": "stream",
     "text": [
      "fatal error: An error occurred (404) when calling the HeadObject operation: Key \"VPR_orfcalling_20240308012804_SRX663274/output/VPR_orfcalling_20240308012804_SRX663274_found_by_any_caller.csv\" does not exist\n"
     ]
    },
    {
     "name": "stdout",
     "output_type": "stream",
     "text": [
      "aws s3 cp s3://velia-piperuns-dev/VPR_orfcalling_20240308012804_SRX952421/output/VPR_orfcalling_20240308012804_SRX952421_found_by_any_caller.csv ./data/VPR_orfcalling_20240308012804_SRX952421_found_by_any_caller.csv\n"
     ]
    },
    {
     "name": "stderr",
     "output_type": "stream",
     "text": [
      "fatal error: An error occurred (404) when calling the HeadObject operation: Key \"VPR_orfcalling_20240308012804_SRX952421/output/VPR_orfcalling_20240308012804_SRX952421_found_by_any_caller.csv\" does not exist\n"
     ]
    },
    {
     "name": "stdout",
     "output_type": "stream",
     "text": [
      "aws s3 cp s3://velia-piperuns-dev/VPR_orfcalling_20240308012804_SRX952422/output/VPR_orfcalling_20240308012804_SRX952422_found_by_any_caller.csv ./data/VPR_orfcalling_20240308012804_SRX952422_found_by_any_caller.csv\n"
     ]
    },
    {
     "name": "stderr",
     "output_type": "stream",
     "text": [
      "fatal error: An error occurred (404) when calling the HeadObject operation: Key \"VPR_orfcalling_20240308012804_SRX952422/output/VPR_orfcalling_20240308012804_SRX952422_found_by_any_caller.csv\" does not exist\n"
     ]
    },
    {
     "name": "stdout",
     "output_type": "stream",
     "text": [
      "aws s3 cp s3://velia-piperuns-dev/VPR_orfcalling_20240308012804_SRX952425/output/VPR_orfcalling_20240308012804_SRX952425_found_by_any_caller.csv ./data/VPR_orfcalling_20240308012804_SRX952425_found_by_any_caller.csv\n"
     ]
    },
    {
     "name": "stderr",
     "output_type": "stream",
     "text": [
      "fatal error: An error occurred (404) when calling the HeadObject operation: Key \"VPR_orfcalling_20240308012804_SRX952425/output/VPR_orfcalling_20240308012804_SRX952425_found_by_any_caller.csv\" does not exist\n"
     ]
    },
    {
     "name": "stdout",
     "output_type": "stream",
     "text": [
      "aws s3 cp s3://velia-piperuns-dev/VPR_orfcalling_20240308012804_SRX952426/output/VPR_orfcalling_20240308012804_SRX952426_found_by_any_caller.csv ./data/VPR_orfcalling_20240308012804_SRX952426_found_by_any_caller.csv\n"
     ]
    },
    {
     "name": "stderr",
     "output_type": "stream",
     "text": [
      "fatal error: An error occurred (404) when calling the HeadObject operation: Key \"VPR_orfcalling_20240308012804_SRX952426/output/VPR_orfcalling_20240308012804_SRX952426_found_by_any_caller.csv\" does not exist\n"
     ]
    },
    {
     "name": "stdout",
     "output_type": "stream",
     "text": [
      "aws s3 cp s3://velia-piperuns-dev/VPR_orfcalling_20240308012940_ERX3391949/output/VPR_orfcalling_20240308012940_ERX3391949_found_by_any_caller.csv ./data/VPR_orfcalling_20240308012940_ERX3391949_found_by_any_caller.csv\n",
      "download: s3://velia-piperuns-dev/VPR_orfcalling_20240308012940_ERX3391949/output/VPR_orfcalling_20240308012940_ERX3391949_found_by_any_caller.csv to data/VPR_orfcalling_20240308012940_ERX3391949_found_by_any_caller.csv\n"
     ]
    },
    {
     "name": "stderr",
     "output_type": "stream",
     "text": [
      "/tmp/ipykernel_62869/1228207664.py:16: DtypeWarning: Columns (10,14) have mixed types. Specify dtype option on import or set low_memory=False.\n",
      "  for index, row in pd.read_csv(data_path, sep='\\t').iterrows():\n"
     ]
    },
    {
     "name": "stdout",
     "output_type": "stream",
     "text": [
      "aws s3 cp s3://velia-piperuns-dev/VPR_orfcalling_20240308012940_ERX3391950/output/VPR_orfcalling_20240308012940_ERX3391950_found_by_any_caller.csv ./data/VPR_orfcalling_20240308012940_ERX3391950_found_by_any_caller.csv\n",
      "download: s3://velia-piperuns-dev/VPR_orfcalling_20240308012940_ERX3391950/output/VPR_orfcalling_20240308012940_ERX3391950_found_by_any_caller.csv to data/VPR_orfcalling_20240308012940_ERX3391950_found_by_any_caller.csv\n"
     ]
    },
    {
     "name": "stderr",
     "output_type": "stream",
     "text": [
      "/tmp/ipykernel_62869/1228207664.py:16: DtypeWarning: Columns (10,14) have mixed types. Specify dtype option on import or set low_memory=False.\n",
      "  for index, row in pd.read_csv(data_path, sep='\\t').iterrows():\n"
     ]
    },
    {
     "name": "stdout",
     "output_type": "stream",
     "text": [
      "aws s3 cp s3://velia-piperuns-dev/VPR_orfcalling_20240308012940_SRX1254413/output/VPR_orfcalling_20240308012940_SRX1254413_found_by_any_caller.csv ./data/VPR_orfcalling_20240308012940_SRX1254413_found_by_any_caller.csv\n",
      "download: s3://velia-piperuns-dev/VPR_orfcalling_20240308012940_SRX1254413/output/VPR_orfcalling_20240308012940_SRX1254413_found_by_any_caller.csv to data/VPR_orfcalling_20240308012940_SRX1254413_found_by_any_caller.csv\n"
     ]
    },
    {
     "name": "stderr",
     "output_type": "stream",
     "text": [
      "/tmp/ipykernel_62869/1228207664.py:16: DtypeWarning: Columns (10,14) have mixed types. Specify dtype option on import or set low_memory=False.\n",
      "  for index, row in pd.read_csv(data_path, sep='\\t').iterrows():\n"
     ]
    },
    {
     "name": "stdout",
     "output_type": "stream",
     "text": [
      "aws s3 cp s3://velia-piperuns-dev/VPR_orfcalling_20240308012940_SRX1447296/output/VPR_orfcalling_20240308012940_SRX1447296_found_by_any_caller.csv ./data/VPR_orfcalling_20240308012940_SRX1447296_found_by_any_caller.csv\n",
      "download: s3://velia-piperuns-dev/VPR_orfcalling_20240308012940_SRX1447296/output/VPR_orfcalling_20240308012940_SRX1447296_found_by_any_caller.csv to data/VPR_orfcalling_20240308012940_SRX1447296_found_by_any_caller.csv\n",
      "aws s3 cp s3://velia-piperuns-dev/VPR_orfcalling_20240308012940_SRX1447297/output/VPR_orfcalling_20240308012940_SRX1447297_found_by_any_caller.csv ./data/VPR_orfcalling_20240308012940_SRX1447297_found_by_any_caller.csv\n",
      "download: s3://velia-piperuns-dev/VPR_orfcalling_20240308012940_SRX1447297/output/VPR_orfcalling_20240308012940_SRX1447297_found_by_any_caller.csv to data/VPR_orfcalling_20240308012940_SRX1447297_found_by_any_caller.csv\n",
      "aws s3 cp s3://velia-piperuns-dev/VPR_orfcalling_20240308012940_SRX7666669/output/VPR_orfcalling_20240308012940_SRX7666669_found_by_any_caller.csv ./data/VPR_orfcalling_20240308012940_SRX7666669_found_by_any_caller.csv\n",
      "download: s3://velia-piperuns-dev/VPR_orfcalling_20240308012940_SRX7666669/output/VPR_orfcalling_20240308012940_SRX7666669_found_by_any_caller.csv to data/VPR_orfcalling_20240308012940_SRX7666669_found_by_any_caller.csv\n"
     ]
    },
    {
     "name": "stderr",
     "output_type": "stream",
     "text": [
      "/tmp/ipykernel_62869/1228207664.py:16: DtypeWarning: Columns (10,14) have mixed types. Specify dtype option on import or set low_memory=False.\n",
      "  for index, row in pd.read_csv(data_path, sep='\\t').iterrows():\n"
     ]
    },
    {
     "name": "stdout",
     "output_type": "stream",
     "text": [
      "aws s3 cp s3://velia-piperuns-dev/VPR_orfcalling_20240308012940_SRX7666670/output/VPR_orfcalling_20240308012940_SRX7666670_found_by_any_caller.csv ./data/VPR_orfcalling_20240308012940_SRX7666670_found_by_any_caller.csv\n",
      "download: s3://velia-piperuns-dev/VPR_orfcalling_20240308012940_SRX7666670/output/VPR_orfcalling_20240308012940_SRX7666670_found_by_any_caller.csv to data/VPR_orfcalling_20240308012940_SRX7666670_found_by_any_caller.csv\n"
     ]
    },
    {
     "name": "stderr",
     "output_type": "stream",
     "text": [
      "/tmp/ipykernel_62869/1228207664.py:16: DtypeWarning: Columns (10,14) have mixed types. Specify dtype option on import or set low_memory=False.\n",
      "  for index, row in pd.read_csv(data_path, sep='\\t').iterrows():\n"
     ]
    },
    {
     "name": "stdout",
     "output_type": "stream",
     "text": [
      "aws s3 cp s3://velia-piperuns-dev/VPR_orfcalling_20240308012940_SRX7666671/output/VPR_orfcalling_20240308012940_SRX7666671_found_by_any_caller.csv ./data/VPR_orfcalling_20240308012940_SRX7666671_found_by_any_caller.csv\n",
      "download: s3://velia-piperuns-dev/VPR_orfcalling_20240308012940_SRX7666671/output/VPR_orfcalling_20240308012940_SRX7666671_found_by_any_caller.csv to data/VPR_orfcalling_20240308012940_SRX7666671_found_by_any_caller.csv\n"
     ]
    },
    {
     "name": "stderr",
     "output_type": "stream",
     "text": [
      "/tmp/ipykernel_62869/1228207664.py:16: DtypeWarning: Columns (10,14) have mixed types. Specify dtype option on import or set low_memory=False.\n",
      "  for index, row in pd.read_csv(data_path, sep='\\t').iterrows():\n"
     ]
    },
    {
     "name": "stdout",
     "output_type": "stream",
     "text": [
      "aws s3 cp s3://velia-piperuns-dev/VPR_orfcalling_20240308012940_SRX7666672/output/VPR_orfcalling_20240308012940_SRX7666672_found_by_any_caller.csv ./data/VPR_orfcalling_20240308012940_SRX7666672_found_by_any_caller.csv\n",
      "download: s3://velia-piperuns-dev/VPR_orfcalling_20240308012940_SRX7666672/output/VPR_orfcalling_20240308012940_SRX7666672_found_by_any_caller.csv to data/VPR_orfcalling_20240308012940_SRX7666672_found_by_any_caller.csv\n"
     ]
    },
    {
     "name": "stderr",
     "output_type": "stream",
     "text": [
      "/tmp/ipykernel_62869/1228207664.py:16: DtypeWarning: Columns (10,14) have mixed types. Specify dtype option on import or set low_memory=False.\n",
      "  for index, row in pd.read_csv(data_path, sep='\\t').iterrows():\n"
     ]
    },
    {
     "name": "stdout",
     "output_type": "stream",
     "text": [
      "aws s3 cp s3://velia-piperuns-dev/VPR_orfcalling_20240308012940_SRX7666673/output/VPR_orfcalling_20240308012940_SRX7666673_found_by_any_caller.csv ./data/VPR_orfcalling_20240308012940_SRX7666673_found_by_any_caller.csv\n",
      "download: s3://velia-piperuns-dev/VPR_orfcalling_20240308012940_SRX7666673/output/VPR_orfcalling_20240308012940_SRX7666673_found_by_any_caller.csv to data/VPR_orfcalling_20240308012940_SRX7666673_found_by_any_caller.csv\n"
     ]
    },
    {
     "name": "stderr",
     "output_type": "stream",
     "text": [
      "/tmp/ipykernel_62869/1228207664.py:16: DtypeWarning: Columns (10,14) have mixed types. Specify dtype option on import or set low_memory=False.\n",
      "  for index, row in pd.read_csv(data_path, sep='\\t').iterrows():\n"
     ]
    },
    {
     "name": "stdout",
     "output_type": "stream",
     "text": [
      "aws s3 cp s3://velia-piperuns-dev/VPR_orfcalling_20240308012940_SRX7666674/output/VPR_orfcalling_20240308012940_SRX7666674_found_by_any_caller.csv ./data/VPR_orfcalling_20240308012940_SRX7666674_found_by_any_caller.csv\n",
      "download: s3://velia-piperuns-dev/VPR_orfcalling_20240308012940_SRX7666674/output/VPR_orfcalling_20240308012940_SRX7666674_found_by_any_caller.csv to data/VPR_orfcalling_20240308012940_SRX7666674_found_by_any_caller.csv\n"
     ]
    },
    {
     "name": "stderr",
     "output_type": "stream",
     "text": [
      "/tmp/ipykernel_62869/1228207664.py:16: DtypeWarning: Columns (10,14) have mixed types. Specify dtype option on import or set low_memory=False.\n",
      "  for index, row in pd.read_csv(data_path, sep='\\t').iterrows():\n"
     ]
    },
    {
     "name": "stdout",
     "output_type": "stream",
     "text": [
      "aws s3 cp s3://velia-piperuns-dev/VPR_orfcalling_20240308012940_SRX7666675/output/VPR_orfcalling_20240308012940_SRX7666675_found_by_any_caller.csv ./data/VPR_orfcalling_20240308012940_SRX7666675_found_by_any_caller.csv\n",
      "download: s3://velia-piperuns-dev/VPR_orfcalling_20240308012940_SRX7666675/output/VPR_orfcalling_20240308012940_SRX7666675_found_by_any_caller.csv to data/VPR_orfcalling_20240308012940_SRX7666675_found_by_any_caller.csv\n"
     ]
    },
    {
     "name": "stderr",
     "output_type": "stream",
     "text": [
      "/tmp/ipykernel_62869/1228207664.py:16: DtypeWarning: Columns (10,14,16) have mixed types. Specify dtype option on import or set low_memory=False.\n",
      "  for index, row in pd.read_csv(data_path, sep='\\t').iterrows():\n"
     ]
    },
    {
     "name": "stdout",
     "output_type": "stream",
     "text": [
      "aws s3 cp s3://velia-piperuns-dev/VPR_orfcalling_20240308012940_SRX7666676/output/VPR_orfcalling_20240308012940_SRX7666676_found_by_any_caller.csv ./data/VPR_orfcalling_20240308012940_SRX7666676_found_by_any_caller.csv\n",
      "download: s3://velia-piperuns-dev/VPR_orfcalling_20240308012940_SRX7666676/output/VPR_orfcalling_20240308012940_SRX7666676_found_by_any_caller.csv to data/VPR_orfcalling_20240308012940_SRX7666676_found_by_any_caller.csv\n"
     ]
    },
    {
     "name": "stderr",
     "output_type": "stream",
     "text": [
      "/tmp/ipykernel_62869/1228207664.py:16: DtypeWarning: Columns (10,14) have mixed types. Specify dtype option on import or set low_memory=False.\n",
      "  for index, row in pd.read_csv(data_path, sep='\\t').iterrows():\n"
     ]
    },
    {
     "name": "stdout",
     "output_type": "stream",
     "text": [
      "aws s3 cp s3://velia-piperuns-dev/VPR_orfcalling_20240308012940_SRX7666677/output/VPR_orfcalling_20240308012940_SRX7666677_found_by_any_caller.csv ./data/VPR_orfcalling_20240308012940_SRX7666677_found_by_any_caller.csv\n",
      "download: s3://velia-piperuns-dev/VPR_orfcalling_20240308012940_SRX7666677/output/VPR_orfcalling_20240308012940_SRX7666677_found_by_any_caller.csv to data/VPR_orfcalling_20240308012940_SRX7666677_found_by_any_caller.csv\n"
     ]
    },
    {
     "name": "stderr",
     "output_type": "stream",
     "text": [
      "/tmp/ipykernel_62869/1228207664.py:16: DtypeWarning: Columns (10,14) have mixed types. Specify dtype option on import or set low_memory=False.\n",
      "  for index, row in pd.read_csv(data_path, sep='\\t').iterrows():\n"
     ]
    },
    {
     "name": "stdout",
     "output_type": "stream",
     "text": [
      "aws s3 cp s3://velia-piperuns-dev/VPR_orfcalling_20240308012940_SRX7666678/output/VPR_orfcalling_20240308012940_SRX7666678_found_by_any_caller.csv ./data/VPR_orfcalling_20240308012940_SRX7666678_found_by_any_caller.csv\n",
      "download: s3://velia-piperuns-dev/VPR_orfcalling_20240308012940_SRX7666678/output/VPR_orfcalling_20240308012940_SRX7666678_found_by_any_caller.csv to data/VPR_orfcalling_20240308012940_SRX7666678_found_by_any_caller.csv\n"
     ]
    },
    {
     "name": "stderr",
     "output_type": "stream",
     "text": [
      "/tmp/ipykernel_62869/1228207664.py:16: DtypeWarning: Columns (10,14) have mixed types. Specify dtype option on import or set low_memory=False.\n",
      "  for index, row in pd.read_csv(data_path, sep='\\t').iterrows():\n"
     ]
    },
    {
     "name": "stdout",
     "output_type": "stream",
     "text": [
      "aws s3 cp s3://velia-piperuns-dev/VPR_orfcalling_20240308012940_SRX7666679/output/VPR_orfcalling_20240308012940_SRX7666679_found_by_any_caller.csv ./data/VPR_orfcalling_20240308012940_SRX7666679_found_by_any_caller.csv\n",
      "download: s3://velia-piperuns-dev/VPR_orfcalling_20240308012940_SRX7666679/output/VPR_orfcalling_20240308012940_SRX7666679_found_by_any_caller.csv to data/VPR_orfcalling_20240308012940_SRX7666679_found_by_any_caller.csv\n"
     ]
    },
    {
     "name": "stderr",
     "output_type": "stream",
     "text": [
      "/tmp/ipykernel_62869/1228207664.py:16: DtypeWarning: Columns (10,14) have mixed types. Specify dtype option on import or set low_memory=False.\n",
      "  for index, row in pd.read_csv(data_path, sep='\\t').iterrows():\n"
     ]
    },
    {
     "name": "stdout",
     "output_type": "stream",
     "text": [
      "aws s3 cp s3://velia-piperuns-dev/VPR_orfcalling_20240308012940_SRX7666680/output/VPR_orfcalling_20240308012940_SRX7666680_found_by_any_caller.csv ./data/VPR_orfcalling_20240308012940_SRX7666680_found_by_any_caller.csv\n",
      "download: s3://velia-piperuns-dev/VPR_orfcalling_20240308012940_SRX7666680/output/VPR_orfcalling_20240308012940_SRX7666680_found_by_any_caller.csv to data/VPR_orfcalling_20240308012940_SRX7666680_found_by_any_caller.csv\n"
     ]
    },
    {
     "name": "stderr",
     "output_type": "stream",
     "text": [
      "/tmp/ipykernel_62869/1228207664.py:16: DtypeWarning: Columns (10,14) have mixed types. Specify dtype option on import or set low_memory=False.\n",
      "  for index, row in pd.read_csv(data_path, sep='\\t').iterrows():\n"
     ]
    },
    {
     "name": "stdout",
     "output_type": "stream",
     "text": [
      "aws s3 cp s3://velia-piperuns-dev/VPR_orfcalling_20240308012940_SRX7666681/output/VPR_orfcalling_20240308012940_SRX7666681_found_by_any_caller.csv ./data/VPR_orfcalling_20240308012940_SRX7666681_found_by_any_caller.csv\n",
      "download: s3://velia-piperuns-dev/VPR_orfcalling_20240308012940_SRX7666681/output/VPR_orfcalling_20240308012940_SRX7666681_found_by_any_caller.csv to data/VPR_orfcalling_20240308012940_SRX7666681_found_by_any_caller.csv\n"
     ]
    },
    {
     "name": "stderr",
     "output_type": "stream",
     "text": [
      "/tmp/ipykernel_62869/1228207664.py:16: DtypeWarning: Columns (10,14) have mixed types. Specify dtype option on import or set low_memory=False.\n",
      "  for index, row in pd.read_csv(data_path, sep='\\t').iterrows():\n"
     ]
    },
    {
     "name": "stdout",
     "output_type": "stream",
     "text": [
      "aws s3 cp s3://velia-piperuns-dev/VPR_orfcalling_20240308012940_SRX7666682/output/VPR_orfcalling_20240308012940_SRX7666682_found_by_any_caller.csv ./data/VPR_orfcalling_20240308012940_SRX7666682_found_by_any_caller.csv\n",
      "download: s3://velia-piperuns-dev/VPR_orfcalling_20240308012940_SRX7666682/output/VPR_orfcalling_20240308012940_SRX7666682_found_by_any_caller.csv to data/VPR_orfcalling_20240308012940_SRX7666682_found_by_any_caller.csv\n"
     ]
    },
    {
     "name": "stderr",
     "output_type": "stream",
     "text": [
      "/tmp/ipykernel_62869/1228207664.py:16: DtypeWarning: Columns (10,14) have mixed types. Specify dtype option on import or set low_memory=False.\n",
      "  for index, row in pd.read_csv(data_path, sep='\\t').iterrows():\n"
     ]
    },
    {
     "name": "stdout",
     "output_type": "stream",
     "text": [
      "aws s3 cp s3://velia-piperuns-dev/VPR_orfcalling_20240308012940_SRX7666683/output/VPR_orfcalling_20240308012940_SRX7666683_found_by_any_caller.csv ./data/VPR_orfcalling_20240308012940_SRX7666683_found_by_any_caller.csv\n",
      "download: s3://velia-piperuns-dev/VPR_orfcalling_20240308012940_SRX7666683/output/VPR_orfcalling_20240308012940_SRX7666683_found_by_any_caller.csv to data/VPR_orfcalling_20240308012940_SRX7666683_found_by_any_caller.csv\n"
     ]
    },
    {
     "name": "stderr",
     "output_type": "stream",
     "text": [
      "/tmp/ipykernel_62869/1228207664.py:16: DtypeWarning: Columns (10,14) have mixed types. Specify dtype option on import or set low_memory=False.\n",
      "  for index, row in pd.read_csv(data_path, sep='\\t').iterrows():\n"
     ]
    },
    {
     "name": "stdout",
     "output_type": "stream",
     "text": [
      "aws s3 cp s3://velia-piperuns-dev/VPR_orfcalling_20240308012940_SRX7666684/output/VPR_orfcalling_20240308012940_SRX7666684_found_by_any_caller.csv ./data/VPR_orfcalling_20240308012940_SRX7666684_found_by_any_caller.csv\n",
      "download: s3://velia-piperuns-dev/VPR_orfcalling_20240308012940_SRX7666684/output/VPR_orfcalling_20240308012940_SRX7666684_found_by_any_caller.csv to data/VPR_orfcalling_20240308012940_SRX7666684_found_by_any_caller.csv\n"
     ]
    },
    {
     "name": "stderr",
     "output_type": "stream",
     "text": [
      "/tmp/ipykernel_62869/1228207664.py:16: DtypeWarning: Columns (10,14) have mixed types. Specify dtype option on import or set low_memory=False.\n",
      "  for index, row in pd.read_csv(data_path, sep='\\t').iterrows():\n"
     ]
    },
    {
     "name": "stdout",
     "output_type": "stream",
     "text": [
      "aws s3 cp s3://velia-piperuns-dev/VPR_orfcalling_20240308012940_SRX7666685/output/VPR_orfcalling_20240308012940_SRX7666685_found_by_any_caller.csv ./data/VPR_orfcalling_20240308012940_SRX7666685_found_by_any_caller.csv\n",
      "download: s3://velia-piperuns-dev/VPR_orfcalling_20240308012940_SRX7666685/output/VPR_orfcalling_20240308012940_SRX7666685_found_by_any_caller.csv to data/VPR_orfcalling_20240308012940_SRX7666685_found_by_any_caller.csv\n"
     ]
    },
    {
     "name": "stderr",
     "output_type": "stream",
     "text": [
      "/tmp/ipykernel_62869/1228207664.py:16: DtypeWarning: Columns (10,14) have mixed types. Specify dtype option on import or set low_memory=False.\n",
      "  for index, row in pd.read_csv(data_path, sep='\\t').iterrows():\n"
     ]
    },
    {
     "name": "stdout",
     "output_type": "stream",
     "text": [
      "aws s3 cp s3://velia-piperuns-dev/VPR_orfcalling_20240308012940_SRX7666686/output/VPR_orfcalling_20240308012940_SRX7666686_found_by_any_caller.csv ./data/VPR_orfcalling_20240308012940_SRX7666686_found_by_any_caller.csv\n",
      "download: s3://velia-piperuns-dev/VPR_orfcalling_20240308012940_SRX7666686/output/VPR_orfcalling_20240308012940_SRX7666686_found_by_any_caller.csv to data/VPR_orfcalling_20240308012940_SRX7666686_found_by_any_caller.csv\n"
     ]
    },
    {
     "name": "stderr",
     "output_type": "stream",
     "text": [
      "/tmp/ipykernel_62869/1228207664.py:16: DtypeWarning: Columns (10,14) have mixed types. Specify dtype option on import or set low_memory=False.\n",
      "  for index, row in pd.read_csv(data_path, sep='\\t').iterrows():\n"
     ]
    },
    {
     "name": "stdout",
     "output_type": "stream",
     "text": [
      "aws s3 cp s3://velia-piperuns-dev/VPR_orfcalling_20240308012940_SRX7666687/output/VPR_orfcalling_20240308012940_SRX7666687_found_by_any_caller.csv ./data/VPR_orfcalling_20240308012940_SRX7666687_found_by_any_caller.csv\n",
      "download: s3://velia-piperuns-dev/VPR_orfcalling_20240308012940_SRX7666687/output/VPR_orfcalling_20240308012940_SRX7666687_found_by_any_caller.csv to data/VPR_orfcalling_20240308012940_SRX7666687_found_by_any_caller.csv\n"
     ]
    },
    {
     "name": "stderr",
     "output_type": "stream",
     "text": [
      "/tmp/ipykernel_62869/1228207664.py:16: DtypeWarning: Columns (10,14) have mixed types. Specify dtype option on import or set low_memory=False.\n",
      "  for index, row in pd.read_csv(data_path, sep='\\t').iterrows():\n"
     ]
    },
    {
     "name": "stdout",
     "output_type": "stream",
     "text": [
      "aws s3 cp s3://velia-piperuns-dev/VPR_orfcalling_20240308012940_SRX7666688/output/VPR_orfcalling_20240308012940_SRX7666688_found_by_any_caller.csv ./data/VPR_orfcalling_20240308012940_SRX7666688_found_by_any_caller.csv\n",
      "download: s3://velia-piperuns-dev/VPR_orfcalling_20240308012940_SRX7666688/output/VPR_orfcalling_20240308012940_SRX7666688_found_by_any_caller.csv to data/VPR_orfcalling_20240308012940_SRX7666688_found_by_any_caller.csv\n"
     ]
    },
    {
     "name": "stderr",
     "output_type": "stream",
     "text": [
      "/tmp/ipykernel_62869/1228207664.py:16: DtypeWarning: Columns (10,14) have mixed types. Specify dtype option on import or set low_memory=False.\n",
      "  for index, row in pd.read_csv(data_path, sep='\\t').iterrows():\n"
     ]
    },
    {
     "name": "stdout",
     "output_type": "stream",
     "text": [
      "aws s3 cp s3://velia-piperuns-dev/VPR_orfcalling_20240308012940_SRX7666689/output/VPR_orfcalling_20240308012940_SRX7666689_found_by_any_caller.csv ./data/VPR_orfcalling_20240308012940_SRX7666689_found_by_any_caller.csv\n",
      "download: s3://velia-piperuns-dev/VPR_orfcalling_20240308012940_SRX7666689/output/VPR_orfcalling_20240308012940_SRX7666689_found_by_any_caller.csv to data/VPR_orfcalling_20240308012940_SRX7666689_found_by_any_caller.csv\n"
     ]
    },
    {
     "name": "stderr",
     "output_type": "stream",
     "text": [
      "/tmp/ipykernel_62869/1228207664.py:16: DtypeWarning: Columns (10,14) have mixed types. Specify dtype option on import or set low_memory=False.\n",
      "  for index, row in pd.read_csv(data_path, sep='\\t').iterrows():\n"
     ]
    },
    {
     "name": "stdout",
     "output_type": "stream",
     "text": [
      "aws s3 cp s3://velia-piperuns-dev/VPR_orfcalling_20240308012940_SRX7666690/output/VPR_orfcalling_20240308012940_SRX7666690_found_by_any_caller.csv ./data/VPR_orfcalling_20240308012940_SRX7666690_found_by_any_caller.csv\n",
      "download: s3://velia-piperuns-dev/VPR_orfcalling_20240308012940_SRX7666690/output/VPR_orfcalling_20240308012940_SRX7666690_found_by_any_caller.csv to data/VPR_orfcalling_20240308012940_SRX7666690_found_by_any_caller.csv\n"
     ]
    },
    {
     "name": "stderr",
     "output_type": "stream",
     "text": [
      "/tmp/ipykernel_62869/1228207664.py:16: DtypeWarning: Columns (10,14) have mixed types. Specify dtype option on import or set low_memory=False.\n",
      "  for index, row in pd.read_csv(data_path, sep='\\t').iterrows():\n"
     ]
    },
    {
     "name": "stdout",
     "output_type": "stream",
     "text": [
      "aws s3 cp s3://velia-piperuns-dev/VPR_orfcalling_20240308012940_SRX7666691/output/VPR_orfcalling_20240308012940_SRX7666691_found_by_any_caller.csv ./data/VPR_orfcalling_20240308012940_SRX7666691_found_by_any_caller.csv\n",
      "download: s3://velia-piperuns-dev/VPR_orfcalling_20240308012940_SRX7666691/output/VPR_orfcalling_20240308012940_SRX7666691_found_by_any_caller.csv to data/VPR_orfcalling_20240308012940_SRX7666691_found_by_any_caller.csv\n"
     ]
    },
    {
     "name": "stderr",
     "output_type": "stream",
     "text": [
      "/tmp/ipykernel_62869/1228207664.py:16: DtypeWarning: Columns (10,14) have mixed types. Specify dtype option on import or set low_memory=False.\n",
      "  for index, row in pd.read_csv(data_path, sep='\\t').iterrows():\n"
     ]
    },
    {
     "name": "stdout",
     "output_type": "stream",
     "text": [
      "aws s3 cp s3://velia-piperuns-dev/VPR_orfcalling_20240308012940_SRX7666692/output/VPR_orfcalling_20240308012940_SRX7666692_found_by_any_caller.csv ./data/VPR_orfcalling_20240308012940_SRX7666692_found_by_any_caller.csv\n",
      "download: s3://velia-piperuns-dev/VPR_orfcalling_20240308012940_SRX7666692/output/VPR_orfcalling_20240308012940_SRX7666692_found_by_any_caller.csv to data/VPR_orfcalling_20240308012940_SRX7666692_found_by_any_caller.csv\n"
     ]
    },
    {
     "name": "stderr",
     "output_type": "stream",
     "text": [
      "/tmp/ipykernel_62869/1228207664.py:16: DtypeWarning: Columns (10,14) have mixed types. Specify dtype option on import or set low_memory=False.\n",
      "  for index, row in pd.read_csv(data_path, sep='\\t').iterrows():\n"
     ]
    },
    {
     "name": "stdout",
     "output_type": "stream",
     "text": [
      "aws s3 cp s3://velia-piperuns-dev/VPR_orfcalling_20240308012940_SRX7666693/output/VPR_orfcalling_20240308012940_SRX7666693_found_by_any_caller.csv ./data/VPR_orfcalling_20240308012940_SRX7666693_found_by_any_caller.csv\n",
      "download: s3://velia-piperuns-dev/VPR_orfcalling_20240308012940_SRX7666693/output/VPR_orfcalling_20240308012940_SRX7666693_found_by_any_caller.csv to data/VPR_orfcalling_20240308012940_SRX7666693_found_by_any_caller.csv\n"
     ]
    },
    {
     "name": "stderr",
     "output_type": "stream",
     "text": [
      "/tmp/ipykernel_62869/1228207664.py:16: DtypeWarning: Columns (10,14) have mixed types. Specify dtype option on import or set low_memory=False.\n",
      "  for index, row in pd.read_csv(data_path, sep='\\t').iterrows():\n"
     ]
    },
    {
     "name": "stdout",
     "output_type": "stream",
     "text": [
      "aws s3 cp s3://velia-piperuns-dev/VPR_orfcalling_20240308012940_SRX7666694/output/VPR_orfcalling_20240308012940_SRX7666694_found_by_any_caller.csv ./data/VPR_orfcalling_20240308012940_SRX7666694_found_by_any_caller.csv\n",
      "download: s3://velia-piperuns-dev/VPR_orfcalling_20240308012940_SRX7666694/output/VPR_orfcalling_20240308012940_SRX7666694_found_by_any_caller.csv to data/VPR_orfcalling_20240308012940_SRX7666694_found_by_any_caller.csv\n"
     ]
    },
    {
     "name": "stderr",
     "output_type": "stream",
     "text": [
      "/tmp/ipykernel_62869/1228207664.py:16: DtypeWarning: Columns (10,14) have mixed types. Specify dtype option on import or set low_memory=False.\n",
      "  for index, row in pd.read_csv(data_path, sep='\\t').iterrows():\n"
     ]
    },
    {
     "name": "stdout",
     "output_type": "stream",
     "text": [
      "aws s3 cp s3://velia-piperuns-dev/VPR_orfcalling_20240308012940_SRX7666695/output/VPR_orfcalling_20240308012940_SRX7666695_found_by_any_caller.csv ./data/VPR_orfcalling_20240308012940_SRX7666695_found_by_any_caller.csv\n",
      "download: s3://velia-piperuns-dev/VPR_orfcalling_20240308012940_SRX7666695/output/VPR_orfcalling_20240308012940_SRX7666695_found_by_any_caller.csv to data/VPR_orfcalling_20240308012940_SRX7666695_found_by_any_caller.csv\n"
     ]
    },
    {
     "name": "stderr",
     "output_type": "stream",
     "text": [
      "/tmp/ipykernel_62869/1228207664.py:16: DtypeWarning: Columns (10,14) have mixed types. Specify dtype option on import or set low_memory=False.\n",
      "  for index, row in pd.read_csv(data_path, sep='\\t').iterrows():\n"
     ]
    },
    {
     "name": "stdout",
     "output_type": "stream",
     "text": [
      "aws s3 cp s3://velia-piperuns-dev/VPR_orfcalling_20240308012940_SRX7666696/output/VPR_orfcalling_20240308012940_SRX7666696_found_by_any_caller.csv ./data/VPR_orfcalling_20240308012940_SRX7666696_found_by_any_caller.csv\n",
      "download: s3://velia-piperuns-dev/VPR_orfcalling_20240308012940_SRX7666696/output/VPR_orfcalling_20240308012940_SRX7666696_found_by_any_caller.csv to data/VPR_orfcalling_20240308012940_SRX7666696_found_by_any_caller.csv\n"
     ]
    },
    {
     "name": "stderr",
     "output_type": "stream",
     "text": [
      "/tmp/ipykernel_62869/1228207664.py:16: DtypeWarning: Columns (10,14) have mixed types. Specify dtype option on import or set low_memory=False.\n",
      "  for index, row in pd.read_csv(data_path, sep='\\t').iterrows():\n"
     ]
    },
    {
     "name": "stdout",
     "output_type": "stream",
     "text": [
      "aws s3 cp s3://velia-piperuns-dev/VPR_orfcalling_20240308012940_SRX7666697/output/VPR_orfcalling_20240308012940_SRX7666697_found_by_any_caller.csv ./data/VPR_orfcalling_20240308012940_SRX7666697_found_by_any_caller.csv\n",
      "download: s3://velia-piperuns-dev/VPR_orfcalling_20240308012940_SRX7666697/output/VPR_orfcalling_20240308012940_SRX7666697_found_by_any_caller.csv to data/VPR_orfcalling_20240308012940_SRX7666697_found_by_any_caller.csv\n"
     ]
    },
    {
     "name": "stderr",
     "output_type": "stream",
     "text": [
      "/tmp/ipykernel_62869/1228207664.py:16: DtypeWarning: Columns (10,14) have mixed types. Specify dtype option on import or set low_memory=False.\n",
      "  for index, row in pd.read_csv(data_path, sep='\\t').iterrows():\n"
     ]
    },
    {
     "name": "stdout",
     "output_type": "stream",
     "text": [
      "aws s3 cp s3://velia-piperuns-dev/VPR_orfcalling_20240308012940_SRX7666698/output/VPR_orfcalling_20240308012940_SRX7666698_found_by_any_caller.csv ./data/VPR_orfcalling_20240308012940_SRX7666698_found_by_any_caller.csv\n",
      "download: s3://velia-piperuns-dev/VPR_orfcalling_20240308012940_SRX7666698/output/VPR_orfcalling_20240308012940_SRX7666698_found_by_any_caller.csv to data/VPR_orfcalling_20240308012940_SRX7666698_found_by_any_caller.csv\n"
     ]
    },
    {
     "name": "stderr",
     "output_type": "stream",
     "text": [
      "/tmp/ipykernel_62869/1228207664.py:16: DtypeWarning: Columns (10,14) have mixed types. Specify dtype option on import or set low_memory=False.\n",
      "  for index, row in pd.read_csv(data_path, sep='\\t').iterrows():\n"
     ]
    },
    {
     "name": "stdout",
     "output_type": "stream",
     "text": [
      "aws s3 cp s3://velia-piperuns-dev/VPR_orfcalling_20240308012940_SRX876046/output/VPR_orfcalling_20240308012940_SRX876046_found_by_any_caller.csv ./data/VPR_orfcalling_20240308012940_SRX876046_found_by_any_caller.csv\n",
      "download: s3://velia-piperuns-dev/VPR_orfcalling_20240308012940_SRX876046/output/VPR_orfcalling_20240308012940_SRX876046_found_by_any_caller.csv to data/VPR_orfcalling_20240308012940_SRX876046_found_by_any_caller.csv\n",
      "aws s3 cp s3://velia-piperuns-dev/VPR_orfcalling_20240308012940_SRX876047/output/VPR_orfcalling_20240308012940_SRX876047_found_by_any_caller.csv ./data/VPR_orfcalling_20240308012940_SRX876047_found_by_any_caller.csv\n",
      "download: s3://velia-piperuns-dev/VPR_orfcalling_20240308012940_SRX876047/output/VPR_orfcalling_20240308012940_SRX876047_found_by_any_caller.csv to data/VPR_orfcalling_20240308012940_SRX876047_found_by_any_caller.csv\n",
      "aws s3 cp s3://velia-piperuns-dev/VPR_orfcalling_20240308012940_SRX876048/output/VPR_orfcalling_20240308012940_SRX876048_found_by_any_caller.csv ./data/VPR_orfcalling_20240308012940_SRX876048_found_by_any_caller.csv\n",
      "download: s3://velia-piperuns-dev/VPR_orfcalling_20240308012940_SRX876048/output/VPR_orfcalling_20240308012940_SRX876048_found_by_any_caller.csv to data/VPR_orfcalling_20240308012940_SRX876048_found_by_any_caller.csv\n",
      "aws s3 cp s3://velia-piperuns-dev/VPR_orfcalling_20240308012940_SRX876049/output/VPR_orfcalling_20240308012940_SRX876049_found_by_any_caller.csv ./data/VPR_orfcalling_20240308012940_SRX876049_found_by_any_caller.csv\n",
      "download: s3://velia-piperuns-dev/VPR_orfcalling_20240308012940_SRX876049/output/VPR_orfcalling_20240308012940_SRX876049_found_by_any_caller.csv to data/VPR_orfcalling_20240308012940_SRX876049_found_by_any_caller.csv\n",
      "aws s3 cp s3://velia-piperuns-dev/VPR_orfcalling_20240308012940_SRX876050/output/VPR_orfcalling_20240308012940_SRX876050_found_by_any_caller.csv ./data/VPR_orfcalling_20240308012940_SRX876050_found_by_any_caller.csv\n"
     ]
    },
    {
     "name": "stderr",
     "output_type": "stream",
     "text": [
      "fatal error: An error occurred (404) when calling the HeadObject operation: Key \"VPR_orfcalling_20240308012940_SRX876050/output/VPR_orfcalling_20240308012940_SRX876050_found_by_any_caller.csv\" does not exist\n"
     ]
    },
    {
     "name": "stdout",
     "output_type": "stream",
     "text": [
      "aws s3 cp s3://velia-piperuns-dev/VPR_orfcalling_20240308012940_SRX876051/output/VPR_orfcalling_20240308012940_SRX876051_found_by_any_caller.csv ./data/VPR_orfcalling_20240308012940_SRX876051_found_by_any_caller.csv\n"
     ]
    },
    {
     "name": "stderr",
     "output_type": "stream",
     "text": [
      "fatal error: An error occurred (404) when calling the HeadObject operation: Key \"VPR_orfcalling_20240308012940_SRX876051/output/VPR_orfcalling_20240308012940_SRX876051_found_by_any_caller.csv\" does not exist\n"
     ]
    },
    {
     "name": "stdout",
     "output_type": "stream",
     "text": [
      "aws s3 cp s3://velia-piperuns-dev/VPR_orfcalling_20240308012940_SRX876052/output/VPR_orfcalling_20240308012940_SRX876052_found_by_any_caller.csv ./data/VPR_orfcalling_20240308012940_SRX876052_found_by_any_caller.csv\n"
     ]
    },
    {
     "name": "stderr",
     "output_type": "stream",
     "text": [
      "fatal error: An error occurred (404) when calling the HeadObject operation: Key \"VPR_orfcalling_20240308012940_SRX876052/output/VPR_orfcalling_20240308012940_SRX876052_found_by_any_caller.csv\" does not exist\n"
     ]
    },
    {
     "name": "stdout",
     "output_type": "stream",
     "text": [
      "aws s3 cp s3://velia-piperuns-dev/VPR_orfcalling_20240308012940_SRX876053/output/VPR_orfcalling_20240308012940_SRX876053_found_by_any_caller.csv ./data/VPR_orfcalling_20240308012940_SRX876053_found_by_any_caller.csv\n"
     ]
    },
    {
     "name": "stderr",
     "output_type": "stream",
     "text": [
      "fatal error: An error occurred (404) when calling the HeadObject operation: Key \"VPR_orfcalling_20240308012940_SRX876053/output/VPR_orfcalling_20240308012940_SRX876053_found_by_any_caller.csv\" does not exist\n"
     ]
    },
    {
     "name": "stdout",
     "output_type": "stream",
     "text": [
      "aws s3 cp s3://velia-piperuns-dev/VPR_orfcalling_20240308012940_SRX876054/output/VPR_orfcalling_20240308012940_SRX876054_found_by_any_caller.csv ./data/VPR_orfcalling_20240308012940_SRX876054_found_by_any_caller.csv\n",
      "download: s3://velia-piperuns-dev/VPR_orfcalling_20240308012940_SRX876054/output/VPR_orfcalling_20240308012940_SRX876054_found_by_any_caller.csv to data/VPR_orfcalling_20240308012940_SRX876054_found_by_any_caller.csv\n"
     ]
    },
    {
     "name": "stderr",
     "output_type": "stream",
     "text": [
      "/tmp/ipykernel_62869/1228207664.py:16: DtypeWarning: Columns (14) have mixed types. Specify dtype option on import or set low_memory=False.\n",
      "  for index, row in pd.read_csv(data_path, sep='\\t').iterrows():\n"
     ]
    },
    {
     "name": "stdout",
     "output_type": "stream",
     "text": [
      "aws s3 cp s3://velia-piperuns-dev/VPR_orfcalling_20240308012940_SRX876055/output/VPR_orfcalling_20240308012940_SRX876055_found_by_any_caller.csv ./data/VPR_orfcalling_20240308012940_SRX876055_found_by_any_caller.csv\n",
      "download: s3://velia-piperuns-dev/VPR_orfcalling_20240308012940_SRX876055/output/VPR_orfcalling_20240308012940_SRX876055_found_by_any_caller.csv to data/VPR_orfcalling_20240308012940_SRX876055_found_by_any_caller.csv\n"
     ]
    },
    {
     "name": "stderr",
     "output_type": "stream",
     "text": [
      "/tmp/ipykernel_62869/1228207664.py:16: DtypeWarning: Columns (14) have mixed types. Specify dtype option on import or set low_memory=False.\n",
      "  for index, row in pd.read_csv(data_path, sep='\\t').iterrows():\n"
     ]
    },
    {
     "name": "stdout",
     "output_type": "stream",
     "text": [
      "aws s3 cp s3://velia-piperuns-dev/VPR_orfcalling_20240308012940_SRX876056/output/VPR_orfcalling_20240308012940_SRX876056_found_by_any_caller.csv ./data/VPR_orfcalling_20240308012940_SRX876056_found_by_any_caller.csv\n",
      "download: s3://velia-piperuns-dev/VPR_orfcalling_20240308012940_SRX876056/output/VPR_orfcalling_20240308012940_SRX876056_found_by_any_caller.csv to data/VPR_orfcalling_20240308012940_SRX876056_found_by_any_caller.csv\n"
     ]
    },
    {
     "name": "stderr",
     "output_type": "stream",
     "text": [
      "/tmp/ipykernel_62869/1228207664.py:16: DtypeWarning: Columns (14) have mixed types. Specify dtype option on import or set low_memory=False.\n",
      "  for index, row in pd.read_csv(data_path, sep='\\t').iterrows():\n"
     ]
    },
    {
     "name": "stdout",
     "output_type": "stream",
     "text": [
      "aws s3 cp s3://velia-piperuns-dev/VPR_orfcalling_20240308012940_SRX876057/output/VPR_orfcalling_20240308012940_SRX876057_found_by_any_caller.csv ./data/VPR_orfcalling_20240308012940_SRX876057_found_by_any_caller.csv\n",
      "download: s3://velia-piperuns-dev/VPR_orfcalling_20240308012940_SRX876057/output/VPR_orfcalling_20240308012940_SRX876057_found_by_any_caller.csv to data/VPR_orfcalling_20240308012940_SRX876057_found_by_any_caller.csv\n"
     ]
    },
    {
     "name": "stderr",
     "output_type": "stream",
     "text": [
      "/tmp/ipykernel_62869/1228207664.py:16: DtypeWarning: Columns (14) have mixed types. Specify dtype option on import or set low_memory=False.\n",
      "  for index, row in pd.read_csv(data_path, sep='\\t').iterrows():\n"
     ]
    },
    {
     "name": "stdout",
     "output_type": "stream",
     "text": [
      "aws s3 cp s3://velia-piperuns-dev/VPR_orfcalling_20240308012940_SRX876058/output/VPR_orfcalling_20240308012940_SRX876058_found_by_any_caller.csv ./data/VPR_orfcalling_20240308012940_SRX876058_found_by_any_caller.csv\n",
      "download: s3://velia-piperuns-dev/VPR_orfcalling_20240308012940_SRX876058/output/VPR_orfcalling_20240308012940_SRX876058_found_by_any_caller.csv to data/VPR_orfcalling_20240308012940_SRX876058_found_by_any_caller.csv\n"
     ]
    },
    {
     "name": "stderr",
     "output_type": "stream",
     "text": [
      "/tmp/ipykernel_62869/1228207664.py:16: DtypeWarning: Columns (14) have mixed types. Specify dtype option on import or set low_memory=False.\n",
      "  for index, row in pd.read_csv(data_path, sep='\\t').iterrows():\n"
     ]
    },
    {
     "name": "stdout",
     "output_type": "stream",
     "text": [
      "aws s3 cp s3://velia-piperuns-dev/VPR_orfcalling_20240308012940_SRX876059/output/VPR_orfcalling_20240308012940_SRX876059_found_by_any_caller.csv ./data/VPR_orfcalling_20240308012940_SRX876059_found_by_any_caller.csv\n",
      "download: s3://velia-piperuns-dev/VPR_orfcalling_20240308012940_SRX876059/output/VPR_orfcalling_20240308012940_SRX876059_found_by_any_caller.csv to data/VPR_orfcalling_20240308012940_SRX876059_found_by_any_caller.csv\n"
     ]
    },
    {
     "name": "stderr",
     "output_type": "stream",
     "text": [
      "/tmp/ipykernel_62869/1228207664.py:16: DtypeWarning: Columns (14) have mixed types. Specify dtype option on import or set low_memory=False.\n",
      "  for index, row in pd.read_csv(data_path, sep='\\t').iterrows():\n"
     ]
    },
    {
     "name": "stdout",
     "output_type": "stream",
     "text": [
      "aws s3 cp s3://velia-piperuns-dev/VPR_orfcalling_20240308012940_SRX876063/output/VPR_orfcalling_20240308012940_SRX876063_found_by_any_caller.csv ./data/VPR_orfcalling_20240308012940_SRX876063_found_by_any_caller.csv\n",
      "download: s3://velia-piperuns-dev/VPR_orfcalling_20240308012940_SRX876063/output/VPR_orfcalling_20240308012940_SRX876063_found_by_any_caller.csv to data/VPR_orfcalling_20240308012940_SRX876063_found_by_any_caller.csv\n",
      "aws s3 cp s3://velia-piperuns-dev/VPR_orfcalling_20240308012940_SRX876064/output/VPR_orfcalling_20240308012940_SRX876064_found_by_any_caller.csv ./data/VPR_orfcalling_20240308012940_SRX876064_found_by_any_caller.csv\n",
      "download: s3://velia-piperuns-dev/VPR_orfcalling_20240308012940_SRX876064/output/VPR_orfcalling_20240308012940_SRX876064_found_by_any_caller.csv to data/VPR_orfcalling_20240308012940_SRX876064_found_by_any_caller.csv\n"
     ]
    },
    {
     "name": "stderr",
     "output_type": "stream",
     "text": [
      "/tmp/ipykernel_62869/1228207664.py:16: DtypeWarning: Columns (14) have mixed types. Specify dtype option on import or set low_memory=False.\n",
      "  for index, row in pd.read_csv(data_path, sep='\\t').iterrows():\n"
     ]
    },
    {
     "name": "stdout",
     "output_type": "stream",
     "text": [
      "aws s3 cp s3://velia-piperuns-dev/VPR_orfcalling_20240308012940_SRX876065/output/VPR_orfcalling_20240308012940_SRX876065_found_by_any_caller.csv ./data/VPR_orfcalling_20240308012940_SRX876065_found_by_any_caller.csv\n",
      "download: s3://velia-piperuns-dev/VPR_orfcalling_20240308012940_SRX876065/output/VPR_orfcalling_20240308012940_SRX876065_found_by_any_caller.csv to data/VPR_orfcalling_20240308012940_SRX876065_found_by_any_caller.csv\n",
      "aws s3 cp s3://velia-piperuns-dev/VPR_orfcalling_20240308012940_SRX876066/output/VPR_orfcalling_20240308012940_SRX876066_found_by_any_caller.csv ./data/VPR_orfcalling_20240308012940_SRX876066_found_by_any_caller.csv\n"
     ]
    },
    {
     "name": "stderr",
     "output_type": "stream",
     "text": [
      "fatal error: An error occurred (404) when calling the HeadObject operation: Key \"VPR_orfcalling_20240308012940_SRX876066/output/VPR_orfcalling_20240308012940_SRX876066_found_by_any_caller.csv\" does not exist\n"
     ]
    },
    {
     "name": "stdout",
     "output_type": "stream",
     "text": [
      "aws s3 cp s3://velia-piperuns-dev/VPR_orfcalling_20240308012940_SRX876067/output/VPR_orfcalling_20240308012940_SRX876067_found_by_any_caller.csv ./data/VPR_orfcalling_20240308012940_SRX876067_found_by_any_caller.csv\n"
     ]
    },
    {
     "name": "stderr",
     "output_type": "stream",
     "text": [
      "fatal error: An error occurred (404) when calling the HeadObject operation: Key \"VPR_orfcalling_20240308012940_SRX876067/output/VPR_orfcalling_20240308012940_SRX876067_found_by_any_caller.csv\" does not exist\n"
     ]
    },
    {
     "name": "stdout",
     "output_type": "stream",
     "text": [
      "aws s3 cp s3://velia-piperuns-dev/VPR_orfcalling_20240308012940_SRX876068/output/VPR_orfcalling_20240308012940_SRX876068_found_by_any_caller.csv ./data/VPR_orfcalling_20240308012940_SRX876068_found_by_any_caller.csv\n"
     ]
    },
    {
     "name": "stderr",
     "output_type": "stream",
     "text": [
      "fatal error: An error occurred (404) when calling the HeadObject operation: Key \"VPR_orfcalling_20240308012940_SRX876068/output/VPR_orfcalling_20240308012940_SRX876068_found_by_any_caller.csv\" does not exist\n"
     ]
    },
    {
     "name": "stdout",
     "output_type": "stream",
     "text": [
      "aws s3 cp s3://velia-piperuns-dev/VPR_orfcalling_20240308012940_SRX876069/output/VPR_orfcalling_20240308012940_SRX876069_found_by_any_caller.csv ./data/VPR_orfcalling_20240308012940_SRX876069_found_by_any_caller.csv\n",
      "download: s3://velia-piperuns-dev/VPR_orfcalling_20240308012940_SRX876069/output/VPR_orfcalling_20240308012940_SRX876069_found_by_any_caller.csv to data/VPR_orfcalling_20240308012940_SRX876069_found_by_any_caller.csv\n"
     ]
    },
    {
     "name": "stderr",
     "output_type": "stream",
     "text": [
      "/tmp/ipykernel_62869/1228207664.py:16: DtypeWarning: Columns (14) have mixed types. Specify dtype option on import or set low_memory=False.\n",
      "  for index, row in pd.read_csv(data_path, sep='\\t').iterrows():\n"
     ]
    },
    {
     "name": "stdout",
     "output_type": "stream",
     "text": [
      "aws s3 cp s3://velia-piperuns-dev/VPR_orfcalling_20240308012940_SRX876070/output/VPR_orfcalling_20240308012940_SRX876070_found_by_any_caller.csv ./data/VPR_orfcalling_20240308012940_SRX876070_found_by_any_caller.csv\n",
      "download: s3://velia-piperuns-dev/VPR_orfcalling_20240308012940_SRX876070/output/VPR_orfcalling_20240308012940_SRX876070_found_by_any_caller.csv to data/VPR_orfcalling_20240308012940_SRX876070_found_by_any_caller.csv\n",
      "aws s3 cp s3://velia-piperuns-dev/VPR_orfcalling_20240308012940_SRX876071/output/VPR_orfcalling_20240308012940_SRX876071_found_by_any_caller.csv ./data/VPR_orfcalling_20240308012940_SRX876071_found_by_any_caller.csv\n",
      "download: s3://velia-piperuns-dev/VPR_orfcalling_20240308012940_SRX876071/output/VPR_orfcalling_20240308012940_SRX876071_found_by_any_caller.csv to data/VPR_orfcalling_20240308012940_SRX876071_found_by_any_caller.csv\n",
      "aws s3 cp s3://velia-piperuns-dev/VPR_orfcalling_20240308012940_SRX876072/output/VPR_orfcalling_20240308012940_SRX876072_found_by_any_caller.csv ./data/VPR_orfcalling_20240308012940_SRX876072_found_by_any_caller.csv\n"
     ]
    },
    {
     "name": "stderr",
     "output_type": "stream",
     "text": [
      "fatal error: An error occurred (404) when calling the HeadObject operation: Key \"VPR_orfcalling_20240308012940_SRX876072/output/VPR_orfcalling_20240308012940_SRX876072_found_by_any_caller.csv\" does not exist\n"
     ]
    },
    {
     "name": "stdout",
     "output_type": "stream",
     "text": [
      "aws s3 cp s3://velia-piperuns-dev/VPR_orfcalling_20240308012940_SRX876073/output/VPR_orfcalling_20240308012940_SRX876073_found_by_any_caller.csv ./data/VPR_orfcalling_20240308012940_SRX876073_found_by_any_caller.csv\n"
     ]
    },
    {
     "name": "stderr",
     "output_type": "stream",
     "text": [
      "fatal error: An error occurred (404) when calling the HeadObject operation: Key \"VPR_orfcalling_20240308012940_SRX876073/output/VPR_orfcalling_20240308012940_SRX876073_found_by_any_caller.csv\" does not exist\n"
     ]
    },
    {
     "name": "stdout",
     "output_type": "stream",
     "text": [
      "aws s3 cp s3://velia-piperuns-dev/VPR_orfcalling_20240308012940_SRX876074/output/VPR_orfcalling_20240308012940_SRX876074_found_by_any_caller.csv ./data/VPR_orfcalling_20240308012940_SRX876074_found_by_any_caller.csv\n"
     ]
    },
    {
     "name": "stderr",
     "output_type": "stream",
     "text": [
      "fatal error: An error occurred (404) when calling the HeadObject operation: Key \"VPR_orfcalling_20240308012940_SRX876074/output/VPR_orfcalling_20240308012940_SRX876074_found_by_any_caller.csv\" does not exist\n"
     ]
    },
    {
     "name": "stdout",
     "output_type": "stream",
     "text": [
      "{count} datasets are loaded.\n",
      "57933 ORFs have been deleted.\n"
     ]
    }
   ],
   "source": [
    "local_folder= \"./data\"\n",
    "orf_callers = [\"price\", \"ribotish\", \"ribocode\"]\n",
    "\n",
    "# load ORFs from each experiment\n",
    "merged_orfs_info = {}\n",
    "orfs_to_skip = set()\n",
    "count = 0\n",
    "annotations_to_exclude = [\"Trunc\", \"Ext\", \"Truncated\", \"Extended\"]\n",
    "#### TODO(steve): modify the list above to exclude ORFs of certain types.\n",
    "# ORF types to exclude:\n",
    "# PRICE: \"Trunc\", \"Ext\"\n",
    "# ribotish: \"Truncated\", \"Extended\"\n",
    "# ribocode: no obivious appliable types\n",
    "for experiment_name in open(f\"{local_folder}/experiments.txt\"):\n",
    "    experiment_name = experiment_name.split(\"PRE\")[1].strip()[:-1]\n",
    "    count += load_orfs(experiment_name, local_folder, merged_orfs_info, orf_callers,\n",
    "                       orfs_to_skip, annotations_to_exclude)\n",
    "print(\"{count} datasets are loaded.\")\n",
    "\n",
    "# remove orfs with annotations listed in annotations_to_exclude\n",
    "for orf_key in orfs_to_skip:\n",
    "    del merged_orfs_info[orf_key]\n",
    "print(f\"{len(orfs_to_skip)} ORFs have been deleted.\")\n",
    "    \n",
    "# save the merged ORFs into file\n",
    "# this file is saved to a local folder and needs to be uploaded to AWS manually\n",
    "pd.DataFrame(merged_orfs_info.values()).reset_index().to_csv(\n",
    "    f\"{local_folder}/merged_orfs_found_by_any_caller_filtered.csv\",\n",
    "    sep=\"\\t\",\n",
    "    index=False)"
   ]
  },
  {
   "cell_type": "code",
   "execution_count": 7,
   "id": "b6be42c2-7b95-4343-9d96-8c228f0599e8",
   "metadata": {
    "tags": []
   },
   "outputs": [],
   "source": [
    "df = pd.read_csv('data/merged_orfs_found_by_any_caller_filtered.csv', sep='\\t')"
   ]
  },
  {
   "cell_type": "code",
   "execution_count": 9,
   "id": "ab6aa7dd-493e-4de1-8e28-0f37a498cd76",
   "metadata": {
    "tags": []
   },
   "outputs": [
    {
     "data": {
      "text/plain": [
       "{'VPR_orfcalling_20240307222145_MB1_1A',\n",
       " 'VPR_orfcalling_20240307222145_MB1_1A,VPR_orfcalling_20240307222145_MB1_1B',\n",
       " 'VPR_orfcalling_20240307222145_MB1_1A,VPR_orfcalling_20240307222145_MB1_1B,VPR_orfcalling_20240307222145_MB1_2A',\n",
       " 'VPR_orfcalling_20240307222145_MB1_1A,VPR_orfcalling_20240307222145_MB1_1B,VPR_orfcalling_20240307222145_MB1_2A,VPR_orfcalling_20240307222145_MB1_2B',\n",
       " 'VPR_orfcalling_20240307222145_MB1_1A,VPR_orfcalling_20240307222145_MB1_1B,VPR_orfcalling_20240307222145_MB1_2B',\n",
       " 'VPR_orfcalling_20240307222145_MB1_1A,VPR_orfcalling_20240307222145_MB1_2A',\n",
       " 'VPR_orfcalling_20240307222145_MB1_1A,VPR_orfcalling_20240307222145_MB1_2A,VPR_orfcalling_20240307222145_MB1_2B',\n",
       " 'VPR_orfcalling_20240307222145_MB1_1A,VPR_orfcalling_20240307222145_MB1_2B',\n",
       " 'VPR_orfcalling_20240307222145_MB1_1B',\n",
       " 'VPR_orfcalling_20240307222145_MB1_1B,VPR_orfcalling_20240307222145_MB1_2A',\n",
       " 'VPR_orfcalling_20240307222145_MB1_1B,VPR_orfcalling_20240307222145_MB1_2A,VPR_orfcalling_20240307222145_MB1_2B',\n",
       " 'VPR_orfcalling_20240307222145_MB1_1B,VPR_orfcalling_20240307222145_MB1_2B',\n",
       " 'VPR_orfcalling_20240307222145_MB1_2A',\n",
       " 'VPR_orfcalling_20240307222145_MB1_2A,VPR_orfcalling_20240307222145_MB1_2B',\n",
       " 'VPR_orfcalling_20240307222145_MB1_2B'}"
      ]
     },
     "execution_count": 9,
     "metadata": {},
     "output_type": "execute_result"
    }
   ],
   "source": [
    "set(df['cell_types'])"
   ]
  },
  {
   "cell_type": "code",
   "execution_count": null,
   "id": "57be8a0e-23f6-43a6-acfa-f0d288307726",
   "metadata": {},
   "outputs": [],
   "source": []
  }
 ],
 "metadata": {
  "kernelspec": {
   "display_name": "Python 3 (ipykernel)",
   "language": "python",
   "name": "python3"
  },
  "language_info": {
   "codemirror_mode": {
    "name": "ipython",
    "version": 3
   },
   "file_extension": ".py",
   "mimetype": "text/x-python",
   "name": "python",
   "nbconvert_exporter": "python",
   "pygments_lexer": "ipython3",
   "version": "3.10.12"
  }
 },
 "nbformat": 4,
 "nbformat_minor": 5
}
